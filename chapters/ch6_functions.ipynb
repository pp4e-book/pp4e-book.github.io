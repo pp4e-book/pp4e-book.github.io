{
  "nbformat": 4,
  "nbformat_minor": 0,
  "metadata": {
    "colab": {
      "name": "ch6_functions.ipynb",
      "private_outputs": true,
      "provenance": [],
      "collapsed_sections": [],
      "toc_visible": true
    },
    "kernelspec": {
      "name": "python3",
      "display_name": "Python 3"
    }
  },
  "cells": [
    {
      "cell_type": "markdown",
      "metadata": {
        "id": "9EBMZyq52Msi"
      },
      "source": [
        "# Chapter 6 - Functions\n",
        "\n",
        "*(C) Copyright Notice: This chapter is part of the book available at https://pp4e-book.github.io/ and copying, distributing, modifying it requires explicit permission from the authors. See the book page for details: https://pp4e-book.github.io/*\n",
        "\n",
        "A *function* (or sometimes synonymously referred to as subroutine, procedure or sub-program) is a grouping of actions under a given name that performs a specific task. `len()`, `print()`, `abs()`, `type()` are functions that we have seen before. Python adopts a syntax that resembles mathematical functions. \n",
        "\n",
        "A function, i.e. 'named' pieces of code, can receive parameters. These parameters are variables that carry information from the \"calling point\" (e.g. when you write `N = len(\"The number of chars\")`) to the callee, i.e. the piece of code that *defined* the function (`len()` in our example). The life span of these variables (parameters) is as long as the function is active (for that call)."
      ]
    },
    {
      "cell_type": "markdown",
      "metadata": {
        "id": "quVWIKA7b6Fz"
      },
      "source": [
        "## 6.1 Why define functions?\n",
        "\n",
        "There are four main reasons for using functions while developing solutions with a programming language:\n",
        "\n",
        "1. ***Reusability*** \n",
        "\n",
        " A function is defined at a single point in a program but it can be called from several different points. Assume you need to calculate the run-length encoding of a string (the example code from the previous chapter) in your program for $n$ different strings in different positions of your code. In a programming language without functions, you would have to copy-paste that code piece in $n$ different places. Thanks to functions, we can place the code piece in a function once (named `encodeRunLen` for example) and use it in $n$ places via simple function calls like `enc = encodeRunLen(inpstr)`. \n",
        "\n",
        " If functions would not be present, even if we would have the piece of code that does the actions of the function, how would we return to the different calling points after the actions are completed? Something, that is theoretically possible but extremely  painful. \n",
        "\n",
        "2. ***Maintenance***\n",
        "\n",
        "  Using functions makes it easier to make updates to the algorithm. Let us explain this with the run-length encoding example: Assume that we found a bug in our calculation or we have discovered a better algorithm than the one we are using. Without functions, you would need to go through all your code, find the locations where your run-length encoding algorithm is implemented, and update each and every one of them. This is impractical and very tedious. With functions, it is sufficient if you just change the function that implements the run-length encoding.\n",
        "\n",
        "3. ***Structuredness*** \n",
        "\n",
        " Let us have a look at a perfectly valid Python expression:\n",
        "```python\n",
        "(b if b<c else c) if (a if a<b else b)<(b if b<c else c) else (a if a<b else b)\n",
        "```\n",
        "which certainly takes some time to parse and understand but it just performs the following:\n",
        "```python\n",
        "max(min(a,b), min(b,c))\n",
        "```\n",
        "Assume instead of the long expression above, the one with `min` and `max` are used. Even if the definition of `max` and `min` are not given yet, still one can grasp what the expression is up to. It is not only because the expression is smaller, but  because function naming can depict the meaning for the actions.\n",
        "\n",
        "4. ***Benefits of the functional programming paradigm*** \n",
        "\n",
        " If a programmer sticks to the functional paradigm, then he or she has to plot a functional decomposition so that the solution of the problem is obtained by means of functional composition, something that is well-known and understood through Mathematics. This type of a solution does not suffer from unexpected side effects or variable alterations; therefore, testing and debugging are easier. Another benefit of the functional paradigm is recursion: In other words, while defining a function, we can call the function that is being defined -- we will cover this seemingly confusing concept below. Moreover, we can define higher-order functions that take functions as input and apply them to a sequence of data. All these benefits come free with using functions, as we will illustrate below.\n",
        "\n",
        "Even when we do not limit ourselves to ‘functional programming’, it is essential to use functions in professional programming. General algorithms that are coded as functions are becoming very valuable because they can be reused again and again in new programs. Collections formed by such general purpose functions are called *libraries*. For almost all application areas libraries have been created over decades."
      ]
    },
    {
      "cell_type": "markdown",
      "metadata": {
        "id": "lp0ZRVwOp7m3"
      },
      "source": [
        "## 6.2  Defining functions\n",
        "\n",
        "For defining a function, Python adopts the following syntax:\n",
        "\n",
        "<big><big>**`def`**</big></big>\n",
        "$\\boxed{\\color{red}{FunctionName\\strut}}$ <big><big>**`(`**</big></big>\n",
        "$\\boxed{\\color{red}{Parameter_1\\strut}}$\n",
        "<big><big>**`,`**</big></big>\n",
        "$\\boxed{\\color{red}{Parameter_2\\strut}}$\n",
        "<big><big>**`,`**</big></big>\n",
        "$\\color{red}{\\large\\cdots}$\n",
        "<big><big>**`)`**</big></big>\n",
        " <big><big>**`: `**</big></big> \n",
        "$\\boxed{\\color{red}{Statement\\strut\\ }}$\n",
        "\n",
        "The $\\color{red}{Statement}$, which can be replaced by multiple statements like we did with other compound statements, can make use of the $\\color{red}{Parameter_i}$s to obtain the actual arguments sent to the function at call-time. If the function is going to give a value in return to the call, this value is provided by a `return` statement. \n",
        "\n",
        "$\\color{red}{FunctionName}$ is the name of the function being defined. Python follows the same naming rules and conventions used for naming variables -- if you do not remember them, we recommend you to go back and check the restrictions for naming variables in Chapter 4.\n",
        "\n",
        "Here is a straightforward example. Let us assume that we want to implement the following function:\n",
        "\n",
        "$$\n",
        "F_{gravity}(m_1,m_2,r) = G\\frac{m_1 m_2}{r^2}.\n",
        "$$\n",
        "\n",
        "The following is the one-line Python code that defines it:\n",
        "\n",
        "```python\n",
        "def F_gravity(m_1, m_2, r): return G * m_1 * m_2 / (r * r)\n",
        "```\n",
        "\n",
        "This function, `F_gravity`, returns a value. This is provided by the `return` statement. As you may have observed, the values $m_1$, $m_2$ and $r$ are provided as the first, the second and the third parameters, named as `m_1`, `m_2` and `r`, respectively. \n",
        "\n",
        "But what about `G`? It is not provided in the arguments and used in the return expression for its value. If the definition were a multi-statement definition (indented multi-statements following the `def` line), then Python would seek for a defined value for `G` among them. But this is not even the case, so the last alternative is to seek a value in the `global` environment, the environment in which `F_gravity` is called.\n",
        "\n",
        "Therefore, before we call `F_gravity`, we must make sure that a value for a global variable `G` (which apparently is the *Gravitational Constant*) is set. In the **Scope of Variables** section, we will be handling the rules of this to a greater extent."
      ]
    },
    {
      "cell_type": "code",
      "metadata": {
        "id": "M44ClnZ9eSns"
      },
      "source": [
        "def F_gravity(m1, m2, r): return G * m1 * m2 / (r * r)\n",
        "\n",
        "G = 6.67408E-11\n",
        "print(F_gravity(1000, 20, 0.5), \"Newton\")"
      ],
      "execution_count": null,
      "outputs": []
    },
    {
      "cell_type": "markdown",
      "metadata": {
        "id": "nZ6xJL6ycpeU"
      },
      "source": [
        "## 6.3 Passing parameters to functions\n",
        "When a function is called, first its arguments are evaluated. The function will receive the <u>results</u> of these evaluations. The parameter variables used in the definition are created, and set to the result of the argument evaluations. Then the statement that follows the column (`:`) after the argument parenthesis is executed. Certainly this statement can and will make use of the parameter variables (which are set to the result of the argument evaluations). \n",
        "\n",
        "Let us look at an example:"
      ]
    },
    {
      "cell_type": "code",
      "metadata": {
        "id": "eZjoDGF6cjnk"
      },
      "source": [
        "def F_gravity(m_1, m_2, r): return G * m_1 * m_2 / (r * r)\n",
        "\n",
        "G = 6.67408E-11 \n",
        "\n",
        "S = 100\n",
        "Q = 2000\n",
        "\n",
        "print(F_gravity(Q+S, Q-S, ((504.3-66.1)**2+(351.1-7.7)**2)**0.5))"
      ],
      "execution_count": null,
      "outputs": []
    },
    {
      "cell_type": "markdown",
      "metadata": {
        "id": "P0wzYr5M3CbP"
      },
      "source": [
        "This is a legitimate piece of code that performs the following in order:\n",
        "\n",
        "* Defines the function `F_gravity`.\n",
        "\n",
        "* Sets the value of the global variable `G` and `S` and `Q`\n",
        "\n",
        "* Calls the (internally defined) `print` function which receives one argument. This argument is a function call to `F_gravity`. So, in order to have a value to print, this function call has to be performed. \n",
        "\n",
        "* A call to `F_gravity` is prepared: It has three arguments, each has to be \n",
        "  evaluated and boiled down to a value. So, in a left-to-right order the\n",
        "  arguments are evaluated:\n",
        "\n",
        "  * `Q+S`is evaluated, and the result is stored into `m_1`.\n",
        "  * `Q-S`is evaluated, and the result is stored into `m_2`.\n",
        "  * Euclidean distance, $\\scriptstyle\\mathtt{\\sqrt{(504.3-66.1)^2+(351.1-7.7)^2}}$, is evaluated and the result is stored into `r`.\n",
        "\n",
        "* Since all arguments are evaluated, the statement defining the function `F_gravity` can be executed.\n",
        "\n",
        "* This statement is `return G * m_1 * m_2 / (r * r)`, which requires the expression following the `return` keyword to be evaluated and the result to be returned as the result of the function call.\n",
        "\n",
        "* Now the `print` function has got its parameter evaluated. The defining action of the `print` function can be carried out (This is an internally defined function, i.e. we cannot see its definition, but the documents defining the language explain it).\n",
        "\n",
        "The bottom line is: <u>Before</u> the function is called, there is a preparation phase where all arguments are evaluated and hence converted to a value. This has a name in computer science and is coined as *Call-by-value*."
      ]
    },
    {
      "cell_type": "markdown",
      "metadata": {
        "id": "o8eTge_1eWAm"
      },
      "source": [
        "### 6.3.1 Default Parameters\n",
        "\n",
        "While defining a function, we can provide default values to parameters as follows: \n",
        "\n",
        "<big><big>**`def`**</big></big>\n",
        "$\\boxed{\\color{red}{FunctionName\\strut}}$ <big><big>**`(`**</big></big>\n",
        "$\\boxed{\\color{red}{Parameter_1\\strut}=\\color{red}{Exp_1}}$\n",
        "<big><big>**`,`**</big></big>\n",
        "$\\boxed{\\color{red}{Parameter_2\\strut}=\\color{red}{Exp_2}}$\n",
        "<big><big>**`,`**</big></big>\n",
        "$\\color{red}{\\large\\cdots}$\n",
        "<big><big>**`)`**</big></big>\n",
        " <big><big>**`: `**</big></big> \n",
        "$\\boxed{\\color{red}{Statement\\strut\\ }}$\n",
        "\n",
        "where $\\color{red}{Exp_i}$ is an expression. When calling the function, we may omit providing the parameters for which the function has default values. \n",
        "\n",
        "Let us have a look at a simple example:"
      ]
    },
    {
      "cell_type": "code",
      "metadata": {
        "id": "ssnPp9LjfuZJ"
      },
      "source": [
        "def norm(x1, x2, norm_type=\"L1\", verbose=True):\n",
        "  result = None\n",
        "  if norm_type == \"L1\": result = abs(x1) + abs(x2)\n",
        "  elif norm_type == \"L2\": result = (x1**2 + x2**2)**0.5\n",
        "  elif verbose: print(\"Norm not known:\", norm_type)\n",
        "  \n",
        "  if verbose: print(f\"The {norm_type} norm of\", [x1, x2], \"is:\", result)\n",
        "  return result\n",
        "\n",
        "norm(3, 4)                                      # CASE 1\n",
        "norm(3, 4, \"L2\")                                # CASE 2\n",
        "norm(3, 4, norm_type=\"L2\")                      # CASE 3\n",
        "norm(3, 4, verbose=False)                       # CASE 4: Does not print the value\n",
        "norm(3, 4, verbose=True, norm_type=\"L1\")        # CASE 5\n",
        "norm(x2=3, x1=4, verbose=True, norm_type=\"L1\")  # CASE 6"
      ],
      "execution_count": null,
      "outputs": []
    },
    {
      "cell_type": "code",
      "metadata": {
        "id": "iSd3Cjv5kijW"
      },
      "source": [
        "# Let us look at some cases that lead to errors:\n",
        "norm(3, 4, norm_type=\"L1\", True)                # CASE 7\n"
      ],
      "execution_count": null,
      "outputs": []
    },
    {
      "cell_type": "markdown",
      "metadata": {
        "id": "Smu3QNJXjqKo"
      },
      "source": [
        "In this example, you should notice the following crucial points: \n",
        "\n",
        "* We can call a function without providing any value for the parameters that have default values (`CASE 1`, .., `CASE 4`).\n",
        "\n",
        "* We can swap the order of default parameters when we are calling the function (`CASE 5` and `CASE 6`).\n",
        "\n",
        "* When calling a function, we can give values to non-default parameters by using their names (`CASE 6`).\n",
        "\n",
        "* The parameters after the default parameters need to be given names as well, both while defining the function and calling the function (`CASE 7`)."
      ]
    },
    {
      "cell_type": "markdown",
      "metadata": {
        "id": "3uAWoTIOftLC"
      },
      "source": [
        "## 6.4 Scope of variables\n",
        "\n",
        "We extensively use variables while programming our solutions. Not all variables are accessible from everywhere. There is a governing set of rules for that determine which parts of a code can access a variable. The code part from which a variable is accessible is called its *scope*. \n",
        "\n",
        "In Python, there are four categories of scopes. As will be explained shortly, they are abbreviated with their initials , which then combine to form  the rule mnemonic LEGB standing for: \n",
        "\n",
        "<center>\n",
        "[$\\color{red}{L}$ocal  $<$  $\\color{red}{E}$nclosing   $<$ $\\color{red}{G}$lobal  $<$ $\\color{red}{B}$uilt-in]\n",
        "</center>\n",
        "\n",
        "**1- Local Scope** \n",
        "\n",
        "Defining a variable in a function in Python makes it local. \n",
        "\n",
        "Local variables are the most 'private' ones. Any code which is external to that function cannot see it. If you make an assignment anywhere in the function to a variable, it is registered as a local variable. If you attempt to refer to such a local variable prior to the assignment, Python will generate a run-time error.\n",
        "\n",
        "The local variables are created each time the function is called (it is activated) and are annihilated (destructed) the moment the function returns (finishes).\n",
        "\n",
        "**2- Enclosing Scope** \n",
        "\n",
        "As we mentioned before, it is possible to define functions inside functions. They are coined as *local functions* and can refer (but not change) to the values of the local variables of its parent function (the function in which the local function is defined). The scope of the outer function is the enclosing scope for the inner function. Though the parent function's variables are visible to the local function, the converse is not true. The parent function cannot access its local function's local variables. Therefore, the accessibility is from inward to outward and for referring purposes only.   \n",
        "\n",
        "**3- Global Scope**\n",
        "\n",
        "If a variable is not defined in a function then it is a *global variable*. It can be accessed outside as well as inside of any function. If a global variable is accessed inside a function, it cannot be altered there. If it is altered anywhere in the function, this is recognised at the declaration-time and that variable is declared (created) as a local variable. A local variable that has the same name with a global variable conceals the global variable. \n",
        "\n",
        "If you want to change the value of a global variable inside a function, then you have to explicitly declare it as a global variable by a statement:\n",
        "\n",
        "<big><big>**`global`**</big></big>\n",
        "$\\boxed{\\color{red}{V\\!ariable\\strut}}$   \n",
        "\n",
        "Then an assignment to $\\color{red}{V\\!ariable}$ will <u>not</u> register it as a local variable but merely refer to the global $\\color{red}{V\\!ariable}$.\n",
        "As said, since the system will recognize them automatically, there is no need to use the `global` statement for global variables which are referred to for their values only. However, it is a good programming habit to do so in order to enhance readability and prevent accidental local variable creations (due to careless assignments to global variables).\n",
        "\n",
        "**4- Built-in Scope**\n",
        "\n",
        "Built-in scope is a special Python scope that is created or loaded whenever you run a script or open an interactive session. This is actually the scope in which the Python interpreter starts. It contains names such as keywords, built-in functions, exceptions, and some other attributes. Entities in this  scope are also available from everywhere in your code.\n"
      ]
    },
    {
      "cell_type": "markdown",
      "metadata": {
        "id": "IIC6OiYCjfys"
      },
      "source": [
        "## An Interactive Example for Scope\n",
        "\n",
        "Run the code box below. It will display you a Python program **with errors**. You can move your mouse over variables and discover their scopes."
      ]
    },
    {
      "cell_type": "code",
      "metadata": {
        "id": "7LQ978W4JwVZ",
        "cellView": "form"
      },
      "source": [
        "#@title\n",
        "from IPython.display import display,HTML\n",
        " \n",
        "htmlbody='''\n",
        "<style>\n",
        " #messagebox {\n",
        "   position:absolute; \n",
        "   top:20px; \n",
        "   right:10px; \n",
        "   width:400px;\n",
        "   text-size: %120;\n",
        "}\n",
        ".keyword {\n",
        "  font-weight: bold;\n",
        "  color: blue;\n",
        "}\n",
        "</style>\n",
        "<div style=\"position:relative; top:0px; left:0px;\">\n",
        "<pre style=\"position:absolute; top:10px; left:10px;\">\n",
        "<span id=\"var_ag_1\" class=\"var_ag\">a</span> = 10\n",
        "<span id=\"var_bg_1\" class=\"var_bg\">b</span> = 20\n",
        "<span id=\"var_cg_1\" class=\"var_cg\">c</span> = 30\n",
        " \n",
        "<span class=\"keyword\">def</span> f(<span id=\"var_xp_1\" class=\"var_xp\">x</span>):\n",
        " \n",
        "    <span class=\"keyword\">def</span> g(<span id=\"var_sp_1\" class=\"var_sp\">s</span>):\n",
        "        <span class=\"keyword\">global</span> <span id=\"var_bg_2\" class=\"var_bg\">b</span>\n",
        "        <span id=\"var_k_1\" class=\"var_k\">k</span> = <span id=\"var_sp_2\" class=\"var_sp\">s</span> + <span id=\"var_a_1\" class=\"var_a\">a</span> + <span id=\"var_bg_3\" class=\"var_bg\">b</span> + <span id=\"var_c_1\" class=\"var_c\">c</span> + <span id=\"var_q_1\" class=\"var_q\">q</span>\n",
        "        <span id=\"var_a_2\" class=\"var_a\">a</span> = <span id=\"var_k_2\" class=\"var_k\">k</span>\n",
        "        <span id=\"var_bg_4\" class=\"var_bg\">b</span> = <span id=\"var_k_3\" class=\"var_k\">k</span> + 1\n",
        "        <span id=\"var_sp_3\" class=\"var_sp\">s</span> = <span id=\"var_sp_4\" class=\"var_sp\">s</span> + <span id=\"var_k_4\" class=\"var_k\">k</span> + <span id=\"var_xp_2\" class=\"var_xp\">x</span>\n",
        " \n",
        "    <span id=\"var_c_2\" class=\"var_c\">c</span> = 75\n",
        "    g(7)\n",
        "    <span id=\"var_b_1\" class=\"var_b\">b</span> = <span id=\"var_b_2\" class=\"var_b\">b</span> + 41\n",
        "    <span id=\"var_q_1\" class=\"var_q\">q</span> = 13\n",
        "    <span class=\"keyword\">print</span>(<span id=\"var_ag_2\" class=\"var_ag\">a</span> + <span id=\"var_b_3\" class=\"var_b\">b</span> + <span id=\"var_c_3\" class=\"var_c\">c</span> + <span id=\"var_xp_3\" class=\"var_xp\">x</span> + <span id=\"var_q_2\" class=\"var_q\">q</span> + <span id=\"var_k_5\" class=\"var_k\">k</span> + <span id=\"var_s_4\" class=\"var_s\">s</span>)\n",
        " \n",
        "f(9)\n",
        "</pre>\n",
        "<div id=\"messagebox\">\n",
        "</div>\n",
        "</td></tr><table>\n",
        "<script src=\"https://ajax.googleapis.com/ajax/libs/jquery/3.4.1/jquery.min.js\"></script> \n",
        "<script>\n",
        "let messages = {\n",
        "  var_ag_1 : \"Variable in the global environment\",\n",
        "  var_ag_2 : \"Reference to variable in the global environment\",\n",
        "  var_a_1: \"Variable used in g() for assignment, since it was not declared as global, for g(), it   is created as local, global 'a' value is concealed. Since had no prior assignment yet, this usage will cause 'a reference before assignment' error.\",\n",
        "  var_a_2: \"Variable used in g() for assignment, since it was not declared as global, for g(), it           is created as local, global 'a' value is concealed.\",\n",
        "  var_bg_1: \"Variable in the global environment\",\n",
        "  var_bg_2: \"Declaring 'b' as  global in order to refer to the 'b'  in the global environment,           now it can also be assigned a value.\",\n",
        "  var_bg_3: \"Reference to variable in the global environment\",\n",
        "  var_bg_4: \"Reference to variable in the global environment for assignment purpose\",\n",
        "  var_b_1: \"Variable used in f() for assignment, since it was not declared as global, for f(), it          is created as local, global 'b' value is concealed.\",\n",
        "  var_b_2: \"Since this variable appeared to the left of an assignment in f(), it was created           as a local and this is referring to that local’s value. Since it had no prior assignment yet,          this usage will cause ‘a reference before assignment’ error.\",\n",
        "  var_b_3: \"Reference to local variable of   f() for value.\", \n",
        "  var_cg_1: \"Variable in the global environment\",\n",
        "  var_c_1: \"Variable used in f() for assignment, since it was not declared as global, for f(), it  is created as local, global 'c' value is concealed. Since g() is the local function of f(), it can access all locals  of f() for their values (provided it is not redefined by using it in an assignment). Prior to the g(7) call an assignment of 75 takes place to this local. This value is seen from inside  g(), at this position.\",\n",
        "  var_c_2: \"Variable used in f() for assignment, since it was not declared as global, for f(), it        is created as local, global 'c' value is concealed.\",\n",
        "  var_c_3: \"Reference to local variable of   f() for value.\",\n",
        "  var_q_1: \"Variable used in f() for assignment so it is created a local of  f(). It is used           for its value here. Since the g(7) call happened before the assignment to 'q', this         usage will cause a  ‘a reference before assignment’ error.\",\n",
        "  var_q_2: \"Variable used in f() for assignment so it is created a local of  f().\",\n",
        "  var_q_3: \"Reference to local variable of   f() for value.\",\n",
        "  var_xp_1: \"Parameter variable of f(). Acts as a local of  f().\",\n",
        "  var_xp_2: \"Parameter variable of f(). Acts as a local of  f(). Since g() is the local function of f(),     it can access all locals  of f() for their values (provided it is not redefined by        using it in an assignment).\",\n",
        "  var_xp_3: \"Parameter variable of f(). Acts as a local of  f(). Here it is referred to for its value.\",\n",
        "  var_sp_1: \"Parameter variable of g(). Acts as a local of  g(). \",\n",
        "  var_sp_2: \"Parameter variable of g(). Acts as a local of  g(). Here it is referred to for its value.\",\n",
        "  var_sp_3: \"Parameter variable of g(). Acts as a local of  g(). Here its value is altered.\",\n",
        "  var_sp_4: \"Parameter variable of g(). Acts as a local of  g(). Here it is referred to for its value.\",\n",
        "  var_sp_5: \"Parameter variable of g(). Acts as a local of  g(). It is only alive as long as  g() is active.         Then it is annihilated. At this moment no such variable exists.           This usage will cause a ‘name is not defined’ error.\",\n",
        "  var_k_1: \"Variable used in g() for assignment, created as a local of  g() . Here its value is altered.\",\n",
        "  var_k_2: \"Variable used in g() for assignment, created as a local of  g() . Here it is referred to for its value.\",\n",
        "  var_k_3: \"Variable used in g() for assignment, created as a local of  g() . Here it is referred to for its value.\",\n",
        "  var_k_4: \"Variable used in g() for assignment, created as a local of  g() . Here it is referred to for its value.\",\n",
        "  var_k_5: \"k was created as a local of  g(). It's only alive as long as  g() is active. Then it is annihilated. At this            moment no such variable exists. This usage will cause a ‘name is not defined’ error.\"\n",
        "}\n",
        "$('span[class^=\"var_\"]').css('border','solid 2px white')\n",
        "                        .css('border-radius','5px');\n",
        " \n",
        "// variables starting with var_class\n",
        "$('span[class^=\"var_\"]').hover(function (ev) { \n",
        "      let cls = '.' + ev.currentTarget.className;\n",
        "      $(cls).css('border-color','red');\n",
        "      if (messages[ev.currentTarget.id]) {\n",
        "        $(\"#messagebox\").text(messages[ev.currentTarget.id]);\n",
        "      }\n",
        "    }, function (ev) {\n",
        "      let cls = '.' + ev.currentTarget.className;\n",
        "      $(cls).css('border-color','white');\n",
        "      $(\"#messagebox\").text(\"\");\n",
        "    });\n",
        " \n",
        "</script>\n",
        "'''\n",
        "display( HTML(htmlbody) )"
      ],
      "execution_count": null,
      "outputs": []
    },
    {
      "cell_type": "markdown",
      "metadata": {
        "id": "RPfFIA5kRAjl"
      },
      "source": [
        "A variable occurrence has different meanings for different positions in the program:\n",
        "\n",
        "1. First time occurrence of the variable at the left-hand side of an assignment:\n",
        "\n",
        " This tells Python to declare a variable in the current scope, the current function or the global scope. If there is a variable with the same name in an outer scope, it is hidden as long as the new variable is active.  This declaration will be active for the scope it is created in including statements preceding it.\n",
        "\n",
        "2. Second and later occurrences of the variable at the left-hand side of an assignment:\n",
        "\n",
        " They simply update the previously declared variable.\n",
        "\n",
        "3. Occurrences of the variable at the right-hand side of an assignment or any other place in an expression:\n",
        "\n",
        " Python places value (content) of the variable in the expression position. Variable is searched in all scopes from inner to outer (local, then enclosing, then global, then built-in) and the first found variable is used. If the declaration of the variable is after its reference in current scope, Python will raise the error `'Reference before assignment'`. \n",
        "\n",
        "Note that `global` declaration changes the behaviour above. It makes all occurrences to refer to the global variable and does not declare a variable in the current scope with the globally defined names."
      ]
    },
    {
      "cell_type": "markdown",
      "metadata": {
        "id": "onfM6kHHmxxf"
      },
      "source": [
        "## 6.5 Higher-order functions\n",
        "\n",
        "Python provides several flavours of the functional paradigm, one of the most powerful of which is the ability to easily pass functions as parameters to other functions. No special syntax or rule is used for this: If you use a parameter as if it is a function and when calling the higher-order function, pass a function name as a parameter, Python will handle the rest. \n",
        "\n",
        "Python provides two very practical higher-order functions for us:\n",
        "\n",
        "* **map** function: The `map` function has the following syntax:\n",
        "\n",
        "  `map(function, Iterator)`\n",
        "\n",
        "  which yields an iterator where each element is `function` being applied on the corresponding element in `Iterator`. Here is a simple example:\n",
        "\n",
        "  ```python\n",
        "  >>> abs_it = map(abs, [10, -4, 20, -100])\n",
        "  >>> for x in abs_it: print(x)\n",
        "  10\n",
        "  4\n",
        "  20\n",
        "  100\n",
        "  ```\n",
        "* **filter** function: The `filter` function has a similar syntax to the `map` function:\n",
        "\n",
        "  `filter(predicate, Iterator)`\n",
        "\n",
        "  where `predicate` is a function with a boolean return value. The `filter` function applies `predicate` to each element of the `Iterator` and only keeps the ones for which `predicate` returns `True`. For example:\n",
        "\n",
        "  ```python\n",
        "  >>> def positive(x): return x > 0\n",
        "  >>> for x in filter(positive, [10, -4, 20, -100]): print(x)\n",
        "  10\n",
        "  20\n",
        "  ```\n",
        "\n",
        "Of course, the functional capabilities of Python is more diverse than we can cover in this introductory textbook. The reader is referred to [Python docs](https://docs.python.org/3/howto/functional.html). The curious reader is especially recommended to look at *lambda expressions* and the *reduce* function."
      ]
    },
    {
      "cell_type": "markdown",
      "metadata": {
        "id": "Y7bvS2Yn24FE"
      },
      "source": [
        "## 6.6 Functions in programming vs. functions in Mathematics \n",
        "\n",
        "It is to be noted that functions have a differentiated meaning compared to functions in Mathematics. \n",
        "\n",
        "* In Mathematics, a function is a mapping from a domain to a range (target); a function returns a value. <br>\n",
        "  <font color='green'>**In Python:** \n",
        "Functions may not return a value at all. If so, they are intended to code a parametrized action. A few examples to this are:\n",
        "  * Drawing a $red$ line from $(x_0, y_0)$ to $(x_1, y_1)$.\n",
        "  * Printing a separating line made of $n$ 'minus' signs. \n",
        "  * Turning off the lights.\n",
        "  * Sending a digital initialization string to a device connected through the USB port. \n",
        "    </font>\n",
        "\n",
        "* In Mathematics, a function definition is global. You do not have function definitions local to some function. <br>\n",
        "  <font color='green'>**In Python:** \n",
        "Since a function definition is done by a Python $\\color{red}{Statement}$ (or a group of statements -- grouped by indentation), it is quite possible to have another definition as part of the defining statements. Such a function can only be usable in the $\\color{red}{Statement}$ group that defines the outer function and access its local variables and parameters. Outside of the function, this interior function (called a *local function*) will not be visible nor usable. \n",
        "  </font>\n",
        "\n",
        "*  In Mathematics, an element from the domain is mapped to one and only one target element by the function. The mapping does not change. Moreover, a mathematical function returns a value that only depends on the arguments. Hence, for the same arguments, the result is the same.<br>\n",
        " <font color='green'>**In Python:** \n",
        " Even if such a mapping exists (i.e. a function returns a value), it is possible that the function acts differently due to different settings of the variables (outside of the function) that can be accessed in the functions. Consider the `F_gravity` function above: A different setting for the `G` (the Gravitational Constant) will yield a different `F_gravity` result even when the parameters are the same. \n",
        "    </font>\n",
        "\n",
        "* In Mathematics, a function's operation is reflected on the value it returns:  It does not have side effects. In other words, a mathematical function does not change the mathematical environment that is external to it (variables or the ways other functions are evaluated). <br>\n",
        " <font color='green'>**In Python:** \n",
        " This may not be true. Consider the `G` value of the `F_gravity` function above. Hypothetically, it is possible that, at each call of `F_gravity`, the `G` value is increased slightly (1% for example): \n",
        "   </font> \n",
        "\n",
        "```python\n",
        ">>> def F_gravity(m1, m2, r): \n",
        "...   global G        # since we alter it\n",
        "...   G = 1.01 * G\n",
        "...   return G * m1 * m2 / (r * r)\n",
        "\n",
        ">>> G = 6.67408E-11\n",
        "\n",
        ">>> print(F_gravity(1000, 20, 0.5), \"Newton\")\n",
        "5.39265664e-06 Newton\n",
        "\n",
        ">>> print(F_gravity(1000, 20, 0.5), \"Newton\")\n",
        "5.4465832064e-06 Newton\n",
        "\n",
        ">>> print(F_gravity(1000, 20, 0.5), \"Newton\")\n",
        "5.501049038464e-06 Newton\n",
        "```\n",
        "\n",
        "In these aspects, a function defined in Python has a greater freedom. As previously stated, there are paradigms of programming. One of these paradigms, the *functional paradigm*, promotes the function’s usage to be restricted to the mathematical sense. In other words, the *functional paradigm* followers deliberately renounce the additional freedom programming languages like Python provides in function definitions and usages with respect to the mathematical sense. As a rule-of-thumb we can say that deviating from the mathematical sense makes your programming error prone. "
      ]
    },
    {
      "cell_type": "markdown",
      "metadata": {
        "id": "yEbrP7rn7aqt"
      },
      "source": [
        "## 6.7 Recursion\n",
        "\n",
        "Recursion is a function definition technique in which the definition makes use of calls to the function being defined. Although it is difficult to grasp, it allows compact and more readable code for recursive algorithms, relations or mathematical functions. \n",
        "\n",
        "It is customary to give the infamous example of the recursive definition of factorial. First, let us put it down in mathematical terms:\n",
        "\n",
        "$$\n",
        "\\begin{array}{lll}\n",
        "N! & = & (N-1)!\\times N, \\qquad \\textrm{for}\\ N\\in \\mathbf{N}, \\;\\; N>0 \\\\ \n",
        "0! & =  & 1, \\nonumber\n",
        "\\end{array}\n",
        "$$\n",
        "\n",
        "Based on this, we can realize that:\n",
        "\n",
        "* $6!$ is $6\\times5!$ \n",
        "* $5!$ is $5\\times 4!$\n",
        "* $4!$ is $4\\times 3!$\n",
        "* $3!$ is $3\\times 2!$\n",
        "* $2!$ is $2\\times 1!$\n",
        "* $1!$ is $1\\times 0!$\n",
        "* $0!$ is $1$\n",
        "\n",
        "Substituting any factorial value, based on this rule, one ends up with\n",
        "$$\n",
        "6! = 6\\times 5\\times 4\\times 3\\times 2 \\times 1 \\times 1.\n",
        "$$\n",
        "\n",
        "Making use of $(N-1)!$ while we are defining $N!$ is making a recursive definition. The Python equivalent of the above given recursive mathematical definition of the factorial would be:\n",
        "\n",
        "```python\n",
        "def factorial(N):\n",
        "\tif N == 0: return 1\n",
        "\telse: return N * factorial(N-1)\n",
        "```\n",
        "\n",
        "High-level languages are designed so that each call to the `factorial` function does not remember any previous call(s) even if they are still active (unfinished). For every new call, fresh positions for all local variables are created in the memory without forgetting the former values of variables for the unfinished calls. \n",
        "\n",
        "From the programmers point of view, the only concern is the algorithmic answer to the question:\n",
        "\n",
        "> \"Having the recursive call returned the correct answer to the smaller problem, how can I cook up the answer to the actual problem?\" \n",
        "\n",
        "It requires a kind of 'stop thinking' (leap of faith) action: 'Stop thinking how the recursive call comes up with the correct answer'. Just concentrate on the next step paraphrased in the quotation above.\n",
        "\n",
        "Not to get into an infinite, non-stopping recursive loop, you should be careful about two aspects:\n",
        "\n",
        "1. The recursive call should be made with a decrescent (getting smaller) argument. In the factorial example, calculation of $N!$ recursively called $(N-1)!$, i.e. a smaller value than $N!$.\n",
        "\n",
        "2. The function definition must start with a test for the smallest possible argument case (in the factorial example, this was 0 (zero)) where a value for this case is directly returned (in the factorial example this was 1 (one)). This is called the termination or base condition.\n",
        "\n",
        "Let us consider another example: We have a list of unordered numbers. Nothing is pre-known about the magnitude of the numbers. The problem is to find the maximum of the numbers in that list. \n",
        "\n",
        "Let us say you are given a list of, say, 900 numbers. For a second, assume that you have a very loving grandpa. Your grandpa has a rule of his own: not to corrupt you, he will not solve the problem for you but, if you reduce the problem slightly, his heart softens and provides the answer for the smaller problem.\n",
        "\n",
        "Presumably, the simplest 'reduction' that you can do on a 900-element list is removing an element from it and making it a list of 899 numbers. As far as Python lists are concerned, the simplest of the simple is to remove the first element: If `L` is your list, `L[0]` is the first element and `L[1:]` is the list of remaining elements. So, the trick is to remove the first element, take  `L[1:]` to your grandpa (that is making the recursive call), and ask for the solution. Your grandpa is very cooperative and gives you the solution (the biggest number) for the list (`L[1:]`) you passed to him. \n",
        "\n",
        "However, we are not finished: On one hand you have what your grandpa returned to you as the biggest number of the slightly reduced list (`L[1:]`), and on the other hand, you have the removed (first) element `L[0]`. Now, which one will you return as the solution of the 900 number list? Think about it! \n",
        "\n",
        "Here is the solution in Python:"
      ]
    },
    {
      "cell_type": "code",
      "metadata": {
        "id": "DXaX40HppncY"
      },
      "source": [
        "def find_max(L):\n",
        "\tif len(L) == 1: return L[0]   # Terminating condition\n",
        "\telse:\n",
        "\t\tgrandpa_result = find_max(L[1:])   #recursion is on L with the 0th element removed\n",
        "\t\tif grandpa_result > L[0]: return grandpa_result\n",
        "\t\telse: return L[0]\n",
        "\n",
        "# Let's try with a simple list -- try changing M and check the result\n",
        "M = [-100, 10, -10, 100]\n",
        "print(\"The maximum element of M is:\", find_max(M))"
      ],
      "execution_count": null,
      "outputs": []
    },
    {
      "cell_type": "markdown",
      "metadata": {
        "id": "TLkZfpsQpq7f"
      },
      "source": [
        "As you may have recognized, the definition started with testing for the smallest case. That is a single element list for which the result (the biggest number in the list) is that single number itself.\n",
        "\n",
        "Recursion helps writing elegant functions. However, it does not come for free. The price is in the time and memory overhead spent on creating a new function call. Time may be something tolerable but memory is limited. For functions that make thousands of recursive calls, you should better seek algorithmic solutions that do not lean on recursion. Python has a default for recursion depth, which is set to 1000. This can be altered. As said, it is better to seek a non-recursive solution unless you know very well of what you are doing.\n",
        "\n",
        "Any recursive function can be implemented using iterations. The reverse is also true: Any iterative function can be implemented using recursion. The definition of the problem or the algorithm generally provides hints for whether recursion or iteration is better for implementing your solution."
      ]
    },
    {
      "cell_type": "markdown",
      "metadata": {
        "id": "4onSqIWFKKmY"
      },
      "source": [
        "## 6.8 Function Examples"
      ]
    },
    {
      "cell_type": "markdown",
      "metadata": {
        "id": "wWuD022x3WM-"
      },
      "source": [
        "**Example 1: Computing average and standard-deviation**\n",
        "\n",
        "In the previous chapter, we provided iterative definitions for calculating the average and the standard-deviation of a list of numbers. Let us look at these definitions again with functions. For the sake of ease, the mathematical definitions are provided again. Moreover, we will use this opportunity to talk more about iterations as well.\n",
        "\n",
        "Average of a set ($S$) of numbers is calculated by dividing the sum of the values in the set by their number. So, if we have a set $S$:\n",
        "$$\n",
        "avg(S) = \\frac{1}{|S|}\\sum_{x\\in S} x,\n",
        "$$\n",
        "which can be coded as:"
      ]
    },
    {
      "cell_type": "code",
      "metadata": {
        "id": "KVvOEmb3yhfe"
      },
      "source": [
        "def avg(S):\n",
        "  sum = 0.0\n",
        "  for x in S: sum += x\n",
        "  return sum/len(S)\n",
        "\n",
        "S = [11, 2, 9, 6]\n",
        "print(\"The avg of S:\", avg(S))"
      ],
      "execution_count": null,
      "outputs": []
    },
    {
      "cell_type": "markdown",
      "metadata": {
        "id": "5oqU1aaKz4V7"
      },
      "source": [
        "This is quite elegant. As you see it works at a higher abstraction level. This can be done because the `in` operator comes in very handy and when used as an iterator, it iterates over the elements of the list. \n",
        "\n",
        "Sometimes it is more desirable to work with the indices to reach out to each element. Remember that indexing of container elements start at zero. So, a more index-based formulation of the same formula would be:\n",
        "$$\n",
        "avg(S) = \\frac{1}{|S|}\\sum_{i=0}^{|S|-1} S_i\n",
        "$$\n",
        "\n",
        "The following implements this definition:"
      ]
    },
    {
      "cell_type": "code",
      "metadata": {
        "id": "XMbDHGwG2dBg"
      },
      "source": [
        "def avg(S):\n",
        "  sum = 0.0\n",
        "  for i in range(0, len(S)): sum += S[i]\n",
        "  return sum/len(S)\n",
        "\n",
        "S = [11, 2, 9, 6]\n",
        "print(\"The avg of S:\", avg(S))"
      ],
      "execution_count": null,
      "outputs": []
    },
    {
      "cell_type": "markdown",
      "metadata": {
        "id": "tu1RAZsW40o1"
      },
      "source": [
        "This is almost okay but not perfect. `len` is a built-in function that returns the element count of any container (string, list, tuple). As you have observed `len(S)` is calculated twice. This is inefficient. Function calls have a price, time-wise and space-wise and unnecessary calls should be avoided. To fix this, we change the code to do computation once and store the result for further usages."
      ]
    },
    {
      "cell_type": "code",
      "metadata": {
        "id": "VDJpRkLe6eOO"
      },
      "source": [
        "def avg(S):\n",
        "  sum = 0.0\n",
        "  length = len(S)\n",
        "  for i in range(0, length): sum += S[i]\n",
        "  return sum/length\n",
        "\n",
        "S = [11, 2, 9, 6]\n",
        "print(\"The avg of S:\", avg(S))"
      ],
      "execution_count": null,
      "outputs": []
    },
    {
      "cell_type": "markdown",
      "metadata": {
        "id": "htgMtjHb6-0z"
      },
      "source": [
        "`sum`, `length`, `i` and the parameter `S` are all local variables of the function `avg`. In contrary to many other programming languages, in Python we do not have to declare locals. They are automatically recognized. This comes in very handy.\n",
        "\n",
        "One point to note about the code is that the $|S|-1$ is missing. It is not necessary because the `range` iterator excludes the end value, as we discussed in the previous chapter.\n",
        "\n",
        "Now let us also introduce the code for standard deviation. First the mathematical definition:   \n",
        "$$\n",
        "std(S) = \\sqrt{\\frac{1}{|S|}\\displaystyle\\sum_{i=0}^{|S|-1}(S_i - avg(S))^2}\n",
        "$$\n",
        "\n",
        "This time we bear in mind that unnecessary function calls should be avoided:"
      ]
    },
    {
      "cell_type": "code",
      "metadata": {
        "id": "_tYW4kmA_Yu1"
      },
      "source": [
        "def avg(S):\n",
        "  sum = 0.0\n",
        "  length = len(S)\n",
        "  for i in range(0, length): sum += S[i]\n",
        "  return sum/length\n",
        "\n",
        "def std(S):\n",
        "  sum = 0.0\n",
        "  length = len(S)\n",
        "  average = avg(S)\n",
        "  for i in range(0, length): sum += (S[i] - average)**2\n",
        "  return (sum/length)**0.5\n",
        "\n",
        "S = [11, 2, 9, 6]\n",
        "print(\"The avg of S:\", avg(S))\n",
        "print(\"The std of S:\", std(S))"
      ],
      "execution_count": null,
      "outputs": []
    },
    {
      "cell_type": "markdown",
      "metadata": {
        "id": "5jlv4H9LH-AC"
      },
      "source": [
        "We gave the solution in terms of explicit indexing. As given below this particular problem can be coded without an iteration over indices. Such problems are rare. Problems that require operations over vectors and matrices or problems that aim optimizations usually require explicit index iterations.\n",
        "\n",
        "For sake of completeness we state the index-less solution of the average and standard-deviation problem:\n"
      ]
    },
    {
      "cell_type": "code",
      "metadata": {
        "id": "jRUGRIaVJVt2"
      },
      "source": [
        "def avg(S):\n",
        "  sum = 0.0\n",
        "  length = len(S)\n",
        "  for x in S: sum += x\n",
        "  return sum/length\n",
        "\n",
        "def std(S):\n",
        "  sum = 0.0\n",
        "  length = len(S)\n",
        "  average = avg(S)\n",
        "  for x in S: sum += (x - average)**2\n",
        "  return (sum/length)**0.5\n",
        "\n",
        "S = [11, 2, 9, 6]\n",
        "print(\"The avg of S:\", avg(S))\n",
        "print(\"The std of S:\", std(S))"
      ],
      "execution_count": null,
      "outputs": []
    },
    {
      "cell_type": "markdown",
      "metadata": {
        "id": "PzsKzmd_6HyE"
      },
      "source": [
        "**Example 2: Computing check digit**\n",
        "\n",
        "A Standard Definition from [Wikipedia](https://en.wikipedia.org/wiki/Check_digit):\n",
        "> \"A *check digit* is a form of redundancy check used for error detection on identification numbers, such as bank account numbers, which are used in an application where they will at least sometimes be input manually.  It consists of one or more digits computed by an algorithm from the other digits (or letters) in the sequence input. <br><br>\n",
        "> With a check digit, one can detect simple errors in the input of a series of characters (usually digits) such as a single mistyped digit or some permutations of two successive digits.\" \n",
        "\n",
        "Middle East Technical University, our university, also implements a check digit algorithm for student numbers. A student number has exactly six digits.\n",
        "The algorithm to generate the checkdigit is as follows:\n",
        "\n",
        "* $sum \\leftarrow 0$\n",
        "\n",
        "*  For each digit in the student number (the leftmost digit is the named as the 'first') that has an odd position (first, third, fifth), take the digit and add it to the $sum$.\n",
        "\n",
        "*  For each digit in the student number that has an even position  (second, forth, sixth) take twice the digit. If this result of doubling is a two digit number, then add each of these digits to the $sum$, otherwise add the result of the doubling (which is a single digit number itself) to the $sum$.\n",
        "\n",
        "* The one digit number, which when added to the $sum$ results in a multiple of 10, is the check digit.\n",
        "\n",
        "Take as example the student number **167912**: \\\\\n",
        "\n",
        "<img  src=\"https://github.com/sinankalkan/CENG240/blob/master/figures/checksum.png?raw=true\" width=300 >\n",
        "\n",
        "The check digit of the student number **167912** is found to be **5**. As you all well know, this is written as \n",
        "**167912-5**. That is called the *student-id*.\n",
        "\n",
        "Below you will find the code that computes the checkdigit for a student number, given as a string. We encourage you to investigate it. A very good technique to understand how a code progresses when it runs is to insert print statements to points of interest. You can start by inserting:\n",
        "```python\n",
        "print(digit, sum)\n",
        "```\n",
        "right after the line of `else:` (left-aligned with the `else`)."
      ]
    },
    {
      "cell_type": "code",
      "metadata": {
        "id": "oSm9YK0R1Dc0"
      },
      "source": [
        "def checksum(S):\n",
        "    sum = 0\n",
        "    for i in range(0, len(S)):\n",
        "        digit = int(S[i])\n",
        "        if i%2 == 0: sum += digit\n",
        "        else: sum += (9 if digit==9 else (2*digit) % 9)\n",
        "    n = sum % 10\n",
        "    return 0 if n == 0 else 10 - n\n",
        "\n",
        "print(checksum(\"167912\"))"
      ],
      "execution_count": null,
      "outputs": []
    },
    {
      "cell_type": "markdown",
      "metadata": {
        "id": "hEgDh6fd1Wmb"
      },
      "source": [
        "A few notes about the code:\n",
        "\n",
        "* Remember indexing starts in Python at zero. One group of digits, namely (first, third, fifth) are actually at `S[0]`, `S[2]` and `S[4]`. Their indices are **even**. Or in mathematical terms, they are (modulo 2) zero. \n",
        "\n",
        "* Summing the digits of a number is a trick we learned in primary school. It is actually nothing else but a quick way to do (modulo 9). So, we are actually taking the (modulo 9) of the doubled digit. With one exception: If the digit is 9, the double is 18 where we have to add a 1+8=9 to the `sum`. But `(18 % 9)` would give us zero (not 9). So, here we have to insert an exception: For all digits except 9, we can use `(2*digit) % 9`. For 9, we ought to add a 9 to the `sum`.   \n",
        " \n",
        "* The rule of constructing the check digit from the `sum` has a similar exception case for `sum` being a multiple of 10 (i.e. n (modulo 10) = 0). \n",
        "In that case we would have a checkdigit of 10 (because 10-0 = 10) which is not a digit, but two digits. The designers decided to use a zero as the checkdigit for this particular case. \n",
        "\n",
        "Now let us see how the checkdigit can be used to recover a missing digit of the student id.     \n",
        "\n",
        "Let us assume you have a student ID as: **1🁢9503-7**. Now, can we discover what the (**🁢**) digit is?   \n",
        "\n",
        "For this purpose we will write a function `find_q_mark()` that will take a string as an argument, in which the missing digit is indicated by a (`?`) (question mark). We are expecting that a call of `find_q_mark(\"1?9503-7\")` will recover the missing digit and return the demystified string: \"139503-7\".\n",
        "\n",
        "*(The `checksum()` definition of above is still effective)*"
      ]
    },
    {
      "cell_type": "code",
      "metadata": {
        "id": "LQgYUXm5iwqd"
      },
      "source": [
        "# places digit in the place of '?' in the string S\n",
        "def replace_q_mark(S, digit):  \n",
        "    new_S =\"\"\n",
        "    for c in S: new_S += str(digit) if c=='?' else c\n",
        "    return new_S\n",
        "\n",
        "# finds the value for the position with '?'\n",
        "def find_q_mark(MissingStdID):      # MissingStdID is something like \"1?7912-5\"\n",
        "    six_digit_string = MissingStdID[:6]  # \"1?7912\"\n",
        "    checksum_digit = int(MissingStdID[7])\n",
        "    for missing_digit in range(0, 10):\n",
        "        candidate = replace_q_mark(six_digit_string, missing_digit)\n",
        "        if checksum(candidate) == checksum_digit: return candidate + MissingStdID[6:]\n",
        "\n",
        "print(find_q_mark(\"1?7912-5\"))"
      ],
      "execution_count": null,
      "outputs": []
    },
    {
      "cell_type": "markdown",
      "metadata": {
        "id": "gtf6lmSC3lvE"
      },
      "source": [
        "A few notes about the code:\n",
        " * ``replace_q_mark()`` function is called by ``find_q_mark()``. It is only called once, therefore its actions could have been migrated into ``find_q_mark()``. Efficiency-wise there would be no change. But seperating it out, making it into a function and naming it accordingly makes the code more readable.\n",
        "\n",
        "* The first two lines that define  ``find_q_mark()`` actions are merely dissecting the string into a student-id and a checkdigit part.\n",
        "\n",
        "* What we do in the `for` loop in `find_q_mark()` (on Lines 11-13) is coined in Computer Science as *brute force*. Practically, it is trying every possible case for being a solution. In this problem, the `(?)` mark can be any digit in the range \\[0,9\\]. The `for` loop tries each of these possibilities out until the computed checksum becomes the same as the checkdigit appearing in the input string. "
      ]
    },
    {
      "cell_type": "markdown",
      "metadata": {
        "id": "aQPY41hV6F_D"
      },
      "source": [
        "**Example 3: Sequential Search**\n",
        "\n",
        "Searching an item in a list or any other container is a frequently performed operation required while solving world problems. For the sake of simplicity, let us just focus on situations where only numbers are involved; i.e. the searched item is a number and the list includes only numbers. Extension to other data types is trivial.\n",
        "\n",
        "In a search problem, we have a query item (let's call it `x`) and a list of items (let's call it `L`). If `x` is a member of `L`, then we want the search algorithm to return `True`, optionally by returning its index in `L`. If `x` is not a member of `L`, we expect the algorithm to return `False`.\n",
        "\n",
        "Consider the example list below:\n",
        "$$\n",
        "\\begin{array}{|c|c|c|c|c|}\n",
        "        \\hline 109 & -48 & 25 & 4 & -13 \\\\ \\hline \n",
        "\\end{array}\n",
        "$$\n",
        "\n",
        "If `x` is 4, the search algorithm should return `True`. If it is 5, the answer should be `False`.\n",
        "\n",
        "Let us start with the simplest algorithm we can use: Sequential Search. In sequential search, we start with the beginning of the list, go over each item in the list and check if the query is equal to any item that we go over. Here is the algorithm:\n",
        "\n",
        "```\n",
        "Algorithm: Sequential Search with While Iterations\n",
        "----------------------------\n",
        "Input: x -- the query number\n",
        "       L -- the list of numbers\n",
        "Output: True (if x is in L) or False (if x is not in L)\n",
        "----------------------------\n",
        "Step 1: Create a variable named Index with initial value 0\n",
        "Step 2: Create a variable named N with value length(L)\n",
        "Step 3: While Index < N is True, execute Steps 4 and 5:\n",
        "Step 4:    If x is equal to L[Index], then return True as the result\n",
        "Step 5:    Index = Index + 1\n",
        "Step 6: Return False as the result\n",
        "```\n",
        "\n",
        "Let us implement this simple algorithm in Python:\n"
      ]
    },
    {
      "cell_type": "code",
      "metadata": {
        "id": "WsGNqw99ACND"
      },
      "source": [
        "# Sequential Search with while statement\n",
        "def seq_search(x, L):\n",
        "  index = 0                          # Step 1\n",
        "  N = len(L)                         # Step 2\n",
        "  while index < N:                   # Step 3\n",
        "    if x == L[index]: return True    # Step 4\n",
        "    index = index + 1                # Step 5\n",
        "  return False                       # Step 6\n",
        "\n",
        "\n",
        "# Now let us test the function with examples:\n",
        "L = [109, -48, 25, 4, -13]\n",
        "x = 4\n",
        "print(f\"seq_search({x}, {L}): \", seq_search(x, L))\n",
        "x = 5\n",
        "print(f\"seq_search({x}, {L}): \", seq_search(x, L))\n",
        "x = 5\n",
        "L = []\n",
        "print(f\"seq_search({x}, {L}): \", seq_search(x, L))"
      ],
      "execution_count": null,
      "outputs": []
    },
    {
      "cell_type": "markdown",
      "metadata": {
        "id": "R-VlqE3-A9u4"
      },
      "source": [
        "That looks nice. However, we can have a more compact solution using `for` loops:"
      ]
    },
    {
      "cell_type": "code",
      "metadata": {
        "id": "O8X9j1xmBzL5"
      },
      "source": [
        "# Sequential Search with for statement\n",
        "def seq_search(x, L):\n",
        "  for y in L:\n",
        "    if x == y: return True\n",
        "  return False\n",
        "\n",
        "# Now let us test the function with examples:\n",
        "L = [109, -48, 25, 4, -13]\n",
        "x = 4\n",
        "print(f\"seq_search({x}, {L}): \", seq_search(x, L))\n",
        "x = 5\n",
        "print(f\"seq_search({x}, {L}): \", seq_search(x, L))\n",
        "x = 5\n",
        "L = []\n",
        "print(f\"seq_search({x}, {L}): \", seq_search(x, L))"
      ],
      "execution_count": null,
      "outputs": []
    },
    {
      "cell_type": "markdown",
      "metadata": {
        "id": "7saxhnTJCBBU"
      },
      "source": [
        "That's the beauty of Python. These two are iterative solutions. Let us have a look at a recursive solution. First, let us have a look at the algorithm. The idea is essentially the same: We compare with the first item and return `True` if they match. Otherwise, we continue our search with the remaining items.\n",
        "\n",
        "```\n",
        "Algorithm: Sequential Search with Recursion\n",
        "----------------------------\n",
        "Input: x -- the query number\n",
        "       L -- the list of numbers\n",
        "Output: True (if x is in L) or False (if x is not in L)\n",
        "----------------------------\n",
        "Step 1: If L is empty, return False\n",
        "Step 2: If x is equal to the first item of L (L[0]), return True\n",
        "Step 3: Make a recursive call on L[1:N], and return its answer\n",
        "```\n",
        "\n",
        "And here is the implementation in Python:"
      ]
    },
    {
      "cell_type": "code",
      "metadata": {
        "id": "ViV12XGvDd8k"
      },
      "source": [
        "# Sequential Search with recursion\n",
        "def seq_search(x, L):\n",
        "  if L == []: return False      # Step 1: We have exhausted the list, x was not found\n",
        "  if x == L[0]: return True     # Step 2: x was at the beginning of the list, yay!\n",
        "  return seq_search(x, L[1:])   # Step 3: Search in the remaining items since x != L[0]\n",
        "\n",
        "# Now let us test the function with examples:\n",
        "L = [109, -48, 25, 4, -13]\n",
        "x = 4\n",
        "print(f\"seq_search({x}, {L}): \", seq_search(x, L))\n",
        "x = 5\n",
        "print(f\"seq_search({x}, {L}): \", seq_search(x, L))\n",
        "x = 5\n",
        "L = []\n",
        "print(f\"seq_search({x}, {L}): \", seq_search(x, L))"
      ],
      "execution_count": null,
      "outputs": []
    },
    {
      "cell_type": "markdown",
      "metadata": {
        "id": "rq7Zxr3qELMl"
      },
      "source": [
        "**Exercise**\n",
        "\n",
        "Write down the pseudocode for the Python function `seq_search` with `for` statement."
      ]
    },
    {
      "cell_type": "markdown",
      "metadata": {
        "id": "3_9mPcIDEhLh"
      },
      "source": [
        "**Exercise**\n",
        "\n",
        "Extend the *recursive* implementation of `seq_search` to search for an item `x` in a list `L` in cases where `L` can be nested. In other words, the extended search algorithm shoud return `True` for:\n",
        "\n",
        "`seq_search_nested(5, [10, [4, [5]], -84, [3]])`\n",
        "\n",
        "and `False` for:\n",
        "\n",
        "`seq_search_nested(8, [10, [4, [5]], -84, [3]])`\n"
      ]
    },
    {
      "cell_type": "markdown",
      "metadata": {
        "id": "-d99ARZCFjC0"
      },
      "source": [
        "**Example 4: Binary Search**\n",
        "\n",
        "If the list of items (numbers in our case) is not sorted, sequential search is the only option for searching for an item. If, however, the numbers are sorted (in an increasing or decreasing order), then we have a much more efficient algorithm called binary search.\n",
        "\n",
        "Assuming that `L`, our list of numbers, is sorted in an increasing order: In binary search, we make our first comparison with the number that is at the center (middle) of the list. If the middle number is equal to `x`, then we obviously return `True`. Otherwise, we compare `x` with the middle number: If `x` is smaller, then it has to be to the left of the middle number -- we can continue our search on the left part of L. If, on the other hand, `x` is larger than the middle number, it has to be on the right side of the middle number -- we can continue our search on the right part of L. This is illustrated in the following figure.\n",
        "\n",
        "<center>\n",
        "<img src=\"https://raw.githubusercontent.com/sinankalkan/CENG240/master/figures/ch6_bin_search.png\" width=550px>\n",
        "\n",
        "</center>\n",
        "\n",
        "Here is the pseudocode that describes this algorithm:\n",
        "\n",
        "```\n",
        "Algorithm: Binary Search with Recursion\n",
        "----------------------------\n",
        "Input: x -- the query number\n",
        "       L -- the list of numbers\n",
        "Output: True (if x is in L) or False (if x is not in L)\n",
        "----------------------------\n",
        "Step 1: If length(L) is zero then return False since the list is empty\n",
        "Step 2: Create a variable Mid_index with value length(L)/2\n",
        "Step 3: If x = L[Mid_Index], return True, we found the item\n",
        "Step 4: If x < L[Mid_index] then make recursive call with L[0:Mid_index] and return its answer\n",
        "Step 5: Otherwise (x > L[Mid_index]) then make a recursive call with L[Mid_index+1:] and return its answer\n",
        "```\n",
        "\n",
        "The following is the implementation in Python:"
      ]
    },
    {
      "cell_type": "code",
      "metadata": {
        "id": "OrakG2GPIW0s"
      },
      "source": [
        "# Binary search with recursion\n",
        "def bin_search(x, L):\n",
        "  if len(L) == 0: return False                                # Step 1: Terminating condition\n",
        "  Mid_index = len(L) // 2                                     # Step 2: Uses integer division\n",
        "  if x == L[Mid_index]: return True                           # Step 3\n",
        "  if x < L[Mid_index]: return bin_search(x, L[0:Mid_index])   # Step 4\n",
        "  if x > L[Mid_index]: return bin_search(x, L[Mid_index+1:])  # Step 5: Can drop if statement\n",
        "\n",
        "# Now let us test the function with examples:\n",
        "L = [-48, -13, 4, 25, 109]\n",
        "x = 4\n",
        "print(f\"bin_search({x}, {L}): \", bin_search(x, L))\n",
        "x = 5\n",
        "print(f\"bin_search({x}, {L}): \", bin_search(x, L))\n",
        "x = 5\n",
        "L = []\n",
        "print(f\"bin_search({x}, {L}): \", bin_search(x, L)) "
      ],
      "execution_count": null,
      "outputs": []
    },
    {
      "cell_type": "markdown",
      "metadata": {
        "id": "Wzy0KUuRLEnI"
      },
      "source": [
        "**Exercise**\n",
        "\n",
        "Implement binary search using while statements.\n",
        "\n",
        "**Exercise**\n",
        "\n",
        "Identify the complexity of sequential search and binary search in the following cases:\n",
        "\n",
        "* Best case: When the item that we are making our first comparison with is the one we were looking for.\n",
        "* Worst case: The item we are looking for is the last item with which we performed the comparison. \n",
        "* Average case."
      ]
    },
    {
      "cell_type": "markdown",
      "metadata": {
        "id": "IszjC0HFf-5v"
      },
      "source": [
        "**Example 5: Sorting**\n",
        "\n",
        "Sorting pertains to ordering a list of items ($L$) so that each item in $L$ satisfies the following constraint:\n",
        "$$\n",
        "L_i < L_{i+1},\n",
        "$$ \n",
        "which leads to an ascending (increasing) order of items in $L$ and this is called _ascending sort_. If the order of the constraint is changed to $L_i > L_{i+1}$, the outcome is a descending (decreasing) order of items in $L$ and this is called _descending sort_.\n",
        "\n",
        "An algorithm that can perform ascending sort can easily be changed to descending sort; therefore, we will just focus on one of them, namely, ascending sort. Moreover, we will focus on sorting a list of numbers; however,  the same algorithms can be applied on other data types as long as an ordering constraint (`<` or `>`) can be defined.\n",
        "\n",
        "**Bubble Sort**\n",
        "\n",
        "Let us have a look at a very simple though inefficient sorting algorithm, called _Bubble Sort_. In Bubble Sort, we start from the beginning of the list and check whether the constraint $L_i < L_{i+1}$ is violated for an $i$ value. If it is, we swap $L_i$ with $L_{i+1}$. When we hit the end of the list, we start from the beginning of the list again and continue checking the constraint $L_i < L_{i+1}$. Once at the end of the list, we again go back to the beginning and continue checking the constraint for each $i$. This continues until no $i$ value violates the constraint $L_i < L_{i+1}$, which means that the numbers are sorted.\n",
        "\n",
        "Therefore, in Bubble Sort, we have two loops, one outer loop that continues until all numbers are sorted and an inner loop that goes through the list and checks the constraint. Here is a pseudo-code for this:\n",
        "\n",
        "```\n",
        "Algorithm: Bubble Sort\n",
        "----------------------------\n",
        "Input: L -- the list of numbers (not sorted)\n",
        "Output: L -- the sorted list of numbers (ascending order)\n",
        "----------------------------\n",
        "Step 1: Create a varible Is_sorted with value False\n",
        "Step 2: Create a variable N with value length(L)\n",
        "Step 3: Create a variable Index\n",
        "Step 4: While Is_sorted is False, repeat Steps 5-11:\n",
        "Step 5:     Set Is_sorted to True\n",
        "Step 6:     Set Index to zero\n",
        "Step 7:     While Index < (N-1), repeat Steps 8-11\n",
        "Step 8:         If L[Index] > L[Index+1], then execute Steps 9 & 10: \n",
        "Step 9:              Swap L[Index] and L[Index+1]\n",
        "Step 10:             Set Is_sorted to False\n",
        "Step 11:        Index = Index + 1\n",
        "Step 12: return L \n",
        "```\n",
        "\n",
        "One outer iteration of the algorithm is illustrated on a small list of numbers below:\n",
        "\n",
        "<center>\n",
        "<img src=\"https://raw.githubusercontent.com/sinankalkan/CENG240/master/figures/ch6_bubble_sort.png\" width=550px>\n",
        "\n",
        "</center>\n",
        "\n",
        "With one outer iteration, the list appears to be one step closer to a sorted list. In the example above, the largest number has found its correct place after one outer iteration. With a second one, the second largest number will find its place. With a third iteration, the third largest number will find its place etc. \n",
        "\n",
        "And here is the implementation in Python:"
      ]
    },
    {
      "cell_type": "code",
      "metadata": {
        "id": "s06-WjIDl3TD"
      },
      "source": [
        "# Bubble Sort\n",
        "\n",
        "def bubble_sort(L):\n",
        "  Is_sorted = False                                       # Step 1\n",
        "  N = len(L)                                              # Step 2\n",
        "  Index = 0                                               # Step 3: Can be removed in Python\n",
        "\n",
        "  while Is_sorted is False:                               # Step 4\n",
        "    Is_sorted = True                                      # Step 5\n",
        "    Index = 0                                             # Step 6\n",
        "    while Index < (N-1):                                  # Step 7\n",
        "      if L[Index] > L[Index+1]:                           # Step 8\n",
        "        (L[Index], L[Index+1]) = (L[Index+1], L[Index])   # Step 9\n",
        "        Is_sorted = False                                 # Step 10\n",
        "      Index = Index + 1                                   # Step 11\n",
        "  return L                                                # Step 12\n",
        "\n",
        "# Let us test our implementation with some sample lists\n",
        "L = [109, -13, 4, -48, 25]\n",
        "print(f\"bubble_sort({L}): \", bubble_sort(L))\n",
        "\n",
        "L = [-48, -13, 4, 25, 109]\n",
        "print(f\"bubble_sort({L}): \", bubble_sort(L))\n",
        "\n",
        "L = []\n",
        "print(f\"bubble_sort({L}): \", bubble_sort(L))"
      ],
      "execution_count": null,
      "outputs": []
    },
    {
      "cell_type": "markdown",
      "metadata": {
        "id": "FEVwDDxHhCtt"
      },
      "source": [
        "## 6.9 Programming Style\n",
        "\n",
        "With the topics covered in this chapter, we started working with longer and more elaborated Python codes. Up to now, we have introduced crucial aspects that can be arranged differently among programmers:\n",
        "\n",
        "* Naming variables and functions.\n",
        "* Indentation.\n",
        "* Function definition.\n",
        "* Commenting.\n",
        "\n",
        "Longing for brevity and readability, the creators of Python have defined some guidelines of style for those interested:\n",
        "[Python Style Guide](https://www.python.org/dev/peps/pep-0008/).\n",
        "\n",
        "There are alternative styles and we strongly recommend you to choose one and stick to it as a programming style."
      ]
    },
    {
      "cell_type": "markdown",
      "metadata": {
        "id": "0KsIBqOg0h8n"
      },
      "source": [
        "## Important Concepts\n",
        "\n",
        "We would like our readers to have grasped the following crucial concepts and keywords from this chapter (all related to Python):\n",
        "\n",
        "* Defining functions.\n",
        "* Function parameters and how to pass values to functions.\n",
        "* Default parameters.\n",
        "* Scopes of variables.\n",
        "* Local, enclosing, global and built-in scopes.\n",
        "* Higher-order functions.\n",
        "* Differences of functions between programming and Mathematics.\n",
        "* Recursion.\n"
      ]
    },
    {
      "cell_type": "markdown",
      "metadata": {
        "id": "-we29COI1E5S"
      },
      "source": [
        "## Further Reading\n",
        "\n",
        "* Functional tools of Python: https://docs.python.org/3/howto/functional.html\n",
        "* A more comprehensive coverage on recursion: https://link.springer.com/chapter/10.1007/978-3-7091-1343-1_4\n",
        "* Python style guide: https://www.python.org/dev/peps/pep-0008/\n"
      ]
    },
    {
      "cell_type": "markdown",
      "metadata": {
        "id": "2WELPdtr16PE"
      },
      "source": [
        "## Exercises\n",
        "\n",
        "* Write a Python function named `only_numbers()` that removes items in a list that are not numbers. E.g. `only_numbers([10, \"ali\", [20], True, 4])` should return `[10, 4]`. Implement two versions: One using iteration and another using recursion.\n",
        "\n",
        "* Write a Python function named `flatten()` that removes nesting in a nested list and lists all elements in a single non-nested list. E.g. `flatten([1, [4, 5, [6]], [[\"test\"]]])` should return `[1, 4, 5, 6, \"test\"]`. \n",
        "\n",
        "* Write a Python function named `reverse()` that reverses the order of elements in a list. E.g. `reverse([10, 5, 0])` should return `[0, 5, 10]`. Implement two versions: One using iteration and another using recursion.\n",
        "\n",
        "* Write a Python function named `greatest_divisor()` that finds the greatest divisor of an integer. The greatest divisor of an integer $n$ is an integer $x < n$ that satisfies $n = k \\cdot x$ for some integer $k$. E.g. `greatest_divisor(12)` should return `6`.\n"
      ]
    }
  ]
}