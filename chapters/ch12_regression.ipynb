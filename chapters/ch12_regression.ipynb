{
  "nbformat": 4,
  "nbformat_minor": 0,
  "metadata": {
    "colab": {
      "name": "ch12_regression.ipynb",
      "provenance": [],
      "collapsed_sections": []
    },
    "kernelspec": {
      "name": "python3",
      "display_name": "Python 3"
    }
  },
  "cells": [
    {
      "cell_type": "markdown",
      "metadata": {
        "id": "2HP1eAotrM0N"
      },
      "source": [
        "# Chapter 12 - An Application: Solving a Simple Regression Problem\n",
        "\n",
        "*(C) Copyright Notice: This chapter is part of the book available at https://pp4e-book.github.io/ and copying, distributing, modifying it requires explicit permission from the authors. See the book page for details: https://pp4e-book.github.io/*\n",
        "\n",
        "In this chapter, we will cover an important problem in many disciplines: that of fitting (regressing) a function to a set of data, i.e. the regression problem. We will look at two versions, namely, linear regression and non-linear regression, using SciPy. While doing so, we will use Pandas, NumPy and Matplotlib as well, which were covered in Chapter 10.\n"
      ]
    },
    {
      "cell_type": "markdown",
      "metadata": {
        "id": "gDp6-SGm3Hsn"
      },
      "source": [
        "## 12.1 Introduction\n",
        "\n",
        "Let us first formulate the problem and clearly outline the notation. In a regression problem, we have a set of $x,y$ values: $\\{(x_0, y_0), (x_1, y_1), ..., (x_n, y_n)\\}$, where $x_i$ and $y_i$ can be multi-dimensional variables (i.e. vectors) but for the sake of simplicity, in this chapter we will work with one-dimensional $x_i$ and $y_i$ values. In a regression problem, we are interested in finding the function $f()$ that goes through those $(x_i, y_i)$ values. In other words, we wish to find $f()$ that satisfies the following:\n",
        "\n",
        "$$\n",
        "y_i = f(x_i).\n",
        "$$\n",
        "\n",
        "At first, this might look difficult since we are trying to estimate a function from its input-output values and there can be infinitely many functions that can go through a finite set of $(x_i, y_i)$ values. However, by restructuring the problem a little bit and making some assumptions on the general form of $f()$, we can solve such complicated regression problems very well. \n",
        "\n",
        "Let us briefly describe how we can do so: We first re-write $f()$ as a parametric function and try to formulate the regression problem as the problem of finding the parameters of $f()$:\n",
        "\n",
        "$$\n",
        "y = f(x) = f(x;\\mathbf{\\theta}) = \\sum_{i=1}^{m} g_i(x; \\theta_i),\n",
        "$$\n",
        "\n",
        "where $\\mathbf{\\theta}=(\\theta_1, ..., \\theta_n)$ is the set of parameters that we need to find to solve the regression problem; and $g_1(), ..., g_m()$ are our \"simpler\" functions (compared to $f()$) whose parameters can be identified more easily compared to $f()$.\n",
        "\n",
        "With this parameterized definition of $f()$, we can formally define regression as an optimization (minimization) problem (see also Chapter 11):\n",
        "\n",
        "$$\n",
        "\\theta^* \\leftarrow  \\arg\\min_{\\theta\\in\\mathbb{R}^d} \\sum_i \\left(y_i - f(x_i; \\theta)\\right)^2,\n",
        "$$\n",
        "\n",
        "where the summation runs over the $(x_0, y_0), (x_1, y_1), ..., (x_n, y_n)$ values that we are trying to regress; $\\left(y_i - f(x_i; \\theta)\\right)^2$ is the error between the estimated (regressed) value (i.e. $f(x_i; \\theta)$) and the correct $y_i$ value with $\\theta$ as the parameters. \n",
        "\n",
        "We can describe this optimization formulation in words as: Find parameters $\\theta$ that minimize the error between $y_i$ and what the function is predicting given $x_i$ as input. \n",
        "\n",
        "This is a minimization problem and in Chapter 11, we have seen a simple solution and how SciPy can be used for such problems. In this chapter, we will spend more time on this with sample regression problems and solutions. Namely, \n",
        "\n",
        "- Linear regression, where $f()$ is assumed to be a line, $y=ax+b$, and $\\theta$ is $(a,b)$.\n",
        "\n",
        "- Non-linear regression, where $f()$ has a non-linear nature, e.g. a quadratic, exponential or logarithmic form.\n",
        "\n",
        "\n",
        "\n"
      ]
    },
    {
      "cell_type": "markdown",
      "metadata": {
        "id": "kAZAhedsDcn2"
      },
      "source": [
        "### 12.1.1 Why is regression important?\n",
        "\n",
        "In many disciplines, we observe an environment, an event, or an entity through sensors or some data collected in a different manner, and obtain some information about what we are observing in the form of a variable $x$. Each $x$ generally has an associated outcome variable $y$. Or $x$ can represent an action that we are exerting in an environment and we are interested in finding how $x$ affects the environment by observing a variable $y$. \n",
        "\n",
        "Here are some examples for $x$ and $y$ for which finding a function $f()$ can be really useful:\n",
        "\n",
        "- $x$: The current that we are providing to a motor. $y$: The speed of the motor.\n",
        "\n",
        "- $x$: The day of a year. $y$: The average rain fall on a year.\n",
        "\n",
        "- $x$: The changes in stock value of a bond in the last day. $y$: The value of a bond in one hour.\n",
        "\n",
        "- $x$: The number of COVID cases in a day. $y$: The number of deaths owing to COVID.\n",
        " "
      ]
    },
    {
      "cell_type": "markdown",
      "metadata": {
        "id": "0_ATjd5miKkU"
      },
      "source": [
        "### 12.1.2 The form of the function\n",
        "\n",
        "As discussed before, solving the regression problem without making any assumption about the underlying function is very challenging. We can simplify the problem by making an assumption about the function. However, an incorrect assumption can yield inaccurate regression model. \n",
        "\n",
        "This is illustrated very well in a famous cartoon in <font color=gray>Figure 12.1</font>. As illustrated, if the form of the function is too simple (e.g. linear), the fitted function will not be able to capture the true nature of the data. However, if the assumed function form is too complex (e.g. a higher-order polynomial), the fitted function will try to go through every data point, which may not be ideal since the data can be noisy. \n",
        "\n",
        "Choosing the right form of the function is therefore tricky and it requires some prior idea about the function or the problem. If the relationship between $x$ and $y$ is known to be linear, then a linear function form should be chosen. If the relation between $x$ and $y$ is known to be non-linear but the exact form is unknown, $x$ and $y$ can be plotted first to get a feeling for the underlying form. This can give an idea for what kinds of function forms can be suitable.\n",
        "\n",
        "<center>\n",
        "<img src=\"https://imgs.xkcd.com/comics/curve_fitting.png\">\n",
        "\n",
        "*Figure 12.1. The challenging regression problem can be simplified by making an assumption about the underlying function; as illustrated in the drawings, the function can be assumed to be linear, quadratic, logarithmic etc. However, an incorrect assumption can yield inaccurate regression. (Figure source: https://xkcd.com/2048/)*\n",
        "</center>"
      ]
    },
    {
      "cell_type": "markdown",
      "metadata": {
        "id": "BWnG5sksbYXY"
      },
      "source": [
        "## 12.2 Least-Squares Regression\n",
        "\n",
        "A commonly-used method for regression is called Least-Squares Regression (LSE). In LSE, the minimization problem in Section 12.1 is solved by setting the gradient of the objective to zero:\n",
        "$$\n",
        "\\frac{\\partial}{\\partial \\theta_j} \\sum_i \\left(y_i - f(x_i; \\theta)\\right)^2 = 0, \\quad \\textrm{for each } j.\n",
        "$$\n",
        "\n",
        "**Linear Least-Squares Regression**. If our function is linear, i.e. $f(x_i; \\theta) = \\theta_1 x_i + \\theta_2$, setting the gradient to zero provides us one set of equations for each $\\theta_j$. If the number of data points ($x_i, y_i$) is bigger than the number of variables, these equations can be easily solved to obtain $\\mathbf{\\theta}$ that minimizes the objective in Section 12.1. Those interested in the derivation of the solution and its exact form can look up e.g. [Wikipedia](https://en.wikipedia.org/wiki/Linear_least_squares).\n",
        "\n",
        "**Non-linear Least-Squares Regression**. If our function is not linear, a solution can be obtained iteratively by making a linear approximation/step at each iteration using the so-called [Gauss-Newton method](https://en.wikipedia.org/wiki/Gauss%E2%80%93Newton_algorithm)."
      ]
    },
    {
      "cell_type": "markdown",
      "metadata": {
        "id": "rytTBdO8_KUD"
      },
      "source": [
        "## 12.3 Linear Regression with SciPy\n",
        "\n",
        "SciPy has a function called ``scipy.stats.linregress(x, y)`` which we can use to regress a line passing through a set of points. Let us go through an example to see how we can do that. Moreover, we will use our regressed line to analyze some properties of our data."
      ]
    },
    {
      "cell_type": "markdown",
      "metadata": {
        "id": "nJHO-WvikHOb"
      },
      "source": [
        "### 12.3.1 Create Artificial Data\n",
        "\n",
        "To keep things simple, let us generate some artificial data in Python and save it in a file called `ch12_linear_data_example.csv`. We have already run this code and saved this CSV file on web -- in the following steps, we will continue with this file on the web. However, you can change the following code the generate data in different forms and with different noise levels and observe how the different regression methods perform."
      ]
    },
    {
      "cell_type": "code",
      "metadata": {
        "id": "__82BZO8GfMO",
        "colab": {
          "base_uri": "https://localhost:8080/"
        },
        "outputId": "93d8c5f4-6090-4f8b-95b6-757cfd7cc8f2"
      },
      "source": [
        "import numpy as np\n",
        "import matplotlib.pyplot as plt\n",
        "import pandas as pd\n",
        "\n",
        "def plot_func(f, params, xs, legend):\n",
        "  ys = f(xs, *params) # This is called parameter unpacking -- Google and learn this\n",
        "  plt.plot(xs, ys, label=legend)\n",
        "\n",
        "def line_func(x, a, b):\n",
        "  \"\"\"Line function.\"\"\"\n",
        "  #(a,b) = params\n",
        "  return a*x + b\n",
        "\n",
        "xs = np.linspace(-10, 10, 100)\n",
        "ys = line_func(xs, 3, 0.5) + np.random.normal(0, 4, xs.size) # add random noise\n",
        "\n",
        "df = pd.DataFrame({'x': xs, 'y': ys})\n",
        "df.to_csv(\"ch12_linear_data_example.csv\")\n",
        "\n",
        "print(\"Created {0} many data points and saved them into CSV file.\".format(xs.size))"
      ],
      "execution_count": 9,
      "outputs": [
        {
          "output_type": "stream",
          "text": [
            "Created 100 many data points and saved them into CSV file.\n"
          ],
          "name": "stdout"
        }
      ]
    },
    {
      "cell_type": "markdown",
      "metadata": {
        "id": "mp0tpZ_u59FT"
      },
      "source": [
        "### 12.3.2 Download and Visualize Data\n",
        "\n",
        "Let us download the `ch12_linear_data.csv` file from web so that we can provide you the experience of a full data analysis pipeline."
      ]
    },
    {
      "cell_type": "code",
      "metadata": {
        "id": "HenzzFq3J5Ca",
        "colab": {
          "base_uri": "https://localhost:8080/"
        },
        "outputId": "4c1a7f51-a59e-47b1-e1ea-b49ccf56f38b"
      },
      "source": [
        "# Let us download our data \n",
        "!wget -nc https://raw.githubusercontent.com/sinankalkan/CENG240/master/figures/ch12_linear_data.csv\n",
        "\n",
        "# Import the necessary libraries\n",
        "import pandas as pd\n",
        "\n",
        "# Read the file named 'ch12_linear_data.csv'\n",
        "df = pd.read_csv('ch12_linear_data.csv')\n",
        "\n",
        "# Print the CSV file's contents:\n",
        "print(\"The CSV file contains the following:\\n\", df, \"\\n\")\n",
        "\n",
        "# Check the types of each column\n",
        "df.dtypes"
      ],
      "execution_count": 13,
      "outputs": [
        {
          "output_type": "stream",
          "text": [
            "--2021-06-21 17:13:27--  https://raw.githubusercontent.com/sinankalkan/CENG240/master/figures/ch12_linear_data.csv\n",
            "Resolving raw.githubusercontent.com (raw.githubusercontent.com)... 185.199.111.133, 185.199.110.133, 185.199.109.133, ...\n",
            "Connecting to raw.githubusercontent.com (raw.githubusercontent.com)|185.199.111.133|:443... connected.\n",
            "HTTP request sent, awaiting response... 200 OK\n",
            "Length: 4049 (4.0K) [text/plain]\n",
            "Saving to: ‘ch12_linear_data.csv’\n",
            "\n",
            "\rch12_linear_data.cs   0%[                    ]       0  --.-KB/s               \rch12_linear_data.cs 100%[===================>]   3.95K  --.-KB/s    in 0s      \n",
            "\n",
            "2021-06-21 17:13:28 (49.7 MB/s) - ‘ch12_linear_data.csv’ saved [4049/4049]\n",
            "\n",
            "The CSV file contains the following:\n",
            "     Unnamed: 0          x          y\n",
            "0            0 -10.000000 -29.198799\n",
            "1            1  -9.797980 -33.379918\n",
            "2            2  -9.595960 -25.661456\n",
            "3            3  -9.393939 -24.037193\n",
            "4            4  -9.191919 -25.264474\n",
            "..         ...        ...        ...\n",
            "95          95   9.191919  27.905021\n",
            "96          96   9.393939  24.494575\n",
            "97          97   9.595960  32.212389\n",
            "98          98   9.797980  28.511129\n",
            "99          99  10.000000  33.593768\n",
            "\n",
            "[100 rows x 3 columns] \n",
            "\n"
          ],
          "name": "stdout"
        },
        {
          "output_type": "execute_result",
          "data": {
            "text/plain": [
              "Unnamed: 0      int64\n",
              "x             float64\n",
              "y             float64\n",
              "dtype: object"
            ]
          },
          "metadata": {
            "tags": []
          },
          "execution_count": 13
        }
      ]
    },
    {
      "cell_type": "code",
      "metadata": {
        "id": "cbd4H0bTKxC2",
        "colab": {
          "base_uri": "https://localhost:8080/",
          "height": 312
        },
        "outputId": "7ba7d66a-0907-4a7b-9a9f-fcac68bc4f9a"
      },
      "source": [
        "# Let us visualize the data\n",
        "import matplotlib.pyplot as plt\n",
        "\n",
        "xs = df['x'][:].values\n",
        "ys = df['y'][:].values\n",
        "\n",
        "# Plot y vs. x\n",
        "plt.scatter(xs, ys) \n",
        "\n",
        "# Set the labels for x and y axes:\n",
        "plt.xlabel('x') \n",
        "plt.ylabel('y')\n",
        "\n",
        "# Set the title of the figure\n",
        "plt.title(\"y vs x\")\n"
      ],
      "execution_count": 14,
      "outputs": [
        {
          "output_type": "execute_result",
          "data": {
            "text/plain": [
              "Text(0.5, 1.0, 'y vs x')"
            ]
          },
          "metadata": {
            "tags": []
          },
          "execution_count": 14
        },
        {
          "output_type": "display_data",
          "data": {
            "image/png": "[encoded data removed]",
            "text/plain": [
              "<Figure size 432x288 with 1 Axes>"
            ]
          },
          "metadata": {
            "tags": [],
            "needs_background": "light"
          }
        }
      ]
    },
    {
      "cell_type": "markdown",
      "metadata": {
        "id": "_NVYv_FoMNin"
      },
      "source": [
        "We see that our data is rather noisy, though it more or less follows a linear function. Let us see whether we can capture that."
      ]
    },
    {
      "cell_type": "markdown",
      "metadata": {
        "id": "mA97SNJb6AIF"
      },
      "source": [
        "### 12.3.3 Fit a Linear Function with SciPy\n",
        "\n",
        "Now, let us fit a line (linear function) to our data using ``scipy.stats.linregress``. The specific method being used by this function is Least-Squares Regression which we briefly explained in Section 12.2."
      ]
    },
    {
      "cell_type": "code",
      "metadata": {
        "id": "vkdLxUrkKzwY",
        "colab": {
          "base_uri": "https://localhost:8080/"
        },
        "outputId": "8352d8c6-1d2b-4e30-9720-34d756fd8c0d"
      },
      "source": [
        "# Import stats module\n",
        "from scipy import stats\n",
        "\n",
        "# Fit a linear model:\n",
        "solution = stats.linregress(xs, ys)\n",
        "\n",
        "# Get the slope (a) and the intercept (b) in y = ax + b\n",
        "a_estimated = solution.slope\n",
        "b_estimated = solution.intercept\n",
        "\n",
        "print(\"The estimated solution is: y = %4f x + %4f\" % (a_estimated, b_estimated))"
      ],
      "execution_count": 15,
      "outputs": [
        {
          "output_type": "stream",
          "text": [
            "The estimated solution is: y = 2.963812 x + 0.442237\n"
          ],
          "name": "stdout"
        }
      ]
    },
    {
      "cell_type": "markdown",
      "metadata": {
        "id": "hddBPkbr6EUc"
      },
      "source": [
        "### 12.3.4 Analyze the Solution\n",
        "\n",
        "We have obtained a solution. Now, let us analyze how good the solution is. We can do that qualitatively (by visual inspection) or quantitatively (by looking at some numerical measures of how good the fit is).\n",
        "\n",
        "**1- Qualitative Analysis**. For regression, a qualitative analysis can be performed by plotting the data, the obtained solution and the correct solution. If the obtained solution goes through the data well and is close to the original solution in the graph, then we can visually confirm whether the solution looks acceptable.\n",
        "\n",
        "Let us do this for our example:"
      ]
    },
    {
      "cell_type": "code",
      "metadata": {
        "id": "b7h3xfrVNtGX",
        "colab": {
          "base_uri": "https://localhost:8080/",
          "height": 312
        },
        "outputId": "6e10df8d-3588-44af-f3e2-c11909686016"
      },
      "source": [
        "# Plot y vs. x\n",
        "plt.scatter(xs, ys)\n",
        "\n",
        "# Plot the estimated line\n",
        "plot_func(line_func, (a_estimated, b_estimated), xs, \"Estimated line\")\n",
        "\n",
        "# Plot the correct line \n",
        "# The data was generated from y = 3x + 0.5\n",
        "a_correct = 3\n",
        "b_correct = 0.5\n",
        "plot_func(line_func, (a_correct, b_correct), xs, \"Correct line\")\n",
        "\n",
        "# Set the labels for x and y axes:\n",
        "plt.xlabel('x') \n",
        "plt.ylabel('y')\n",
        "\n",
        "# Set the title of the figure\n",
        "plt.title(\"y vs x\")\n",
        "\n",
        "# Legend\n",
        "plt.legend()"
      ],
      "execution_count": 16,
      "outputs": [
        {
          "output_type": "execute_result",
          "data": {
            "text/plain": [
              "<matplotlib.legend.Legend at 0x7fd2e72a6f90>"
            ]
          },
          "metadata": {
            "tags": []
          },
          "execution_count": 16
        },
        {
          "output_type": "display_data",
          "data": {
            "image/png": "[encoded data removed]",
            "text/plain": [
              "<Figure size 432x288 with 1 Axes>"
            ]
          },
          "metadata": {
            "tags": [],
            "needs_background": "light"
          }
        }
      ]
    },
    {
      "cell_type": "markdown",
      "metadata": {
        "id": "zvWFdH_SpWc2"
      },
      "source": [
        "We can confirm that the obtained solution (blue line) goes through the original data points well and it is almost identical to the correct line, i.e. the line from which we generated the original $(x,y)$ pairs. So, our regression solution appears to be accurate visually.\n",
        "\n",
        "**2- Quantitative Analysis**. Qualitative analysis can be difficult sometimes and its judgment is subjective; i.e. different observers might draw different conclusions especially in cases where the solution is different from the correct solution. Therefore, in addition to the qualitative analysis like we did above, it is very common to measure the goodness of our solution with a number. \n",
        "\n",
        "Depending on the problem, different measures can be used. For regression, we frequently use the following three:\n",
        "\n",
        "1. *Mean Squared Error (MSE)*. For $N$ data points, assuming $\\hat{y}_i$ is the predicted value for $x_i$, MSE can be defined as follows:\n",
        "\n",
        "  $$\n",
        "    MSE = \\frac{1}{N} \\sum_{i=1}^N (y_i - \\hat{y}_i)^2,\n",
        "  $$\n",
        "  \n",
        "  which essentially accumulates the squared errors for each data point.\n",
        "  \n",
        "2. *Root Mean Squared Error (RMSE)*. RMSE is simply the square-root of MSE:\n",
        "\n",
        "  $$\n",
        "    RMSE = \\sqrt{\\frac{1}{N} \\sum_{i=1}^N (y_i - \\hat{y}_i)^2}.\n",
        "  $$\n",
        "\n",
        "3. *$R^2$ Error* (also called the coefficient of determination). $R^2$ is a normalized measure which considers the error of the \"correct\" solution as well. Since data can be noisy, this can be a better way to understand how good/bad our error value (MSE or RMSE) was. $R^2$ Error is defined as:\n",
        "\n",
        "  $$\n",
        "    R^2 = 1 - \\frac{\\textrm{MSE of estimates}}{\\textrm{MSE wrt. the mean of y}}\n",
        "    = 1 - \\frac{1/N \\sum_{i=1}^N (y_i - \\hat{y}_i)^2}{1/N \\sum_{i=1}^N (y_i - \\overline{y}_i)^2} = 1 - \\frac{\\sum_{i=1}^N (y_i - \\hat{y}_i)^2}{\\sum_{i=1}^N (y_i - \\overline{y})^2},\n",
        "  $$\n",
        "\n",
        "  where $\\overline{y}=1/N\\sum_i y_i$ is the mean of $y$ values. If $R^2=1$, that means MSE of the estimates is zero; i.e. we have obtained perfect regression. If $R^2=0$, all $y_i=\\overline{y}$; in other words, all estimates are the mean of the $y$ values, therefore the regression method did not find a good solution. If, on the other hand, $R^2<0$, that means the obtained solution is even worse than the mean $y_i$ values.\n",
        "\n",
        "  Now let us analyze our solution using these three metrics.\n"
      ]
    },
    {
      "cell_type": "code",
      "metadata": {
        "id": "j4adnmpoCrDr",
        "colab": {
          "base_uri": "https://localhost:8080/"
        },
        "outputId": "a66aa332-b046-4a28-88ad-cb740269a5b3"
      },
      "source": [
        "def MSE(estimated_y, correct_y):\n",
        "  \"\"\"\n",
        "    Mean Squared Error between the estimated_y and correct_y values.\n",
        "    Inputs are both numpy arrays.\n",
        "  \"\"\"\n",
        "  result = 0\n",
        "  N = estimated_y.size\n",
        "  for i in range(N):\n",
        "    result += (estimated_y[i] - correct_y[i]) ** 2\n",
        "  return result / N\n",
        "\n",
        "def RMSE(estimated_y, correct_y):\n",
        "  \"\"\"\n",
        "    Root Mean Squared Error between the estimated_y and correct_y values.\n",
        "    Inputs are both numpy arrays.\n",
        "  \"\"\"\n",
        "  return MSE(estimated_y, correct_y) ** 0.5\n",
        "\n",
        "def R_squared(estimated_y, correct_y):\n",
        "  \"\"\"\n",
        "    R^2 error between the estimated_y and correct_y values.\n",
        "    Inputs are both numpy arrays.\n",
        "  \"\"\"\n",
        "  MSE_of_estimates = MSE(estimated_y, correct_y)\n",
        "  mean_y = correct_y.mean()\n",
        "  mean_y_array = np.full(correct_y.size, mean_y)\n",
        "  MSE_wrt_mean_of_y = MSE(estimated_y, mean_y_array) # an array filled with mean-y\n",
        "  result = 1 - MSE_of_estimates / MSE_wrt_mean_of_y\n",
        "\n",
        "  return result\n",
        "\n",
        "estimated_y = xs * a_estimated + b_estimated\n",
        "correct_y = ys\n",
        "\n",
        "print(\"MSE Error: \", MSE(estimated_y, correct_y))\n",
        "print(\"RMSE Error: \", RMSE(estimated_y, correct_y))\n",
        "print(\"R-squared Error: \", R_squared(estimated_y, correct_y))"
      ],
      "execution_count": 17,
      "outputs": [
        {
          "output_type": "stream",
          "text": [
            "MSE Error:  14.710406962785715\n",
            "RMSE Error:  3.835414835814467\n",
            "R-squared Error:  0.950755415581623\n"
          ],
          "name": "stdout"
        }
      ]
    },
    {
      "cell_type": "markdown",
      "metadata": {
        "id": "iyoWvPM_FjAN"
      },
      "source": [
        "We see that we have obtained very low errors. Especially the $R^2$ value is very close to one, which suggests good approximation of the regressed line to the underlying solution. Note that since our data was noisy, it was not possible to obtain $R^2 = 1$."
      ]
    },
    {
      "cell_type": "markdown",
      "metadata": {
        "id": "-Vkek7m0_dKS"
      },
      "source": [
        "## 12.4 Non-linear Regression with SciPy\n",
        "\n",
        "Let us now see how we can perform non-linear regression."
      ]
    },
    {
      "cell_type": "markdown",
      "metadata": {
        "id": "PkduLV-2qIBg"
      },
      "source": [
        "### 12.4.1 Create Artificial Data\n",
        "\n",
        "To keep things simple, let us generate some artificial data in Python and save it in a file called `ch12_nonlinear_data_example.csv`. We have already run this code and saved this CSV file on web -- in the following steps, we will continue with this file on the web. However, you can change the following code the generate data in different forms and with different noise levels and observe how the different regression methods perform."
      ]
    },
    {
      "cell_type": "code",
      "metadata": {
        "id": "t7KjJ9d6Qhqs",
        "colab": {
          "base_uri": "https://localhost:8080/"
        },
        "outputId": "e5ce4358-180e-4f19-ca34-6faeb74f9690"
      },
      "source": [
        "import numpy as np\n",
        "import matplotlib.pyplot as plt\n",
        "import pandas as pd\n",
        "\n",
        "def nonlinear_f(xs, params):\n",
        "  (a,b) = params\n",
        "  return a*np.sin(xs)+b\n",
        "\n",
        "xs = np.linspace(-10, 10, 100)\n",
        "ys = nonlinear_f(xs, params=(3, 0.5)) + np.random.normal(0, 0.7, xs.size) # add random noise\n",
        "\n",
        "df = pd.DataFrame({'x': xs, 'y': ys})\n",
        "df.to_csv(\"ch12_nonlinear_data_example.csv\")\n",
        "\n",
        "print(\"Created {0} many data points and saved them into CSV file.\".format(xs.size))"
      ],
      "execution_count": 18,
      "outputs": [
        {
          "output_type": "stream",
          "text": [
            "Created 100 many data points and saved them into CSV file.\n"
          ],
          "name": "stdout"
        }
      ]
    },
    {
      "cell_type": "markdown",
      "metadata": {
        "id": "sleVzgSr9f5b"
      },
      "source": [
        "### 12.4.2 Download and Visualize Data\n",
        "\n",
        "Let us download the `ch12_linear_data.csv` file from web so that we can provide you the experience of a full data analysis pipeline."
      ]
    },
    {
      "cell_type": "code",
      "metadata": {
        "id": "LnGZzUzRWToE",
        "colab": {
          "base_uri": "https://localhost:8080/"
        },
        "outputId": "62310eeb-e13d-48de-b3b5-096330881b85"
      },
      "source": [
        "# Let us download our data \n",
        "!wget -nc https://raw.githubusercontent.com/sinankalkan/CENG240/master/figures/ch12_nonlinear_data.csv\n",
        "\n",
        "# Import the necessary libraries\n",
        "import pandas as pd\n",
        "\n",
        "# Read the file named 'ch12_nonlinear_data.csv'\n",
        "df = pd.read_csv('ch12_nonlinear_data.csv')\n",
        "\n",
        "# Print the CSV file's contents:\n",
        "print(\"The CSV file contains the following:\\n\", df, \"\\n\")\n",
        "\n",
        "# Check the types of each column\n",
        "df.dtypes"
      ],
      "execution_count": 19,
      "outputs": [
        {
          "output_type": "stream",
          "text": [
            "--2021-06-21 17:14:49--  https://raw.githubusercontent.com/sinankalkan/CENG240/master/figures/ch12_nonlinear_data.csv\n",
            "Resolving raw.githubusercontent.com (raw.githubusercontent.com)... 185.199.108.133, 185.199.109.133, 185.199.110.133, ...\n",
            "Connecting to raw.githubusercontent.com (raw.githubusercontent.com)|185.199.108.133|:443... connected.\n",
            "HTTP request sent, awaiting response... 200 OK\n",
            "Length: 4064 (4.0K) [text/plain]\n",
            "Saving to: ‘ch12_nonlinear_data.csv’\n",
            "\n",
            "\rch12_nonlinear_data   0%[                    ]       0  --.-KB/s               \rch12_nonlinear_data 100%[===================>]   3.97K  --.-KB/s    in 0s      \n",
            "\n",
            "2021-06-21 17:14:50 (35.7 MB/s) - ‘ch12_nonlinear_data.csv’ saved [4064/4064]\n",
            "\n",
            "The CSV file contains the following:\n",
            "     Unnamed: 0          x         y\n",
            "0            0 -10.000000  3.911998\n",
            "1            1  -9.797980  1.781296\n",
            "2            2  -9.595960  1.125093\n",
            "3            3  -9.393939  0.738523\n",
            "4            4  -9.191919 -0.343199\n",
            "..         ...        ...       ...\n",
            "95          95   9.191919  0.667528\n",
            "96          96   9.393939 -0.729794\n",
            "97          97   9.595960  0.643281\n",
            "98          98   9.797980 -1.533940\n",
            "99          99  10.000000 -0.760156\n",
            "\n",
            "[100 rows x 3 columns] \n",
            "\n"
          ],
          "name": "stdout"
        },
        {
          "output_type": "execute_result",
          "data": {
            "text/plain": [
              "Unnamed: 0      int64\n",
              "x             float64\n",
              "y             float64\n",
              "dtype: object"
            ]
          },
          "metadata": {
            "tags": []
          },
          "execution_count": 19
        }
      ]
    },
    {
      "cell_type": "code",
      "metadata": {
        "colab": {
          "base_uri": "https://localhost:8080/",
          "height": 312
        },
        "id": "3ecnToV9CK9b",
        "outputId": "23163271-d2d8-4924-aae0-266421cdc945"
      },
      "source": [
        "# Let us visualize the data\n",
        "import matplotlib.pyplot as plt\n",
        "\n",
        "xs = df['x'][:].values\n",
        "ys = df['y'][:].values\n",
        "\n",
        "# Plot y vs. x\n",
        "plt.scatter(xs, ys) \n",
        "\n",
        "# Set the labels for x and y axes:\n",
        "plt.xlabel('x') \n",
        "plt.ylabel('y')\n",
        "\n",
        "# Set the title of the figure\n",
        "plt.title(\"y vs x\")"
      ],
      "execution_count": 20,
      "outputs": [
        {
          "output_type": "execute_result",
          "data": {
            "text/plain": [
              "Text(0.5, 1.0, 'y vs x')"
            ]
          },
          "metadata": {
            "tags": []
          },
          "execution_count": 20
        },
        {
          "output_type": "display_data",
          "data": {
            "image/png": "[encoded data removed]",
            "text/plain": [
              "<Figure size 432x288 with 1 Axes>"
            ]
          },
          "metadata": {
            "tags": [],
            "needs_background": "light"
          }
        }
      ]
    },
    {
      "cell_type": "markdown",
      "metadata": {
        "id": "sn4G3o4E5s4k"
      },
      "source": [
        "### 12.4.3 Fitting a Non-linear Function with SciPy\n",
        "\n",
        "For non-linear regression, we will use `scipy.optimize.curve_fit` which internally performs Non-linear Least-squares Regression."
      ]
    },
    {
      "cell_type": "code",
      "metadata": {
        "id": "9KfWsRx_50QZ",
        "colab": {
          "base_uri": "https://localhost:8080/"
        },
        "outputId": "85d3b946-83da-4d20-aede-401e5ab411d7"
      },
      "source": [
        "# Import optimize module\n",
        "from scipy import optimize\n",
        "\n",
        "def nonlinear_f(x, a, b):\n",
        "    return  a * np.sin(x) + b\n",
        "\n",
        "# Fit a linear model:\n",
        "solution, _ = optimize.curve_fit(nonlinear_f, xs, ys, method='lm')\n",
        "\n",
        "print(\"The estimated solution is: \", solution)"
      ],
      "execution_count": 21,
      "outputs": [
        {
          "output_type": "stream",
          "text": [
            "The estimated solution is:  [3.11746172 0.48206522]\n"
          ],
          "name": "stdout"
        }
      ]
    },
    {
      "cell_type": "markdown",
      "metadata": {
        "id": "Xkgh27M0509a"
      },
      "source": [
        "### 12.4.4 Analyzing the Solution\n",
        "\n",
        "Similar to our analysis in Section 12.3.4, let us analyze our solution qualitatively and quantitatively.\n",
        "\n",
        "**1- Qualitative Analysis**. Let us first analyze the found solution qualitatively."
      ]
    },
    {
      "cell_type": "code",
      "metadata": {
        "id": "bkEMtPChKahz",
        "colab": {
          "base_uri": "https://localhost:8080/",
          "height": 312
        },
        "outputId": "8677d17b-66df-4560-c555-f9d1634aa81d"
      },
      "source": [
        "# Plot y vs. x\n",
        "plt.scatter(xs, ys)\n",
        "\n",
        "# Plot the estimated line\n",
        "plot_func(nonlinear_f, solution, xs, \"Estimated curve\")\n",
        "\n",
        "# Plot the correct curve\n",
        "plot_func(nonlinear_f, (3, 0.5), xs, \"Correct curve\")\n",
        "\n",
        "# Set the labels for x and y axes:\n",
        "plt.xlabel('x') \n",
        "plt.ylabel('y')\n",
        "\n",
        "# Set the title of the figure\n",
        "plt.title(\"y vs x\")\n",
        "\n",
        "# Legend\n",
        "plt.legend()"
      ],
      "execution_count": 22,
      "outputs": [
        {
          "output_type": "execute_result",
          "data": {
            "text/plain": [
              "<matplotlib.legend.Legend at 0x7fd2f52fab90>"
            ]
          },
          "metadata": {
            "tags": []
          },
          "execution_count": 22
        },
        {
          "output_type": "display_data",
          "data": {
            "image/png": "[encoded data removed]",
            "text/plain": [
              "<Figure size 432x288 with 1 Axes>"
            ]
          },
          "metadata": {
            "tags": [],
            "needs_background": "light"
          }
        }
      ]
    },
    {
      "cell_type": "markdown",
      "metadata": {
        "id": "spWfnZbGsNuS"
      },
      "source": [
        "Visually, it appears that our estimated solution is a very good fit for the data and it overlaps nicely with the correct function with which we had generated the data.\n",
        "\n",
        "**2- Quantitative Analysis**. Now, let us look at some the metrics we have defined in Section 12.3 to get a better feeling for how good our fit was:"
      ]
    },
    {
      "cell_type": "code",
      "metadata": {
        "colab": {
          "base_uri": "https://localhost:8080/"
        },
        "id": "W5lvUC60tGte",
        "outputId": "1f67b047-bffa-4ef1-dab0-332a04ab5870"
      },
      "source": [
        "estimated_y = nonlinear_f(xs, *solution) \n",
        "correct_y = ys\n",
        "\n",
        "print(\"MSE Error: \", MSE(estimated_y, correct_y))\n",
        "print(\"RMSE Error: \", RMSE(estimated_y, correct_y))\n",
        "print(\"R-squared Error: \", R_squared(estimated_y, correct_y))"
      ],
      "execution_count": 23,
      "outputs": [
        {
          "output_type": "stream",
          "text": [
            "MSE Error:  0.6748838046926272\n",
            "RMSE Error:  0.8215131190021419\n",
            "R-squared Error:  0.854011457622468\n"
          ],
          "name": "stdout"
        }
      ]
    },
    {
      "cell_type": "markdown",
      "metadata": {
        "id": "KCWtqHOmt4IZ"
      },
      "source": [
        "We see again that we have obtained low error values, despite the noise. However, we couldn't obtain perfect regression ($R^2=1$) since our data was very noisy."
      ]
    },
    {
      "cell_type": "markdown",
      "metadata": {
        "id": "hSaGL6IruMlh"
      },
      "source": [
        "## Important Concepts\n",
        "\n",
        "We would like our readers to have grasped the following crucial concepts and keywords from this chapter:\n",
        "\n",
        "* Regression problem and its uses.\n",
        "* Least-squares regression.\n",
        "* Linear vs. non-linear regression.\n",
        "* Linear and non-linear regression with SciPy.\n",
        "* Qualitatively and quantitatively analyzing a regression solution."
      ]
    },
    {
      "cell_type": "markdown",
      "metadata": {
        "id": "BfmosmA1upjC"
      },
      "source": [
        "## Further Reading\n",
        "\n",
        "* The Elements of Statistical Learning, a free book that provides a good coverage of linear and non-linear regression: https://web.stanford.edu/~hastie/ElemStatLearn/\n",
        "\n",
        "* Practical Regression and Anova using R, another free book that provides a practical coverage: https://cran.r-project.org/doc/contrib/Faraway-PRA.pdf"
      ]
    },
    {
      "cell_type": "markdown",
      "metadata": {
        "id": "K9_uRMOoF2L2"
      },
      "source": [
        "## Exercises\n",
        "\n",
        "1. For clarity, we implemented the error metrics in Section 12.3 using `for` loops. Re-implement them using NumPy functions without using explicit `for` or `while` loops.\n",
        "\n",
        "2. Generate 100 random $(x,y)$ values from a non-linear function, e.g. $y=x^2$, for $x\\in[-10, 10]$ and use the linear regression steps in  Section 12.3 to regress a linear solution. Qualitatively and quantitatively analyze the obtained solution.\n",
        "\n",
        "3. Choose your favorite city and download its temperature readings for two consecutive days from [meteoblue](https://content.meteoblue.com/en/content/view/full/2879). Download the readings as CSV files and load them using Pandas. Plot the data using Matplotlib and see the general shape of the function. Choose a suitable non-linear function and follow the steps in Section 12.4 to regress a function to the temperature data. Measure also how good the function represents the temperature readings of the second day."
      ]
    }
  ]
}