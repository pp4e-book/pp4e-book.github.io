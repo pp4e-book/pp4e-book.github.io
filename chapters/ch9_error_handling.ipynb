{
  "nbformat": 4,
  "nbformat_minor": 0,
  "metadata": {
    "colab": {
      "name": "ch9_error_handling.ipynb",
      "provenance": [],
      "collapsed_sections": [],
      "toc_visible": true
    },
    "kernelspec": {
      "name": "python3",
      "display_name": "Python 3"
    }
  },
  "cells": [
    {
      "cell_type": "markdown",
      "metadata": {
        "id": "l3rrXaPmqZFR"
      },
      "source": [
        "# Chapter 9 - Error Handling and Debugging\n",
        "\n",
        "As Turkish song says \"*There is no servant without fault, love me with the faults I have*\", we all make mistakes and programming is far from being an exception to this. It is a highly technical, error-intolerant task requiring full attention from the programmer. Even a single letter you mistype can produce in complete opposite of what you aim to get. The history of computing is full of examples on large of amounts of money wasted on small programming mistakes (banks losing millions due to penny roundings, satellites turning into most expensive fireworks, robots bricked on Mars surface etc). Even worse, lives of some people can depend on proper functioning of a program.\n",
        "\n",
        "For this reason, writing programs as error free as possible is an important challenge and responsibility for a programmer. Programming errors can be classified in three groups:\n",
        "\n",
        "1. Syntax errors\n",
        "1. Run-time errors\n",
        "1. Logical errors\n",
        " \n",
        "\n",
        " "
      ]
    },
    {
      "cell_type": "markdown",
      "metadata": {
        "id": "vqwqU19PnOIz"
      },
      "source": [
        "## 9.1 Types of Errors"
      ]
    },
    {
      "cell_type": "markdown",
      "metadata": {
        "id": "Jx2MEkdNnYzN"
      },
      "source": [
        "### 9.1.1 Syntax Errors\n",
        "\n",
        "Syntax errors are due to strict wellformedness requirements of programming languages. In a natural language essay, we can use no punctuation at all, we can use silly abbreviations, mix the ordering of words, make typing mistakes and still it will make sense to a reader (though your English teacher might reduce some points). \n",
        "\n",
        "Computer programs are entirely different. When a programming language specification tells you to define blocks based on indentation, to match parentheses properly, to follow certain statements with some certain punctuation (i.e. loops and functions and `:`), you have to obey that. Because our compilers and interpreters cannot convert a program with syntax errors into a machine understandable form.\n",
        " \n",
        "The first step of the Python interpreter reading your program is to break it up into parts and construct a machine-readable structure out of it. If it fails, you will get a syntax error, for example:"
      ]
    },
    {
      "cell_type": "code",
      "metadata": {
        "id": "YxN_7tOSBf7Q",
        "colab": {
          "base_uri": "https://localhost:8080/",
          "height": 132
        },
        "outputId": "f539084b-7da3-4d43-8249-ccb87c7fb3a1"
      },
      "source": [
        "for i in range(10)\n",
        "  print(i)"
      ],
      "execution_count": null,
      "outputs": [
        {
          "output_type": "error",
          "ename": "SyntaxError",
          "evalue": "ignored",
          "traceback": [
            "\u001b[0;36m  File \u001b[0;32m\"<ipython-input-1-12d72cac235a>\"\u001b[0;36m, line \u001b[0;32m1\u001b[0m\n\u001b[0;31m    for i in range(10)\u001b[0m\n\u001b[0m                      ^\u001b[0m\n\u001b[0;31mSyntaxError\u001b[0m\u001b[0;31m:\u001b[0m invalid syntax\n"
          ]
        }
      ]
    },
    {
      "cell_type": "code",
      "metadata": {
        "id": "GQbwknBuBjI8",
        "colab": {
          "base_uri": "https://localhost:8080/",
          "height": 132
        },
        "outputId": "0bbe799b-793a-4394-aebc-8119d877d232"
      },
      "source": [
        "x = float(input())\n",
        "a = ((x+5)*12+4"
      ],
      "execution_count": null,
      "outputs": [
        {
          "output_type": "error",
          "ename": "SyntaxError",
          "evalue": "ignored",
          "traceback": [
            "\u001b[0;36m  File \u001b[0;32m\"<ipython-input-2-dead5b360d91>\"\u001b[0;36m, line \u001b[0;32m2\u001b[0m\n\u001b[0;31m    a = ((x+5)*12+4\u001b[0m\n\u001b[0m                   ^\u001b[0m\n\u001b[0;31mSyntaxError\u001b[0m\u001b[0;31m:\u001b[0m invalid syntax\n"
          ]
        }
      ]
    },
    {
      "cell_type": "code",
      "metadata": {
        "id": "yNHOIyx_B0Q8",
        "colab": {
          "base_uri": "https://localhost:8080/",
          "height": 132
        },
        "outputId": "1cbc0ce3-e126-4f6e-d847-76ea5e302356"
      },
      "source": [
        "s = 0\n",
        "for i in range(10):\n",
        "  s += i\n",
        "    print(i)"
      ],
      "execution_count": null,
      "outputs": [
        {
          "output_type": "error",
          "ename": "IndentationError",
          "evalue": "ignored",
          "traceback": [
            "\u001b[0;36m  File \u001b[0;32m\"<ipython-input-3-c3ef5d622e47>\"\u001b[0;36m, line \u001b[0;32m4\u001b[0m\n\u001b[0;31m    print(i)\u001b[0m\n\u001b[0m    ^\u001b[0m\n\u001b[0;31mIndentationError\u001b[0m\u001b[0;31m:\u001b[0m unexpected indent\n"
          ]
        }
      ]
    },
    {
      "cell_type": "code",
      "metadata": {
        "id": "fOP_-hz1B9BP",
        "colab": {
          "base_uri": "https://localhost:8080/",
          "height": 132
        },
        "outputId": "5f2cf958-e1fc-410e-9ae6-a06cea895983"
      },
      "source": [
        "while x = 4:\n",
        "  s += x"
      ],
      "execution_count": null,
      "outputs": [
        {
          "output_type": "error",
          "ename": "SyntaxError",
          "evalue": "ignored",
          "traceback": [
            "\u001b[0;36m  File \u001b[0;32m\"<ipython-input-4-befcf7769cec>\"\u001b[0;36m, line \u001b[0;32m1\u001b[0m\n\u001b[0;31m    while x = 4:\u001b[0m\n\u001b[0m            ^\u001b[0m\n\u001b[0;31mSyntaxError\u001b[0m\u001b[0;31m:\u001b[0m invalid syntax\n"
          ]
        }
      ]
    },
    {
      "cell_type": "markdown",
      "metadata": {
        "id": "ZZh1WmRArhTX"
      },
      "source": [
        "In the examples above, syntax errors are:\n",
        " \n",
        "1. `:` is missing at the end of the `for` loop.\n",
        "\n",
        "1. The first parenthesis does not have a matching closing parenthesis.\n",
        "\n",
        "1. Different indentation levels are used in the loop body.\n",
        "\n",
        "1. `while` expects a boolean expression but an assignment is given (`=` is used instead of `==`).\n",
        "\n",
        "These are only a small sample of large number of possible syntax errors one can do.\n",
        "\n",
        "Syntax errors are the most innocent errors since you are notified of the error immediately when you start running your program. Running your program once will give you the exact spot (though, sometimes parentheses and quote matching can be non-trivial) in the error output. If you have learnt the syntax of your language, you can fix it with a small effort."
      ]
    },
    {
      "cell_type": "markdown",
      "metadata": {
        "id": "UlTZMe3TCMJx"
      },
      "source": [
        "### 9.1.2 Type errors\n",
        "\n",
        "Python is an interpreted language and it does not make strict type checks like a compiler would check type compatibility at compile time. Though, when it comes to performing an operation that is not compatible with the current type of a variable/data, Python will complain. For example, when you try to override a string element with an integer value, use an integer on a string context, select an element out of a float variables etc., you will get an error:\n",
        "\n",
        "```python\n",
        "astr = 'hello'\n",
        "bflt = 4.56\n",
        "cdict = {'a':4, 'b':5}\n",
        "\n",
        "print(astr ** 3)       # second power of a string\n",
        "print(bflt[1])         # select first member of a float\n",
        "print(cdict * 2)       # multiply a dictionary by two\n",
        "cdict < astr           # compare a dictionary with a string\n",
        "```\n",
        "\n",
        "These will lead to the following errors:\n",
        "```python\n",
        ">>> print(astr ** 3)\n",
        "Traceback (most recent call last):\n",
        "  File \"<stdin>\", line 1, in <module>\n",
        "TypeError: unsupported operand type(s) for ** or pow(): 'str' and 'int'\n",
        ">>> print(bflt[1]) \n",
        "Traceback (most recent call last):\n",
        "  File \"<stdin>\", line 1, in <module>\n",
        "TypeError: 'float' object is not subscriptable\n",
        ">>> print(cdict * 2)\n",
        "Traceback (most recent call last):\n",
        "  File \"<stdin>\", line 1, in <module>\n",
        "TypeError: unsupported operand type(s) for *: 'dict' and 'int'\n",
        ">>> cdict < astr\n",
        "Traceback (most recent call last):\n",
        "  File \"<stdin>\", line 1, in <module>\n",
        "TypeError: '<' not supported between instances of 'dict' and 'str'\n",
        "```\n",
        "\n",
        "Compiled languages and some interpreters enforce type compatibility at compile time and treat all such errors as if they are syntax errors, providing a safer programming experience at run time. However, Python and most other interpreters wait until command is first executed and raise the error at the execution time, causing a **run-time error**.\n"
      ]
    },
    {
      "cell_type": "markdown",
      "metadata": {
        "id": "S-rz2QOguxoJ"
      },
      "source": [
        "### 9.1.3 Run-Time Errors\n",
        "\n",
        "Run-time errors are more sneaky compared to syntax and other compile-time errors. Your program starts to execute silently, visit many loops and functions without an error, produce some intermediate output, and suddenly, in the most unexpected moment, it raises an error and you get a disappointing error text instead of the decent result output that you expected.\n",
        "\n",
        "The following example gets an input value and counts how many of the integers in the range $[1, 1000]$ are divisible by the input value. "
      ]
    },
    {
      "cell_type": "code",
      "metadata": {
        "id": "_9ModN81U6xM"
      },
      "source": [
        "\n",
        "def divisible(m, n):\n",
        "  return m % n == 0\n",
        "    \n",
        "def count(m):\n",
        "  sum = 0\n",
        "  for i in range(1,1000):\n",
        "    if divisible(i, m):\n",
        "      sum += 1\n",
        "\n",
        "  return sum\n",
        "\n",
        "value = int(input())\n",
        "print('input value is:', value)\n",
        "print(value,' divides ', count(value), ' many integers in range [1, 1000]')"
      ],
      "execution_count": null,
      "outputs": []
    },
    {
      "cell_type": "markdown",
      "metadata": {
        "id": "l3jkpLX2U2hp"
      },
      "source": [
        "It works without any problem for non-zero input values. However if you enter `0`, it outputs:\n"
      ]
    },
    {
      "cell_type": "code",
      "metadata": {
        "id": "ClG3K6vpTy-H",
        "colab": {
          "base_uri": "https://localhost:8080/",
          "height": 444
        },
        "cellView": "form",
        "outputId": "aefd13f5-8752-4ec0-f601-252787ec0fd1"
      },
      "source": [
        "#@title Code Traceback\n",
        "%%HTML\n",
        "<html>\n",
        "<div style=\"background-color: #fff0f0; border: solid black 1px; width:800px\">\n",
        "<pre>\n",
        "input value is: 0\n",
        "---------------------------------------------------------------------------<br/>\n",
        "<span style=\"font-weight: bold; color: #ff0000\">ZeroDivisionError</span>                         Traceback (most recent call last)<br/>\n",
        "<ipython-input-4-ab9c3a6769a1> in <module>()\n",
        "     12 value = int(input())\n",
        "     13 print('input value is:', value)\n",
        "<span style=\"font-weight: bold; color: #00ff00\">---></span> 14 print(value,' divides ', count(value), ' many integers in range [1, 1000]')<br/>\n",
        "<ipython-input-4-ab9c3a6769a1> in count(m)\n",
        "      5   sum = 0\n",
        "      6   for i in range(1,1000):\n",
        "<span style=\"font-weight: bold; color: #00ff00\">----></span> 7     if divisible(i,m):\n",
        "      8       sum += 1\n",
        "      9 <br/>\n",
        "<ipython-input-4-ab9c3a6769a1> in divisible(m, n)\n",
        "      1 def divisible(m, n):\n",
        "<span style=\"font-weight: bold; color: #00ff00\">----></span> 2   return m % n == 0\n",
        "      3 \n",
        "      4 def count(m):\n",
        "      5   sum = 0<br/>\n",
        "<span style=\"font-weight: bold; color: #ff0000\">ZeroDivisionError</span>: integer division or modulo by zero\n",
        "</pre>\n",
        "</div>\n",
        "</html>"
      ],
      "execution_count": 1,
      "outputs": [
        {
          "output_type": "display_data",
          "data": {
            "text/html": [
              "<html>\n",
              "<div style=\"background-color: #fff0f0; border: solid black 1px; width:800px\">\n",
              "<pre>\n",
              "input value is: 0\n",
              "---------------------------------------------------------------------------<br/>\n",
              "<span style=\"font-weight: bold; color: #ff0000\">ZeroDivisionError</span>                         Traceback (most recent call last)<br/>\n",
              "<ipython-input-4-ab9c3a6769a1> in <module>()\n",
              "     12 value = int(input())\n",
              "     13 print('input value is:', value)\n",
              "<span style=\"font-weight: bold; color: #00ff00\">---></span> 14 print(value,' divides ', count(value), ' many integers in range [1, 1000]')<br/>\n",
              "<ipython-input-4-ab9c3a6769a1> in count(m)\n",
              "      5   sum = 0\n",
              "      6   for i in range(1,1000):\n",
              "<span style=\"font-weight: bold; color: #00ff00\">----></span> 7     if divisible(i,m):\n",
              "      8       sum += 1\n",
              "      9 <br/>\n",
              "<ipython-input-4-ab9c3a6769a1> in divisible(m, n)\n",
              "      1 def divisible(m, n):\n",
              "<span style=\"font-weight: bold; color: #00ff00\">----></span> 2   return m % n == 0\n",
              "      3 \n",
              "      4 def count(m):\n",
              "      5   sum = 0<br/>\n",
              "<span style=\"font-weight: bold; color: #ff0000\">ZeroDivisionError</span>: integer division or modulo by zero\n",
              "</pre>\n",
              "</div>\n",
              "</html>"
            ],
            "text/plain": [
              "<IPython.core.display.HTML object>"
            ]
          },
          "metadata": {
            "tags": []
          }
        }
      ]
    },
    {
      "cell_type": "markdown",
      "metadata": {
        "id": "G5XnkjffVC2Q"
      },
      "source": [
        "This output is called error **Traceback**. When a run-time error occurs, you will get one of these and the execution of the program will be terminated. Depending on the settings, the output may be more brief but you will get line numbers and the line leading to the error.\n",
        "\n",
        "The reason for this example error is called an **Exception** and colored red in the above output. It is given in the first line and repeated with explanation in the last line. Traceback also reports the functions involving the error, from the outermost to the innermost. Each arrow (colored green) marks the program line causing the error. The last item in the traceback is the actual position where the error occurred; the 2$^{nd}$ line having `return m % n == 0` in this case.  The `divisible()` function containing the error line is called by the 7$^{th}$ line, the `count()` function, which is called by 14$^{th}$ line of the program. By looking at the error output, you will see the whole chain of calls that lead your program to the error state. The last one is the most important one, where  Python tried to execute an operation and failed.\n",
        "\n",
        "The reason for failure is `ZeroDivisionError` in this case. If you trace the program with input value 0, you will see that Python tried to evaluated `m % 0 == 0` for some `m` value. The remainder operator is division based and dividing something by 0 is impossible mathematically. All programming languages reject this operation by a run-time error, and this is the Python style.\n",
        "\n",
        "The following are the most common exceptions and run-time errors in Python:\n",
        "\n",
        "| Exception       | Reason                        |\n",
        "|---|---|\n",
        "| **KeyboardInterrupt** |  User presses `Ctrl-C`; not an error but user intervention|\n",
        "| **ZeroDivisionError** |  Right-hand side of `/` or `%` is 0 |\n",
        "| **AttributeError**    |  Object/class does not have a member |\n",
        "| **EOFError**          | `input()` function gets End-of-Input by user|\n",
        "| **IndexError**        |  Container index is not valid (negative or larger than length)|\n",
        "| **KeyError**          | `dict` has no such key  |\n",
        "| **FileNotFoundError** | The target file of `open()` does not exist |\n",
        "| **TypeError**         | The operation is not supported for the given types |\n",
        "| **ValueError**        | The number of parameters of a function is invalid (i.e. less than defined) |\n",
        "\n",
        "The following code illustrates each of these errors (except for the user-generated ones):\n",
        "\n",
        "```python\n",
        "b = 0\n",
        "a = a / b                # ZeroDivisionError\n",
        "\n",
        "x = [1,2,3]\n",
        "print(x.length)          # AttributeError: lists does not have a length attribute (use len(x))\n",
        "\n",
        "print(x[4])              # IndexError: last valid index of list x is 2 \n",
        "\n",
        "person = { 'name' : 'Han', 'surname': 'Solo'}\n",
        "print(person['Name'])    # KeyError: person does not have 'Name' key but 'name'\n",
        "\n",
        "fp = open(\"example.txt\") # FileNotFoundError: file \"example.txt\" does not exist\n",
        "\n",
        "print([1,2,3] / 12)      # TypeError: Division is not defined for lists\n",
        "\n",
        "def f(x, y):\n",
        "  return x*x+y\n",
        "\n",
        "print(f(5))              # ValueError: Only one element is supplied instead of 2.\n",
        "\n",
        "```"
      ]
    },
    {
      "cell_type": "markdown",
      "metadata": {
        "id": "VinrjStxfHOn"
      },
      "source": [
        "### 9.1.4 Logical Errors\n",
        "\n",
        "This is the worst among all errors because Python does not raise an error. It single-mindedly keeps running your program; however, your program has a mistake about what it intends to compute. In other words, it simply does not do what it is supposed to do because of an error. \n",
        "\n",
        "Such an error can be due to a small typo, improper nesting of blocks, bad initialization of variables, and many other reasons. However, the code segment containing the error has correct syntax and hence, it does not cause a run-time error. As a result, you will not know such an error exists until you see some problems in your output.\n",
        "\n",
        "The following are a few examples for logical errors:\n",
        "\n",
        "```python\n",
        "y = x / x+1             # you meant y = x / (x+1), forgetting about precedence\n",
        "\n",
        "lastresult = 0\n",
        "def missglobal(x):                           \n",
        "  result = x*x+1                  # you intend to update the global variable\n",
        "  if lastresult != result:        # but you assign a local variable instead\n",
        "    lastresult = result           # you should have used \"global lastresult\"\n",
        "                                \n",
        "\n",
        "def returnsnothing(x, y):\n",
        "  y = x*x+y*y\n",
        "  if x <= y:\n",
        "    return x                      # if x > y, the function returns nothing\n",
        "print(returnsnothing(0.1, 0.1))   # does not have any value. prints \"None\"\n",
        "\n",
        "s = 1\n",
        "while i < n:                      # you forgot incrementing i as i+=1\n",
        "   s += s*x/i                     # loop will run forever. \"infinite loop\"\n",
        "\n",
        "```\n"
      ]
    },
    {
      "cell_type": "markdown",
      "metadata": {
        "id": "NTxEn4LU3PIB"
      },
      "source": [
        "## 9.2 How to Work with Errors\n",
        "\n",
        "Errors are unavoidable in programming. As you get experience, they will decrease but they will still be there. Fortunately, we have methods to have less errors but completely getting rid of them is not possible.\n",
        "\n",
        "The following is a list of strategies for eliminating errors:\n",
        "\n",
        "1. Program with care\n",
        "1. Place controls in your code\n",
        "1. Handle exceptions\n",
        "1. Write verification code and raise exceptions\n",
        "1. Debug your program\n",
        "1. Write test cases\n",
        "\n",
        "Those strategies can be applied by programmers with different experience levels. In the extreme case, assuring quality of programs and software testing are important professions of the software engineering discipline and handled by dedicated engineers."
      ]
    },
    {
      "cell_type": "markdown",
      "metadata": {
        "id": "PI93RXk43WMp"
      },
      "source": [
        "### 9.2.1 Program with Care\n",
        "\n",
        "The best way to write error-free programs is not to cause one in the first place. Instead of cleaning your living room every day, you may just choose not to throw garbage around. Programming is similar, the great percentage of errors are due to the careless acts of a programmer.\n",
        "\n",
        "Programming is **not** an evolutionary process where you start from an ugly code and make it better and better as you correct errors. This way of programming is possible but not efficient. You better spend some time before starting to write code to to design your solution and develop a strategy: which functions you need, which data structures you use, which algorithms you use, and which order you will write the code. It is a good practice to divide your problem into pieces (functions for example). Write one function at a time and test it before going into the next step.\n",
        "\n",
        "This strategy will get better as you become a more experienced programmer but nothing stops you from paying more attention on your first day of coding."
      ]
    },
    {
      "cell_type": "markdown",
      "metadata": {
        "id": "Ws9BCPkeR2P9"
      },
      "source": [
        "### 9.2.2 Place Controls in Your Code\n",
        "\n",
        "The values that a variable can have or a function may return are not known in advance. Especially, what input user may provide is completely untrustable. Also, there are other environmental issues like existence of a file.\n",
        "\n",
        "If you have such an untrustable value, the next operation may fail as a result of it like:\n",
        "\n",
        "```python\n",
        "a = [1,2,3]\n",
        "age = {'Han': 30, 'Leia': 20, 'Luke': 20}\n",
        "\n",
        "# CASE 1\n",
        "n = int(input())\n",
        "print(a[n])          # will fail for n > 2 or n < -2\n",
        "\n",
        "# CASE 2\n",
        "name = input()\n",
        "print(age[name])     # will fail names other than 'Han', 'Leia', 'Luke'\n",
        "\n",
        "# CASE 3\n",
        "x = float(input())\n",
        "y = math.sqrt(x)     # will fail for x < 0\n",
        "y = 1 / x            # will fail for x == 0\n",
        "```\n",
        "\n",
        "In order to deal with such errors, you can check all values, especially user supplied ones. Checking all input values before starting a computation is called **Input Sanitization**.  \n",
        "\n",
        "```python\n",
        "# CASE 1 with sanitization\n",
        "n = int(input())\n",
        "if 0 <= n < len(a):\n",
        "  print(a[n])        \n",
        "else:\n",
        "  print(\"n is not valid:\", n)\n",
        "\n",
        "# CASE 2 with sanitization\n",
        "name = input()\n",
        "if name in age:      # membership test for dictionaries\n",
        "  print(age[name])\n",
        "else:\n",
        "  print(\"dictionary does not have member:\", name)\n",
        "\n",
        "# CASE 3 with sanitization\n",
        "x = float(input())\n",
        "if x >= 0:\n",
        "  y = math.sqrt(x)   \n",
        "else:\n",
        "  print(\"invalid for sqrt operation: \", x)\n",
        "\n",
        "if x != 0:\n",
        "  y = 1 / x \n",
        "else:\n",
        "  print(\"divisor cannot be 0\")\n",
        "```\n",
        "\n",
        "Writing such conditions look like a tedious job at first, but dealing with them while your program is running is much worse for users. If you are writing a program that will be really useful, you have to do these types of input checks."
      ]
    },
    {
      "cell_type": "markdown",
      "metadata": {
        "id": "4KkrwyuYeU9C"
      },
      "source": [
        "### 9.2.3 Handle Exceptions\n",
        "\n",
        "This is an alternative to putting check conditions in your code. Sometimes there are too many conditions, one for each step of your computation, so that each line of code opens a new `if` block and nests like the branches of a tree. Instead of writing whole nested-sequence of `if ... else` statements, exceptions give you a chance to handle all errros in the same place. Especially, they allow you to handle the errors in the caller function rather than the original place where error occurred. Before we can see how this works, we have to learn a new syntax first:\n",
        "\n",
        "```python\n",
        "try:\n",
        "  ......    # a block with possible errors \n",
        "  ......    # if there are function calls here\n",
        "  ......    # and error occurs in the function, we can handle error here\n",
        "except exceptionname:     # exceptionname is optional\n",
        "  .....     # this is error handling block.\n",
        "  .....     # when there is an error, execution jumps here\n",
        "```\n",
        "\n",
        "This `try-except` block has two parts: A group of code (after `try:`) that possibly generates run-time errors and a second or more blocks to handle the errors. When the first error occurs in the `try` part, the execution jumps to the `except` part. If `except` part matches the corresponding block, it is executed. Multiple `except` blocks are allowed for different kinds of exceptions. `except :`, without an exception name, matches all errors and can be used to handle all of them one block.\n",
        "\n",
        "The following is the same example in the previous section, but errors are handled in the same place."
      ]
    },
    {
      "cell_type": "code",
      "metadata": {
        "id": "HSG2dNgg3Sgi",
        "colab": {
          "base_uri": "https://localhost:8080/",
          "height": 52
        },
        "outputId": "288d58be-7cf4-4e65-b13a-e33edc406511"
      },
      "source": [
        "import math\n",
        "\n",
        "a = [1,2,3]\n",
        "age = {'Han': 30, 'Leia': 20, 'Luke': 20}\n",
        "\n",
        "try:\n",
        "  n = int(input())\n",
        "  print(a[n])          # will fail for n > 2 or n < -2\n",
        " \n",
        "  name = input()\n",
        "  print(age[name])     # will fail names other than 'Han', 'Leia', 'Luke'\n",
        " \n",
        "  x = float(input())\n",
        "  y = math.sqrt(x)     # will fail for x < 0\n",
        "  y = 1 / x            # will fail for x == 0\n",
        "except IndexError:\n",
        "  print('List index is not valid')\n",
        "except KeyError:\n",
        "  print('Dictionary does not have such key')\n",
        "except ValueError:\n",
        "  print('Invalid value for square root operation')\n",
        "except ZeroDivisionError:\n",
        "  print('Division by zero does not have value')\n",
        "except:\n",
        "  print('None of the known errors. Something happened even if nothing happened')"
      ],
      "execution_count": null,
      "outputs": [
        {
          "output_type": "stream",
          "text": [
            "10\n",
            "List index is not valid\n"
          ],
          "name": "stdout"
        }
      ]
    },
    {
      "cell_type": "markdown",
      "metadata": {
        "id": "FdCplcY0smUm"
      },
      "source": [
        "You can try the above example with different inputs:\n",
        "\n",
        "1. `-1`\n",
        "1. `2 'Obi'`\n",
        "1. `2 'Han' -2`\n",
        "1. `2 'Han' 0`\n",
        "1. `2 'Han' 1`\n",
        "\n",
        "The first will have `a[n]` raise an `IndexError`. The second will have `age[name]` raise a `KeyError`. The third will have `sqrt(x)` raise a `ValueError`. The fourth will have `1 / x` raise a `ZeroDivisionError`. The last one will have no error and finish the `try` block and continue with the next instruction jumping over `except` blocks. You can also create exceptions with `raise` statement. `raise ValueError` will create the error.\n",
        "\n",
        "Exceptions save you from nested `if .. else` statements for data validation, e.g.:\n",
        "\n",
        "```python\n",
        "if cond1:\n",
        "   ..1..\n",
        "   if cond2:\n",
        "     ..2..\n",
        "     if cond3:\n",
        "       ..3..\n",
        "       ..4..       # success at last\n",
        "     else:\n",
        "       # report error\n",
        "   else:\n",
        "     # report error\n",
        "else:\n",
        "  # report error\n",
        "```\n",
        "\n",
        "is harder to read compared to the following:\n",
        "\n",
        "```python\n",
        "try:\n",
        "  if !cond1:\n",
        "    raise Error\n",
        "\n",
        "  ..1..\n",
        "  \n",
        "  if !cond2:\n",
        "    raise Error\n",
        "  \n",
        "  ..2..\n",
        "  \n",
        "  if !cond3:\n",
        "    raise Error\n",
        "  \n",
        "  ..3..\n",
        "  ..4..  # success\n",
        "except :\n",
        "  ... Error handling\n",
        "```\n",
        "\n",
        "which is more flat and allows you to focus on the actual code.\n",
        "    "
      ]
    },
    {
      "cell_type": "markdown",
      "metadata": {
        "id": "SmklHEhaAkmm"
      },
      "source": [
        "### 9.2.4 Write verification code and raise exceptions\n",
        "\n",
        "Even if you sanitize user input and check all arguments for valid values, your program can still have logical errors and it might calculate incorrect intermediate/final values. If your program consists of multiple steps, a logical error in step one will cause step two to calculate an incorrect value and this will create a *snowball effect*, potentially causing all steps and the last to fail.\n",
        "\n",
        "For example, you wrote a function for solving second-order equations $a x^2 + b x + c = 0$, named it `solvesecond(a,b,c)` which returns `(x1, x2)` as the roots. You are (*almost*) sure that you always send correct `a,b,c` values to this function. However, it won't hurt if you add a check like the following:\n",
        "\n",
        "```python\n",
        "def solvesecond(a,b,c):\n",
        "  det = b*b - 4*a*c\n",
        "  # the following is the verification code\n",
        "  if det < 0:\n",
        "    print(\"Equation has no real roots for\", a, b, c)\n",
        "    raise ValueError\n",
        "  ....\n",
        "  ...\n",
        "```\n",
        "\n",
        "The `math.sqrt` function would have raised the exception anyway. However, you add extra error message about what caused the problem. Also, in logical errors, there is no run-time error and this error may be as serious as finding imaginary roots."
      ]
    },
    {
      "cell_type": "markdown",
      "metadata": {
        "id": "xwgu_UZWAtGf"
      },
      "source": [
        "### 9.2.5 Debug Your Code\n",
        "\n",
        "Finding the position and the cause of a programming error and fixing it is called **debugging**. It involves pinpointing the position of the error, reasons causing the error and updating the code so that it does not cause the error any more.\n",
        "\n",
        "Debugging methods are explained in detail in its own section below."
      ]
    },
    {
      "cell_type": "markdown",
      "metadata": {
        "id": "6Tuy37d5Bkp1"
      },
      "source": [
        "### 9.2.6 Write Test Cases\n",
        "\n",
        "In order to make sure your program is working properly, in other words, it contains no logical errors, you need to test it. Testing is an important yet non-trivial part of all engineering disciplines. \n",
        "\n",
        "In order to test a program, you should create a set of inputs, run your program for each input case and collect the outputs. If there is a way of verifying the outputs, you can verify them. For example, if you solve an equation, you substitute the found variable in the equation to test if it holds:\n",
        "\n",
        "```python\n",
        "(x1, x2) = findrootsecond(a,b,c)\n",
        "\n",
        "if a*x1*x1 + b*x1 + c != 0 or a*x2*X2 + b*x2 +c != 0:\n",
        "   print('test failed for', a, b, c, 'roots', x1, x2)\n",
        "```\n",
        "\n",
        "You can generate millions of such numbers and automatically verify them.\n",
        "\n",
        "If the problem is not verifiable, you can get a set of known solutions and compare your solutions against the known solutions."
      ]
    },
    {
      "cell_type": "markdown",
      "metadata": {
        "id": "dYgXuoiC1pna"
      },
      "source": [
        "## 9.3 Debugging\n",
        "\n",
        "Debugging is an act of looking for errors in a code, finding what causes the errors and correcting them. As even the modest programs can go as large as hundreds of lines of code, debugging is not an easy task. Even if a run-time error gives you the exact location of the error, the variable value causing the error can be owing to a different place in your code and you will not get the variable state of the program at the moment.\n",
        "\n",
        "Debugging is an iterative activity. You divide your program into parts and eliminate each part one by one, ruling out the error: Narrow down all possibilities step by step to find the exact step where you made the mistake.\n",
        "Run-time errors help you speed-up this process. \n",
        "\n",
        "There are several methods for debugging. A programmer may use one or more of them for debugging.\n",
        "\n",
        "The following is a sample program with an error:\n"
      ]
    },
    {
      "cell_type": "code",
      "metadata": {
        "id": "trYZH1BgsAaz",
        "colab": {
          "base_uri": "https://localhost:8080/",
          "height": 486
        },
        "outputId": "0a6c16a7-efd1-4718-80c6-4c122648a32b"
      },
      "source": [
        "def startswith(srcstr, tarstr):\n",
        "    '''check if tarstr starts with srcstr\n",
        "      like srcstr=\"abra\" tarstr=\"abracadabra\" '''\n",
        "    for i in range(len(srcstr)): # check all characters of srcstr\n",
        "        if srcstr[i] != tarstr[i]:  # if does not match return False\n",
        "            return False\n",
        "    return True   # if False is not returned yet, it matches\n",
        "\n",
        "\n",
        "def findstr(srcstr, tarstr):\n",
        "    '''Find position of srcstr in tarstr'''\n",
        "    for i in range(len(tarstr)):\n",
        "        # if scrstr is same as tarstr from i to rest\n",
        "        # return i\n",
        "        if startswith(srcstr, tarstr[i:]):     \n",
        "                return i\n",
        "    return -1\n",
        "\n",
        "print(findstr(\"ada\", \"abracadabra\"))\n",
        "print(findstr(\"aba\", \"abracadabra\"))\n"
      ],
      "execution_count": null,
      "outputs": [
        {
          "output_type": "stream",
          "text": [
            "5\n"
          ],
          "name": "stdout"
        },
        {
          "output_type": "error",
          "ename": "IndexError",
          "evalue": "ignored",
          "traceback": [
            "\u001b[0;31m---------------------------------------------------------------------------\u001b[0m",
            "\u001b[0;31mIndexError\u001b[0m                                Traceback (most recent call last)",
            "\u001b[0;32m<ipython-input-3-b00405b7708c>\u001b[0m in \u001b[0;36m<module>\u001b[0;34m()\u001b[0m\n\u001b[1;32m     18\u001b[0m \u001b[0;34m\u001b[0m\u001b[0m\n\u001b[1;32m     19\u001b[0m \u001b[0mprint\u001b[0m\u001b[0;34m(\u001b[0m\u001b[0mfindstr\u001b[0m\u001b[0;34m(\u001b[0m\u001b[0;34m\"ada\"\u001b[0m\u001b[0;34m,\u001b[0m \u001b[0;34m\"abracadabra\"\u001b[0m\u001b[0;34m)\u001b[0m\u001b[0;34m)\u001b[0m\u001b[0;34m\u001b[0m\u001b[0;34m\u001b[0m\u001b[0m\n\u001b[0;32m---> 20\u001b[0;31m \u001b[0mprint\u001b[0m\u001b[0;34m(\u001b[0m\u001b[0mfindstr\u001b[0m\u001b[0;34m(\u001b[0m\u001b[0;34m\"aba\"\u001b[0m\u001b[0;34m,\u001b[0m \u001b[0;34m\"abracadabra\"\u001b[0m\u001b[0;34m)\u001b[0m\u001b[0;34m)\u001b[0m\u001b[0;34m\u001b[0m\u001b[0;34m\u001b[0m\u001b[0m\n\u001b[0m",
            "\u001b[0;32m<ipython-input-3-b00405b7708c>\u001b[0m in \u001b[0;36mfindstr\u001b[0;34m(srcstr, tarstr)\u001b[0m\n\u001b[1;32m     13\u001b[0m         \u001b[0;31m# if scrstr is same as tarstr from i to rest\u001b[0m\u001b[0;34m\u001b[0m\u001b[0;34m\u001b[0m\u001b[0;34m\u001b[0m\u001b[0m\n\u001b[1;32m     14\u001b[0m         \u001b[0;31m# return i\u001b[0m\u001b[0;34m\u001b[0m\u001b[0;34m\u001b[0m\u001b[0;34m\u001b[0m\u001b[0m\n\u001b[0;32m---> 15\u001b[0;31m         \u001b[0;32mif\u001b[0m \u001b[0mstartswith\u001b[0m\u001b[0;34m(\u001b[0m\u001b[0msrcstr\u001b[0m\u001b[0;34m,\u001b[0m \u001b[0mtarstr\u001b[0m\u001b[0;34m[\u001b[0m\u001b[0mi\u001b[0m\u001b[0;34m:\u001b[0m\u001b[0;34m]\u001b[0m\u001b[0;34m)\u001b[0m\u001b[0;34m:\u001b[0m\u001b[0;34m\u001b[0m\u001b[0;34m\u001b[0m\u001b[0m\n\u001b[0m\u001b[1;32m     16\u001b[0m                 \u001b[0;32mreturn\u001b[0m \u001b[0mi\u001b[0m\u001b[0;34m\u001b[0m\u001b[0;34m\u001b[0m\u001b[0m\n\u001b[1;32m     17\u001b[0m     \u001b[0;32mreturn\u001b[0m \u001b[0;34m-\u001b[0m\u001b[0;36m1\u001b[0m\u001b[0;34m\u001b[0m\u001b[0;34m\u001b[0m\u001b[0m\n",
            "\u001b[0;32m<ipython-input-3-b00405b7708c>\u001b[0m in \u001b[0;36mstartswith\u001b[0;34m(srcstr, tarstr)\u001b[0m\n\u001b[1;32m      3\u001b[0m       like srcstr=\"abra\" tarstr=\"abracadabra\" '''\n\u001b[1;32m      4\u001b[0m     \u001b[0;32mfor\u001b[0m \u001b[0mi\u001b[0m \u001b[0;32min\u001b[0m \u001b[0mrange\u001b[0m\u001b[0;34m(\u001b[0m\u001b[0mlen\u001b[0m\u001b[0;34m(\u001b[0m\u001b[0msrcstr\u001b[0m\u001b[0;34m)\u001b[0m\u001b[0;34m)\u001b[0m\u001b[0;34m:\u001b[0m \u001b[0;31m# check all characters of srcstr\u001b[0m\u001b[0;34m\u001b[0m\u001b[0;34m\u001b[0m\u001b[0m\n\u001b[0;32m----> 5\u001b[0;31m         \u001b[0;32mif\u001b[0m \u001b[0msrcstr\u001b[0m\u001b[0;34m[\u001b[0m\u001b[0mi\u001b[0m\u001b[0;34m]\u001b[0m \u001b[0;34m!=\u001b[0m \u001b[0mtarstr\u001b[0m\u001b[0;34m[\u001b[0m\u001b[0mi\u001b[0m\u001b[0;34m]\u001b[0m\u001b[0;34m:\u001b[0m  \u001b[0;31m# if does not match return False\u001b[0m\u001b[0;34m\u001b[0m\u001b[0;34m\u001b[0m\u001b[0m\n\u001b[0m\u001b[1;32m      6\u001b[0m             \u001b[0;32mreturn\u001b[0m \u001b[0;32mFalse\u001b[0m\u001b[0;34m\u001b[0m\u001b[0;34m\u001b[0m\u001b[0m\n\u001b[1;32m      7\u001b[0m     \u001b[0;32mreturn\u001b[0m \u001b[0;32mTrue\u001b[0m   \u001b[0;31m# if False is not returned yet, it matches\u001b[0m\u001b[0;34m\u001b[0m\u001b[0;34m\u001b[0m\u001b[0m\n",
            "\u001b[0;31mIndexError\u001b[0m: string index out of range"
          ]
        }
      ]
    },
    {
      "cell_type": "markdown",
      "metadata": {
        "id": "2OVUhLvECqoD"
      },
      "source": [
        "The first call returns 5, which is printed on screen, telling us that `\"ada\"` is at position 5 of `\"abracadabra\"`, matches after `\"abrac\"`. However, the second call should return `-1` since the `\"aba\"` substring does not exist in `\"abracadabra\"` but it generates an error. "
      ]
    },
    {
      "cell_type": "markdown",
      "metadata": {
        "id": "BT4PPh94Cuds"
      },
      "source": [
        "### 9.3.1 Debugging Using Debugging Outputs\n",
        "\n",
        "This is one of the simplest, oldest but still an effective method for debugging a program. In this method, you add extra output lines that shed light on the behaviour of your program. This way, you can trace where your program diverted from the expected behaviour. For example:"
      ]
    },
    {
      "cell_type": "code",
      "metadata": {
        "id": "HLoCuIAeaOK9",
        "colab": {
          "base_uri": "https://localhost:8080/",
          "height": 851
        },
        "outputId": "703abd92-b894-4e77-f0e5-3795671d5867"
      },
      "source": [
        "def startswith(srcstr, tarstr):\n",
        "    '''check if tarstr starts with srcstr\n",
        "      like srcstr=\"abra\" tarstr=\"abracadabra\" '''\n",
        "    for i in range(len(srcstr)): # check all characters of srcstr\n",
        "        print(\"check if \", srcstr, '!=', tarstr, 'for i=', i)\n",
        "        if srcstr[i] != tarstr[i]:  # if does not match return False\n",
        "            return False\n",
        "    return True   # if False is not returned yet, it matches\n",
        "\n",
        "\n",
        "def findstr(srcstr, tarstr):\n",
        "    '''Find position of srcstr in tarstr'''\n",
        "    for i in range(len(tarstr)):\n",
        "        # if scrstr is same as tarstr from i to rest\n",
        "        # return i\n",
        "        print(\"calling startswith\", srcstr, tarstr[i:])\n",
        "        if startswith(srcstr, tarstr[i:]):     \n",
        "                return i\n",
        "    return -1\n",
        "\n",
        "print(findstr(\"aba\", \"abracadabra\"))"
      ],
      "execution_count": null,
      "outputs": [
        {
          "output_type": "stream",
          "text": [
            "calling startswith aba abracadabra\n",
            "check if  aba != abracadabra for i= 0\n",
            "check if  aba != abracadabra for i= 1\n",
            "check if  aba != abracadabra for i= 2\n",
            "calling startswith aba bracadabra\n",
            "check if  aba != bracadabra for i= 0\n",
            "calling startswith aba racadabra\n",
            "check if  aba != racadabra for i= 0\n",
            "calling startswith aba acadabra\n",
            "check if  aba != acadabra for i= 0\n",
            "check if  aba != acadabra for i= 1\n",
            "calling startswith aba cadabra\n",
            "check if  aba != cadabra for i= 0\n",
            "calling startswith aba adabra\n",
            "check if  aba != adabra for i= 0\n",
            "check if  aba != adabra for i= 1\n",
            "calling startswith aba dabra\n",
            "check if  aba != dabra for i= 0\n",
            "calling startswith aba abra\n",
            "check if  aba != abra for i= 0\n",
            "check if  aba != abra for i= 1\n",
            "check if  aba != abra for i= 2\n",
            "calling startswith aba bra\n",
            "check if  aba != bra for i= 0\n",
            "calling startswith aba ra\n",
            "check if  aba != ra for i= 0\n",
            "calling startswith aba a\n",
            "check if  aba != a for i= 0\n",
            "check if  aba != a for i= 1\n"
          ],
          "name": "stdout"
        },
        {
          "output_type": "error",
          "ename": "IndexError",
          "evalue": "ignored",
          "traceback": [
            "\u001b[0;31m---------------------------------------------------------------------------\u001b[0m",
            "\u001b[0;31mIndexError\u001b[0m                                Traceback (most recent call last)",
            "\u001b[0;32m<ipython-input-6-b415ffe46a64>\u001b[0m in \u001b[0;36m<module>\u001b[0;34m()\u001b[0m\n\u001b[1;32m     19\u001b[0m     \u001b[0;32mreturn\u001b[0m \u001b[0;34m-\u001b[0m\u001b[0;36m1\u001b[0m\u001b[0;34m\u001b[0m\u001b[0;34m\u001b[0m\u001b[0m\n\u001b[1;32m     20\u001b[0m \u001b[0;34m\u001b[0m\u001b[0m\n\u001b[0;32m---> 21\u001b[0;31m \u001b[0mprint\u001b[0m\u001b[0;34m(\u001b[0m\u001b[0mfindstr\u001b[0m\u001b[0;34m(\u001b[0m\u001b[0;34m\"aba\"\u001b[0m\u001b[0;34m,\u001b[0m \u001b[0;34m\"abracadabra\"\u001b[0m\u001b[0;34m)\u001b[0m\u001b[0;34m)\u001b[0m\u001b[0;34m\u001b[0m\u001b[0;34m\u001b[0m\u001b[0m\n\u001b[0m",
            "\u001b[0;32m<ipython-input-6-b415ffe46a64>\u001b[0m in \u001b[0;36mfindstr\u001b[0;34m(srcstr, tarstr)\u001b[0m\n\u001b[1;32m     15\u001b[0m         \u001b[0;31m# return i\u001b[0m\u001b[0;34m\u001b[0m\u001b[0;34m\u001b[0m\u001b[0;34m\u001b[0m\u001b[0m\n\u001b[1;32m     16\u001b[0m         \u001b[0mprint\u001b[0m\u001b[0;34m(\u001b[0m\u001b[0;34m\"calling startswith\"\u001b[0m\u001b[0;34m,\u001b[0m \u001b[0msrcstr\u001b[0m\u001b[0;34m,\u001b[0m \u001b[0mtarstr\u001b[0m\u001b[0;34m[\u001b[0m\u001b[0mi\u001b[0m\u001b[0;34m:\u001b[0m\u001b[0;34m]\u001b[0m\u001b[0;34m)\u001b[0m\u001b[0;34m\u001b[0m\u001b[0;34m\u001b[0m\u001b[0m\n\u001b[0;32m---> 17\u001b[0;31m         \u001b[0;32mif\u001b[0m \u001b[0mstartswith\u001b[0m\u001b[0;34m(\u001b[0m\u001b[0msrcstr\u001b[0m\u001b[0;34m,\u001b[0m \u001b[0mtarstr\u001b[0m\u001b[0;34m[\u001b[0m\u001b[0mi\u001b[0m\u001b[0;34m:\u001b[0m\u001b[0;34m]\u001b[0m\u001b[0;34m)\u001b[0m\u001b[0;34m:\u001b[0m\u001b[0;34m\u001b[0m\u001b[0;34m\u001b[0m\u001b[0m\n\u001b[0m\u001b[1;32m     18\u001b[0m                 \u001b[0;32mreturn\u001b[0m \u001b[0mi\u001b[0m\u001b[0;34m\u001b[0m\u001b[0;34m\u001b[0m\u001b[0m\n\u001b[1;32m     19\u001b[0m     \u001b[0;32mreturn\u001b[0m \u001b[0;34m-\u001b[0m\u001b[0;36m1\u001b[0m\u001b[0;34m\u001b[0m\u001b[0;34m\u001b[0m\u001b[0m\n",
            "\u001b[0;32m<ipython-input-6-b415ffe46a64>\u001b[0m in \u001b[0;36mstartswith\u001b[0;34m(srcstr, tarstr)\u001b[0m\n\u001b[1;32m      4\u001b[0m     \u001b[0;32mfor\u001b[0m \u001b[0mi\u001b[0m \u001b[0;32min\u001b[0m \u001b[0mrange\u001b[0m\u001b[0;34m(\u001b[0m\u001b[0mlen\u001b[0m\u001b[0;34m(\u001b[0m\u001b[0msrcstr\u001b[0m\u001b[0;34m)\u001b[0m\u001b[0;34m)\u001b[0m\u001b[0;34m:\u001b[0m \u001b[0;31m# check all characters of srcstr\u001b[0m\u001b[0;34m\u001b[0m\u001b[0;34m\u001b[0m\u001b[0m\n\u001b[1;32m      5\u001b[0m         \u001b[0mprint\u001b[0m\u001b[0;34m(\u001b[0m\u001b[0;34m\"check if \"\u001b[0m\u001b[0;34m,\u001b[0m \u001b[0msrcstr\u001b[0m\u001b[0;34m,\u001b[0m \u001b[0;34m'!='\u001b[0m\u001b[0;34m,\u001b[0m \u001b[0mtarstr\u001b[0m\u001b[0;34m,\u001b[0m \u001b[0;34m'for i='\u001b[0m\u001b[0;34m,\u001b[0m \u001b[0mi\u001b[0m\u001b[0;34m)\u001b[0m\u001b[0;34m\u001b[0m\u001b[0;34m\u001b[0m\u001b[0m\n\u001b[0;32m----> 6\u001b[0;31m         \u001b[0;32mif\u001b[0m \u001b[0msrcstr\u001b[0m\u001b[0;34m[\u001b[0m\u001b[0mi\u001b[0m\u001b[0;34m]\u001b[0m \u001b[0;34m!=\u001b[0m \u001b[0mtarstr\u001b[0m\u001b[0;34m[\u001b[0m\u001b[0mi\u001b[0m\u001b[0;34m]\u001b[0m\u001b[0;34m:\u001b[0m  \u001b[0;31m# if does not match return False\u001b[0m\u001b[0;34m\u001b[0m\u001b[0;34m\u001b[0m\u001b[0m\n\u001b[0m\u001b[1;32m      7\u001b[0m             \u001b[0;32mreturn\u001b[0m \u001b[0;32mFalse\u001b[0m\u001b[0;34m\u001b[0m\u001b[0;34m\u001b[0m\u001b[0m\n\u001b[1;32m      8\u001b[0m     \u001b[0;32mreturn\u001b[0m \u001b[0;32mTrue\u001b[0m   \u001b[0;31m# if False is not returned yet, it matches\u001b[0m\u001b[0;34m\u001b[0m\u001b[0;34m\u001b[0m\u001b[0m\n",
            "\u001b[0;31mIndexError\u001b[0m: string index out of range"
          ]
        }
      ]
    },
    {
      "cell_type": "markdown",
      "metadata": {
        "id": "L67G0uzxa2Mb"
      },
      "source": [
        "In the output, you can see that execution failed after output\n",
        "\"`check if  aba != a for i= 1`\". Therefore, we can reason that an error occurred at the next step. The following test is:\n",
        "\n",
        "`if srcstr[i] != tarstr[i]`  for  `\"aba\"` and `\"a\"` for `i = 1`. \n",
        "\n",
        "Apparently, getting `tarstr[1]` for `tarstr == \"a\"` fails since the length of `tarstr` is 1 and the only valid index is 0. There are different ways to get rid of this error. One quick solution is to test if lengths of `srcstr` and `tarstr` are compatible as `len(tarstr) >= len(srcstr)` should hold in `startswith`. The programmer should have considered this and handled this case. Now, we can correct it as a result of our debugging session.\n",
        "\n",
        "Of course, debugging output should be added in the correct places with sufficient descriptive information. If you add too much debugging output, you may be lost in output lines. If there is not sufficient output, you may not find the error.\n",
        "\n",
        "For generic tracing of programs with multiple functions, you can use the following Python magic called **decorator**, which reports all function calls with parameters when a function is decorated as:"
      ]
    },
    {
      "cell_type": "code",
      "metadata": {
        "id": "_bSD3SUPAQOL",
        "colab": {
          "base_uri": "https://localhost:8080/",
          "height": 715
        },
        "outputId": "31d6c572-cad1-4b55-93fa-30d7c9217a7f"
      },
      "source": [
        "def tracedec(f):\n",
        "    def traced(*p, **kw):\n",
        "        print('  ' * tracedec.level + \"->\", f.__name__,'(',p, kw,')')\n",
        "        tracedec.level += 1\n",
        "        val = f(*p, **kw)\n",
        "        tracedec.level -= 1\n",
        "        print('  ' * tracedec.level + \"<-\", f.__name__, 'returns ', val)\n",
        "        return val\n",
        "    return traced\n",
        "tracedec.level = 0\n",
        "\n",
        "@tracedec\n",
        "def startswith(srcstr, tarstr):\n",
        "    '''check if tarstr starts with srcstr\n",
        "      like srcstr=\"abra\" tarstr=\"abracadabra\" '''\n",
        "    for i in range(len(srcstr)):    # check all characters of srcstr\n",
        "        if srcstr[i] != tarstr[i]:  # if does not match, return False\n",
        "            return False\n",
        "    return True   # if False is not returned yet, it matches\n",
        "\n",
        "@tracedec\n",
        "def findstr(srcstr, tarstr):\n",
        "    '''Find position of srcstr in tarstr'''\n",
        "    for i in range(len(tarstr)):\n",
        "        # if scrstr is same as tarstr from i to rest\n",
        "        # return i\n",
        "        if startswith(srcstr, tarstr[i:]):     \n",
        "                return i\n",
        "    return -1\n",
        "\n",
        "\n",
        "print(findstr(\"aba\", \"abracadabra\"))"
      ],
      "execution_count": null,
      "outputs": [
        {
          "output_type": "stream",
          "text": [
            "-> findstr ( ('aba', 'abracadabra') {} )\n",
            "  -> startswith ( ('aba', 'abracadabra') {} )\n",
            "  <- startswith returns  False\n",
            "  -> startswith ( ('aba', 'bracadabra') {} )\n",
            "  <- startswith returns  False\n",
            "  -> startswith ( ('aba', 'racadabra') {} )\n",
            "  <- startswith returns  False\n",
            "  -> startswith ( ('aba', 'acadabra') {} )\n",
            "  <- startswith returns  False\n",
            "  -> startswith ( ('aba', 'cadabra') {} )\n",
            "  <- startswith returns  False\n",
            "  -> startswith ( ('aba', 'adabra') {} )\n",
            "  <- startswith returns  False\n",
            "  -> startswith ( ('aba', 'dabra') {} )\n",
            "  <- startswith returns  False\n",
            "  -> startswith ( ('aba', 'abra') {} )\n",
            "  <- startswith returns  False\n",
            "  -> startswith ( ('aba', 'bra') {} )\n",
            "  <- startswith returns  False\n",
            "  -> startswith ( ('aba', 'ra') {} )\n",
            "  <- startswith returns  False\n",
            "  -> startswith ( ('aba', 'a') {} )\n"
          ],
          "name": "stdout"
        },
        {
          "output_type": "error",
          "ename": "IndexError",
          "evalue": "ignored",
          "traceback": [
            "\u001b[0;31m---------------------------------------------------------------------------\u001b[0m",
            "\u001b[0;31mIndexError\u001b[0m                                Traceback (most recent call last)",
            "\u001b[0;32m<ipython-input-2-f5cc3f720290>\u001b[0m in \u001b[0;36m<module>\u001b[0;34m()\u001b[0m\n\u001b[1;32m     30\u001b[0m \u001b[0;34m\u001b[0m\u001b[0m\n\u001b[1;32m     31\u001b[0m \u001b[0;34m\u001b[0m\u001b[0m\n\u001b[0;32m---> 32\u001b[0;31m \u001b[0mprint\u001b[0m\u001b[0;34m(\u001b[0m\u001b[0mfindstr\u001b[0m\u001b[0;34m(\u001b[0m\u001b[0;34m\"aba\"\u001b[0m\u001b[0;34m,\u001b[0m \u001b[0;34m\"abracadabra\"\u001b[0m\u001b[0;34m)\u001b[0m\u001b[0;34m)\u001b[0m\u001b[0;34m\u001b[0m\u001b[0;34m\u001b[0m\u001b[0m\n\u001b[0m",
            "\u001b[0;32m<ipython-input-2-f5cc3f720290>\u001b[0m in \u001b[0;36mtraced\u001b[0;34m(*p, **kw)\u001b[0m\n\u001b[1;32m      3\u001b[0m         \u001b[0mprint\u001b[0m\u001b[0;34m(\u001b[0m\u001b[0;34m'  '\u001b[0m \u001b[0;34m*\u001b[0m \u001b[0mtracedec\u001b[0m\u001b[0;34m.\u001b[0m\u001b[0mlevel\u001b[0m \u001b[0;34m+\u001b[0m \u001b[0;34m\"->\"\u001b[0m\u001b[0;34m,\u001b[0m \u001b[0mf\u001b[0m\u001b[0;34m.\u001b[0m\u001b[0m__name__\u001b[0m\u001b[0;34m,\u001b[0m\u001b[0;34m'('\u001b[0m\u001b[0;34m,\u001b[0m\u001b[0mp\u001b[0m\u001b[0;34m,\u001b[0m \u001b[0mkw\u001b[0m\u001b[0;34m,\u001b[0m\u001b[0;34m')'\u001b[0m\u001b[0;34m)\u001b[0m\u001b[0;34m\u001b[0m\u001b[0;34m\u001b[0m\u001b[0m\n\u001b[1;32m      4\u001b[0m         \u001b[0mtracedec\u001b[0m\u001b[0;34m.\u001b[0m\u001b[0mlevel\u001b[0m \u001b[0;34m+=\u001b[0m \u001b[0;36m1\u001b[0m\u001b[0;34m\u001b[0m\u001b[0;34m\u001b[0m\u001b[0m\n\u001b[0;32m----> 5\u001b[0;31m         \u001b[0mval\u001b[0m \u001b[0;34m=\u001b[0m \u001b[0mf\u001b[0m\u001b[0;34m(\u001b[0m\u001b[0;34m*\u001b[0m\u001b[0mp\u001b[0m\u001b[0;34m,\u001b[0m\u001b[0;34m**\u001b[0m\u001b[0mkw\u001b[0m\u001b[0;34m)\u001b[0m\u001b[0;34m\u001b[0m\u001b[0;34m\u001b[0m\u001b[0m\n\u001b[0m\u001b[1;32m      6\u001b[0m         \u001b[0mtracedec\u001b[0m\u001b[0;34m.\u001b[0m\u001b[0mlevel\u001b[0m \u001b[0;34m-=\u001b[0m \u001b[0;36m1\u001b[0m\u001b[0;34m\u001b[0m\u001b[0;34m\u001b[0m\u001b[0m\n\u001b[1;32m      7\u001b[0m         \u001b[0mprint\u001b[0m\u001b[0;34m(\u001b[0m\u001b[0;34m'  '\u001b[0m \u001b[0;34m*\u001b[0m \u001b[0mtracedec\u001b[0m\u001b[0;34m.\u001b[0m\u001b[0mlevel\u001b[0m \u001b[0;34m+\u001b[0m \u001b[0;34m\"<-\"\u001b[0m\u001b[0;34m,\u001b[0m \u001b[0mf\u001b[0m\u001b[0;34m.\u001b[0m\u001b[0m__name__\u001b[0m\u001b[0;34m,\u001b[0m \u001b[0;34m'returns '\u001b[0m\u001b[0;34m,\u001b[0m \u001b[0mval\u001b[0m\u001b[0;34m)\u001b[0m\u001b[0;34m\u001b[0m\u001b[0;34m\u001b[0m\u001b[0m\n",
            "\u001b[0;32m<ipython-input-2-f5cc3f720290>\u001b[0m in \u001b[0;36mfindstr\u001b[0;34m(srcstr, tarstr)\u001b[0m\n\u001b[1;32m     25\u001b[0m         \u001b[0;31m# if scrstr is same as tarstr from i to rest\u001b[0m\u001b[0;34m\u001b[0m\u001b[0;34m\u001b[0m\u001b[0;34m\u001b[0m\u001b[0m\n\u001b[1;32m     26\u001b[0m         \u001b[0;31m# return i\u001b[0m\u001b[0;34m\u001b[0m\u001b[0;34m\u001b[0m\u001b[0;34m\u001b[0m\u001b[0m\n\u001b[0;32m---> 27\u001b[0;31m         \u001b[0;32mif\u001b[0m \u001b[0mstartswith\u001b[0m\u001b[0;34m(\u001b[0m\u001b[0msrcstr\u001b[0m\u001b[0;34m,\u001b[0m \u001b[0mtarstr\u001b[0m\u001b[0;34m[\u001b[0m\u001b[0mi\u001b[0m\u001b[0;34m:\u001b[0m\u001b[0;34m]\u001b[0m\u001b[0;34m)\u001b[0m\u001b[0;34m:\u001b[0m\u001b[0;34m\u001b[0m\u001b[0;34m\u001b[0m\u001b[0m\n\u001b[0m\u001b[1;32m     28\u001b[0m                 \u001b[0;32mreturn\u001b[0m \u001b[0mi\u001b[0m\u001b[0;34m\u001b[0m\u001b[0;34m\u001b[0m\u001b[0m\n\u001b[1;32m     29\u001b[0m     \u001b[0;32mreturn\u001b[0m \u001b[0;34m-\u001b[0m\u001b[0;36m1\u001b[0m\u001b[0;34m\u001b[0m\u001b[0;34m\u001b[0m\u001b[0m\n",
            "\u001b[0;32m<ipython-input-2-f5cc3f720290>\u001b[0m in \u001b[0;36mtraced\u001b[0;34m(*p, **kw)\u001b[0m\n\u001b[1;32m      3\u001b[0m         \u001b[0mprint\u001b[0m\u001b[0;34m(\u001b[0m\u001b[0;34m'  '\u001b[0m \u001b[0;34m*\u001b[0m \u001b[0mtracedec\u001b[0m\u001b[0;34m.\u001b[0m\u001b[0mlevel\u001b[0m \u001b[0;34m+\u001b[0m \u001b[0;34m\"->\"\u001b[0m\u001b[0;34m,\u001b[0m \u001b[0mf\u001b[0m\u001b[0;34m.\u001b[0m\u001b[0m__name__\u001b[0m\u001b[0;34m,\u001b[0m\u001b[0;34m'('\u001b[0m\u001b[0;34m,\u001b[0m\u001b[0mp\u001b[0m\u001b[0;34m,\u001b[0m \u001b[0mkw\u001b[0m\u001b[0;34m,\u001b[0m\u001b[0;34m')'\u001b[0m\u001b[0;34m)\u001b[0m\u001b[0;34m\u001b[0m\u001b[0;34m\u001b[0m\u001b[0m\n\u001b[1;32m      4\u001b[0m         \u001b[0mtracedec\u001b[0m\u001b[0;34m.\u001b[0m\u001b[0mlevel\u001b[0m \u001b[0;34m+=\u001b[0m \u001b[0;36m1\u001b[0m\u001b[0;34m\u001b[0m\u001b[0;34m\u001b[0m\u001b[0m\n\u001b[0;32m----> 5\u001b[0;31m         \u001b[0mval\u001b[0m \u001b[0;34m=\u001b[0m \u001b[0mf\u001b[0m\u001b[0;34m(\u001b[0m\u001b[0;34m*\u001b[0m\u001b[0mp\u001b[0m\u001b[0;34m,\u001b[0m\u001b[0;34m**\u001b[0m\u001b[0mkw\u001b[0m\u001b[0;34m)\u001b[0m\u001b[0;34m\u001b[0m\u001b[0;34m\u001b[0m\u001b[0m\n\u001b[0m\u001b[1;32m      6\u001b[0m         \u001b[0mtracedec\u001b[0m\u001b[0;34m.\u001b[0m\u001b[0mlevel\u001b[0m \u001b[0;34m-=\u001b[0m \u001b[0;36m1\u001b[0m\u001b[0;34m\u001b[0m\u001b[0;34m\u001b[0m\u001b[0m\n\u001b[1;32m      7\u001b[0m         \u001b[0mprint\u001b[0m\u001b[0;34m(\u001b[0m\u001b[0;34m'  '\u001b[0m \u001b[0;34m*\u001b[0m \u001b[0mtracedec\u001b[0m\u001b[0;34m.\u001b[0m\u001b[0mlevel\u001b[0m \u001b[0;34m+\u001b[0m \u001b[0;34m\"<-\"\u001b[0m\u001b[0;34m,\u001b[0m \u001b[0mf\u001b[0m\u001b[0;34m.\u001b[0m\u001b[0m__name__\u001b[0m\u001b[0;34m,\u001b[0m \u001b[0;34m'returns '\u001b[0m\u001b[0;34m,\u001b[0m \u001b[0mval\u001b[0m\u001b[0;34m)\u001b[0m\u001b[0;34m\u001b[0m\u001b[0;34m\u001b[0m\u001b[0m\n",
            "\u001b[0;32m<ipython-input-2-f5cc3f720290>\u001b[0m in \u001b[0;36mstartswith\u001b[0;34m(srcstr, tarstr)\u001b[0m\n\u001b[1;32m     15\u001b[0m       like srcstr=\"abra\" tarstr=\"abracadabra\" '''\n\u001b[1;32m     16\u001b[0m     \u001b[0;32mfor\u001b[0m \u001b[0mi\u001b[0m \u001b[0;32min\u001b[0m \u001b[0mrange\u001b[0m\u001b[0;34m(\u001b[0m\u001b[0mlen\u001b[0m\u001b[0;34m(\u001b[0m\u001b[0msrcstr\u001b[0m\u001b[0;34m)\u001b[0m\u001b[0;34m)\u001b[0m\u001b[0;34m:\u001b[0m \u001b[0;31m# check all characters of srcstr\u001b[0m\u001b[0;34m\u001b[0m\u001b[0;34m\u001b[0m\u001b[0m\n\u001b[0;32m---> 17\u001b[0;31m         \u001b[0;32mif\u001b[0m \u001b[0msrcstr\u001b[0m\u001b[0;34m[\u001b[0m\u001b[0mi\u001b[0m\u001b[0;34m]\u001b[0m \u001b[0;34m!=\u001b[0m \u001b[0mtarstr\u001b[0m\u001b[0;34m[\u001b[0m\u001b[0mi\u001b[0m\u001b[0;34m]\u001b[0m\u001b[0;34m:\u001b[0m  \u001b[0;31m# if does not match return False\u001b[0m\u001b[0;34m\u001b[0m\u001b[0;34m\u001b[0m\u001b[0m\n\u001b[0m\u001b[1;32m     18\u001b[0m             \u001b[0;32mreturn\u001b[0m \u001b[0;32mFalse\u001b[0m\u001b[0;34m\u001b[0m\u001b[0;34m\u001b[0m\u001b[0m\n\u001b[1;32m     19\u001b[0m     \u001b[0;32mreturn\u001b[0m \u001b[0;32mTrue\u001b[0m   \u001b[0;31m# if False is not returned yet, it matches\u001b[0m\u001b[0;34m\u001b[0m\u001b[0;34m\u001b[0m\u001b[0m\n",
            "\u001b[0;31mIndexError\u001b[0m: string index out of range"
          ]
        }
      ]
    },
    {
      "cell_type": "markdown",
      "metadata": {
        "id": "h2WCefpMBv4b"
      },
      "source": [
        "Putting '@tracedec' before function definitions will give you the entry and return states of these functions. How this decorator works and the '@' syntax are far beyond the scope of this book. You may adapt and use this example if it suits you."
      ]
    },
    {
      "cell_type": "markdown",
      "metadata": {
        "id": "_YSPsCsphzxU"
      },
      "source": [
        "### 9.3.2 Handle the Exception to Get More Information\n",
        "\n",
        "One problem with the run-time errors is that they do not give information about the current state of the program, basically the set of variables. They give the traceback which includes the line causing the exception and how program came to that state (which functions are active). In order to get the values of the variables, you can handle the exception and add log output to the handler as follows:"
      ]
    },
    {
      "cell_type": "code",
      "metadata": {
        "id": "7uIIhjydnfLz",
        "colab": {
          "base_uri": "https://localhost:8080/",
          "height": 452
        },
        "outputId": "1c8f647b-3c13-4b94-96b2-f367a5960f00"
      },
      "source": [
        "def startswith(srcstr, tarstr):\n",
        "    '''check if tarstr starts with srcstr\n",
        "      like srcstr=\"abra\" tarstr=\"abracadabra\" '''\n",
        "    try:\n",
        "      for i in range(len(srcstr)): # check all characters of srcstr\n",
        "          if srcstr[i] != tarstr[i]:  # if does not match return False\n",
        "              return False\n",
        "    except IndexError:\n",
        "      print('Error: srcstr: ', srcstr, ', tarstr:', tarstr, ', i:',i)\n",
        "      raise IndexError          # if you like, generate an additional exception \n",
        "    return True   # if False is not returned yet, it matches\n",
        "\n",
        "def findstr(srcstr, tarstr):\n",
        "    '''Find position of srcstr in tarstr'''\n",
        "    for i in range(len(tarstr)):\n",
        "        # if scrstr is same as tarstr from i to rest\n",
        "        # return i\n",
        "        if startswith(srcstr, tarstr[i:]):     \n",
        "                return i\n",
        "    return -1\n",
        "\n",
        "findstr(\"aba\", \"abracadabra\")"
      ],
      "execution_count": null,
      "outputs": [
        {
          "output_type": "stream",
          "text": [
            "Error: srcstr:  aba , tarstr: a , i: 1\n"
          ],
          "name": "stdout"
        },
        {
          "output_type": "error",
          "ename": "IndexError",
          "evalue": "ignored",
          "traceback": [
            "\u001b[0;31m---------------------------------------------------------------------------\u001b[0m",
            "\u001b[0;31mIndexError\u001b[0m                                Traceback (most recent call last)",
            "\u001b[0;32m<ipython-input-11-b4556283ff77>\u001b[0m in \u001b[0;36mstartswith\u001b[0;34m(srcstr, tarstr)\u001b[0m\n\u001b[1;32m      5\u001b[0m       \u001b[0;32mfor\u001b[0m \u001b[0mi\u001b[0m \u001b[0;32min\u001b[0m \u001b[0mrange\u001b[0m\u001b[0;34m(\u001b[0m\u001b[0mlen\u001b[0m\u001b[0;34m(\u001b[0m\u001b[0msrcstr\u001b[0m\u001b[0;34m)\u001b[0m\u001b[0;34m)\u001b[0m\u001b[0;34m:\u001b[0m \u001b[0;31m# check all characters of srcstr\u001b[0m\u001b[0;34m\u001b[0m\u001b[0;34m\u001b[0m\u001b[0m\n\u001b[0;32m----> 6\u001b[0;31m           \u001b[0;32mif\u001b[0m \u001b[0msrcstr\u001b[0m\u001b[0;34m[\u001b[0m\u001b[0mi\u001b[0m\u001b[0;34m]\u001b[0m \u001b[0;34m!=\u001b[0m \u001b[0mtarstr\u001b[0m\u001b[0;34m[\u001b[0m\u001b[0mi\u001b[0m\u001b[0;34m]\u001b[0m\u001b[0;34m:\u001b[0m  \u001b[0;31m# if does not match return False\u001b[0m\u001b[0;34m\u001b[0m\u001b[0;34m\u001b[0m\u001b[0m\n\u001b[0m\u001b[1;32m      7\u001b[0m               \u001b[0;32mreturn\u001b[0m \u001b[0;32mFalse\u001b[0m\u001b[0;34m\u001b[0m\u001b[0;34m\u001b[0m\u001b[0m\n",
            "\u001b[0;31mIndexError\u001b[0m: string index out of range",
            "\nDuring handling of the above exception, another exception occurred:\n",
            "\u001b[0;31mIndexError\u001b[0m                                Traceback (most recent call last)",
            "\u001b[0;32m<ipython-input-11-b4556283ff77>\u001b[0m in \u001b[0;36m<module>\u001b[0;34m()\u001b[0m\n\u001b[1;32m     20\u001b[0m     \u001b[0;32mreturn\u001b[0m \u001b[0;34m-\u001b[0m\u001b[0;36m1\u001b[0m\u001b[0;34m\u001b[0m\u001b[0;34m\u001b[0m\u001b[0m\n\u001b[1;32m     21\u001b[0m \u001b[0;34m\u001b[0m\u001b[0m\n\u001b[0;32m---> 22\u001b[0;31m \u001b[0mfindstr\u001b[0m\u001b[0;34m(\u001b[0m\u001b[0;34m\"aba\"\u001b[0m\u001b[0;34m,\u001b[0m \u001b[0;34m\"abracadabra\"\u001b[0m\u001b[0;34m)\u001b[0m\u001b[0;34m\u001b[0m\u001b[0;34m\u001b[0m\u001b[0m\n\u001b[0m",
            "\u001b[0;32m<ipython-input-11-b4556283ff77>\u001b[0m in \u001b[0;36mfindstr\u001b[0;34m(srcstr, tarstr)\u001b[0m\n\u001b[1;32m     16\u001b[0m         \u001b[0;31m# if scrstr is same as tarstr from i to rest\u001b[0m\u001b[0;34m\u001b[0m\u001b[0;34m\u001b[0m\u001b[0;34m\u001b[0m\u001b[0m\n\u001b[1;32m     17\u001b[0m         \u001b[0;31m# return i\u001b[0m\u001b[0;34m\u001b[0m\u001b[0;34m\u001b[0m\u001b[0;34m\u001b[0m\u001b[0m\n\u001b[0;32m---> 18\u001b[0;31m         \u001b[0;32mif\u001b[0m \u001b[0mstartswith\u001b[0m\u001b[0;34m(\u001b[0m\u001b[0msrcstr\u001b[0m\u001b[0;34m,\u001b[0m \u001b[0mtarstr\u001b[0m\u001b[0;34m[\u001b[0m\u001b[0mi\u001b[0m\u001b[0;34m:\u001b[0m\u001b[0;34m]\u001b[0m\u001b[0;34m)\u001b[0m\u001b[0;34m:\u001b[0m\u001b[0;34m\u001b[0m\u001b[0;34m\u001b[0m\u001b[0m\n\u001b[0m\u001b[1;32m     19\u001b[0m                 \u001b[0;32mreturn\u001b[0m \u001b[0mi\u001b[0m\u001b[0;34m\u001b[0m\u001b[0;34m\u001b[0m\u001b[0m\n\u001b[1;32m     20\u001b[0m     \u001b[0;32mreturn\u001b[0m \u001b[0;34m-\u001b[0m\u001b[0;36m1\u001b[0m\u001b[0;34m\u001b[0m\u001b[0;34m\u001b[0m\u001b[0m\n",
            "\u001b[0;32m<ipython-input-11-b4556283ff77>\u001b[0m in \u001b[0;36mstartswith\u001b[0;34m(srcstr, tarstr)\u001b[0m\n\u001b[1;32m      8\u001b[0m     \u001b[0;32mexcept\u001b[0m \u001b[0mIndexError\u001b[0m\u001b[0;34m:\u001b[0m\u001b[0;34m\u001b[0m\u001b[0;34m\u001b[0m\u001b[0m\n\u001b[1;32m      9\u001b[0m       \u001b[0mprint\u001b[0m\u001b[0;34m(\u001b[0m\u001b[0;34m'Error: srcstr: '\u001b[0m\u001b[0;34m,\u001b[0m\u001b[0msrcstr\u001b[0m\u001b[0;34m,\u001b[0m \u001b[0;34m', tarstr:'\u001b[0m\u001b[0;34m,\u001b[0m \u001b[0mtarstr\u001b[0m\u001b[0;34m,\u001b[0m \u001b[0;34m', i:'\u001b[0m\u001b[0;34m,\u001b[0m\u001b[0mi\u001b[0m\u001b[0;34m)\u001b[0m\u001b[0;34m\u001b[0m\u001b[0;34m\u001b[0m\u001b[0m\n\u001b[0;32m---> 10\u001b[0;31m       \u001b[0;32mraise\u001b[0m \u001b[0mIndexError\u001b[0m          \u001b[0;31m# if you like generate error again\u001b[0m\u001b[0;34m\u001b[0m\u001b[0;34m\u001b[0m\u001b[0m\n\u001b[0m\u001b[1;32m     11\u001b[0m     \u001b[0;32mreturn\u001b[0m \u001b[0;32mTrue\u001b[0m   \u001b[0;31m# if False is not returned yet, it matches\u001b[0m\u001b[0;34m\u001b[0m\u001b[0;34m\u001b[0m\u001b[0m\n\u001b[1;32m     12\u001b[0m \u001b[0;34m\u001b[0m\u001b[0m\n",
            "\u001b[0;31mIndexError\u001b[0m: "
          ]
        }
      ]
    },
    {
      "cell_type": "markdown",
      "metadata": {
        "id": "pg4v-eoNoQB9"
      },
      "source": [
        "This way, we get the output:\n",
        "\n",
        "`Error: srcstr:  aba , tarstr: a , i: 1`\n",
        "\n",
        "which gives us the state of the variables at the moment of the error."
      ]
    },
    {
      "cell_type": "markdown",
      "metadata": {
        "id": "ctSHXUgeoujj"
      },
      "source": [
        "### 9.3.3 Use Python Debugger\n",
        "\n",
        "All programming environments come with a **debugger software** which helps a programmer to execute a program step by step, observe the current state, add break-points (stops) to inspect, and provide a controlled execution environment.\n",
        "\n",
        "For compiled languages, debuggers are external programs getting user's program as input. For Python, it is a module called **pdb**, which stands for *Python DeBugger*. If you use an integrated development environment (IDE), a debugger is embedded in the tool so you can use it via the graphical user interface controls. Otherwise, you can use the command line interface.\n",
        "\n",
        "In the command line, the only thing you need to do is to put:\n",
        "\n",
        "```python\n",
        "import pdb\n",
        "```\n",
        "\n",
        "at the beginning of your program, and type:\n",
        "\n",
        "```python\n",
        "pdb.set_trace()\n",
        "```\n",
        "\n",
        "at any place you like to stop execution and go into the **debugging mode***. When you run your program or call a function, your program will start executing and when the execution hits one of the trace points, execution will stop and a debugger prompt (`(Pdb)`) will be displayed:\n",
        "\n",
        "```python\n",
        "> <ipython-input-14-110393975fb5>(7)startswith()\n",
        "-> for i in range(len(srcstr)): # check all characters of srcstr\n",
        "(Pdb) h\n",
        "\n",
        "Documented commands (type help <topic>):\n",
        "========================================\n",
        "EOF    c          d        h         list      q        rv       undisplay\n",
        "a      cl         debug    help      ll        quit     s        unt      \n",
        "alias  clear      disable  ignore    longlist  r        source   until    \n",
        "args   commands   display  interact  n         restart  step     up       \n",
        "b      condition  down     j         next      return   tbreak   w        \n",
        "break  cont       enable   jump      p         retval   u        whatis   \n",
        "bt     continue   exit     l         pp        run      unalias  where    \n",
        "\n",
        "Miscellaneous help topics:\n",
        "==========================\n",
        "exec  pdb\n",
        "```\n",
        "\n",
        "The first line tells which function and line execution have been stopped. When `h` or `help` is typed, the following help lines are displayed. Single-two letter commands are abbreviated forms of the longer ones (e.g. `a` for `args`, `b` for `break`, `c` for `cont`, `cl` for `clear`, ...).\n",
        "\n",
        "After this point, you can use `next` (`n`) to execute the program line by line. If the current statement has a function call, you may choose to go into the function call using the `step` (`s`) command. Otherwise, `next` will call and return it in single step. During debugging, `print` (`p`) command can be used to print content of a variable. The following is a summary of the useful commands of the debugger:\n",
        "\n",
        " Command          |       Description                     \n",
        "------------------|---------------------------------------\n",
        "  `next` |  Execute current line and stop at the next statement, jump over functions\n",
        "  `step` |  Execute current line, if there ise function go into it\n",
        "  `args` | show arguments of the current function\n",
        "  `break`|  Add a new breakpoint. Execution will stop at that line too\n",
        "  `clear`| Remove the breakpoint(s)\n",
        "  `cont` | Continue execution until hitting a break point\n",
        "  `print` | print current value of the variable\n",
        "  `display` | display variable value whenever it changes in current function\n",
        "  `list` | list program in current line\n",
        "  `ll` | list current function\n",
        "  `return` | continue execution until current function returns\n",
        "  `where` | show currently active functions, which function calls brought code here\n",
        "\n",
        "The following is an example run:\n"
      ]
    },
    {
      "cell_type": "code",
      "metadata": {
        "id": "ZU8Ju7DsadYC",
        "colab": {
          "base_uri": "https://localhost:8080/",
          "height": 834
        },
        "outputId": "dba5cdb6-9439-4c68-dcc5-ac06f4717246"
      },
      "source": [
        "import pdb\n",
        "\n",
        "def startswith(srcstr, tarstr):\n",
        "    '''check if tarstr starts with srcstr\n",
        "      like srcstr=\"abra\" tarstr=\"abracadabra\" '''\n",
        "    pdb.set_trace()\n",
        "    for i in range(len(srcstr)): # check all characters of srcstr\n",
        "        if srcstr[i] != tarstr[i]:  # if does not match return False\n",
        "            return False\n",
        "    return True   # if False is not returned yet, it matches\n",
        "\n",
        "\n",
        "def findstr(srcstr, tarstr):\n",
        "    '''Find position of srcstr in tarstr'''\n",
        "    for i in range(len(tarstr)):\n",
        "        # if scrstr is same as tarstr from i to rest\n",
        "        # return i\n",
        "        if startswith(srcstr, tarstr[i:]):     \n",
        "                return i\n",
        "    return -1\n",
        "\n",
        "print(findstr(\"aba\", \"abra\"))"
      ],
      "execution_count": null,
      "outputs": [
        {
          "output_type": "stream",
          "text": [
            "> <ipython-input-18-bf80973a0bf6>(7)startswith()\n",
            "-> for i in range(len(srcstr)): # check all characters of srcstr\n",
            "(Pdb) cont\n",
            "> <ipython-input-18-bf80973a0bf6>(7)startswith()\n",
            "-> for i in range(len(srcstr)): # check all characters of srcstr\n",
            "(Pdb) help\n",
            "\n",
            "Documented commands (type help <topic>):\n",
            "========================================\n",
            "EOF    c          d        h         list      q        rv       undisplay\n",
            "a      cl         debug    help      ll        quit     s        unt      \n",
            "alias  clear      disable  ignore    longlist  r        source   until    \n",
            "args   commands   display  interact  n         restart  step     up       \n",
            "b      condition  down     j         next      return   tbreak   w        \n",
            "break  cont       enable   jump      p         retval   u        whatis   \n",
            "bt     continue   exit     l         pp        run      unalias  where    \n",
            "\n",
            "Miscellaneous help topics:\n",
            "==========================\n",
            "exec  pdb\n",
            "\n",
            "(Pdb) cont\n",
            "> <ipython-input-18-bf80973a0bf6>(7)startswith()\n",
            "-> for i in range(len(srcstr)): # check all characters of srcstr\n",
            "(Pdb) cont\n",
            "> <ipython-input-18-bf80973a0bf6>(7)startswith()\n",
            "-> for i in range(len(srcstr)): # check all characters of srcstr\n",
            "(Pdb) cont\n"
          ],
          "name": "stdout"
        },
        {
          "output_type": "error",
          "ename": "IndexError",
          "evalue": "ignored",
          "traceback": [
            "\u001b[0;31m---------------------------------------------------------------------------\u001b[0m",
            "\u001b[0;31mIndexError\u001b[0m                                Traceback (most recent call last)",
            "\u001b[0;32m<ipython-input-18-bf80973a0bf6>\u001b[0m in \u001b[0;36m<module>\u001b[0;34m()\u001b[0m\n\u001b[1;32m     20\u001b[0m     \u001b[0;32mreturn\u001b[0m \u001b[0;34m-\u001b[0m\u001b[0;36m1\u001b[0m\u001b[0;34m\u001b[0m\u001b[0;34m\u001b[0m\u001b[0m\n\u001b[1;32m     21\u001b[0m \u001b[0;34m\u001b[0m\u001b[0m\n\u001b[0;32m---> 22\u001b[0;31m \u001b[0mprint\u001b[0m\u001b[0;34m(\u001b[0m\u001b[0mfindstr\u001b[0m\u001b[0;34m(\u001b[0m\u001b[0;34m\"aba\"\u001b[0m\u001b[0;34m,\u001b[0m \u001b[0;34m\"abra\"\u001b[0m\u001b[0;34m)\u001b[0m\u001b[0;34m)\u001b[0m\u001b[0;34m\u001b[0m\u001b[0;34m\u001b[0m\u001b[0m\n\u001b[0m",
            "\u001b[0;32m<ipython-input-18-bf80973a0bf6>\u001b[0m in \u001b[0;36mfindstr\u001b[0;34m(srcstr, tarstr)\u001b[0m\n\u001b[1;32m     16\u001b[0m         \u001b[0;31m# if scrstr is same as tarstr from i to rest\u001b[0m\u001b[0;34m\u001b[0m\u001b[0;34m\u001b[0m\u001b[0;34m\u001b[0m\u001b[0m\n\u001b[1;32m     17\u001b[0m         \u001b[0;31m# return i\u001b[0m\u001b[0;34m\u001b[0m\u001b[0;34m\u001b[0m\u001b[0;34m\u001b[0m\u001b[0m\n\u001b[0;32m---> 18\u001b[0;31m         \u001b[0;32mif\u001b[0m \u001b[0mstartswith\u001b[0m\u001b[0;34m(\u001b[0m\u001b[0msrcstr\u001b[0m\u001b[0;34m,\u001b[0m \u001b[0mtarstr\u001b[0m\u001b[0;34m[\u001b[0m\u001b[0mi\u001b[0m\u001b[0;34m:\u001b[0m\u001b[0;34m]\u001b[0m\u001b[0;34m)\u001b[0m\u001b[0;34m:\u001b[0m\u001b[0;34m\u001b[0m\u001b[0;34m\u001b[0m\u001b[0m\n\u001b[0m\u001b[1;32m     19\u001b[0m                 \u001b[0;32mreturn\u001b[0m \u001b[0mi\u001b[0m\u001b[0;34m\u001b[0m\u001b[0;34m\u001b[0m\u001b[0m\n\u001b[1;32m     20\u001b[0m     \u001b[0;32mreturn\u001b[0m \u001b[0;34m-\u001b[0m\u001b[0;36m1\u001b[0m\u001b[0;34m\u001b[0m\u001b[0;34m\u001b[0m\u001b[0m\n",
            "\u001b[0;32m<ipython-input-18-bf80973a0bf6>\u001b[0m in \u001b[0;36mstartswith\u001b[0;34m(srcstr, tarstr)\u001b[0m\n\u001b[1;32m      5\u001b[0m       like srcstr=\"abra\" tarstr=\"abracadabra\" '''\n\u001b[1;32m      6\u001b[0m     \u001b[0mpdb\u001b[0m\u001b[0;34m.\u001b[0m\u001b[0mset_trace\u001b[0m\u001b[0;34m(\u001b[0m\u001b[0;34m)\u001b[0m\u001b[0;34m\u001b[0m\u001b[0;34m\u001b[0m\u001b[0m\n\u001b[0;32m----> 7\u001b[0;31m     \u001b[0;32mfor\u001b[0m \u001b[0mi\u001b[0m \u001b[0;32min\u001b[0m \u001b[0mrange\u001b[0m\u001b[0;34m(\u001b[0m\u001b[0mlen\u001b[0m\u001b[0;34m(\u001b[0m\u001b[0msrcstr\u001b[0m\u001b[0;34m)\u001b[0m\u001b[0;34m)\u001b[0m\u001b[0;34m:\u001b[0m \u001b[0;31m# check all characters of srcstr\u001b[0m\u001b[0;34m\u001b[0m\u001b[0;34m\u001b[0m\u001b[0m\n\u001b[0m\u001b[1;32m      8\u001b[0m         \u001b[0;32mif\u001b[0m \u001b[0msrcstr\u001b[0m\u001b[0;34m[\u001b[0m\u001b[0mi\u001b[0m\u001b[0;34m]\u001b[0m \u001b[0;34m!=\u001b[0m \u001b[0mtarstr\u001b[0m\u001b[0;34m[\u001b[0m\u001b[0mi\u001b[0m\u001b[0;34m]\u001b[0m\u001b[0;34m:\u001b[0m  \u001b[0;31m# if does not match return False\u001b[0m\u001b[0;34m\u001b[0m\u001b[0;34m\u001b[0m\u001b[0m\n\u001b[1;32m      9\u001b[0m             \u001b[0;32mreturn\u001b[0m \u001b[0;32mFalse\u001b[0m\u001b[0;34m\u001b[0m\u001b[0;34m\u001b[0m\u001b[0m\n",
            "\u001b[0;31mIndexError\u001b[0m: string index out of range"
          ]
        }
      ]
    },
    {
      "cell_type": "markdown",
      "metadata": {
        "id": "J_Ue4-qUkf5e"
      },
      "source": [
        "Debuggers are powerful tools especially when you have complex code interacting with many modules and functions. However, you need time to master and control it. The good news is if you use an integrated development interface, they are easier to control."
      ]
    },
    {
      "cell_type": "markdown",
      "metadata": {
        "id": "ibcY0KX3N9wC"
      },
      "source": [
        "## Important Concepts\n",
        "\n",
        "We would like our readers to have grasped the following crucial concepts and keywords from this chapter:\n",
        "\n",
        "* Different types of errors: Syntax, type, run-time and logical errors.\n",
        "* How to deal with errors.\n",
        "* Exceptions and exception handling.\n",
        "* Debugging by \"printing\" values, exception handling and a debugger."
      ]
    },
    {
      "cell_type": "markdown",
      "metadata": {
        "id": "seHTtEZoN5Sp"
      },
      "source": [
        "## Further Reading\n",
        "\n",
        "* Python's built-in exceptions: https://docs.python.org/3/library/exceptions.html\n",
        "* Python's document on errors and exceptions: https://docs.python.org/3/tutorial/errors.html"
      ]
    }
  ]
}