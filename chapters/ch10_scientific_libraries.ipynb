{
  "nbformat": 4,
  "nbformat_minor": 0,
  "metadata": {
    "colab": {
      "name": "ch10_scientific_libraries.ipynb",
      "provenance": [],
      "collapsed_sections": [],
      "toc_visible": true
    },
    "kernelspec": {
      "name": "python3",
      "display_name": "Python 3"
    }
  },
  "cells": [
    {
      "cell_type": "markdown",
      "metadata": {
        "id": "Ad11FKoSqtdy"
      },
      "source": [
        "# Chapter 10 - Scientific and Engineering Libraries\n",
        "\n",
        "*(C) Copyright Notice: This chapter is part of the book available at https://pp4e-book.github.io/ and copying, distributing, modifying it requires explicit permission from the authors. See the book page for details: https://pp4e-book.github.io/*\n",
        "\n",
        "In this chapter, we will cover several libraries that are very functional in scientific & engineering-related computing problems. In order to keep our focus on the practical usages of these libraries and considering that this is an introductory textbook, the coverage in this chapter is in not intended to be comprehensive.\n",
        "\n"
      ]
    },
    {
      "cell_type": "markdown",
      "metadata": {
        "id": "Dmxpn9InN54k"
      },
      "source": [
        "## 10.1 Numerical Computing with NumPy\n",
        "\n",
        "NumPy can be considered as a library for working with vectors and matrices. NumPy calls vectors and matrices as *arrays*. \n",
        "\n",
        "<table bgcolor=\"pink\" width=\"75%\" align=center >\n",
        "  <tr></tr>\n",
        "  <tr><td> <font size=3.5> <b> Installation Notes</b>\n",
        "  \n",
        "  To be able to use the NumPy library, you will need to download it \n",
        "  from <a href=\"http://www.numpy.org\">numpy.org</a> and <br> install it on your computer. If you are using a Python package manager\n",
        "  (e.g. pip), <br> you can install it directly using: `$ pip install numpy`. If you are using a Windows/Mac machine, <br> you should install [anaconda](https://docs.anaconda.com/anaconda/install/) first. If you are using Colab or another Jupyter Notebook viewer,<br> the platform may already have numpy installed.  </font> </td></tr>\n",
        " </table> <br>\n",
        "\n"
      ]
    },
    {
      "cell_type": "markdown",
      "metadata": {
        "id": "w6z6XnI0cqna"
      },
      "source": [
        "### 10.1.1 Arrays and Their Basic Properties\n",
        "\n",
        "Let us consider a simple vector and a matrix:\n",
        "$$\n",
        "array1 = \\begin{pmatrix}\n",
        "1 & 2 & 3 \\\\\n",
        "\\end{pmatrix}\n",
        "$$\n",
        "and\n",
        "$$\n",
        "array2 = \\begin{pmatrix}\n",
        "1 & 2 & 3 \\\\\n",
        "4 & 5 & 6 \n",
        "\\end{pmatrix}\n",
        "$$\n",
        "\n",
        "Let us see how we can represent and work with these two arrays in NumPy:\n",
        "\n",
        "```python\n",
        ">>> import numpy as np          # Import the NumPy library\n",
        ">>> array1 = np.array([1, 2, 3])\n",
        ">>> array2 = np.array([[1, 2, 3], [4, 5, 6]])\n",
        ">>> type(array1)\n",
        "<class 'numpy.ndarray'>\n",
        ">>> type(array2)\n",
        "<class 'numpy.ndarray'>\n",
        ">>> array1\n",
        "array([1, 2, 3])\n",
        ">>> array2\n",
        "array([[1, 2, 3],\n",
        "       [4, 5, 6]])\n",
        ">>> print(array2)\n",
        "[[1 2 3]\n",
        " [4 5 6]]\n",
        "```\n",
        "\n",
        "We see from this example that we can pass lists of number as arguments to `np.array` function which creates a NumPy array for us. If the argument is a nested list, each element of the list is used as a row of a 2D array. \n",
        "\n",
        "Arrays can contain any data type as elements; however, we will limit ourselves to numbers (integers and real numbers) in this chapter.\n",
        "\n",
        "**Shapes, Dimensions and Number of Elements of Arrays**. The first thing we can do with a NumPy array is check its shape. For our example `array1` and `array2`, we can do so as follows:\n",
        "\n",
        "```python\n",
        ">>> array1.shape\n",
        "(3,)\n",
        ">>> array2.shape\n",
        "(2,3)\n",
        "```\n",
        "\n",
        "where we can see that `array1` is a one-dimensional array with $3$ elements and `array2` is a $2\\times 3$ array (a 2D matrix). \n",
        "\n",
        "For a 2D array, a shape value `(R, C)` denotes the number of rows first (`R`), which is sometimes also called the first dimension, and then the number of columns (`C`), which is the second dimension. For $n$D arrays with $n>2$, the meaning of the shape values is the same except that there are $n$ values in the shape.\n",
        "\n",
        "In NumPy, we can easily change the shape of an array without losing content:\n",
        "\n",
        "```python\n",
        ">>> array1.reshape((3,1))\n",
        "array([[1],\n",
        "       [2],\n",
        "       [3]])\n",
        ">>> array2.reshape((1,6))\n",
        "array([[1, 2, 3, 4, 5, 6]])\n",
        "``` \n",
        "\n",
        "For many applications, we will need to access the number of dimensions of an array. For this purpose, we can use `.ndim` value:\n",
        "\n",
        "```python\n",
        ">>> array1.ndim\n",
        "1\n",
        ">>> array2.ndim\n",
        "2\n",
        "```\n",
        "\n",
        "The number of elements in an array is another important value that we are frequently interested in. To access that, we can use the `.size` value:\n",
        "\n",
        "```python\n",
        ">>> array1.size\n",
        "3\n",
        ">>> array2.size\n",
        "6\n",
        "```\n",
        "\n",
        "**Accessing elements in arrays**. NumPy allows the same indexing mechanisms that you can use with Python's native container data types. For NumPy, let us look at some examples:\n",
        "\n",
        "```python\n",
        ">>> array1[-1]\n",
        "3\n",
        ">>> array2[1][2]\n",
        "6\n",
        ">>> array2[-1]\n",
        "array([4, 5, 6])\n",
        "```\n",
        "\n",
        "**Creating arrays**. We have already seen that we can create arrays using the `np.array()` function. However, there are other ways for creating arrays conforming to predefined specifications. We can for example create arrays filled with zeros or ones (note that the argument is a tuple describing the shape of the matrix):\n",
        "\n",
        "```python\n",
        ">>> np.zeros((3, 4))\n",
        "array([[0., 0., 0., 0.],\n",
        "       [0., 0., 0., 0.],\n",
        "       [0., 0., 0., 0.]])\n",
        ">>> np.ones((2,6))\n",
        "array([[1., 1., 1., 1., 1., 1.],\n",
        "       [1., 1., 1., 1., 1., 1.]])\n",
        "```\n",
        "Alternatively, we can create an array filled with a range of values using `np.arange()` function:\n",
        "\n",
        "```python\n",
        ">>> np.arange(1,10)     # 1: starting value. 10: ending value (excluded)\n",
        "array([1, 2, 3, 4, 5, 6, 7, 8, 9])\n",
        ">>> np.arange(1,10,2)\n",
        "array([1, 3, 5, 7, 9])\n",
        ">>> np.arange(1,10).reshape((3,3))\n",
        "array([[1, 2, 3],\n",
        "       [4, 5, 6],\n",
        "       [7, 8, 9]])\n",
        "```"
      ]
    },
    {
      "cell_type": "markdown",
      "metadata": {
        "id": "RWo1sKBvcvZS"
      },
      "source": [
        "### 10.1.2 Working with Arrays\n",
        "\n",
        "The previous section covered how we can access elements in an array and properties of an array. Now let us see how the different types of operations we can do with arrays.\n",
        "\n",
        "**Arithmetic, Relational and Membership Operations with Arrays**\n",
        "\n",
        "The arithmetic operations (`+`, `-`, `*`, `/`, `**`), the relational operations (`==`, `<`, `<=`, `>`, `>=`) and the membership operations (`in`, `not in`)   that we can apply on numbers and other data types in Python can be applied on arrays with NumPy. These operations are performed elementwise. This means that the arrays that are provided as operands to a binary arithmetic operator need to have the same shape.\n",
        "\n",
        "Let us see some examples for arithmetic operations:\n",
        "\n",
        "```python\n",
        ">>> A = np.arange(4).reshape((2,2))\n",
        ">>> A\n",
        "array([[0, 1],\n",
        "       [2, 3]])\n",
        ">>> B = np.arange(4, 8).reshape((2,2))\n",
        ">>> B\n",
        "array([[4, 5],\n",
        "       [6, 7]])\n",
        ">>> print(B-A)\n",
        "[[4 4]\n",
        " [4 4]]\n",
        ">>> print(B+A)\n",
        "[[ 4  6]\n",
        " [ 8 10]]\n",
        ">>> A\n",
        "array([[0, 1],\n",
        "       [2, 3]])\n",
        ">>> B\n",
        "array([[4, 5],\n",
        "       [6, 7]])\n",
        "```\n",
        "\n",
        "Note here that these operations create a new array whose elements are the results of applying the operation. Therefore, the original arrays are not modified. If you are interested in in-place operations that modify an existing array during the operation, you can use combined statements such as `+=`, `-=`, `*=`.\n",
        "\n",
        "Relational and membership operations are also applied elementwise and we can easily anticipate the outcomes of such operations, e.g. as follows:\n",
        "\n",
        "```python\n",
        ">>> A < B\n",
        "array([[ True,  True],\n",
        "       [ True,  True]])\n",
        ">>> B > A\n",
        "array([[ True,  True],\n",
        "       [ True,  True]])\n",
        ">>> A > B\n",
        "array([[False, False],\n",
        "       [False, False]])\n",
        ">>> 4 in B\n",
        "True\n",
        ">>> 10 in B\n",
        "False\n",
        "```\n",
        "\n",
        "**Useful Functions**\n",
        "\n",
        "NumPy arrays provide several useful functions already provided. These include:\n",
        "- Standard mathematical function such as exponent, sin, cos, square-root: `np.exp(<array>)`, `np.sin(<array>)`, `np.cos(<array>)`, `np.sqrt(<array>)`. \n",
        "- Minimum and maximum: `<array object>.min()` and `<array object>.max()`.\n",
        "- Summation, mean and standard deviation:  `<array object>.sum()`, `<array object>.mean()` and `<array object>.std()`.\n",
        "\n",
        "Note that minimum, maximum, summation, mean and standard deviation can be applied on the whole array as well as along a pre-specified dimension (specified with an `axis` parameter). Let us see some examples to clarify this important aspect:\n",
        "\n",
        "```python\n",
        ">>> A\n",
        "array([[0, 1],\n",
        "       [2, 3]])\n",
        ">>> A.sum()\n",
        "6\n",
        ">>> A.sum(axis=0)\n",
        "array([2, 4])\n",
        ">>> A.sum(axis=1)\n",
        "array([1, 5])\n",
        ">>> A.sum(axis=2)\n",
        "Traceback (most recent call last):\n",
        "  File \"<stdin>\", line 1, in <module>\n",
        "  File \"/usr/local/lib/python3.7/site-packages/numpy/core/_methods.py\", line 47, in _sum\n",
        "    return umr_sum(a, axis, dtype, out, keepdims, initial, where)\n",
        "numpy.AxisError: axis 2 is out of bounds for array of dimension 2\n",
        "```\n",
        "\n",
        "where we see that axes start being numbered from zero.\n",
        "\n",
        "**Splitting and Combining Arrays**\n",
        "\n",
        "For many problems, we will need to split an array into multiple arrays or combine multiple arrays into one. For splitting arrays, we can use functions such as `np.hsplit` (for horizontal split), `np.vsplit` (for vertical split) and `np.array_split` (for more general split operations). Below is an example for `hsplit` and `vsplit`:\n",
        "\n",
        "```python\n",
        ">>> L = np.arange(16).reshape(4,4)\n",
        ">>> L\n",
        "array([[ 0,  1,  2,  3],\n",
        "       [ 4,  5,  6,  7],\n",
        "       [ 8,  9, 10, 11],\n",
        "       [12, 13, 14, 15]])\n",
        ">>> np.hsplit(L,2)  # Divide L into 2 arrays along the horizontal axis\n",
        "[array([[ 0,  1],\n",
        "       [ 4,  5],\n",
        "       [ 8,  9],\n",
        "       [12, 13]]), array([[ 2,  3],\n",
        "       [ 6,  7],\n",
        "       [10, 11],\n",
        "       [14, 15]])]\n",
        ">>> np.vsplit(L,2)\n",
        "[array([[0, 1, 2, 3],\n",
        "       [4, 5, 6, 7]]), array([[ 8,  9, 10, 11],\n",
        "       [12, 13, 14, 15]])]\n",
        "```\n",
        "\n",
        "Note that the resultant arrays are provided as a Python `list`. Note also that `hsplit` and `vsplit` functions work on even sizes (i.e. they can split into equally sized arrays) -- for general split operations, you can use `array_split`.\n",
        "\n",
        "For combining multiple arrays, we can use `np.hstack` (for horizontal stacking), `np.vstack` (for vertical stacking) and `np.stack` (for more general stacking operations). Below is an example (for the `A` and `B` arrays that we have created before):\n",
        "\n",
        "```python\n",
        ">>> A\n",
        "array([[0, 1],\n",
        "       [2, 3]])\n",
        ">>> B\n",
        "array([[4, 5],\n",
        "       [6, 7]])\n",
        ">>> np.hstack((A, B))\n",
        "array([[0, 1, 4, 5],\n",
        "       [2, 3, 6, 7]])\n",
        ">>> np.vstack((A, B))\n",
        "array([[0, 1],\n",
        "       [2, 3],\n",
        "       [4, 5],\n",
        "       [6, 7]])\n",
        "```\n",
        "\n",
        "**Iterations with Arrays**.\n",
        "\n",
        "NumPy library already provides for us many functionalities that we might need while working with arrays. However, in many circumstances those will not be necessary and we will need to be able to iterate over the elements of arrays and perform custom algorithmic steps. \n",
        "\n",
        "Luckily, iteration with arrays is very similar to how we would perform iterations with other container data types in Python. Let us see some examples:\n",
        "\n",
        "```python\n",
        ">>> L\n",
        "array([[ 0,  1,  2,  3],\n",
        "       [ 4,  5,  6,  7],\n",
        "       [ 8,  9, 10, 11],\n",
        "       [12, 13, 14, 15]])\n",
        ">>> for r in L:\n",
        "...     print(\"row: \", r)\n",
        "... \n",
        "row:  [0 1 2 3]\n",
        "row:  [4 5 6 7]\n",
        "row:  [ 8  9 10 11]\n",
        "row:  [12 13 14 15]\n",
        "```\n",
        "\n",
        "where we see that iteration over a multi-dimensional array iterates over the first dimension. To iterate over each element, we have at least two options:\n",
        "\n",
        "```python\n",
        ">>> for element in L.flat:\n",
        "...     print(element)\n",
        "... \n",
        "0\n",
        "1\n",
        "2\n",
        "3\n",
        "4\n",
        "5\n",
        "6\n",
        "7\n",
        "8\n",
        "9\n",
        "10\n",
        "11\n",
        "12\n",
        "13\n",
        "14\n",
        "15\n",
        ">>> for r in L:\n",
        "...     for element in r:\n",
        "...             print(element)\n",
        "... \n",
        "0\n",
        "1\n",
        "2\n",
        "3\n",
        "4\n",
        "5\n",
        "6\n",
        "7\n",
        "8\n",
        "9\n",
        "10\n",
        "11\n",
        "12\n",
        "13\n",
        "14\n",
        "15\n",
        "```\n",
        "\n",
        "Now let us implement one of the operations we have seen above in Python from scratch as an exercise:\n",
        "\n"
      ]
    },
    {
      "cell_type": "code",
      "metadata": {
        "id": "J-ZboXavyze_",
        "colab": {
          "base_uri": "https://localhost:8080/",
          "height": 173
        },
        "outputId": "6fe34116-3f86-4e77-91d6-639e365589d7"
      },
      "source": [
        "import numpy as np\n",
        "\n",
        "def horizontal_stack(A,B):\n",
        "  \"\"\"A function that combines two 2D arrays A and B. \n",
        "     A and B need to have the same height.\n",
        "  \"\"\"\n",
        "  # Let us get dimensions first and check whether A and B \n",
        "  # are compatible for stacking.\n",
        "  (H_A, W_A) = A.shape\n",
        "  (H_B, W_B) = B.shape\n",
        "  if H_A != H_B: \n",
        "    print(\"Arguments A and B have incompatible heights!\")\n",
        "    return None\n",
        "  # Let us create an empty `result` array:\n",
        "  H_result = H_A #or H_B\n",
        "  W_result = W_A + W_B\n",
        "  result = np.zeros((H_result, W_result))\n",
        "\n",
        "  # Now let us iterate over each position in A and B and place\n",
        "  # their elements into the corresponding positions\n",
        "  for i in range(H_A):\n",
        "    for j in range(W_A):\n",
        "      result[i][j] = A[i][j]\n",
        "    for j in range(W_B):\n",
        "      result[i][j+W_A] = B[i][j]\n",
        "\n",
        "  return result\n",
        "\n",
        "# Let us test our code:\n",
        "M = np.random.randn(2,2) # Create a random 3x4 array\n",
        "N = np.random.randn(2,3) # Create a random 3x6 array\n",
        "print(\"Random array M is:\\n\", M)\n",
        "print(\"Random array N is:\\n\", N)\n",
        "print(\"Horizontal stacking of M and N yields:\\n\", horizontal_stack(M, N))"
      ],
      "execution_count": null,
      "outputs": [
        {
          "output_type": "stream",
          "text": [
            "Random array M is:\n",
            " [[-0.55478637  0.07132481]\n",
            " [-0.42421305 -1.27581716]]\n",
            "Random array N is:\n",
            " [[-0.82105253  0.81587345  0.387333  ]\n",
            " [ 0.65646521 -0.13921063  0.6857726 ]]\n",
            "Horizontal stacking of M and N yields:\n",
            " [[-0.55478637  0.07132481 -0.82105253  0.81587345  0.387333  ]\n",
            " [-0.42421305 -1.27581716  0.65646521 -0.13921063  0.6857726 ]]\n"
          ],
          "name": "stdout"
        }
      ]
    },
    {
      "cell_type": "markdown",
      "metadata": {
        "id": "dFzUsSYIdmAi"
      },
      "source": [
        "### 10.1.3 Linear Algebra with NumPy\n",
        "\n",
        "Now let us give a flavour of the Linear Algebra operations provided by NumPy. Note that some of these operations is provided in the module `numpy.linalg`.\n",
        "\n",
        "\n",
        "\n",
        "**Transpose**.\n",
        "\n",
        "The transpose operation flips a matrix along the diagonal. For an example matrix $A$,\n",
        "\n",
        "$$\n",
        "A = \\begin{pmatrix}\n",
        "1 & 2  \\\\\n",
        "3 & 4  \n",
        "\\end{pmatrix}\n",
        "$$\n",
        "its transpose is the following:\n",
        "$$\n",
        "A^T = \\begin{pmatrix}\n",
        "1 & 3 \\\\\n",
        "2 & 4  \\\\\n",
        "\\end{pmatrix}\n",
        "$$\n",
        "\n",
        "In NumPy, the transpose of a matrix can be easily accessed by accessing its `.T` member variable or by calling its `.transpose()` member function:\n",
        "\n",
        "```python\n",
        ">>> A\n",
        "array([[1, 2],\n",
        "       [3, 4]])\n",
        ">>> A.T\n",
        "array([[1, 3],\n",
        "       [2, 4]])\n",
        ">>> A\n",
        "array([[1, 2],\n",
        "       [3, 4]])\n",
        "```\n",
        "\n",
        "Note that `.T` is simply a member variable of the array object and is not defined as an operation. Try finding the transpose of `A` with `A.transpose()` and see that you obtain the expected result. Note also that the transpose operation does not change the original array.\n",
        "\n",
        "**Inverse**.\n",
        "\n",
        "The inverse of an $n\\times n$ matrix $A$ is an $n\\times n$ matrix $A^{-1}$ that yields an $n\\times n$ identity matrix $I$ when multiplied:\n",
        "$$\n",
        "A \\times A^{-1} = I.\n",
        "$$\n",
        "\n",
        "In NumPy, we can use `np.linalg.inv(<array>)` to find the inverse of a square array. Here is an example:\n",
        "\n",
        "```python\n",
        ">>> A\n",
        "array([[1, 2],\n",
        "       [3, 4]])\n",
        ">>> A_inv = np.linalg.inv(A)\n",
        ">>> A_inv\n",
        "array([[-2. ,  1. ],\n",
        "       [ 1.5, -0.5]])\n",
        "```\n",
        "\n",
        "Let us check whether the inverse was correctly calculated:\n",
        "\n",
        "```python\n",
        ">>> np.matmul(A, A_inv)\n",
        "array([[1.0000000e+00, 0.0000000e+00],\n",
        "       [8.8817842e-16, 1.0000000e+00]])\n",
        "```\n",
        "\n",
        "which is the identity matrix ($I$) except for some rounding error at index $(1,0)$ owing to floating point approximation. However, as we have seen in Chapter 2, while writing our programs, we should compare numbers such that `8.8817842e-16` can be considered to be equal to zero.\n",
        "\n",
        "**Determinant, norm, rank, condition number, trace**\n",
        "\n",
        "While working with matrices, we often require the following properties which can be easily calculated. For the sake of brevity and to keep the focus, we will omit their explanations:\n",
        "\n",
        "| Matrix Property | How to Calculate with NumPy |\n",
        "|:-----:|:-----:|\n",
        "| Determinant ($|A|$ or $det(A)$) | `np.linalg.det(A)`  |\n",
        "| Norm ($||A||$) | `np.linalg.norm(A)` |\n",
        "| Rank ($rank(A)$) | `np.linalg.matrix_rank(A)` |\n",
        "| Condition number ($\\kappa(A)$) | `np.linalg.cond(A)` |\n",
        "| Trace ($tr(A)$) | `np.trace(A)` | \n",
        "\n",
        "**Dot Product, Inner Product, Outer Product, Matrix Multiplication**\n",
        "\n",
        "The product of two matrices can be calculated in different ways:\n",
        "\n",
        "- `np.dot(a, b)`: For vectors (1D arrays), this is equivalent to the dot product (i.e. $\\sum_i \\mathbf{a}_i \\times \\mathbf{b}_i$ for two vectors $\\mathbf{a}$ and $\\mathbf{b}$). For 2D arrays and arrays with more dimensions, the result is matrix multiplication.\n",
        "\n",
        "- `np.inner(a,b)`: For vectors, this is dot product (like `np.dot(a,b)`). For higher-dimensional arrays, the result is a sum product over the last axes. Consider the following example for clarification on this:\n",
        "\n",
        "```python\n",
        ">>> A\n",
        "array([[0, 1],\n",
        "       [2, 3]])\n",
        ">>> B\n",
        "array([[4, 5],\n",
        "       [6, 7]])\n",
        ">>> np.inner(A,B)\n",
        "array([[ 5,  7],\n",
        "       [23, 33]])\n",
        "```\n",
        "\n",
        "The last axes for both `A` and `B` are the horizontal axes. Therefore, each first-axis element of `A` (i.e. [0, 1] and [2,3]) is multiplied with each first-axis element of `B` ([4, 5] and [6, 7]).\n",
        "\n",
        "- `np.outer(a,b)`: Outer product is defined on vectors such that `result[i,j] = a[i] * b[j]`.\n",
        "\n",
        "- `np.matmul(a,b)`: Matrix multiplication of matrices `a` and `b`. The result is simply calculated as $\\textrm{result}_{ij} = \\sum_k \\mathbf{a}_{ik} \\mathbf{b}_{kj}$, as also illustrated in Figure 10.1.\n",
        "\n",
        "<center>\n",
        "<img src=\"https://upload.wikimedia.org/wikipedia/commons/thumb/e/eb/Matrix_multiplication_diagram_2.svg/2560px-Matrix_multiplication_diagram_2.svg.png\" width=\"50%\" align=center><br>\n",
        "\n",
        "*Figure 10.1. Illustration of matrix multiplication of two matrices A and B. (Figure source: <a href=\"https://en.wikipedia.org/wiki/Matrix_multiplication\">Wikipedia</a>)*\n",
        "</center>\n",
        "\n",
        "**Eigenvectors and Eigenvalues**\n",
        "\n",
        "Explaining eigenvectors and eigenvalues is beyond the scope of the book. However, we can briefly remind that eigenvectors and eigenvalues are the variables that satisfy the following for a matrix $A$ which can be considered as a transformation in a vector space:\n",
        "$$\n",
        "Av = \\lambda v.\n",
        "$$\n",
        "In other words, $v$ is such a vector that $A$ just changes its scale by a factor $\\lambda$.\n",
        "\n",
        "In NumPy, eigenvectors and eigenvalues can be obtained by `np.linalg.eigh(<array>)` which returns a tuple with the following two elements:\n",
        "\n",
        "1. Eigenvalues (an array of $\\lambda$) in decreasing order.\n",
        "2. Eigenvectors ($v$) as a column matrix. I.e. `v[:, i]` is the eigenvector corresponding to the eigenvalue $\\lambda[i]$. \n",
        "\n",
        "**Matrix Decompositions**\n",
        "\n",
        "Numpy also provides many frequently used matrix decompositions, as listed below:\n",
        "\n",
        "| Matrix Decomposition | How to Calculate with NumPy |\n",
        "|:-----:|:-----:|\n",
        "| Cholesky decomposition | `linalg.cholesky(A)`  |\n",
        "| QR factorization | `np.linalg.qr(A)` |\n",
        "| Singular Value Decomposition | `linalg.svd(a)` |\n",
        "\n",
        "**Solve a linear system of equations**\n",
        "\n",
        "Given a linear system of equations as follows:\n",
        "\n",
        "$$\n",
        "  a_{11} x_1 + a_{12} x_2 + ... + a_{1n} x_n = b_1,\\\\\n",
        "  a_{21} x_1 + a_{22} x_2 + ... + a_{2n} x_n = b_2,\\\\\n",
        "  ... \\\\\n",
        "  a_{n1} x_1 + a_{22} x_2 + ... + a_{nn} x_n = b_n,\\\\\n",
        "$$\n",
        "\n",
        "which can be represented in compact form as:\n",
        "\n",
        "$$\n",
        "\\mathbf{a} \\mathbf{x} = \\mathbf{b},\n",
        "$$\n",
        "\n",
        "can be solved in NumPy using `np.linalg.solve(a, b)`.\n",
        "\n",
        "Below is an easy example:\n",
        "\n",
        "```python\n",
        ">>> A\n",
        "array([[0, 1],\n",
        "       [2, 3]])\n",
        ">>> B\n",
        "array([3, 4])\n",
        ">>> np.linalg.solve(A,B)\n",
        "array([-2.5,  3. ])\n",
        ">>> X = np.linalg.solve(A,B)\n",
        ">>> X\n",
        "array([-2.5,  3. ])\n",
        "```\n",
        "\n",
        "which can be easily verified using multiplication:\n",
        "\n",
        "```python\n",
        ">>> np.inner(A, X)\n",
        "array([3., 4.])\n",
        "```\n",
        "\n",
        "which is equal to `B`."
      ]
    },
    {
      "cell_type": "markdown",
      "metadata": {
        "id": "ObwyqWXp4_xm"
      },
      "source": [
        "### 10.1.4 Why Use NumPy? Efficiency Benefits\n",
        "\n",
        "The previous sections have illustrated how capable the NumPy library is and how easily we can do many calculations with the pre-defined functionalities e.g. in its linear algebra module. Since we can access each element of an array using Python's indexing mechanisms, we can be tempted to implementing those functionalities ourselves, from scratch.\n",
        "\n",
        "However, those functionalities in NumPy are *not* implemented in Python but in C, another high-level programming language where programs are directly compiled into machine executable binary code. Therefore, they would execute much faster in comparison to what we would be implementing in Python. \n",
        "\n",
        "The following example illustrates this. When executed, you should see an order of $~$1000 difference in running time. \n",
        "\n",
        "In other words, you are strongly advised, whenever possible, to use NumPy's existing functions and routines, and to write every operation in vector or matrix form as much as possible if you are working with matrices."
      ]
    },
    {
      "cell_type": "code",
      "metadata": {
        "id": "NRcAts9l_Bgi",
        "colab": {
          "base_uri": "https://localhost:8080/",
          "height": 155
        },
        "outputId": "d41c7442-7e2b-4bac-bb87-7e5990c56cec"
      },
      "source": [
        "import numpy as np\n",
        "from time import time\n",
        "\n",
        "def matmul_2D(M, N):\n",
        "  \"\"\"Custom defined matrix multiplication for two 2D matrices M and N\"\"\"\n",
        "  (H_M, W_M) = M.shape\n",
        "  (H_N, W_N) = N.shape\n",
        "  if W_M != H_N: \n",
        "    print(\"Dimensions of M and N mismatch!\")\n",
        "    return None\n",
        "\n",
        "  result = np.zeros((H_M, W_N))\n",
        "  for i in range(H_M):\n",
        "    for j in range(W_N):\n",
        "      for k in range(W_M):\n",
        "        result[i][j] += M[i][k] * N[k][j]\n",
        "  \n",
        "  return result\n",
        "\n",
        "# First let us check that our code works as expected\n",
        "M = np.random.randn(2,3)\n",
        "N = np.random.randn(3,4)\n",
        "\n",
        "print(\"Our matmul_2D result: \\n\", matmul_2D(M, N))\n",
        "print(\"Correct result: \\n\", np.matmul(M, N))\n",
        "\n",
        "# Now let us measure the running-time performances\n",
        "# Create two 2D large matrices\n",
        "M = np.random.randn(100, 100)\n",
        "N = np.random.randn(100, 100)\n",
        "\n",
        "# Option 1: Use NumPy's matrix multiplication\n",
        "t1 = time()\n",
        "result = np.matmul(M, N)\n",
        "t2 = time()\n",
        "print(\"NumPy's matmul took \", t2-t1, \"ms.\")\n",
        "\n",
        "# Option 2: Use our matmul_2D function\n",
        "t1 = time()\n",
        "result = matmul_2D(M, N)\n",
        "t2 = time()\n",
        "print(\"Our matmul_2D function took \", t2-t1, \"ms.\")"
      ],
      "execution_count": null,
      "outputs": [
        {
          "output_type": "stream",
          "text": [
            "Our matmul_2D result: \n",
            " [[1.44819064 2.44425364 3.19640633 0.98131108]\n",
            " [1.91135161 2.66745824 4.09341735 1.37928184]]\n",
            "Correct result: \n",
            " [[1.44819064 2.44425364 3.19640633 0.98131108]\n",
            " [1.91135161 2.66745824 4.09341735 1.37928184]]\n",
            "NumPy's matmul took  0.008047342300415039 ms.\n",
            "Our matmul_2D function took  1.2613885402679443 ms.\n"
          ],
          "name": "stdout"
        }
      ]
    },
    {
      "cell_type": "markdown",
      "metadata": {
        "id": "QaQS0d4crKfP"
      },
      "source": [
        "## 10.2 Scientific Computing with SciPy\n",
        "\n",
        "SciPy is a library that includes many methods and facilities for Scientific Computing. It is closely linked with NumPy so much that NumPy needs to be imported first to be able to use SciPy. \n",
        "\n",
        "<table bgcolor=\"pink\" width=\"75%\" align=center >\n",
        "  <tr></tr>\n",
        "  <tr><td> <font size=3.5> <b> Installation Notes</b>\n",
        "  \n",
        "  To be able to use the SciPy library, you will need to download it \n",
        "  from <a href=\"http://www.scipy.org\">scipy.org</a> and <br> install it on your computer. If you are using a Python package manager\n",
        "  (e.g. pip), <br> you can install it directly using: `$ pip install scipy`. If you are using a Windows/Mac machine, <br> you should install <a href=\"https://docs.anaconda.com/anaconda/install/\">anaconda</a> first. If you are using Colab or another Jupyter Notebook viewer,<br> the platform may already have scipy installed.\n",
        "  </font> </td></tr>\n",
        " </table> <br>\n",
        "\n",
        "Below is a list of some modules provided by SciPy. Even a brief coverage of these modules is not feasible in a chapter. However, we will see an example in Chapter 12 using SciPy's `stats` and `optimize` modules.\n",
        "\n",
        "| Module | Description |\n",
        "|:-----:|:-----:|\n",
        "cluster | Clustering algorithms\n",
        "constants | Physical and mathematical constants\n",
        "<font color=red>fftpack</font> | Fast Fourier Transform routines\n",
        "<font color=red>integrate</font> | Integration and ordinary differential equation solvers\n",
        "<font color=red>interpolate</font> | Interpolation and smoothing splines\n",
        "io | Input and Output\n",
        "<font color=red>linalg</font> | Linear algebra\n",
        "ndimage | N-dimensional image processing\n",
        "odr | Orthogonal distance regression\n",
        "<font color=red>optimize</font> | Optimization and root-finding routines\n",
        "<font color=red>signal</font> | Signal processing\n",
        "sparse | Sparse matrices and associated routines\n",
        "spatial | Spatial data structures and algorithms\n",
        "special | Special functions\n",
        "<font color=red>stats</font> | Statistical distributions and functions\n",
        "\n"
      ]
    },
    {
      "cell_type": "markdown",
      "metadata": {
        "id": "9f6BxVYANqJc"
      },
      "source": [
        "## 10.3 Data handling & analysis with Pandas\n",
        "\n",
        "Pandas is a very handy library for working with files with different formats and analyzing data in different format. To keep things simple, in this section we will just look at CSV files. Note that the facilities for other formats are very similar.\n",
        "\n",
        "<table bgcolor=\"pink\" width=\"75%\" align=center >\n",
        "  <tr></tr>\n",
        "  <tr><td> <font size=3.5> <b> Installation Notes</b>\n",
        "  \n",
        "  To be able to use the Pandas library, you will need to download it \n",
        "  from <a href=\"https://pandas.pydata.org/\">pandas.pydata.org</a> and <br> install it on your computer. If you are using a Python package manager\n",
        "  (e.g. pip), <br> you can install it directly using: `$ pip install pandas`. If you are using a Windows/Mac machine, <br> you should install <a href=\"https://docs.anaconda.com/anaconda/install/\">anaconda</a> first. If you are using Colab or another Jupyter Notebook viewer,<br> the platform may already have pandas installed.\n",
        "  </font> </td></tr>\n",
        " </table> <br>"
      ]
    },
    {
      "cell_type": "markdown",
      "metadata": {
        "id": "twqhwJLLoa_v"
      },
      "source": [
        "### 10.3.1 Supported File Formats\n",
        "\n",
        "As we have seen before, Python already provides facilities for reading and writing files. However, if you need to work with \"structured\" files such as CSV, XML, XLSX, JSON, HTML, the native facilities of Python would need to extended significantly. \n",
        "\n",
        "That's where Pandas comes in. It complements Python's native facilities to be able to work with structured files for both reading data from them and creating new files. Below is a list of the different file formats that Pandas supports and the corresponding functions for reading or writing them. \n",
        "\n",
        "<center>\n",
        " \n",
        "*Table 10.1. The file formats supported by the Pandas library. The table is adapted from and the reader is encouraged to check the following page to see a more up-to-date list:* <a href=\"https://pandas.pydata.org/pandas-docs/stable/user_guide/io.html\">Pandas IO Reference</a>.\n",
        "\n",
        "</center>\n",
        "\n",
        "| Format Type | Data Description | Reader | Writer| \n",
        "|:-----:|:-----:|:-----:|:-----:|\n",
        "text | CSV | read_csv | to_csv | \n",
        "text | Fixed-Width Text File | read_fwf | - | \n",
        "text | JSON | read_json | to_json |\n",
        "text | HTML | read_html | to_html |\n",
        "text | Local clipboard | read_clipboard | to_clipboard |\n",
        "  -    | MS Excel | read_excel | to_excel | \n",
        "binary | OpenDocument | read_excel |  - |\n",
        "binary | HDF5 Format | read_hdf | to_hdf |\n",
        "binary | Feather Format | read_feather | to_feather |\n",
        "binary | Parquet Format | read_parquet | to_parquet |\n",
        "binary | ORC Format | read_orc |  - |\n",
        "binary | Msgpack | read_msgpack | to_msgpack |\n",
        "binary | Stata | read_stata | to_stata |\n",
        "binary | SAS | read_sas | - |\n",
        "binary | SPSS | read_spss | - |\n",
        "binary | Python Pickle Format | read_pickle | to_pickle |\n",
        "SQL | SQL | read_sql |  to_sql |\n",
        "SQL | Google BigQuery | read_gbq | to_gbq |"
      ]
    },
    {
      "cell_type": "markdown",
      "metadata": {
        "id": "KYSY65h0s7H9"
      },
      "source": [
        "### 10.3.2 Data Frames\n",
        "\n",
        "Pandas library is built on top of a data type called `DataFrame` which is used to store all types of data while working with Pandas. In the following, we will illustrate how you can get your data into a `DataFrame` object:\n",
        "\n",
        "**1. Loading data from a file**.  If you have your data in a file that is supported by Pandas, you can use its reader for directly obtaining a `DataFrame` object. Let us look at an example CSV file:\n"
      ]
    },
    {
      "cell_type": "code",
      "metadata": {
        "id": "m2b8lPRNvVJb",
        "colab": {
          "base_uri": "https://localhost:8080/"
        },
        "outputId": "f85220b1-75c8-405d-fbb8-237bcce2b76d"
      },
      "source": [
        "# Download an example CSV file:\n",
        "!wget -nc https://raw.githubusercontent.com/sinankalkan/CENG240/master/figures/ch10_example.csv\n",
        "\n",
        "# Import the necessary libraries\n",
        "import pandas as pd\n",
        "\n",
        "# Read the file named 'ch10_example.csv'\n",
        "df = pd.read_csv('ch10_example.csv')\n",
        "\n",
        "# Print the CSV file's contents:\n",
        "print(\"The CSV file contains the following:\\n\", df, \"\\n\")\n",
        "\n",
        "# Check the types of each column\n",
        "df.dtypes"
      ],
      "execution_count": null,
      "outputs": [
        {
          "output_type": "stream",
          "text": [
            "--2021-04-13 19:47:42--  https://raw.githubusercontent.com/sinankalkan/CENG240/master/figures/ch10_example.csv\n",
            "Resolving raw.githubusercontent.com (raw.githubusercontent.com)... 185.199.108.133, 185.199.109.133, 185.199.110.133, ...\n",
            "Connecting to raw.githubusercontent.com (raw.githubusercontent.com)|185.199.108.133|:443... connected.\n",
            "HTTP request sent, awaiting response... 200 OK\n",
            "Length: 162 [text/plain]\n",
            "Saving to: ‘ch10_example.csv’\n",
            "\n",
            "\rch10_example.csv      0%[                    ]       0  --.-KB/s               \rch10_example.csv    100%[===================>]     162  --.-KB/s    in 0s      \n",
            "\n",
            "2021-04-13 19:47:42 (6.23 MB/s) - ‘ch10_example.csv’ saved [162/162]\n",
            "\n",
            "The CSV file contains the following:\n",
            "       Name  Grade  Age\n",
            "0     Jack   40.2   20\n",
            "1   Amanda   30.0   25\n",
            "2     Mary   60.2   19\n",
            "3     John   85.0   30\n",
            "4    Susan   70.0   28\n",
            "5     Bill   58.0   28\n",
            "6     Jill   90.0   27\n",
            "7      Tom   90.0   24\n",
            "8    Jerry   72.0   26\n",
            "9   George   79.0   22\n",
            "10  Elaine   82.0   23 \n",
            "\n"
          ],
          "name": "stdout"
        },
        {
          "output_type": "execute_result",
          "data": {
            "text/plain": [
              "Name      object\n",
              "Grade    float64\n",
              "Age        int64\n",
              "dtype: object"
            ]
          },
          "metadata": {
            "tags": []
          },
          "execution_count": 5
        }
      ]
    },
    {
      "cell_type": "markdown",
      "metadata": {
        "id": "B5y2cjn8wgGZ"
      },
      "source": [
        "Note the following critical details:  \n",
        "  - `read_csv` file automatically understood that our CSV file had a header (\"Name\", \"Grade\" and \"Age\"). If your file does not have a header, you can call `read_csv` with the `header` parameter set to `None` as follows: `pd.read_csv(filename, header=None)`.\n",
        "\n",
        "  - `read_csv` read all columns in the CSV file. If you wish to load only some of the columns (e.g. 'Name', 'Age' in our example), you can relay this using the `usecols` parameter as follows: `pd.read_csv(filename, usecols=['Name', 'Age'])`.\n",
        "\n",
        "**2. Convert Python data into a `DataFrame`**. Alternatively, you can have already a Python data object which you can provide as argument to a `DataFrame` constructor as illustrated with the following example:"
      ]
    },
    {
      "cell_type": "code",
      "metadata": {
        "id": "jnhm0Me9zRhW",
        "colab": {
          "base_uri": "https://localhost:8080/"
        },
        "outputId": "98e4c55d-4c77-412d-a4d8-ad43e609776f"
      },
      "source": [
        "lst = [('Jack', 40.2, 20), ('Amanda',\t30, 25), ('Mary',\t60.2, 19)]\n",
        "df = pd.DataFrame(data = lst, columns=['Name', 'Grade', 'Age'])\n",
        "print(df)"
      ],
      "execution_count": null,
      "outputs": [
        {
          "output_type": "stream",
          "text": [
            "     Name  Grade  Age\n",
            "0    Jack   40.2   20\n",
            "1  Amanda   30.0   25\n",
            "2    Mary   60.2   19\n"
          ],
          "name": "stdout"
        }
      ]
    },
    {
      "cell_type": "markdown",
      "metadata": {
        "id": "I-fy39wi59Gn"
      },
      "source": [
        "  In many cases, we will require the rows to be associated with names, or sometimes called as keys. For example, instead of referring to a row as \"the row at index 1\", we might require accessing a row with a non-integer value. This can be achieved as follows (note how the printed DataFrame looks different):"
      ]
    },
    {
      "cell_type": "code",
      "metadata": {
        "id": "lmYwrFYv6Z7Z",
        "colab": {
          "base_uri": "https://localhost:8080/"
        },
        "outputId": "e9822125-2b36-4049-eb6a-748ea345d328"
      },
      "source": [
        "names = ['Jack', 'Amanda', 'Mary']\n",
        "lst = [(40.2, 20), (30, 25), (60.2, 19)]\n",
        "df = pd.DataFrame(data = lst, index=names, columns=['Grade', 'Age'])\n",
        "print(df)"
      ],
      "execution_count": null,
      "outputs": [
        {
          "output_type": "stream",
          "text": [
            "        Grade  Age\n",
            "Jack     40.2   20\n",
            "Amanda   30.0   25\n",
            "Mary     60.2   19\n"
          ],
          "name": "stdout"
        }
      ]
    },
    {
      "cell_type": "markdown",
      "metadata": {
        "id": "l3DbxXZ8gxHs"
      },
      "source": [
        "Alternatively, we can obtain a DataFrame from a dictionary, which might be easier for us to create data column-wise -- note that the column names are obtained from the keys of the dictionary:"
      ]
    },
    {
      "cell_type": "code",
      "metadata": {
        "colab": {
          "base_uri": "https://localhost:8080/"
        },
        "id": "W5z22I9Gg8FC",
        "outputId": "6eee6c44-1f2e-4d56-bea9-31fbf4507c5f"
      },
      "source": [
        "d = {'Grade': [40.2, 30, 60.2],\n",
        "      'Age': [20, 25, 19]}\n",
        "names = ['Jack', 'Amanda', 'Mary']\n",
        "df = pd.DataFrame(data = d, index=names)\n",
        "print(df)"
      ],
      "execution_count": null,
      "outputs": [
        {
          "output_type": "stream",
          "text": [
            "        Grade  Age\n",
            "Jack     40.2   20\n",
            "Amanda   30.0   25\n",
            "Mary     60.2   19\n"
          ],
          "name": "stdout"
        }
      ]
    },
    {
      "cell_type": "markdown",
      "metadata": {
        "id": "wOUuRZZiAfLj"
      },
      "source": [
        "### 10.3.3 Accessing Data with DataFrames\n",
        "\n",
        "We can access data columnwise or row-wise. \n",
        "\n",
        "**1. Columnwise access.**\n",
        "\n",
        "For columnwise access, you can use `df['Grade']`, which returns a sequence of values. To access a certain element in that sequence, you can either use an integer index (as in `df['Grade'][1]`) or named index if it has been defined (as in `df['Grade']['Amanda']`). The following example illustrates this for the example `DataFrame` we have created above:\n",
        "```python\n",
        ">>> print(df)\n",
        "        Grade  Age\n",
        "Jack     40.2   20\n",
        "Amanda   30.0   25\n",
        "Mary     60.2   19\n",
        ">>> print(df['Grade'][1])\n",
        "30.0\n",
        ">>> print(df['Grade']['Amanda'])\n",
        "30.0\n",
        "```\n",
        "\n",
        "**2. Rowwise access.**\n",
        "\n",
        "To access a particular row, you can either use integer indexes with `df.iloc[<row index>]` or `df.loc[<row name>]` if a named index is defined. This is illustrated below:\n",
        "\n",
        "```python\n",
        ">>> print(df)\n",
        "        Grade  Age\n",
        "Jack     40.2   20\n",
        "Amanda   30.0   25\n",
        "Mary     60.2   19\n",
        ">>> print(df.iloc[1])\n",
        "Grade    30.0\n",
        "Age      25.0\n",
        "Name: Amanda, dtype: float64\n",
        ">>> print(df.loc['Amanda'])\n",
        "Grade    30.0\n",
        "Age      25.0\n",
        "Name: Amanda, dtype: float64\n",
        "``` \n",
        "  You can also provide both column index and name index in a single operation, i.e. `[<row index>, <column index>]` or `[<row name>, <column name>]` as illustrated below: \n",
        "\n",
        "  ```python\n",
        "  >>> df.loc['Amanda','Grade']\n",
        "  30.0\n",
        "  >>> df.iloc[1, 1]\n",
        "  25\n",
        "  ```\n",
        "  While accessing a `DataFrame` with integer indexes, you can also use Python's slicing; i.e. `[start:end:step]` indexing."
      ]
    },
    {
      "cell_type": "markdown",
      "metadata": {
        "id": "oHj5560S0xBd"
      },
      "source": [
        "### 10.3.4 Modifying Data with DataFrames\n",
        "\n",
        "Although modifying data in a `DataFrame` is simple, you need to be careful about one crucial concept: Let us say you use column and row names to change the contents of a cell and you access first the column and then the corresponding row as follows:\n",
        "\n",
        "```python\n",
        ">>> print(df)\n",
        "        Grade  Age\n",
        "Jack     40.2   20\n",
        "Amanda   30.0   25\n",
        "Mary     60.2   19\n",
        ">>> df['Grade']['Amanda'] = 45\n",
        "/usr/local/lib/python3.6/dist-packages/ipykernel_launcher.py:6: SettingWithCopyWarning: \n",
        "A value is trying to be set on a copy of a slice from a DataFrame\n",
        "See the caveats in the documentation: https://pandas.pydata.org/pandas-docs/stable/user_guide/indexing.html#returning-a-view-versus-a-copy\n",
        "```\n",
        "  \n",
        "This is called *chained indexing* and Pandas will give you a warning that you are modifying a `DataFrame` that was *returned* while accessing columns or rows in your original `DataFrame`: `df['Grade']` returns a direct access for the original  `Grade` column or a copy to it and depending on how your data is structured and stored in the memory, the end result may be different and your change might not be reflected on the original `DataFrame`. \n",
        "\n",
        "Instead, you should use a single access operation as illustrated below (you may do this with `loc` and `iloc` as well):\n",
        "\n",
        "```python\n",
        ">>> print(df)\n",
        "        Grade  Age\n",
        "Jack     40.2   20\n",
        "Amanda   30.0   25\n",
        "Mary     60.2   19\n",
        ">>> df.loc['Amanda','Grade'] = 45\n",
        ">>> df.iloc[1,1] = 30\n",
        ">>> print(df)\n",
        "        Grade  Age\n",
        "Jack     40.2   20\n",
        "Amanda   45.0   30\n",
        "Mary     60.2   19\n",
        "```\n",
        "\n",
        "With these facilities, you can now access every item in a `DataFrame` and modify them. "
      ]
    },
    {
      "cell_type": "markdown",
      "metadata": {
        "id": "me1FrxNS5n9E"
      },
      "source": [
        "### 10.3.5 Analyzing Data with DataFrames \n",
        "\n",
        "Once we have our data in a `DataFrame`, we can use Pandas's built-in facilities for analyzing our data. One very simple way to analyze data is via descriptive statistics, which you can access with `df.describe()` and `df[<column>].value_counts()`:\n"
      ]
    },
    {
      "cell_type": "code",
      "metadata": {
        "id": "RZK8K3FmyVCD",
        "colab": {
          "base_uri": "https://localhost:8080/",
          "height": 357
        },
        "outputId": "f57d7668-7283-4dfd-980b-d5729eb9a5d4"
      },
      "source": [
        "print(df)\n",
        "df.describe()"
      ],
      "execution_count": null,
      "outputs": [
        {
          "output_type": "stream",
          "text": [
            "        Grade  Age\n",
            "Jack     40.2   20\n",
            "Amanda   30.0   25\n",
            "Mary     60.2   19\n"
          ],
          "name": "stdout"
        },
        {
          "output_type": "execute_result",
          "data": {
            "text/html": [
              "<div>\n",
              "<style scoped>\n",
              "    .dataframe tbody tr th:only-of-type {\n",
              "        vertical-align: middle;\n",
              "    }\n",
              "\n",
              "    .dataframe tbody tr th {\n",
              "        vertical-align: top;\n",
              "    }\n",
              "\n",
              "    .dataframe thead th {\n",
              "        text-align: right;\n",
              "    }\n",
              "</style>\n",
              "<table border=\"1\" class=\"dataframe\">\n",
              "  <thead>\n",
              "    <tr style=\"text-align: right;\">\n",
              "      <th></th>\n",
              "      <th>Grade</th>\n",
              "      <th>Age</th>\n",
              "    </tr>\n",
              "  </thead>\n",
              "  <tbody>\n",
              "    <tr>\n",
              "      <th>count</th>\n",
              "      <td>3.000000</td>\n",
              "      <td>3.000000</td>\n",
              "    </tr>\n",
              "    <tr>\n",
              "      <th>mean</th>\n",
              "      <td>43.466667</td>\n",
              "      <td>21.333333</td>\n",
              "    </tr>\n",
              "    <tr>\n",
              "      <th>std</th>\n",
              "      <td>15.362725</td>\n",
              "      <td>3.214550</td>\n",
              "    </tr>\n",
              "    <tr>\n",
              "      <th>min</th>\n",
              "      <td>30.000000</td>\n",
              "      <td>19.000000</td>\n",
              "    </tr>\n",
              "    <tr>\n",
              "      <th>25%</th>\n",
              "      <td>35.100000</td>\n",
              "      <td>19.500000</td>\n",
              "    </tr>\n",
              "    <tr>\n",
              "      <th>50%</th>\n",
              "      <td>40.200000</td>\n",
              "      <td>20.000000</td>\n",
              "    </tr>\n",
              "    <tr>\n",
              "      <th>75%</th>\n",
              "      <td>50.200000</td>\n",
              "      <td>22.500000</td>\n",
              "    </tr>\n",
              "    <tr>\n",
              "      <th>max</th>\n",
              "      <td>60.200000</td>\n",
              "      <td>25.000000</td>\n",
              "    </tr>\n",
              "  </tbody>\n",
              "</table>\n",
              "</div>"
            ],
            "text/plain": [
              "           Grade        Age\n",
              "count   3.000000   3.000000\n",
              "mean   43.466667  21.333333\n",
              "std    15.362725   3.214550\n",
              "min    30.000000  19.000000\n",
              "25%    35.100000  19.500000\n",
              "50%    40.200000  20.000000\n",
              "75%    50.200000  22.500000\n",
              "max    60.200000  25.000000"
            ]
          },
          "metadata": {
            "tags": []
          },
          "execution_count": 4
        }
      ]
    },
    {
      "cell_type": "code",
      "metadata": {
        "id": "uwn5qjKLy2p5",
        "colab": {
          "base_uri": "https://localhost:8080/",
          "height": 86
        },
        "outputId": "bb994b60-8301-49c1-bd43-9286b64056bc"
      },
      "source": [
        "df['Age'].value_counts()"
      ],
      "execution_count": null,
      "outputs": [
        {
          "output_type": "execute_result",
          "data": {
            "text/plain": [
              "19    1\n",
              "25    1\n",
              "20    1\n",
              "Name: Age, dtype: int64"
            ]
          },
          "metadata": {
            "tags": []
          },
          "execution_count": 13
        }
      ]
    },
    {
      "cell_type": "markdown",
      "metadata": {
        "id": "PNWqscCpw2Ip"
      },
      "source": [
        "Apart from these descriptive functions, Pandas provides functions for sorting (using `.sort_values()` function), finding the maximum or the minimum (using `.max()` or `.min()` functions) or finding the largest or smallest n values (using `.nsmallest()` or `.nlargest()` functions: "
      ]
    },
    {
      "cell_type": "code",
      "metadata": {
        "id": "Hq3KXPe8zXkT",
        "colab": {
          "base_uri": "https://localhost:8080/"
        },
        "outputId": "fb2e2088-2883-42a7-a38c-43565786e44e"
      },
      "source": [
        "print(\"Maximum grade is: \", df['Grade'].max())\n",
        "print(\"\\nRecords sorted according to age:\\n\", df.sort_values(by=\"Age\"))\n",
        "print(\"\\n\\nTop two grades are:\\n\", df['Grade'].nlargest(2))"
      ],
      "execution_count": null,
      "outputs": [
        {
          "output_type": "stream",
          "text": [
            "Maximum grade is:  60.2\n",
            "\n",
            "Records sorted according to age:\n",
            "         Grade  Age\n",
            "Mary     60.2   19\n",
            "Jack     40.2   20\n",
            "Amanda   30.0   25\n",
            "\n",
            "\n",
            "Top two grades are:\n",
            " Mary    60.2\n",
            "Jack    40.2\n",
            "Name: Grade, dtype: float64\n"
          ],
          "name": "stdout"
        }
      ]
    },
    {
      "cell_type": "markdown",
      "metadata": {
        "id": "3ldih4A20IeQ"
      },
      "source": [
        "Note that, the displayed output includes the names because we selected names as the indices for accessing the rows. "
      ]
    },
    {
      "cell_type": "markdown",
      "metadata": {
        "id": "6_BC7MTMw21G"
      },
      "source": [
        "### 10.3.6 Presenting Data in DataFrames\n",
        "\n",
        "Pandas provides a very easy mechanism for plotting your data via `.plot()` function. Examples are provided below to illustrate how you can plot your own data. This plotting facility is provided by the Matplotlib which we will see next. If you are not using Colab, you need to use the following method to show the plot: `df.plot().figure.show()`"
      ]
    },
    {
      "cell_type": "code",
      "metadata": {
        "id": "E-32Xoyy0waV",
        "colab": {
          "base_uri": "https://localhost:8080/",
          "height": 265
        },
        "outputId": "768e990c-1f15-4b4f-812a-c829e5a04d59"
      },
      "source": [
        "#Plots all columns in different colours\n",
        "df.plot()"
      ],
      "execution_count": null,
      "outputs": [
        {
          "output_type": "display_data",
          "data": {
            "image/png": "[encoded data removed]",
            "text/plain": [
              "<Figure size 432x288 with 1 Axes>"
            ]
          },
          "metadata": {
            "tags": [],
            "needs_background": "light"
          }
        }
      ]
    },
    {
      "cell_type": "code",
      "metadata": {
        "id": "n2S08ZgB1NFd",
        "colab": {
          "base_uri": "https://localhost:8080/",
          "height": 282
        },
        "outputId": "0ca2048b-e229-4240-99b9-ef59de78bcf5"
      },
      "source": [
        "# Plots a single column\n",
        "df['Age'].plot()"
      ],
      "execution_count": null,
      "outputs": [
        {
          "output_type": "execute_result",
          "data": {
            "text/plain": [
              "<matplotlib.axes._subplots.AxesSubplot at 0x7fcd364ab048>"
            ]
          },
          "metadata": {
            "tags": []
          },
          "execution_count": 5
        },
        {
          "output_type": "display_data",
          "data": {
            "image/png": "[encoded data removed]",
            "text/plain": [
              "<Figure size 432x288 with 1 Axes>"
            ]
          },
          "metadata": {
            "tags": [],
            "needs_background": "light"
          }
        }
      ]
    },
    {
      "cell_type": "markdown",
      "metadata": {
        "id": "eZVt_4cNNrIe"
      },
      "source": [
        "## 10.4 Plotting data with Matplotlib\n",
        "\n",
        "Matplotlib is a very capable library for drawing different types of plots in Python. It is very well integrated with Numpy, Scipy and Pandas, and therefore, all these libraries are very frequently used together seamlessly. \n",
        "\n",
        "<table bgcolor=\"pink\" width=\"75%\" align=center >\n",
        "  <tr></tr>\n",
        "  <tr><td> <font size=3.5> <b> Installation Notes</b>\n",
        "  \n",
        "  To be able to use the matplotlib library, you will need to download it \n",
        "  from <a href=\"https://matplotlib.org/\">https://matplotlib.org/</a> and <br> install it on your computer. If you are using a Python package manager\n",
        "  (e.g. pip), <br> you can install it directly using: `$ pip install matplotlib`. If you are using a Windows/Mac machine,<br> you should install <a href=\"https://docs.anaconda.com/anaconda/install/\">anaconda</a> first. If you are using Colab or another Jupyter Notebook viewer,<br> the platform may already have matplotlib installed.\n",
        "  </font> </td></tr>\n",
        " </table> <br>"
      ]
    },
    {
      "cell_type": "markdown",
      "metadata": {
        "id": "HP9rUvxb2hIf"
      },
      "source": [
        "### 10.4.1 Parts of a Figure\n",
        "A figure consists of the following elements (see also Figure 10.4.1):\n",
        "- Title of the figure.\n",
        "- Axes, together with their ticks, tick labels, and axis labels.\n",
        "- The canvas of plot, which consists of a drawing of your data in the form of a dots (scatter plot), lines (line plot), bars (bar plot), surfaces etc.\n",
        "- Legend, which informs the perceiver about the different plots in the canvas. \n",
        "\n",
        "<center>\n",
        "<img src=\"https://matplotlib.org/_images/anatomy.png\">\n",
        "\n",
        "*Figure 10.4.1. A figure consists of several components all of which you can change in matplotlib easily. Figure source: <a href=\"https://matplotlib.org/tutorials/introductory/usage.html\">Matplotlib Usage Guides</a>.*\n",
        "</center>\n"
      ]
    },
    {
      "cell_type": "markdown",
      "metadata": {
        "id": "HClTv43a74C_"
      },
      "source": [
        "### 10.4.2 Preparing your Data for Plotting\n",
        "\n",
        "Matplotlib expects numpy arrays as input and therefore, if you have your data in a numpy array, you can directly plot it without any data type conversion. With pandas `DataFrame`, the behavior is not guaranteed and therefore, it is recommended that the values in a `DataFrame` are first converted to a numpy array, using e.g.:\n"
      ]
    },
    {
      "cell_type": "code",
      "metadata": {
        "id": "2ADgQJES82i7",
        "colab": {
          "base_uri": "https://localhost:8080/",
          "height": 121
        },
        "outputId": "e7734cbd-9aa7-42c6-c4b0-5a3b15678a47"
      },
      "source": [
        "print(df)\n",
        "age_array = df['Age'].values\n",
        "print(\"The `Age` values in an array form are:\", age_array)\n",
        "print(\"The type of our new data is: \", type(age_array))"
      ],
      "execution_count": null,
      "outputs": [
        {
          "output_type": "stream",
          "text": [
            "        Grade  Age\n",
            "Jack     40.2   20\n",
            "Amanda   30.0   25\n",
            "Mary     60.2   19\n",
            "The `Age` values in an array form are: [20 25 19]\n",
            "The type of our new data is:  <class 'numpy.ndarray'>\n"
          ],
          "name": "stdout"
        }
      ]
    },
    {
      "cell_type": "markdown",
      "metadata": {
        "id": "vJwTMKU54Utc"
      },
      "source": [
        "\n",
        "### 10.4.3 Drawing Single Plots\n",
        "\n",
        "There are two ways to plot with matplotlib: In an object-oriented style or the so-called Pyplot style:\n",
        "\n",
        "**1. Drawing in an Object-Oriented Style**.\n",
        "In this style, we create a figure object and an axes object and work with those to create our plots. This is illustrated in the following example:"
      ]
    },
    {
      "cell_type": "code",
      "metadata": {
        "id": "WW9H1NbP5ZYq",
        "colab": {
          "base_uri": "https://localhost:8080/",
          "height": 312
        },
        "outputId": "04e4296e-a5f6-4d01-c7f6-6d0123fac1c7"
      },
      "source": [
        "import matplotlib.pyplot as plt\n",
        "import numpy as np\n",
        "\n",
        "# Uniformly sample 50 x values between -2 and 2:\n",
        "x = np.linspace(-2, 2, 50)\n",
        "\n",
        "# Create an empty figure\n",
        "fig, ax = plt.subplots()\n",
        "\n",
        "# Plot y = x\n",
        "ax.plot(x, x, label='$y=x$') \n",
        "\n",
        "# Plot y = x^2\n",
        "ax.plot(x, x**2, label='$y=x^2$')\n",
        "\n",
        "# Plot y = x^3\n",
        "ax.plot(x, x**3, label='$y=x^3$')\n",
        "\n",
        "# Set the labels for x and y axes:\n",
        "ax.set_xlabel('x') \n",
        "ax.set_ylabel('y')\n",
        "\n",
        "# Set the title of the figure\n",
        "ax.set_title(\"Our First Plot -- Object-Oriented Style\")\n",
        "\n",
        "# Create a legend\n",
        "ax.legend()\n",
        "\n",
        "# Show the plot\n",
        "#fig.show() # Uncomment if not using Colab"
      ],
      "execution_count": null,
      "outputs": [
        {
          "output_type": "execute_result",
          "data": {
            "text/plain": [
              "<matplotlib.legend.Legend at 0x7f3763e64990>"
            ]
          },
          "metadata": {
            "tags": []
          },
          "execution_count": 2
        },
        {
          "output_type": "display_data",
          "data": {
            "image/png": "[encoded data removed]",
            "text/plain": [
              "<Figure size 432x288 with 1 Axes>"
            ]
          },
          "metadata": {
            "tags": [],
            "needs_background": "light"
          }
        }
      ]
    },
    {
      "cell_type": "markdown",
      "metadata": {
        "id": "bGdVx84w5EV2"
      },
      "source": [
        "**2. Drawing in a Pyplot Style**. In the Pyplot style, we directly call functions in the pyplot module (`matplotlib.pyplot`) to create a figure and draw our plots. This style does not work with an explicit figure or axes objects. This is illustrated in the following example:\n",
        "\n"
      ]
    },
    {
      "cell_type": "code",
      "metadata": {
        "id": "jtBxS5R17o71",
        "colab": {
          "base_uri": "https://localhost:8080/",
          "height": 295
        },
        "outputId": "25751965-9382-4e56-ee69-cd33227bd0c2"
      },
      "source": [
        "# Uniformly sample 50 x values between -2 and 2:\n",
        "x = np.linspace(-2, 2, 50)\n",
        "\n",
        "# Plot y = x\n",
        "plt.plot(x, x, label='$y=x$') \n",
        "\n",
        "# Plot y = x^2\n",
        "plt.plot(x, x**2, label='$y=x^2$')\n",
        "\n",
        "# Plot y = x^3\n",
        "plt.plot(x, x**3, label='$y=x^3$')\n",
        "\n",
        "# Set the labels for x and y axes:\n",
        "plt.xlabel('x') \n",
        "plt.ylabel('y')\n",
        "\n",
        "# Set the title of the figure\n",
        "plt.title(\"Our First Plot -- Pyplot Style\")\n",
        "\n",
        "# Create a legend\n",
        "plt.legend()\n",
        "\n",
        "# Show the plot\n",
        "#plt.show() # Uncomment if not using Colab"
      ],
      "execution_count": null,
      "outputs": [
        {
          "output_type": "display_data",
          "data": {
            "image/png": "[encoded data removed]",
            "text/plain": [
              "<Figure size 432x288 with 1 Axes>"
            ]
          },
          "metadata": {
            "tags": [],
            "needs_background": "light"
          }
        }
      ]
    },
    {
      "cell_type": "markdown",
      "metadata": {
        "id": "f_SuH5P34iUm"
      },
      "source": [
        "### 10.4.4 Drawing Multiple Plots in a Figure\n",
        "\n",
        "In many situations, you will need to draw multiple plots side by side in a single figure. This can be performed in the object-oriented style using the `subplots()` function to create a grid and then use the created subplots and axes to draw the plots. This is illustrated with an example below:"
      ]
    },
    {
      "cell_type": "code",
      "metadata": {
        "id": "Pb2Lx8v8_huU",
        "colab": {
          "base_uri": "https://localhost:8080/",
          "height": 285
        },
        "outputId": "941dc4e9-c37f-4eb0-b382-f2db75cc3736"
      },
      "source": [
        "# Create a 2x2 grid of plots\n",
        "fig, axes = plt.subplots(2, 2)\n",
        "\n",
        "# Plot (1,1)\n",
        "axes[0,0].plot(x, x) \n",
        "axes[0,0].set_title(\"$y=x$\")\n",
        "\n",
        "# Plot (1,2)\n",
        "axes[0,1].plot(x, x**2) \n",
        "axes[0,1].set_title(\"$y=x^2$\")\n",
        "\n",
        "# Plot (2,1)\n",
        "axes[1,0].plot(x, x**3) \n",
        "axes[1,0].set_title(\"$y=x^3$\")\n",
        "\n",
        "# Plot (2,2)\n",
        "axes[1,1].plot(x, x**4) \n",
        "axes[1,1].set_title(\"$y=x^4$\")\n",
        "\n",
        "# Adjust vertical space between rows\n",
        "plt.subplots_adjust(hspace=0.5)\n",
        "\n",
        "# Show the plot\n",
        "#fig.show() # Uncomment if not using Colab"
      ],
      "execution_count": null,
      "outputs": [
        {
          "output_type": "display_data",
          "data": {
            "image/png": "[encoded data removed]",
            "text/plain": [
              "<Figure size 432x288 with 4 Axes>"
            ]
          },
          "metadata": {
            "tags": [],
            "needs_background": "light"
          }
        }
      ]
    },
    {
      "cell_type": "markdown",
      "metadata": {
        "id": "q0_AomAKsRvn"
      },
      "source": [
        "It is possible to do this in the PyPlot style as well, as illustrated below:"
      ]
    },
    {
      "cell_type": "code",
      "metadata": {
        "colab": {
          "base_uri": "https://localhost:8080/",
          "height": 285
        },
        "id": "fewlhTp-sX6H",
        "outputId": "9bf56eff-0aa3-4d44-d375-b125fa5e69e8"
      },
      "source": [
        "# Plot (1,1) \n",
        "plt.subplot(2, 2, 1)\n",
        "plt.plot(x, x) \n",
        "plt.title('$y=x$')\n",
        "\n",
        "# Plot (1,2)\n",
        "plt.subplot(2, 2, 2)\n",
        "plt.plot(x, x**2) \n",
        "plt.title('$y=x^2$')\n",
        "\n",
        "# Plot (2,1)\n",
        "plt.subplot(2, 2, 3)\n",
        "plt.plot(x, x**3) \n",
        "plt.title('$y=x^3$')\n",
        "\n",
        "# Plot (2,2)\n",
        "plt.subplot(2, 2, 4)\n",
        "plt.plot(x, x**4)\n",
        "plt.title('$y=x^4$')\n",
        "\n",
        "# Adjust vertical space between rows\n",
        "plt.subplots_adjust(hspace=0.5)\n",
        "\n",
        "# Show the plot\n",
        "#plt.show() # Uncomment if not using Colab"
      ],
      "execution_count": null,
      "outputs": [
        {
          "output_type": "display_data",
          "data": {
            "image/png": "[encoded data removed]",
            "text/plain": [
              "<Figure size 432x288 with 4 Axes>"
            ]
          },
          "metadata": {
            "tags": [],
            "needs_background": "light"
          }
        }
      ]
    },
    {
      "cell_type": "markdown",
      "metadata": {
        "id": "6umJV6f1CrEa"
      },
      "source": [
        "### 10.4.4 Changing elements of a plot\n",
        "\n",
        "All elements that are visualized in Figure 10.4.1 can be changed in matplotlib. We will skip these details to keep our focus in the book to the practical uses of these libraries. The interested reader can look up the extensive documentation at <a href=\"https://matplotlib.org/2.1.1/contents.html\">https://matplotlib.org/2.1.1/contents.html</a> or look at the help page of a function (e.g. `help(plt.plot)`) to see how to modify all elements of a figure."
      ]
    },
    {
      "cell_type": "markdown",
      "metadata": {
        "id": "t7PP__V8Bt9F"
      },
      "source": [
        "## Important Concepts\n",
        "\n",
        "We would like our readers to have grasped the following crucial concepts and keywords from this chapter:\n",
        "\n",
        "* NumPy arrays and their properties: array shape, dimensions, sizes, elements.\n",
        "* Accessing and modifying elements of a NumPy array.\n",
        "* Simple algebraic functions on NumPy arrays.\n",
        "* SciPy and its basic capabilities.\n",
        "* Pandas, DataFrame, loading files with Pandas.\n",
        "* Accessing and modifying content in DataFrames.\n",
        "* Analyzing and presenting data in DataFrames.\n",
        "* Matplotlib and different ways to make plots.\n",
        "* Drawing single and multiple plots. Changing elements of a plot."
      ]
    },
    {
      "cell_type": "markdown",
      "metadata": {
        "id": "7Ykom1Oo5raE"
      },
      "source": [
        "## Further Reading\n",
        "\n",
        "- NumPy documentation: https://numpy.org/doc/\n",
        "- SciPy documenation: https://docs.scipy.org/doc/scipy/reference/\n",
        "- Pandas documentation: https://pandas.pydata.org/docs/\n",
        "- Matplotlib documentation: https://matplotlib.org/2.1.1/contents.html\n",
        "- Introduction to Algebra with Python: https://pabloinsente.github.io/intro-linear-algebra"
      ]
    },
    {
      "cell_type": "markdown",
      "metadata": {
        "id": "1S1yyJ8GDWKr"
      },
      "source": [
        "## Exercises\n",
        "\n",
        "- Define functions that work like the `sum`, `mean`, `min` and `max` operations provided by NumPy. These functions should take a single 2D array and return the result as a number. You can assume that the operation applies to the whole array and not to a single axis."
      ]
    },
    {
      "cell_type": "code",
      "metadata": {
        "id": "xA1efHqNDgym"
      },
      "source": [
        "# Write your solution for Exercise 1 here\n",
        "\n",
        "def my_array_sum(A):\n",
        "  # Your solution comes here\n",
        "\n",
        "def my_array_mean(A):\n",
        "  # Your solution comes here\n",
        "\n",
        "def my_array_min(A):\n",
        "  # Your solution comes here\n",
        "\n",
        "def my_array_max(A):\n",
        "  # Your solution comes here\n",
        "\n",
        "# Write code here that tests the functions you have defined\n"
      ],
      "execution_count": null,
      "outputs": []
    },
    {
      "cell_type": "markdown",
      "metadata": {
        "id": "2OuvZubpDi8Z"
      },
      "source": [
        "- Create a simple CSV file using your favorite spreadsheet editor (e.g. Microsoft Excel or Google Spreadsheets) and create a file with your exams and their grades as two separate columns. Save the file, upload it to the Colab notebook and do the following:\n",
        "\n",
        "  * Load the file using Pandas.\n",
        "  * Calculate the mean of your exam grades.\n",
        "  * Calculate the standard deviation of your grades.\n",
        "\n",
        "- Using Matplotlib, generate the following plots with suitable names for the axes and the titles.\n",
        "\n",
        "  * Draw the following four functions in separate single plots: $\\sin(x), \\cos(x), \\tan(x), \\cot(x)$. \n",
        "\n",
        "  * Draw these four functions in a single plot.\n",
        "\n",
        "  * Draw a multiple 2x2 plot where each subplot is one of the four functions."
      ]
    }
  ]
}