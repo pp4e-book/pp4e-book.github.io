{
  "nbformat": 4,
  "nbformat_minor": 0,
  "metadata": {
    "colab": {
      "name": "ch5_conditional_and_repetitive.ipynb",
      "provenance": [],
      "collapsed_sections": [],
      "toc_visible": true
    },
    "kernelspec": {
      "name": "python3",
      "display_name": "Python 3"
    }
  },
  "cells": [
    {
      "cell_type": "markdown",
      "metadata": {
        "id": "NUuwY9NwzaT9"
      },
      "source": [
        "# Chapter 5 - Conditional and Repetitive Execution\n",
        "\n",
        "*(C) Copyright Notice: This chapter is part of the book available at https://pp4e-book.github.io/ and copying, distributing, modifying it requires explicit permission from the authors. See the book page for details: https://pp4e-book.github.io/*\n",
        "\n",
        "Many circumstances require the execution to change its flow based on the truth value of a condition or to repeat a set of steps for a number of items or until a condition is not true any more. These two kinds of actions are very crucial components of programming solutions and Python provides several alternatives for them. As we are going to see in this chapter, some of these alternatives are compound statements, i.e. they include other statements as part of the statement, whereas others are expressions."
      ]
    },
    {
      "cell_type": "markdown",
      "metadata": {
        "id": "G3Fb6HEE0xRz"
      },
      "source": [
        "## 5.1 Conditional execution\n",
        "\n",
        "Asking (mostly) mathematical questions that have Boolean type answers and taking some actions (or not) based on the Boolean answers are crucial tools in designing algorithms. This is so vital that there is no single programming language that does not provide conditional execution."
      ]
    },
    {
      "cell_type": "markdown",
      "metadata": {
        "id": "FbAyvMFcpuGd"
      },
      "source": [
        "### 5.1.1 `if` statement\n",
        "\n",
        "The syntax of the conditional (`if`) statement is\n",
        "\n",
        "<big><big>**`if`**</big></big> $\\boxed{\\color{red}{Boolean\\ expression\\strut\\ }}$ <big><big>**`: `**</big></big> \n",
        "$\\boxed{\\color{red}{Statement\\strut\\ }}$\n",
        "\n",
        "The semantics is obvious. If the $\\color{red}{Boolean\\ expression}$ evaluates to `True`, then the $\\color{red}{Statement}$ is carried out; otherwise $\\color{red}{Statement}$ is not executed. \n",
        "\n",
        "```python\n",
        ">>> if 5 > 2: print(\"Hurray\")\n",
        "Hurray\n",
        ">>> if 2 > 5: print(\"No I will not believe that !\")\n",
        "```\n",
        "We observe that the Boolean expression in the last example evaluates to `False` and hence the statement with the print function is not carried out.  \n",
        "\n",
        "**How to group statements?**  \n",
        "\n",
        "It is quite often that we want to do more then one action instead of executing a single statement. As a general syntax rule of Python: \n",
        "\n",
        "* switch to a new line, \n",
        "* indent by one tab,\n",
        "* write your first statement to be executed,\n",
        "* switch to the next line,\n",
        "* indent the same amount (usually your Python-aware editor will do it for you)\n",
        "* write your second statement to be executed,\n",
        "* and so on...\n",
        "* To finish this writing task, and presumably enter a statement which is *not* part of the group action, just do not intend. \n",
        "\n",
        "It is very very important that the statements that are part of the if part have the same amount and type of whitespace. E.g. if the first statement has 4 spaces, all following statements in the if statement need to start with 4 spaces. If it is a tab character, all following statements in the if statement need to start with a tab character. Since these whitespaces are not visible, it is very easy to make mistakes and get annoying errors from the interpreter. To avoid this, we strongly recommend you to choose a style of indentation (e.g. 4 whitespaces or a single tab) and stick to it as a programming style.\n",
        "\n",
        "Here is an example:\n",
        "```python\n",
        ">>> if 5 > 2:\n",
        "...     print(7*6)\n",
        "...     print(\"Hurray\")\n",
        "...     x = 6\n",
        "42\n",
        "Hurray\n",
        ">>> print(x)\n",
        "6\n",
        "```\n",
        "The `>>>` as well as `...` prompts appear when you sit in front of the interpreter. When you type your programs into a file and then run them, \n",
        "of course they will not show up. If you type in these small programs (we call them *snippets*) just ignore the `>>>` and `...` from the examples, as follows:\n"
      ]
    },
    {
      "cell_type": "code",
      "metadata": {
        "id": "JkWUOQnvqv7H",
        "colab": {
          "base_uri": "https://localhost:8080/",
          "height": 68
        },
        "outputId": "9702740b-ddac-488f-c29e-61fae555aa90"
      },
      "source": [
        "if 5 > 2:\n",
        "  print(7*6)\n",
        "  print(\"Hurray\")\n",
        "  x = 6\n",
        "print(x)"
      ],
      "execution_count": null,
      "outputs": [
        {
          "output_type": "stream",
          "text": [
            "42\n",
            "Hurray\n",
            "6\n"
          ],
          "name": "stdout"
        }
      ]
    },
    {
      "cell_type": "markdown",
      "metadata": {
        "id": "jhoy6-kKquhD"
      },
      "source": [
        "\n",
        "As you continue practicing programming, you will soon come across a need to be able to define actions that should be carried out in case a Boolean expression turns out to be `False`. If it were not provided, we would have to ask the same question again, but this time negated:\n",
        "\n",
        "```python\n",
        ">>> if x == 6: print(\"still it is six\")\n",
        ">>> if not (x == 6): print(\"it is no more six\")\n",
        "```\n",
        "One of them will certainly fire (be true). Although this is a feasible solution, there is a more convenient way: We can combine the two parts into one `if-else` statement with the following syntax:\n",
        "\n",
        "<big><big>**`if`**</big></big> $\\boxed{\\color{red}{Boolean\\ expression\\strut\\ }}$ <big><big>**`: `**</big></big> \n",
        "$\\boxed{\\color{red}{Statement\\strut\\ }}$\n",
        "\n",
        "<big><big>**`else :`**</big></big> \n",
        "$\\boxed{\\color{red}{Statement\\strut\\ }}$\n",
        "\n",
        "Making use of the `else` part, the last example would be written as:\n",
        "```python\n",
        ">>> if x == 6: print(\"still it is six\") \n",
        "... else: print(\"it is no more six\")\n",
        "```\n",
        "Of course, using multiple statements in the `if` part or the `else` part is possible by intending them to the same level."
      ]
    },
    {
      "cell_type": "markdown",
      "metadata": {
        "id": "-D9gGQzSusJK"
      },
      "source": [
        "### Exercise\n",
        "\n",
        "In the following code cell, you are expected to insert a couple of lines so that the output is always the absolute value of N (try the program for various values of N by altering the right-hand side of the assignment):"
      ]
    },
    {
      "cell_type": "code",
      "metadata": {
        "id": "iQVsFAlo7_TG",
        "colab": {
          "base_uri": "https://localhost:8080/",
          "height": 34
        },
        "outputId": "5b564971-4b3b-4e50-db32-5809083a206b"
      },
      "source": [
        "N = -100   # Feel free to change this to any numerical value #\n",
        "\n",
        "# @TODO type in your code that changes the content of N to its absolute value, below this line\n",
        "\n",
        "# @TODO print the result\n"
      ],
      "execution_count": null,
      "outputs": [
        {
          "output_type": "stream",
          "text": [
            "100\n"
          ],
          "name": "stdout"
        }
      ]
    },
    {
      "cell_type": "markdown",
      "metadata": {
        "id": "gOuIGQKu8yPd"
      },
      "source": [
        "### 5.1.2 Nested if statements\n",
        "\n",
        "It is quite possible to nest `if-else` statements: i.e. combine multiple `if-else` statements within each other. There is no practical limit to the depth of nesting. This enables us to code a structure, called a *decision tree*. A decision tree is a set of binary questions & answers where at every case of an answer either a new question is asked or an action is carried out. \n",
        "<font color=gray>Figure 5.1</font> displays such a decision tree for *forecasting rain* based on the temperature, wind and air pressure values.   \n",
        "\n",
        "<center>\n",
        "<img  src=\"https://github.com/sinankalkan/CENG240/blob/master/figures/DecisionTree.png?raw=true\"  >\n",
        "\n",
        "*Figure 5.1. An example decision tree.*\n",
        "</center>\n",
        "\n",
        "The tree in <font color=gray>Figure 5.1</font> can be coded as nested `if-else` statements:\n",
        "\n",
        "```python\n",
        "if temperature > 21:\n",
        "     if wind > 3.2: \n",
        "          if pressure > 66: rain = True\n",
        "          else: rain = False\n",
        "     else: rain = False\n",
        "else: \n",
        "     if wind > 7.2: rain = True\n",
        "     else:\n",
        "          if pressure > 79: rain = True\n",
        "          else: rain = False\n",
        "```\n",
        "\n",
        "Sometimes the `else` case contains another `if` which has an `else` of its own. \n",
        "And this ladder goes on. For such a case, `elif` serves as a combined keyword for the `else if` action, as follows:\n",
        "\n",
        "<big>\n",
        "<big><big><b><tt>if</tt></b></big></big> \n",
        "$\\boxed{\\color{red}{Boolean\\ expression_1\\strut}}$ <big><big><b><tt>:</tt></b></big></big>\n",
        "$\\boxed{\\color{red}{Statement_1\\strut}}$\n",
        "</br></br>\n",
        "<big><big><b><tt>elif</tt></b></big></big> \n",
        "$\\boxed{\\color{red}{Boolean\\ expression_2\\strut}}$ <big><big><b><tt>:</tt></b></big></big>\n",
        "$\\boxed{\\color{red}{Statement_2\\strut}}$\n",
        "</br></br>\n",
        "<big><big>$\\;\\;\\mathbf{\\vdots}$</big></big>\n",
        "</br></br>\n",
        "<big><big><b><tt>elif</tt></b></big></big> \n",
        "$\\boxed{\\color{red}{Boolean\\ expression_n\\strut}}$ <big><big><b><tt>:</tt></b></big></big>\n",
        "$\\boxed{\\color{red}{Statement_n\\strut}}$\n",
        "</br></br>\n",
        "<big><big><b><tt>else</tt></b></big></big> \n",
        " <big><big><b><tt>:</tt></b></big></big>\n",
        "$\\boxed{\\color{red}{Statement_{otherwise}\\strut}}$\n",
        "</big>\n",
        "\n",
        "The flowchart in <font color=gray>Figure 5.2</font> explains the semantics of the `if-elif-else` combination.\n",
        "\n",
        "<center>\n",
        "<img  src=\"https://github.com/sinankalkan/CENG240/blob/master/figures/elifFlowchart.png?raw=true\"  >\n",
        "\n",
        "\n",
        "*Figure 5.2. The semantics of the `if-elif-else` combination.*\n",
        "</center>\n",
        "\n",
        "There is no restriction on how many `elif` statements are used. Furthermore, the presence of the last statement (the `else`) is optional.\n",
        "\n",
        "\n"
      ]
    },
    {
      "cell_type": "markdown",
      "metadata": {
        "id": "otPA3JotRgv8"
      },
      "source": [
        "### Practice \n",
        "\n",
        "Let us assume that you have a value assigned to a variable `x`. Based on this value, a variable `s` is going to be set as:\n",
        "\n",
        "$$\n",
        "\\mathtt{s} = \n",
        "\\left\\{\n",
        "  \\begin{array}{ll}\n",
        "   (\\mathtt{x}+1)^2, &  \\mathtt{x}<1 \\\\\n",
        "   \\mathtt{x}-0.5, & 1\\le \\mathtt{x} < 10 \\\\\n",
        "   \\sqrt{\\mathtt{x}+0.5}, & 10 \\le \\mathtt{x} < 100 \\\\\n",
        "   0, & otherwise\n",
        "   \\end{array} \n",
        "\\right.\n",
        "$$\n",
        "\n",
        "It is convenient to make use of an `if-elif-else` structure:"
      ]
    },
    {
      "cell_type": "code",
      "metadata": {
        "id": "FTho--1Ezb8a",
        "colab": {
          "base_uri": "https://localhost:8080/",
          "height": 34
        },
        "outputId": "e0631d3d-5ef2-4f6f-bd09-93a8e40cd442"
      },
      "source": [
        "#@TODO Assign a value to x\n",
        "x = 10\n",
        "\n",
        "if x < 1: s = (x+1)**2\n",
        "elif x < 10: s = x-0.5 \n",
        "elif x < 100: s = (x+0.5)**0.5\n",
        "else: s = 0\n",
        "\n",
        "print(\"s is: \", s)"
      ],
      "execution_count": null,
      "outputs": [
        {
          "output_type": "stream",
          "text": [
            "s is:  3.24037034920393\n"
          ],
          "name": "stdout"
        }
      ]
    },
    {
      "cell_type": "markdown",
      "metadata": {
        "id": "h49vSoySzp_R"
      },
      "source": [
        "### 5.1.3 Conditional expression\n",
        "\n",
        "The `if` statement does not return a value. As said, that is so for all statements. They do not have a value of their own. A non-statement alternative that has a return value is the *conditional expression*. \n",
        "\n",
        "It also uses the `if` and `else` keywords. This time `if` is not at the start of a statement, but following a value. Here is the syntax:\n",
        "\n",
        "$\\boxed{\\color{red}{ expression_{YES}\\strut\\ }}$\n",
        "<big><big>**`if`**</big></big> $\\boxed{\\color{red}{Boolean\\ expression\\strut\\ }}$\n",
        "<big><big>**`else `**</big></big> \n",
        "$\\boxed{\\color{red}{ expression_{NO}\\strut\\ }}$\n",
        "\n",
        "This whole structure is an expression. It yields a value. So, it can be used in any place an expression is allowed to be used. It is evaluated as follows:\n",
        "\n",
        "* First the $\\color{red}{Boolean\\ expression}$ is evaluated. \n",
        "* If the outcome is `True` then  \n",
        "$\\color{red}{expression_{YES}}$ is evaluated and used as value ($\\color{red}{expression_{NO}}$ is left untouched). \n",
        "* If the outcome is `False` then   \n",
        " $\\color{red}{expression_{NO}}$ is evaluated and used as value ($\\color{red}{expression_{YES}}$ is left untouched).\n",
        "\n",
        "Though it is not compulsory, it is wise to use conditional expression enclosed in parenthesis to prevent wrong sub-expression groupings. \n",
        "\n",
        "Let us look at an example:\n",
        "```python\n",
        ">>> x = -34.1905\n",
        ">>> y = (x if x > 0 else -x)**0.5\n",
        ">>> print(y)\n",
        "5.84726431761\n",
        "```\n",
        "As you have observed, `y` is assigned the value $\\sqrt{{\\scriptsize|\\mathtt{x}|}}$. For code readability, it is strongly advisable not to nest conditional expressions. Instead, restructure your coding into nested `if-else` statements (by making use of intermediate variables).\n"
      ]
    },
    {
      "cell_type": "markdown",
      "metadata": {
        "id": "i6uNFXZNz2hQ"
      },
      "source": [
        "## 5.2 Repetitive execution\n",
        "\n",
        "Repeating a sequence of instructions over-and-over is a programming ingredient which is used frequently. This  action is called *iteration* or *loop*.\n",
        "\n",
        "We use iteration \n",
        "\n",
        "<OL type=\"I\">\n",
        "<LI> to systematically deal with all possible cases  or \n",
        "all elements of a collection, or\n",
        "<LI> to jump from one case to another as a function of the previous case.\n",
        "</OL>\n",
        "\n",
        "The repetition of a sequence of instructions is carried out either \n",
        "for a known number of times or until a criterion is met.\n",
        "\n",
        "Iteration examples:\n",
        "\n",
        "* Computing letter grades of a class (Type I, for all students).\n",
        "* Finding the shortest path from city A to city B in a map (Type II).\n",
        "* Root finding by Newton-Raphson method (Type II).\n",
        "* Finding darkest and brightest point(s) in a image (Type I, for all pixels).\n",
        "* Computing a function value using Taylor's expansion (Type I).\n",
        "* Computing the next move in a chess game (Type II).\n",
        "* Obtaining the letter frequency of a text (Type I, for all letters).\n",
        "\n",
        "Python provides two statements for iteration. Namely, `while` and `for`.\n",
        "`for` is used mostly for (Type I) iterations whereas `while` is used for both types. "
      ]
    },
    {
      "cell_type": "markdown",
      "metadata": {
        "id": "qW0UsfrR9LL5"
      },
      "source": [
        " ### 5.2.1 `while` statement###\n",
        "\n",
        "The syntax of `while` resembles the synax of the `if` statement: \n",
        "\n",
        "<big><big>**`while`**</big></big> $\\boxed{\\color{red}{Boolean\\ expression\\strut\\ }}$ <big><big>**`: `**</big></big> \n",
        "$\\boxed{\\color{red}{Statement\\strut\\ }}$\n",
        "\n",
        "It is certainly possible to have a statement group subject to the `while`, as it was with the `if` statement. The semantics can be expressed as the flowchart in <font color=gray>Figure 5.3</font>:  \n",
        "<center>\n",
        "<img  src=\"https://github.com/sinankalkan/CENG240/blob/master/figures/while.png?raw=true\"  >\n",
        "\n",
        "*Figure 5.3. The flowchart illustrating how a `while` statement is executed.*\n",
        "</center>\n",
        "\n",
        "Later in this chapter, when we have introduced the `for` statement as well, we will consider some special statements (`break` and `continue`) that are allowed only under the scope of a `while` or `for` and are capable of altering the execution flow (to some limited extent). \n",
        "\n",
        "Since a while statement is a statement, it can be part of another while statement (or any other compound statement):\n",
        "```python\n",
        "while <condition-1>:\n",
        "    statement-1\n",
        "    statement-2\n",
        "    ...\n",
        "    while <condition-2>:\n",
        "       statement-inner-1\n",
        "       statement-inner-2\n",
        "       ...\n",
        "       statement-inner-M\n",
        "    ... # statements after the second while\n",
        "    statement-N\n",
        "```\n",
        "Of course, there is no practical limit on the nesting level. \n",
        "\n",
        "Let us look at several examples below to illustrate these concepts."
      ]
    },
    {
      "cell_type": "markdown",
      "metadata": {
        "id": "9QH5qiHLApAd"
      },
      "source": [
        "### 5.2.2 Examples with while statement \n",
        "\n",
        "**Example 1: Finding Average of Numbers in a List**\n",
        "\n",
        "Let's say we have a list of numbers and we are asked to find their average. To make things easier to follow, let us start with the mathematical definition:\n",
        "$$\n",
        "\\textrm{avg}(L) = \\frac{1}{N} \\sum_{i=1}^N L_i,\n",
        "$$\n",
        "where $L_i$ is the $i$th number in the list which contains $N$ numbers.\n",
        "\n",
        "Let us see the algorithm before implementing a solution in Python (note that, in the equation, indexing started with 1 -- compare this with the following):\n",
        "```\n",
        "Input: A list L that includes N numbers\n",
        "Output: avg, which holds the average of numbers in L\n",
        "\n",
        "Step 1: Initialize a sum variable with value 0\n",
        "Step 2: Initialize an index variable, i, with value 0\n",
        "Step 3: While i is less than N, Execute Steps 4-5\n",
        "Step 4:     sum = sum + L[i] \n",
        "Step 5:     i = i + 1\n",
        "Step 6: avg = sum/N\n",
        "```\n",
        "\n",
        "Before we proceed with the Python implementation, make sure that you have understood the algorithm. The best way to make sure that is to take a pen & paper and go through each step while keeping a track of the variables, as if you are the computer.\n",
        "\n",
        "Here is the implementation in Python:"
      ]
    },
    {
      "cell_type": "code",
      "metadata": {
        "id": "rXpR6-NaTmVb",
        "colab": {
          "base_uri": "https://localhost:8080/",
          "height": 34
        },
        "outputId": "2f2f6965-ce30-4adb-aec7-ad31ff29a301"
      },
      "source": [
        "# L: the list of numbers\n",
        "# @TODO: Change the list and check if the code works\n",
        "L = [10, -4, 4873, -18]\n",
        "N = len(L)\n",
        "\n",
        "sum = 0            # Step 1\n",
        "i = 0              # Step 2\n",
        "\n",
        "while i < N:       # Step 3\n",
        "  sum = sum + L[i] # Step 4\n",
        "  i = i + 1        # Step 5\n",
        "\n",
        "avg = sum / N      # Step 6\n",
        "print(avg)"
      ],
      "execution_count": null,
      "outputs": [
        {
          "output_type": "stream",
          "text": [
            "1215.25\n"
          ],
          "name": "stdout"
        }
      ]
    },
    {
      "cell_type": "markdown",
      "metadata": {
        "id": "Hy-eytxLTsxz"
      },
      "source": [
        "Have you noticed how close the Python code is to the algorithm? Python's principles for keeping things simple makes it so much easier to write that it can be very close to the pseudo-code."
      ]
    },
    {
      "cell_type": "markdown",
      "metadata": {
        "id": "p5gKn3q-YNgl"
      },
      "source": [
        "**Example 2: Standard Deviation**\n",
        "\n",
        "Now, let us look at a highly related problem, that of calculating the standard deviation. Standard deviation can be formally defined as follows:\n",
        "$$\n",
        "\\textrm{std}(L) = \\sqrt{\\frac{1}{N} \\sum_{i=1}^N (L_i - \\textrm{avg}(L))^2}.\n",
        "$$\n",
        "The extension of the previous example is rather straightforward therefore but we will write it down nonetheless since these are your first iterative examples."
      ]
    },
    {
      "cell_type": "code",
      "metadata": {
        "id": "B06TbboJYKtS",
        "colab": {
          "base_uri": "https://localhost:8080/",
          "height": 34
        },
        "outputId": "78905ae2-0477-41e7-d820-03a8fd9a301c"
      },
      "source": [
        "L = [10, 20, 30, 40]\n",
        "N = len(L)\n",
        "\n",
        "# CALCULATE THE AVG FIRST (COPY-PASTE FROM THE FIRST EXAMPLE)\n",
        "sum = 0            \n",
        "i = 0              \n",
        "\n",
        "while i < N:       \n",
        "  sum = sum + L[i] \n",
        "  i = i + 1        \n",
        "\n",
        "avg = sum / N\n",
        "\n",
        "# CALCULATE THE STD NOW\n",
        "sum = 0            \n",
        "i = 0              \n",
        "\n",
        "while i < N:       \n",
        "  sum = sum + (L[i] - avg)**2\n",
        "  i = i + 1        \n",
        "\n",
        "std = (sum / N)**0.5\n",
        "\n",
        "print(\"Avg & Std of the list are: \", avg, std)"
      ],
      "execution_count": null,
      "outputs": [
        {
          "output_type": "stream",
          "text": [
            "Avg & Std of the list are:  25.0 11.180339887498949\n"
          ],
          "name": "stdout"
        }
      ]
    },
    {
      "cell_type": "markdown",
      "metadata": {
        "id": "9l1Dvn4mUU7C"
      },
      "source": [
        "***Exercise***\n",
        "\n",
        "Write down the algorithm that we used in this Python code as a pseudo-code."
      ]
    },
    {
      "cell_type": "markdown",
      "metadata": {
        "id": "Sh2_gjgT4mAu"
      },
      "source": [
        "**Example 3: Factorial**\n",
        "Factorial of a number, denoted by $n!$, is an important mathematical construct that we frequently use while formulating our solutions. $n!$ can be defined formally as:\n",
        "$$\n",
        "n! = \n",
        "\\begin{cases}{}\n",
        " n\\times (n-1) \\times ... 2\\times 1, & \\textrm{if } n>0\\\\\n",
        "      1, & \\textrm{if } n = 0.\\\\\n",
        "\\end{cases}\n",
        "$$\n",
        "Let us first write down the algorithm:\n",
        "```\n",
        "Input: n\n",
        "Output: n_factorial\n",
        "\n",
        "Step 1: If n is zero or negative, n_factorial is 1. Return n_factorial and exit\n",
        "Step 2: Initialize n_factorial with 1\n",
        "Step 3: Initialize an index variable, i, with 1 \n",
        "Step 4: While i <= n, Execute Steps 5 and 6:\n",
        "Step 5:     n_factorial = n_factorial * i\n",
        "Step 6:     i = i + 1\n",
        "Step 7: The result is n_factorial\n",
        "```\n",
        "which can be implemented in Python as follows:\n"
      ]
    },
    {
      "cell_type": "code",
      "metadata": {
        "id": "vrag0td_7B5n",
        "colab": {
          "base_uri": "https://localhost:8080/",
          "height": 34
        },
        "outputId": "029ea29c-f6c3-4900-e2b3-25337ecf9e8a"
      },
      "source": [
        "# Let us choose an n value:\n",
        "n = 5\n",
        "\n",
        "if n <= 0: n_factorial = 1  # Step 1\n",
        "elif n > 0:                 # Steps 2-6 \n",
        "  n_factorial = 1           # Step 2\n",
        "  i = 1                     # Step 3\n",
        "  while i <= n:             # Step 4\n",
        "    n_factorial *= i        # Step 5\n",
        "    i += 1                  # Step 6\n",
        "\n",
        "print(\"n! is \", n_factorial)"
      ],
      "execution_count": null,
      "outputs": [
        {
          "output_type": "stream",
          "text": [
            "n! is  120\n"
          ],
          "name": "stdout"
        }
      ]
    },
    {
      "cell_type": "markdown",
      "metadata": {
        "id": "EyLl9fecVK9N"
      },
      "source": [
        "**Exercise**\n",
        "\n",
        "Modify our factorial implementation such that variable `i` starts from `n`."
      ]
    },
    {
      "cell_type": "markdown",
      "metadata": {
        "id": "f8jVCMbJYJES"
      },
      "source": [
        "**Example 4: Computing Sine with Taylor Expansion**\n",
        "\n",
        "Let us assume we want to compute $\\sin(x)$, for a given value of $x$, up to a given precision. This is just for the sake of having an understandable example. Actually today's CPUs have embedded math coprocessors that do this at microcode level. We will not use this convenience and do the computation ourselves. \n",
        "\n",
        "The computation of many analytic functions are performed using the Taylor series expansion. The Taylor series expansion of $\\sin(x)$ around zero is:\n",
        "\n",
        "$$\\sin \\left(x\\right)\\approx x-{\\frac {x^{3}}{3!}}+{\\frac {x^{5}}{5!}}-{\\frac {x^{7}}{7!}} \\cdots , $$\n",
        "\n",
        "which could also be written as:\n",
        "$$\n",
        "\\sum_{k=0}^{\\infty} \\frac{(-1)^k}{(2k+1)!} x^{2k+1} .\n",
        "$$\n",
        "\n",
        "Let us implement this. We will use the factorial example as a nested iteration. The outer iteration runs over the terms in the summation, and continues until a term becomes too small ($|term| < \\epsilon$, where $\\epsilon$ is a small value, e.g. $10^{-12}$).\n",
        "\n",
        "```python\n",
        "epsilon = 1.0E-12\n",
        "x = 3.14159265359/4.0   # i.e. pi/4 (45 degrees in radians)\n",
        "result = 0.0\n",
        "k = 0\n",
        "term = 2*epsilon    #just a trick to bypass the first test\n",
        "while abs(term) > epsilon:\n",
        "    # Calculate the denominator - i.e. (2k+1)!\n",
        "    factorial = i = 1\n",
        "    while i <= 2*k+1: \n",
        "      factorial *= i\n",
        "      i += 1\n",
        "    \n",
        "    # Now calculate the term\n",
        "    term = (((-1)**k) / factorial) * (x**(2*k+1))\n",
        "\n",
        "    result += term\n",
        "    k += 1\n",
        "```\n",
        "This is a readable but at the same time quite an inefficient code:   \n",
        "* `2*k+1` is computed several times. Actually, do we need `2*k+1` at all?\n",
        "* It uses factorial computation which does not make use of its preceeding computations. For example $9!$ is actually $9\\times 8 \\times 7!$. But it is computed as \n",
        "$2 \\times 3 \\times 4 \\times 5 \\times 6 \\times 7  \\times 8  \\times 9$. Therefore, there is significant inefficiency regarding the use of factorial in the nested iteration.\n",
        "* Similar to the inefficiency with the factorial computation, the computation of $x^{(n+2)}$ does not make use of the already computed $x^n$ value.   \n",
        "* Do we need to compute $(-1)^\\mathtt{k}$ to get an alternating sign? Can there be a simpler way to program this?\n",
        "\n",
        "Let us investigate the proportionality of two consecutive terms $(k=n)$ and $(k=n+1)$:\n",
        "\n",
        "$$\n",
        "\\frac{term_{n+1}}{term_{n}} = \n",
        "   \\frac{(-1)^{(n+1)} x^{2(n+1)+1}}{(2(n+1)+1)!} \\times \\frac{(2n+1)!}{{(-1)^n}x^{2n+1}} = \\frac{-x^{2}}{(2n+2)(2n+3)}.\n",
        "$$ \n",
        "\n",
        "This is interesting because it suggests us a relatively faster way to compute the next term in the series. We do not have to compute $x^n$ for each new term that we are going to add. We also discover that there is nothing magical about $(2n+1)$. It can simply be called as $(d \\equiv 2n+1)$ which increments by 2 for each consecutive term. Then we have \n",
        "$$\n",
        "\\frac{term_{n+1}}{term_{n}} = \\frac{-x^{2}}{(d+1)(d+2)}\n",
        "$$\n",
        "\n",
        "Now, let us see the more efficient implementation in action:"
      ]
    },
    {
      "cell_type": "code",
      "metadata": {
        "id": "ACLvb3lmIETq",
        "colab": {
          "base_uri": "https://localhost:8080/",
          "height": 51
        },
        "outputId": "24975f57-bd54-4d63-a021-4ef42f69082e"
      },
      "source": [
        "epsilon = 1.0E-12\n",
        "x = 3.14159265359/4.0   # i.e. pi/4 (45 degrees in radians)\n",
        "x_square = x*x\n",
        "term = x\n",
        "result = term\n",
        "d = 1    #  2*n+1\n",
        "while abs(term) > epsilon:\n",
        "    term *= -x_square/((d+1)*(d+2))\n",
        "    result += term\n",
        "    d += 2\n",
        "\n",
        "print(\"sin(x) [Ours] is: \", result)\n",
        "\n",
        "# Compare this with the CPU-implemented version\n",
        "from math import *\n",
        "print(\"sin(x) [CPU ] is: \", sin(x))"
      ],
      "execution_count": null,
      "outputs": [
        {
          "output_type": "stream",
          "text": [
            "sin(x) [Ours] is:  0.707106781186584\n",
            "sin(x) [CPU ] is:  0.7071067811865841\n"
          ],
          "name": "stdout"
        }
      ]
    },
    {
      "cell_type": "markdown",
      "metadata": {
        "id": "S-HxPF9i3Hu9"
      },
      "source": [
        "### 5.2.3 `for` statement###\n",
        "\n",
        "The syntax of the `for` statement is:\n",
        "\n",
        "<big><big>**`for`**</big></big> \n",
        "$\\boxed{\\color{red}{Variable\\strut\\ }}$ <big><big>**` in `**</big></big>\n",
        "$\\boxed{\\color{red}{Iterator\\strut\\ }}$ <big><big>**`: `**</big></big> \n",
        "$\\boxed{\\color{red}{Statement\\strut\\ }}$\n",
        "\n",
        "An *iterator* is an object that provides a countable number of values on demand.\n",
        "It has an internal mechanism that responds to three requests:\n",
        "\n",
        "1. Reset (initialize) it to the start.\n",
        "2. Respond to the \"Are we at the end?\" question. \n",
        "3. Provide the next value in line. \n",
        "\n",
        "The `for` statement is a mechanism that allows traversing all values provided by an $\\color{red}{Iterator}$, one-by-one assigning them to a $\\color{red}{Variable}$ and then executiong a given $\\color{red}{Statement}$.\n",
        "\n",
        "The semantics of the for statement is displayed in <font color=gray>Figure 5.4</font>:  \n",
        "<center> \n",
        "<img  src=\"https://github.com/sinankalkan/CENG240/blob/master/figures/for.png?raw=true\">\n",
        "\n",
        "*Figure 5.4. The flowchart illustrating how a `for` statement is executed.*\n",
        "</center>\n",
        "\n",
        "\n",
        "**What iterators do we have?** \n",
        "\n",
        "1. All containers are also iterators (strings, lists, dictionaries, sets). \n",
        "2. The built-in function `range` returns an iterator that generates a sequence of integers, starting from 0 (default), and increments by 1 (default), and stops before a given number:\n",
        "\n",
        " `range(`$\\color{red}{start}$, $\\color{red}{stop}$, $\\color{red}{step}$`)`   \n",
        "\n",
        "| Parameter | Opt./Req. | Default | Description                                                           |   |\n",
        "|-----------|-----------|---------|-----------------------------------------------------------------------|---|\n",
        "| $\\color{Red}{start}$     | Optional  | 0       | An integer  specifying the start value.              |   |\n",
        "| $\\color{Red}{stop}$      | Required  |         | An integer  specifying the stop value (stop value will not be taken) |   |\n",
        "| $\\color{Red}{step}$      | Optional  | 1       | An integer  specifying the incrementation.                      |  \n",
        "\n",
        "3. A user-defined iterator. Since this is an introductory book, we will not cover how this is done.\n",
        "\n"
      ]
    },
    {
      "cell_type": "markdown",
      "metadata": {
        "id": "1rr2d7VvDaOk"
      },
      "source": [
        "### 5.2.4 Examples with for statement\n",
        "\n",
        "**Example 1: Words Starting with Vowels and Consonants**\n",
        "\n",
        "Let us split a list of words into two lists: those that start with a vowel and those that start with a consonant. "
      ]
    },
    {
      "cell_type": "code",
      "metadata": {
        "id": "sbiwiEYDliQc",
        "colab": {
          "base_uri": "https://localhost:8080/",
          "height": 52
        },
        "outputId": "30fa4b16-f49d-48b6-aee5-26fed9c0d9e1"
      },
      "source": [
        "mixed = [\"lorem\",\"ipsum\",\"dolor\",\"sit\",\"amet,\",\"consectetur\",\"adipiscing\",\"elit\",\"sed\",\"do\",\"eiusmod\",\"tempor\",\"incididunt\",\"ut\",\"labore\",\"et\",\"dolore\",\"magna\",\"aliqua\"]\n",
        "vowels = []\n",
        "consonants = []\n",
        "for word in mixed:\n",
        "    if word[0] in ['a','e','i','o','u']: vowels += [word]\n",
        "    else: consonants += [word]\n",
        "\n",
        "print(\"Starting with consonant:\", consonants)\n",
        "print(\"Starting with vowel:\", vowels)"
      ],
      "execution_count": null,
      "outputs": [
        {
          "output_type": "stream",
          "text": [
            "Starting with consonant: ['lorem', 'dolor', 'sit', 'consectetur', 'sed', 'do', 'tempor', 'labore', 'dolore', 'magna']\n",
            "Starting with vowel: ['ipsum', 'amet,', 'adipiscing', 'elit', 'eiusmod', 'incididunt', 'ut', 'et', 'aliqua']\n"
          ],
          "name": "stdout"
        }
      ]
    },
    {
      "cell_type": "markdown",
      "metadata": {
        "id": "yPxT2KwkY5R9"
      },
      "source": [
        "**Exercise**\n",
        "\n",
        "Write this solution in pseudo-code."
      ]
    },
    {
      "cell_type": "markdown",
      "metadata": {
        "id": "7S1KbgrOqMNR"
      },
      "source": [
        "**Example 2: Run-length Encoding**\n",
        "\n",
        "Run-length encoding is a compression technique for data that repeats itself contiguously. Images bear such data: For example, a clear sky portion is  actually rows of 'blue'. In the example below, we investigate a string for consequent character occurrences: If found, repetitions are coded as a list of `[character, repetition count]`. \n",
        "\n",
        "So, a text of `\"aaaaaaxxxxmyyyaaaassssssssstttuivvvv\"` gets encoded as:   \n",
        "`[['a',6],['x',4],'m',['y',3],['a',4],['s',9],['t',3],'u','i',['v',4]]`."
      ]
    },
    {
      "cell_type": "code",
      "metadata": {
        "id": "BRO4gDFNcygl",
        "colab": {
          "base_uri": "https://localhost:8080/",
          "height": 34
        },
        "outputId": "f2798648-3d5b-4ed5-852a-161b8846ab89"
      },
      "source": [
        "text = \"aaaaaaxxxxmyyyaaaassssssssstttuivvvv\"\n",
        "code_list = []\n",
        "last_character = text[0]\n",
        "count = 1\n",
        "\n",
        "# Go over each character except for the first\n",
        "for curr_character in text[1:]: \n",
        "    # If curr_character is equal to last_character, we found a duplicate\n",
        "    if last_character == curr_character: \n",
        "        count += 1\n",
        "    else: \n",
        "        # We have finished a sequence of same characters: Save the count and\n",
        "        # reinitialize last_character and count accordingly\n",
        "        code_list += [last_character if count==1 else [last_character, count]]\n",
        "        count = 1\n",
        "        last_character = curr_character\n",
        "\n",
        "# handle the last_character here:\n",
        "code_list += [last_character if count==1 else [last_character,count]]\n",
        "\n",
        "print(code_list)"
      ],
      "execution_count": null,
      "outputs": [
        {
          "output_type": "stream",
          "text": [
            "[['a', 6], ['x', 4], 'm', ['y', 3], ['a', 4], ['s', 9], ['t', 3], 'u', 'i', ['v', 4]]\n"
          ],
          "name": "stdout"
        }
      ]
    },
    {
      "cell_type": "markdown",
      "metadata": {
        "id": "ioBbwSN2aaZ-"
      },
      "source": [
        "**Exercise**\n",
        "\n",
        "Modify this code such that it removes consecutive duplicate characters. In other words, `\"aaaabbbcdd\"` should be reduced to `\"abcd\"`."
      ]
    },
    {
      "cell_type": "markdown",
      "metadata": {
        "id": "YIFpdepdj4Oz"
      },
      "source": [
        "**Example 3: Permutations**\n",
        "\n",
        "Permutations are keys to shuffling a sequence of data. Permutations can be denoted in various forms. One way is to give an order list: The $i^{\\mathrm{th}}$ element of the list stores the old position where the $i^{\\mathrm{th}}$ element of the new sequence will come from. In our implementation counting starts from 0 (zero). "
      ]
    },
    {
      "cell_type": "code",
      "metadata": {
        "id": "6d3JJrYoj51r",
        "colab": {
          "base_uri": "https://localhost:8080/",
          "height": 34
        },
        "outputId": "84e05611-72fb-47c2-f77c-8e09626fcf4e"
      },
      "source": [
        "word_list = [\"he\",\"came\",\"home\",\"late\",\"yesterday\"]\n",
        "permutation = [4,3,2,0,1]\n",
        "length = len(permutation)\n",
        "new_list = [None]*length\n",
        "\n",
        "for i in range(length):\n",
        "    new_list[i] = word_list[permutation[i]]\n",
        "\n",
        "print(new_list)"
      ],
      "execution_count": null,
      "outputs": [
        {
          "output_type": "stream",
          "text": [
            "['yesterday', 'late', 'home', 'he', 'came']\n"
          ],
          "name": "stdout"
        }
      ]
    },
    {
      "cell_type": "markdown",
      "metadata": {
        "id": "C486pnJglWe1"
      },
      "source": [
        "**Example 4: List Split**\n",
        "\n",
        "In the example below the first element of the list is taken and the rest is split into two lists: Those that are smaller than the first element, and those that are not. "
      ]
    },
    {
      "cell_type": "code",
      "metadata": {
        "id": "jISZxOAjlX-o",
        "colab": {
          "base_uri": "https://localhost:8080/",
          "height": 68
        },
        "outputId": "58d9dfa7-c3ae-4c84-a0a1-319eabf90dcd"
      },
      "source": [
        "list_to_split = [42, 59, 53, 84, 43, 8, 75, 34, 40, 89, 29, 15, 51, 6, 90, 32, 58, 77, 4, 24]\n",
        "list_smaller = []\n",
        "list_not_smaller = []\n",
        "\n",
        "for x in list_to_split[1:]:\n",
        "    if x < list_to_split[0]: list_smaller += [x]\n",
        "    else: list_not_smaller += [x]\n",
        "\n",
        "print(\"list head was.        :\",list_to_split[0])\n",
        "print(\"smaller than head     :\", list_smaller)\n",
        "print(\"not smaller than head :\", list_not_smaller)"
      ],
      "execution_count": null,
      "outputs": [
        {
          "output_type": "stream",
          "text": [
            "list head was.        : 42\n",
            "smaller than head     : [8, 34, 40, 29, 15, 6, 32, 4, 24]\n",
            "not smaller than head : [59, 53, 84, 43, 75, 89, 51, 90, 58, 77]\n"
          ],
          "name": "stdout"
        }
      ]
    },
    {
      "cell_type": "markdown",
      "metadata": {
        "id": "4Li7OEwDbm3p"
      },
      "source": [
        "**Example 5: Dot Product**\n",
        "\n",
        "A frequently used operation with vectors is the dot product between two vectors, e.g. $\\mathbf{u}$ and $\\mathbf{v}$:\n",
        "$$\n",
        "\\mathbf{u} \\cdot \\mathbf{v} = \\sum_{i=1}^n u_i v_i,\n",
        "$$\n",
        "where the vectors have $n$ elements each. Let us implement this in Python:\n",
        "\n"
      ]
    },
    {
      "cell_type": "code",
      "metadata": {
        "id": "YXbYW_pAcrrV",
        "colab": {
          "base_uri": "https://localhost:8080/",
          "height": 34
        },
        "outputId": "5e4771fb-e865-443a-fd14-2aed85405fb7"
      },
      "source": [
        "# Define the vectors (as lists)\n",
        "u = [1, 2, 4, 10]\n",
        "v = [10, 4, 2, 1]\n",
        "n = len(u)\n",
        "dot_prod = 0\n",
        "\n",
        "if n != len(v): print(\"Sizes don't match!\")\n",
        "else: \n",
        "  for i in range(n):\n",
        "    dot_prod += u[i] * v[i]\n",
        "  print(\"u . v is: \", dot_prod)"
      ],
      "execution_count": null,
      "outputs": [
        {
          "output_type": "stream",
          "text": [
            "u . v is:  36\n"
          ],
          "name": "stdout"
        }
      ]
    },
    {
      "cell_type": "markdown",
      "metadata": {
        "id": "D-N703SFdsex"
      },
      "source": [
        "**Exercise**\n",
        "\n",
        "Implement dot product between two vectors using a `while` statement."
      ]
    },
    {
      "cell_type": "markdown",
      "metadata": {
        "id": "uJW7uxFAdmyS"
      },
      "source": [
        "**Example 6: Angle between Two Vectors**\n",
        "\n",
        "The angle between two vectors $\\mathbf{u}$ and $\\mathbf{v}$ is closely related to their dot product:\n",
        "$$\n",
        "\\mathbf{u} \\cdot \\mathbf{v} = ||\\mathbf{u}||\\ ||\\mathbf{v}|| \\ \\cos(\\theta),\n",
        "$$\n",
        "where $\\theta$ is the angle between the vectors, and $||\\cdot||$ denotes the norm of a vector:\n",
        "$$\n",
        "||\\mathbf{u}|| = \\sqrt{\\mathbf{u} \\cdot \\mathbf{u}} = \\sqrt{\\sum_{i=1}^n u_i^2}.\n",
        "$$\n",
        "The angle can be derived from these as follows:\n",
        "\n",
        "$$\n",
        "\\theta = \\arccos\\left( \\frac{\\mathbf{u} \\cdot \\mathbf{v}}{||\\mathbf{u}||\\ ||\\mathbf{v}||} \\right).\n",
        "$$\n",
        "Let us implement this:"
      ]
    },
    {
      "cell_type": "code",
      "metadata": {
        "id": "W8qZCfj5ffil",
        "colab": {
          "base_uri": "https://localhost:8080/",
          "height": 34
        },
        "outputId": "d9e34b7d-1679-4e6f-bd83-69887b4c1f1d"
      },
      "source": [
        "from math import sqrt, acos\n",
        "\n",
        "# Define two vectors that have 90deg (pi/2) between them\n",
        "u = [1, 0, 0]\n",
        "v = [0, 1, 0]\n",
        "n = len(u)\n",
        "\n",
        "if n != len(v): \n",
        "  print(\"Sizes don't match!\")\n",
        "\n",
        "else:\n",
        "  # Calculate dot product & norms\n",
        "  dot_prod = u_norm_sum = v_norm_sum = 0\n",
        "  for i in range(n):\n",
        "    dot_prod   += u[i] * v[i] \n",
        "    u_norm_sum += u[i] ** 2\n",
        "    v_norm_sum += v[i] ** 2\n",
        "  \n",
        "  u_norm = sqrt(u_norm_sum)\n",
        "  v_norm = sqrt(v_norm_sum)\n",
        "\n",
        "  theta = acos(dot_prod / u_norm * v_norm)\n",
        "\n",
        "  print(\"angle between u and v is: \", theta)"
      ],
      "execution_count": null,
      "outputs": [
        {
          "output_type": "stream",
          "text": [
            "angle between u and v is:  1.5707963267948966\n"
          ],
          "name": "stdout"
        }
      ]
    },
    {
      "cell_type": "markdown",
      "metadata": {
        "id": "X_pr9gm7qK3j"
      },
      "source": [
        "**Example 7: Matrix Multiplication**\n",
        "\n",
        "Our last example is matrix multiplication. As you know, a matrix $A$ can be multipled with the matrix $B$ if the column-count ($m$) of $A$ is equal to the row-count of $B$. The product matrix is of a size where row-count equals that of $A$ and the column-count equals that of $B$.\n",
        "\n",
        "$$\n",
        "(A\\cdot B)_{ij} = \\sum_{k=0}^{m-1} A_{ik}\\cdot B_{kj} .\n",
        "$$\n",
        "\n",
        "As we discussed in the previous chapter, since Python provides no two dimensional containers, but a very fexible list container, matrices are mostly represented as lists of lists each of which represent a row. For example, a $3\\times 4$ matrix:\n",
        "$$\n",
        "\\begin{pmatrix}\n",
        " -2 & 3 & 5 & -1 \\\\\n",
        "  0 & 3 & 10 & -7\\\\\n",
        " 11 & 0 & 0  &-8\n",
        " \\end{pmatrix}\n",
        "$$\n",
        "can be represented as:\n",
        "```python\n",
        "A = [[-2,3,5,-1], [0,3,10,-7], [11,0,0,-8]]\n",
        "```\n",
        "This representation is also coherent with the indexing of matrices: $A_{ij}$ is accessible in Python as `A[i][j]`. The code below multiples two matrices, given in this representation, and prints the result. "
      ]
    },
    {
      "cell_type": "code",
      "metadata": {
        "id": "pPVuX__tqNpC",
        "colab": {
          "base_uri": "https://localhost:8080/",
          "height": 34
        },
        "outputId": "2828ae7f-2b93-4c81-9d62-cd37d083d0fc"
      },
      "source": [
        "A = [[-2,3,5,-1], [0,3,10,-7], [11,0,0,-8]]\n",
        "B = [[2,1], [-1,1], [0,4], [8,0]]\n",
        "\n",
        "# C = A*B\n",
        "\n",
        "# Create a result matrix with entries filled with 0 (zeros)\n",
        "C = []\n",
        "for i in range(len(A)): \n",
        "  C += [[0] * len(B[0])]  # This is done to overcome the aliasing problem\n",
        "\n",
        "for i in range(len(C)):\n",
        "    for j in range(len(C[0])):\n",
        "        for k in range(len(B)):\n",
        "            C[i][j] += A[i][k]*B[k][j]\n",
        "\n",
        "print(C)"
      ],
      "execution_count": null,
      "outputs": [
        {
          "output_type": "stream",
          "text": [
            "[[-15, 21], [-59, 43], [-42, 11]]\n"
          ],
          "name": "stdout"
        }
      ]
    },
    {
      "cell_type": "markdown",
      "metadata": {
        "id": "HeYMTwz_0g3T"
      },
      "source": [
        "### 5.2.5 `continue` and `break` statements\n",
        "\n",
        "It is possible to alter the flow of execution in a `while` or `for` repetition. This is almost always used in combination with statement grouping, where a group of statements is subject to the `while` or `for`.\n",
        "\n",
        "Let's assume you are executing a sequence of statements by means of statement grouping. Somewhere in the process, without waiting for the terminating condition to become `False` in a while statement or exhausting all items in the iterator in a `for` statement, you decide to terminate looping. The `break` statement does exactly serve this purpose: The `while` (or `for`) is stopped immediately and the execution continues with the statement after the `while` (or `for`). \n",
        "\n",
        "Similarly, somewhere in the process you decide not to execute the rest of the statements in the grouping and straight away continue with the test. \n",
        "This is achieved by a `continue` statement usage. See <font color=gray>Figure 5.5</font> for how the `continue` statement changes the flow of execution.\n",
        "\n",
        "<center>\n",
        "<table>\n",
        "    <tr>\n",
        "     <th> <Big><Big>while</Big></Big> </th> <th> <Big><Big>for</Big></Big> </th>\n",
        "    </tr>\n",
        "    <tr>\n",
        "        <td><img  src=\"https://github.com/sinankalkan/CENG240/blob/master/figures/while-w-break-continue.png?raw=true\"  ></td>\n",
        "        <td style=\"border:1px solid black\"><img  src=\"https://github.com/sinankalkan/CENG240/blob/master/figures/for-w-break-continue.png?raw=true\"  >\n",
        "</td>        \n",
        "    </tr>\n",
        "</table>\n",
        "\n",
        "*Figure 5.5. How `continue` statement changes execution in a `while` and `for` statement.*\n",
        "</center>"
      ]
    },
    {
      "cell_type": "markdown",
      "metadata": {
        "id": "NBaRoJqzdcu4"
      },
      "source": [
        "### 5.2.6 Set and list comprehension  ###\n",
        "A well-known and extensively-used notation to describe a set in mathematics is the so-called ‘set-builder notation’. This is also known as  *set comprehension*. This notation has three parts (from left-to-right): \n",
        "\n",
        " 1. an expression in terms of a variable,\n",
        " 2. a colon or vertical bar separator, and\n",
        " 3. a logical predicate.\n",
        "\n",
        "Something like this:\n",
        "$$\n",
        "\\{x^{3}\\ |\\ x \\in \\{0,1,\\ldots,7\\}\\}\n",
        "$$\n",
        "which defines the set:\n",
        "$$\n",
        "\\{0, 1, 8, 27, 64, 125, 216, 343\\}\n",
        "$$\n",
        "or as something more elaborate:\n",
        "$$\n",
        "\\left\\{x^{3}\\ |\\ x \\in \\{0,1,\\ldots,7\\} \\wedge (x \\bmod 2) = 1\\right\\}\n",
        "$$\n",
        "defining\n",
        "$$\n",
        "\\{1,27,125,343\\}\n",
        "$$\n",
        "\n",
        "There exists a Python notation with the same semantics both for sets and lists: \n",
        "```python\n",
        ">>> [x**3 for x in range(8)]\n",
        "[0, 1, 8, 27, 64, 125, 216, 343]\n",
        ">>> {x**3 for x in range(8)}\n",
        "{0, 1, 64, 8, 343, 216, 27, 125}\n",
        "```\n",
        "The second example, which imposes a constraint on `x` to be an odd number, would be coded as:\n",
        "```python\n",
        ">>> [x**3 for x in range(8) if x%2 == 1]\n",
        "[1, 27, 125, 343]\n",
        ">>> {x**3 for x in range(8) if x%2 == 1}\n",
        "{1, 27, 125, 343}\n",
        "```\n",
        "Certainly the condition (following the `if` keyword) could have been constructed as a more complex boolean expression.\n",
        "\n",
        "The expression that can appear to the left of the `for` keyword can be any Python expression and container. Here are a couple of more examples on matrices."
      ]
    },
    {
      "cell_type": "code",
      "metadata": {
        "id": "6dieMVRDLpO5",
        "colab": {
          "base_uri": "https://localhost:8080/",
          "height": 102
        },
        "outputId": "263b764a-83c3-47ef-90e6-9642d999ae5a"
      },
      "source": [
        "print( [[0 for i in range(3)] for j in range(4)] )\n",
        "print( [[1 if i==j else 0 for i in range(3)] for j in range(3)] )\n",
        "print( [[(i,j) for i in range(3)] for j in range(4)] )\n",
        "print( [[(i+j)%2 for i in range(3)] for j in range(4)] )\n",
        "print( [[i+3*j for i in range(3)] for j in range(4)] )"
      ],
      "execution_count": null,
      "outputs": [
        {
          "output_type": "stream",
          "text": [
            "[[0, 0, 0], [0, 0, 0], [0, 0, 0], [0, 0, 0]]\n",
            "[[1, 0, 0], [0, 1, 0], [0, 0, 1]]\n",
            "[[(0, 0), (1, 0), (2, 0)], [(0, 1), (1, 1), (2, 1)], [(0, 2), (1, 2), (2, 2)], [(0, 3), (1, 3), (2, 3)]]\n",
            "[[0, 1, 0], [1, 0, 1], [0, 1, 0], [1, 0, 1]]\n",
            "[[0, 1, 2], [3, 4, 5], [6, 7, 8], [9, 10, 11]]\n"
          ],
          "name": "stdout"
        }
      ]
    },
    {
      "cell_type": "markdown",
      "metadata": {
        "id": "2gIHTs3WWdZ-"
      },
      "source": [
        "## Important Concepts\n",
        "\n",
        "We would like our readers to have grasped the following crucial concepts and keywords from this chapter:\n",
        "\n",
        "* Conditional execution with `if`, `if-else`, `if-elif-else` statements.\n",
        "* Nested if statements.\n",
        "* Conditional expression as a form of conditional computation in an expression.\n",
        "* Repetitive execution with while and for statements.\n",
        "* Changing the flow of iterations with `break` and `continue` statements.\n",
        "* Set and list comprehension as a form of iterative computation in an expression."
      ]
    },
    {
      "cell_type": "markdown",
      "metadata": {
        "id": "EQx6KsyrWgpy"
      },
      "source": [
        "## Further Reading\n",
        "\n",
        "* \"Managing the size of a problem\", Chapter 4 of \"Introduction to Programming Concepts with Case Studies in Python\": https://link.springer.com/chapter/10.1007/978-3-7091-1343-1_4"
      ]
    },
    {
      "cell_type": "markdown",
      "metadata": {
        "id": "E-FUm_QLWjBz"
      },
      "source": [
        "## Exercises \n",
        "\n",
        "We have provided many exercises throughout the chapter, please study and answer them as well.\n",
        "\n",
        "* Implement the `while` statement examples in Section 5.2.2 using `for` statement:\n",
        " + Calculating the average of a list of numbers.\n",
        " + Calculating the standard deviation of a list of numbers.\n",
        " + Calculating the factorial of a number.\n",
        " + Taylor series expansion of sin(x).\n",
        "* Implement the `for` statement examples in Section 5.2.4 using `while` statement:\n",
        " + Words with vowels and consonants.\n",
        " + Run-length encoding.\n",
        " + Permutation.\n",
        " + List split.\n",
        " + Matrix multiplication.\n",
        "* What does the variable c hold after executing the following Python code?\n",
        "```python\n",
        "c = list(\"address\")\n",
        "for i in range(0, 6):\n",
        "    if c[i] == c[i+1]:\n",
        "        for j in range(i, 6):\n",
        "            c[j] = c[j+1]\n",
        "```\n",
        "* Write a Python code that removes duplicate items in a list. E.g. `[12, 3, 4, 12]` should be changed to `[12, 3, 4]`. The order of items should not change.\n",
        "* Write a Python code that replaces a nested list of numbers with the average of the numbers. E.g. `[[1, 3], [4, 5, 6], 7, [10, 20]]` should yield `[2, 5, 7, 15]`.\n",
        "* Write a Python code that finds all integers dividing a given integer without a remainder. E.g. for number 21, your code should compute `[1, 3, 7]`.\n",
        "* Write a Python code that converts an integer (less than 128) into binary string using a for/while statement. E.g. 21 should be represented as `00010101`.\n",
        "* Write a Python code that convers a binary string like `00010101` into integer.\n"
      ]
    }
  ]
}