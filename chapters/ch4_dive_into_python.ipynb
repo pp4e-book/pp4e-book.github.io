{
  "nbformat": 4,
  "nbformat_minor": 0,
  "metadata": {
    "colab": {
      "name": "ch4_dive_into_python.ipynb",
      "private_outputs": true,
      "provenance": [],
      "collapsed_sections": [],
      "toc_visible": true
    },
    "kernelspec": {
      "name": "python3",
      "display_name": "Python 3"
    }
  },
  "cells": [
    {
      "cell_type": "markdown",
      "metadata": {
        "id": "OAf-bKx2peB_"
      },
      "source": [
        "# Chapter 4 - Dive into Python\n",
        "\n",
        "*(C) Copyright Notice: This chapter is part of the book available at https://pp4e-book.github.io/ and copying, distributing, modifying it requires explicit permission from the authors. See the book page for details: https://pp4e-book.github.io/*\n",
        "\n",
        "After having covered some background on how a computer works, how we solve problems with computers and how we can represent data in binary, we are ready to interact with Python and to learn representing data and performing actions in Python.\n",
        "\n",
        "The Python interpreter that we introduced in Chapter 2 waits for our computational demands if not executing something already. Those demands that describe an algorithm have to be expressed in Python as a sequence of 'actions' where each action can serve two broad purposes:\n",
        "* **Creating or modifying data**: These actions take in data, perform sequential, conditional or repetitive execution on the data, and produce other data. Computations that form the bases for our solutions are going to be these kinds of actions.\n",
        "\n",
        "* **Interacting with the environment**: Our solutions will usually involve interacting with the user or the peripherals of the computer to take in (input) data or take out (output) data.\n",
        "\n",
        "Irrespective of its purpose, an action can be of two types:\n",
        "*  **Expression**: An expression (e.g. `3 + 4 * 5`) specifies a calculation, which, when evaluated (performed), yields some data as a result. An expression can consist of:\n",
        "  * basic data (integer, floating point, boolean etc.) or container data (e.g. string, list, set etc.).\n",
        "  * expressions involving operations among data and other expressions.\n",
        "  * functions acting on expressions.\n",
        "*  **Statement**: Unlike an expression, a statement does *not* return data as a result and can be either basic or compound:\n",
        "  * **Basic statement**: A basic statement can be e.g. for storing the result of an expression in a memory location (an assignment statement for further use (in following actions), deleting an item from a collection of data etc. Each statement has its special syntax that generally involves a special keyword.\n",
        "  * **Compound statement**: Compound statements are composed of other statements and executing the compound statement means executing the statements in the compound. \n",
        "\n",
        "\n",
        "**Naming and Printing Data**\n",
        "\n",
        "For better illustrations and examples, we will use two concepts in the first part of the chapter before they are introduced. Let us briefly describe them and leave the coverage of the details to their individual sections:\n",
        "\n",
        "* Variables:  In programming languages, we can give a name to data and use that name to access it, e.g.:\n",
        "```python\n",
        ">>> a = 3\n",
        ">>> 10 + a\n",
        "13\n",
        "```\n",
        "We call such names variables and the action `a = 3` is called an assignment. We defer a more detailed coverage until Section 4.4.\n",
        "\n",
        "* Printing data: Python provides the `print()` function to display data items on screen:\n",
        "```python\n",
        "print(item1, item2, ..., itemN)\n",
        "```\n",
        "For example:\n",
        "```python\n",
        ">>> print('Python', 'is', 'so', 'fun')\n",
        "Python is so fun\n",
        "```"
      ]
    },
    {
      "cell_type": "markdown",
      "metadata": {
        "id": "D3kRYGQvHMwU"
      },
      "source": [
        "## 4.1 Basic Data\n",
        "\n",
        "Let us remember what basic data types we had:\n",
        "\n",
        "* Numbers\n",
        "  + Integers \n",
        "  + Floating points\n",
        "  + Complex numbers\n",
        "* Booleans\n",
        "\n",
        "Python is a language in which all arithmetic operations among the same type of numbers are provided very much as expected from our math knowledge. Furthermore, mixed type operations (e.g. subtracting a floating point number form an integer) are also defined. \n",
        "\n",
        "In programming, being able to ask questions about data is of vital importance. The atomic structures for asking questions are the *comparison operations* (e.g. \"is a value equal to another value\", or \"is a value greater than another value\", etc.). Operators that serve these purposes do exist in Python and provide resulting values that are `True` or `False` (Booleans). It is also possible to combine such questions under *logical operations*. The `and`, `or` and `not` operators stand for conjunction, disjunction and negation, correspondingly. Needless to say, these operators also return Boolean values. "
      ]
    },
    {
      "cell_type": "markdown",
      "metadata": {
        "id": "6ETrnV0CTXBv"
      },
      "source": [
        "###4.1.1 Numbers in Python\n",
        "\n",
        "Python provides the following representations for numbers (the following is an essential reminder from the previous chapter):\n",
        "\n",
        "* **Integers:** You can use integers as you are used to from your math classes. Interestingly Python adopts a seamless internal representation so that integers can effectively have any number of digits. The internal mechanism of Python switches from the CPU-imposed fixed-size integers to some elaborated big-integer representation silently when needed. You do not have to worry about it. Furthermore, bear in mind that \"73.\" is **not** an integer in Python. It is a floating point number (73.0). An integer cannot have a decimal point as part of it.\n",
        "    \n",
        "* **Floating point numbers (float in short):** In Python, numbers which have decimal point are taken and represented as floating point numbers. For example, 1.45, 0.26, and -99.0 are float but 102 and -8 are not. We can also use the scientific notation ($a \\times 10^b$) to write floating point numbers. For example, float 0.0000000436 can be written in scientific notation as $4.36 \\times 10^{-8}$ and in Python as 4.36E-8 or 4.36e-8.\n",
        "\n",
        "* **Complex numbers:** In Python, complex numbers can be created by using `j` after a floating point number (or integer) to denote the imaginary part: e.g. `1.5-2.6j` for the complex number $(1.5-2.6i)$. The `j` symbol (or $i$) represents $\\sqrt{-1}$. There are other ways to create complex numbers, but this is the most natural way, considering your previous knowledge from highschool.\n",
        "\n",
        "\n",
        "**More on Integers and Floating Point Numbers**\n",
        "\n",
        "Python provides `int` data type for integers and `float` data type for floating point numbers. You can easily play around with `int` and `float` numbers and check their type as follows:\n",
        "```python\n",
        ">>> 3+4\n",
        "7\n",
        ">>> type(3+4)\n",
        "<class 'int'>\n",
        ">>> type(4.1+3.4)\n",
        "<class 'float'>\n",
        "```\n",
        "where `<class 'int'>` indicates type `int`.\n",
        "\n",
        "In Python version 3, integers do not have fixed-size representation and their size is only limited by your available memory. In Python version 2, there were two integer types: `int`, which used the fixed length representation supported by the CPU, and `long` type, which was unbounded. Since this book is based on Python version 3, we will assume that `int` refers to an unbounded representation.\n",
        "\n",
        "As for the `float` type, Python uses the 64-bit IEEE754 standard, which allows representing numbers in the range `[2.2250738585072014E-308, 1.7976931348623157E+308]`.\n",
        "\n",
        "**Useful Operations**:\n",
        "\n",
        "The following operations can be useful while working with numbers:\n",
        "* `abs(<Number>)`: Takes the absolute value of the number.\n",
        "* `pow(<Number1>, <Number2>)`: Takes the power of `<Number1>`, i.e. $\\textrm{<Number1>}^{\\textrm{<Number2>}}$\n",
        "* `round(<FloatNumber>)`: Rounds the floating point number to the _closest_ integer.\n",
        "* Functions from the `math` library: `sqrt()`, `sin()`, `cos()`, `log()`, etc (see [the Python documentation](https://docs.python.org/3/library/math.html) for a full list). This requires _importing_ from the built-in math library first as follows:\n",
        "\n",
        "```python\n",
        ">>> from math import *\n",
        ">>> sqrt(10)\n",
        "3.1622776601683795\n",
        ">>> log10(3.1622776601683795)\n",
        "0.5\n",
        "```"
      ]
    },
    {
      "cell_type": "markdown",
      "metadata": {
        "id": "kXn-dBIK2CJ0"
      },
      "source": [
        "### 4.1.2 Boolean Values\n",
        "\n",
        "Python provides the `bool` data type which allows only two values: `True` and `False`. For example:\n",
        "\n",
        "```python \n",
        ">>> type(True)\n",
        "<class 'bool'>\n",
        ">>> 3 < 4 \n",
        "True\n",
        ">>> type(3 < 4)\n",
        "<class 'bool'>\n",
        "```\n",
        "\n",
        "\n",
        "Also due to decades of programming experience, Python converts several instances of other data types to some certain boolean values, if used in place of a boolean value. For example,\n",
        "\n",
        " * `0` (the integer zero)\n",
        " * `0.0` (the floating point zero)\n",
        " * `\"\"` (the empty string)\n",
        " * `[]` (the empty list)\n",
        " * `{}` (the empty dictionary or set)\n",
        "\n",
        "are interpreted as `False`. All other values of similar kinds are interpreted as `True`.\n",
        " \n",
        "**Useful Operations**:\n",
        "\n",
        "With boolean values, we can use `not` (negation or inverse), `and` and `or` operations:\n",
        "```python\n",
        ">>> True and False\n",
        "False\n",
        ">>> 3 > 4 or 4 < 3\n",
        "False\n",
        ">>> not(3 > 4)\n",
        "True\n",
        "```\n",
        "\n",
        "`and` returns a `True` value only if both of its operands are `True`, otherwise it returns `False`. `or` returns `True` if any or both of its operands are `True`.  The following table gives result of the boolean operations for the given operand pair:\n",
        "\n",
        "   a | b | a `and` b | a `or` b\n",
        "   --|---|-----------|---------\n",
        "   `True` | `True` | `True` | `True`\n",
        "   `True` | `False` | `False` | `True`\n",
        "   `False`| `True` | `False` | `True`\n",
        "   `False`| `False` | `False` | `False`\n",
        "\n"
      ]
    },
    {
      "cell_type": "markdown",
      "metadata": {
        "id": "7K-MSg-cBuv7"
      },
      "source": [
        "##4.2 Container data (str, tuple, list, dict, set)##\n",
        "Up to this point we have seen the basic data types. They are certainly needed for computation but many world problems for which we seek computerized solutions need more elaborate data. Just to mention a few:\n",
        "* Vectors\n",
        "* Matrices\n",
        "* Ordered and unordered sets\n",
        "* Graphs\n",
        "* Trees \n",
        "\n",
        "Vectors and matrices are used in almost all simulations/problems of the physical world; sets are used to keep any property information as well as orders of items, equivalences; graphs are necessary for many spatial problems; trees are vital to representing hierarchical relational structures, action logics, organizing data for a quick search.  \n",
        "\n",
        "Python provides five container types for these:\n",
        "\n",
        "1. **String (`str`):** A string can hold a sequence of characters or only a single character. A string cannot be modified after creation.\n",
        "2. **List (`list`):** A list can hold ordered sets of all data types in Python (including another list). A list's elements can be modified after creation.\n",
        "3. **Tuple (`tuple`):** The tuple type is very similar to the list type but the elements cannot be modified after creation (similar to strings).\n",
        "4. **Dictionary (`dict`):** A very very efficient method to form a mapping from a set of numbers, booleans, strings and tuples to any set of data in Python.\n",
        "Dictionaries are easily modifiable and extendable. Querying the mapping of an element to the 'target' data is performed in almost constant time (regardless of how many elements the dictionary has). In Computer Science terms, it is a *hash table*. \n",
        "5. **Set (`set`):** The `set` type is equivalent to sets in mathematics. The element order is undefined. _(We deemphasize the use of  **set**)_.\n",
        "\n",
        "\n",
        "The first three, namely String, List and Tuple are called *sequential containers*. They consist of consecutive elements indexed by integer values starting at 0. Dictionary is <u>not</u> sequential, element indexes are arbitrary. For simplicity we will abbreviate sequential containers as *s-containers*.\n",
        "\n",
        "All these containers have external representations which are used in inputting and outputting them (with all their content). Below we will walk through some examples to explain them.\n",
        "\n",
        "**Mutability vs. Immutability**\n",
        "\n",
        "Some container types are created 'frozen'. After creating them you can wholly destroy them but you cannot change or delete their individual elements. This is called _immutability_. Strings and tuples are immutable whereas lists, dictionaries and sets are _mutable_. With a mutable container, adding new elements and changing or deleting existing ones is possible. \n",
        "\n",
        "\n",
        "\n",
        "\n",
        "\n"
      ]
    },
    {
      "cell_type": "markdown",
      "metadata": {
        "id": "fUl00G7hA-YH"
      },
      "source": [
        "### 4.2.1 Accessing elements in sequential containers\n",
        "\n",
        "All containers except `set` reveal their individual elements by an indexing mechanism with brackets:\n",
        "<center>\n",
        "<img src=\"https://github.com/sinankalkan/CENG240/blob/master/figures/containerindex.png?raw=true\" alt=\"Container indexing\" title=\"How elements of a container is accessed\" width=150  align=center /> \n",
        "</center>\n",
        "\n",
        "For the s-containers, the index is an ordinal number where counting starts with zero. For dictionaries, the index is a Python data item from the source (domain) set. A *negative index* (usable only on s-containers) has a meaning that the (counting) value is relative to the end. A negative index can be converted to a positive index by adding to the negative value the length of the container. It is nothing but index obtained by adding the length of the container. \n",
        "\n",
        "Below we have an s-container that has a length of $(n+1)$  \n",
        "(careful: indexing started at 0!): \n",
        "\n",
        "$$\n",
        "\\begin{array}[t]{|c|c|c}\n",
        "\\hline\n",
        "\\;\\Box_0 & \\;\\Box_1 &   \\\\\n",
        "\\hline  \n",
        "\\end{array} \\cdots\n",
        "\\begin{array}[t]{c|c|c|}\n",
        "\\hline\n",
        "  & \\;\\Box_{n-1} & \\; \\Box_n\\; \\\\\n",
        "\\hline\n",
        "\\end{array}\\\\\n",
        "\\begin{array}[t]{ccc}\n",
        "\\mathtt{[0]}& \\; \\mathtt{[1]} &   \\\\ \n",
        "\\end{array} \\;\\cdots\n",
        "\\begin{array}[t]{ccc}\n",
        "  & \\;\\mathtt{[}{\\scriptsize n-1}\\mathtt{]} & \\; \\mathtt{[}{\\scriptsize n}\\mathtt{]} \\\\\n",
        "\\end{array} \\\\\n",
        "\\!\\!\\!\\!\n",
        "\\begin{array}[t]{ccc}\n",
        "\\mathtt{[}{\\scriptsize -(n+1)}\\mathtt{]} & \n",
        "\\!\\!\\!\\!\\!\\mathtt{[}{\\scriptsize -n}\\mathtt{]}\\! &   \\\\ \n",
        "\\end{array}\n",
        "\\;\n",
        "\\cdots\n",
        "\\;\\;\n",
        "\\begin{array}[t]{ccc}\n",
        "  & \\mathtt{[-2]} &  \n",
        "  \\mathtt{[-1]} \\\\\n",
        "\\end{array} \n",
        "$$\n",
        "\n",
        "As you surely have observed, when you add $(n+1)$ to the negative index you obtain the positive one.  \n",
        "\n",
        "**Slicing**\n",
        "\n",
        "s-containers provide a rich mechanism, called slicing, that allows accessing multiple elements at once. Thanks to this mechanism, you can define a start and end index and obtain the portion that lies in between (<font color=gray>Figure 4.1</font>):\n",
        "\n",
        "* The element at the start index is the first to be accessed. \n",
        "* The end index is where accessing stops (the element at the end index is **not** accessed -- i.e. the end index is not inclusive). \n",
        "* It is also possible to optionally define an increment (jump amount) between indexes. After the element at $\\mathtt{[}start\\mathtt{]}$ is accessed first, $\\mathtt{[}start+increment\\mathtt{]}$ is accessed next. This goes on until the accessed position is equal or greater than the end index. For negative indexing, a negative increment has to work from the bigger index towards the lesser, so $(start\\ index>end\\ index)$ is expected.  \n",
        "\n",
        "<center>\n",
        "<img src=\"https://github.com/sinankalkan/CENG240/blob/master/figures/scontainerslicing.png?raw=true\" alt=\"Container indexing\" title=\"How elements of a container is accessed\" width=700  align=center/> \n",
        "\n",
        "*Figure 4.1. Accessing multiple elements of an s-container is possible via the slicing mechanism, which specifies a starting index, an ending index and an index increment between elements.*\n",
        "</center>\n",
        "\n",
        "Below, with the introduction of strings, we will have extensive examples on slicing.\n",
        "\n",
        "If the s-container is immutable (e.g. string and tuple containers) then slicing creates a copy of the sliced data. Otherwise, i.e. if the s-container is mutable (i.e. the 'list' container) then slicing provides direct access to the original elements and therefore, they can be updated, which updates the original s-container."
      ]
    },
    {
      "cell_type": "markdown",
      "metadata": {
        "id": "r7eQYJnA4XIF"
      },
      "source": [
        "### 4.2.2 Useful operations common to containers\n",
        "\n",
        "The following operations are common to all or a subset of containers:\n",
        "\n",
        "1- *Number of elements*: \n",
        "\n",
        "For all containers `len()` is a built-in function that returns the count of elements in the container that is given as argument to it, e.g.:\n",
        "\n",
        "```python\n",
        ">>> len(\"Five\")\n",
        "4\n",
        "```\n",
        "\n",
        "2- *Concatenation*:\n",
        "\n",
        "String, tuple and list data types can be combined using '+' operation:\n",
        "```\n",
        "<Container1> + <Container2>\n",
        "```\n",
        "where the containers need to be of the same type. For example:\n",
        "```python\n",
        ">>> \"Hell\" + \"o\"\n",
        "'Hello'\n",
        "```\n",
        "\n",
        "3- *Repetition*:\n",
        "String, tuple and list data types can be repeated using '*' operation:\n",
        "```\n",
        "<Container1> * <Number>\n",
        "```\n",
        "where the container is copied '<Number>' many times. For example:\n",
        "```python\n",
        ">>> \"Yes No \" * 3\n",
        "'Yes No Yes No Yes No '\n",
        "```\n",
        "\n",
        "4- *Membership*:\n",
        "All containers can be checked for whether they contain a certain item as an element using `in` and `not in` operations:\n",
        "```\n",
        "<item> in <Container>\n",
        "```\n",
        "or \n",
        "```\n",
        "<item> not in <Container>\n",
        "```\n",
        "Of course, the result is either `True` or `False`. For dictionaries `in` tests if the domain set contains the element, for others it simply tests if element is a member."
      ]
    },
    {
      "cell_type": "markdown",
      "metadata": {
        "id": "A29dkvJKwblG"
      },
      "source": [
        "### 4.2.3 String\n",
        "\n",
        "As was explained in the previous chapter, a string is used to hold a sequence of characters. Actually, it is a container where each element is a character. However, Python does not have a special representation for a single character. Characters are represented externally as strings containing a single character only. \n",
        "\n",
        "**Writing strings in Python**\n",
        "\n",
        "In Python a string is denoted by enclosing the character sequence between a pair of quotes (`'`) or double quotes (`\"`).  A string surrounded with triple double quotes (`\"\"\"` $\\ldots$ `\"\"\"`) allows you to have any combination of quotes and line breaks within a sequence, and Python will still view it as a single entity.\n",
        "\n",
        "Here are  some examples:\n",
        "\n",
        "* `\"Hello World!\"`\n",
        "* `'Hello World!'`\n",
        "* `'He said: \"Hello World!\" and walked towards the house.'`\n",
        "* `\"A\"`\n",
        "* `\"\"\"`  \n",
        "  `Andrew said:`  \n",
        "  `\"Come here, doggy\".`\n",
        "  `The dog barked in reply: 'woof'`   \n",
        "  `\"\"\"`\n",
        "\n",
        "The backslash (`\\`) is a special character in Python strings, also known as the *escape character*. It is used in representing certain, the so called, unprintable characters: (`\\t`) is a tab, (`\\n`) is a newline, and (`\\r`) is a carriage return. <font color=gray>Table 4.1</font> provides the full list.\n",
        "\n",
        "<center>\n",
        "\n",
        "*Table 4.1. The list of escape characters in Python.*\n",
        "</center>\n",
        "\n",
        "|Escape Sequence |   \tMeaning |\n",
        "|:-|:-| \n",
        "|`\\\\`\t| Backslash (`\\`) |\n",
        "|`\\'`\t|Single quote (`'`) |\n",
        "|`\\\"`\t|Double quote (`\"`) |\n",
        "|`\\a`\t|ASCII Bell (BEL) |\n",
        "|`\\b`\t|ASCII Backspace (BS) |\n",
        "|`\\f`\t|ASCII Formfeed (FF) |\n",
        "|`\\n`\t|ASCII Linefeed (LF) |\n",
        "|`\\r`\t|ASCII Carriage Return (CR) |\n",
        "|`\\t`\t|ASCII Horizontal Tab (TAB) |\n",
        "|`\\v`\t|ASCII Vertical Tab (VT) |\n",
        "|`\\`*ooo*\t|ASCII character with octal value *ooo* |\n",
        "|`\\x`*hh*\t|ASCII character with hex value *hh* |\n",
        "|`\\u`*hhhh*\t|UNICODE character with hex value *hhhh* |\n",
        "\n",
        "Conversely, prefixing a special character with (`\\`) turns it into an ordinary character. This is called *escaping*. For example, (`\\'`) is the single quote character. `'It\\'s raining'` therefore is a valid string and equivalent to `\"It's raining\"`. Likewise, (`\"`) can be escaped: `\"\\\"hello\\\"\"` is a string that begins and ends with the literal double quote character. Finally, (`\\`) can be used to escape itself: (`\\\\`) is the literal backslash character. For `'\\onnn'`, _nnn_ is a number in base 8, for `'\\xnn'` _nn_ is a number in base 16 (including letters from `A` to `F` as digits for values 10 to 15).\n",
        "\n",
        "In Python v3, all strings use the Unicode representation where all international symbols are possible, e.g.:\n",
        "```python\n",
        ">>> a = \"Fıstıkçı şahap\"\n",
        ">>> a\n",
        "'Fıstıkçı şahap'\n",
        "```\n",
        "\n",
        "**Examples with strings**\n",
        "\n",
        "Let us look at some examples to see what strings are in Python and what we can do with them:\n",
        "```python\n",
        ">>> \"This is a string\"\n",
        "\"This is a string\"\n",
        ">>> \"This is a string\"[0]\n",
        "'T'\n",
        ">>> s = \"This is a string\"\n",
        ">>> print(s[0])\n",
        "T\n",
        ">>> print(s[0],s[1],s[8],s[14],s[15])\n",
        "T h a n g\n",
        "```\n",
        "Since strings are immutable an attempt to change a character in a string will badly fail:\n",
        "```python\n",
        ">>> s = \"This is a string\"\n",
        ">>> print(s)\n",
        "This is a string\n",
        ">>> s[2] = \"u\"\n",
        "Traceback (most recent call last):\n",
        "  File \"<stdin>\", line 1, in <module>\n",
        "TypeError: 'str' object does not support item assignment\n",
        "```\n",
        "<u>Bottom line: You cannot change a character in a created string.</u>\n",
        "\n",
        "Let us go through a sequence of examples. Click the white triangle in the circle  <img src=\"https://github.com/sinankalkan/CENG240/blob/master/figures/rightarrowincircle.png?raw=true\" width=20 align=center/>. Feel free to change the text and rerun the examples."
      ]
    },
    {
      "cell_type": "code",
      "metadata": {
        "id": "AITcxXpa5PiP"
      },
      "source": [
        "#@title\n",
        "#@The quick brown fox jumps over the lazy dog\n",
        "%%HTML\n",
        "<div align=\"middle\">\n",
        "<video width=\"40%\" controls autoplay>\n",
        "      <source src=\"https://github.com/sinankalkan/CENG240/blob/master/figures/tqbfjotld.mp4?raw=true\" type=\"video/mp4\">   \n",
        "</video>\n",
        "</div>"
      ],
      "execution_count": null,
      "outputs": []
    },
    {
      "cell_type": "code",
      "metadata": {
        "id": "w5XaOB1l5grh"
      },
      "source": [
        "my_beautiful_string  = \"The quick brown fox jumps over the lazy dog\"\n",
        "print(\"THE STRING:\", my_beautiful_string, len(my_beautiful_string), \"CHARACTERS\")"
      ],
      "execution_count": null,
      "outputs": []
    },
    {
      "cell_type": "code",
      "metadata": {
        "id": "LNonkFyy5hqt"
      },
      "source": [
        "my_beautiful_string[0]"
      ],
      "execution_count": null,
      "outputs": []
    },
    {
      "cell_type": "code",
      "metadata": {
        "id": "gcU1Y-wh5ny5"
      },
      "source": [
        "my_beautiful_string[4]"
      ],
      "execution_count": null,
      "outputs": []
    },
    {
      "cell_type": "code",
      "metadata": {
        "id": "XSk4Og1W5sA9"
      },
      "source": [
        "my_beautiful_string[0:4]"
      ],
      "execution_count": null,
      "outputs": []
    },
    {
      "cell_type": "code",
      "metadata": {
        "id": "aBgq_LuS5xq_"
      },
      "source": [
        "my_beautiful_string[:4]"
      ],
      "execution_count": null,
      "outputs": []
    },
    {
      "cell_type": "code",
      "metadata": {
        "id": "4AwL0y4R52D5"
      },
      "source": [
        "my_beautiful_string[4:]"
      ],
      "execution_count": null,
      "outputs": []
    },
    {
      "cell_type": "code",
      "metadata": {
        "id": "rgV9J-oM56Zm"
      },
      "source": [
        "my_beautiful_string[10:15]"
      ],
      "execution_count": null,
      "outputs": []
    },
    {
      "cell_type": "code",
      "metadata": {
        "id": "CkoNr8KJ5-Sl"
      },
      "source": [
        "my_beautiful_string[:-5]"
      ],
      "execution_count": null,
      "outputs": []
    },
    {
      "cell_type": "code",
      "metadata": {
        "id": "NqwFj9o96B8p"
      },
      "source": [
        "my_beautiful_string[-8:-5]"
      ],
      "execution_count": null,
      "outputs": []
    },
    {
      "cell_type": "code",
      "metadata": {
        "id": "nexETNJu6Fyx"
      },
      "source": [
        "my_beautiful_string[:]"
      ],
      "execution_count": null,
      "outputs": []
    },
    {
      "cell_type": "code",
      "metadata": {
        "id": "TIPIwE9m6LPv"
      },
      "source": [
        "my_beautiful_string[::-1]"
      ],
      "execution_count": null,
      "outputs": []
    },
    {
      "cell_type": "code",
      "metadata": {
        "id": "UC3kkSZE6QRb"
      },
      "source": [
        "my_beautiful_string[-6:-9:-1]"
      ],
      "execution_count": null,
      "outputs": []
    },
    {
      "cell_type": "code",
      "metadata": {
        "id": "7QOsrgpT6TXT"
      },
      "source": [
        "my_beautiful_string[0:15:2]"
      ],
      "execution_count": null,
      "outputs": []
    },
    {
      "cell_type": "markdown",
      "metadata": {
        "id": "W9LC7mKK6ihV"
      },
      "source": [
        "Strings are used to represent non-mathematical textual information. Common places where strings are used are:\n",
        "* Textual communation in natural language with the user of the program.\n",
        "* Understandable labeling of parts of data: City names, names of individuals, addresses, tags, labels.\n",
        "* Denotation needs of human-to-human interactions. \n",
        "\n",
        "**Useful operations with strings**:\n",
        "* String creation: In addition to using quotes for string creation, the `str()` function can be used to create a string from its argument, e.g.:\n",
        "```python\n",
        ">>> str(4)\n",
        "'4'\n",
        ">>> str(4.578)\n",
        "'4.578'\n",
        "```\n",
        "* Concatenation, repetition and membership: \n",
        "```python\n",
        ">>> 'Programming' + ' ' + 'with ' + 'Python is' + ' fun!'\n",
        "'Programming with Python is fun!'\n",
        ">>> 'really fun ' * 10\n",
        "'really fun really fun really fun really fun really fun really fun really fun really fun really fun really fun '\n",
        ">>> 'fun' in 'Python'\n",
        "False\n",
        ">>> 'on' in 'Python'\n",
        "True\n",
        "```\n",
        "* Evaluate a string: If you have a string that is an expression describing a computation, you can use the `eval()` function to evaluate the computation and get the result, e.g.:\n",
        "```python\n",
        ">>> s = '3 + 4'\n",
        ">>> eval(s)\n",
        "7\n",
        "```\n",
        "\n",
        "**Deletion and Insertion from/to strings** \n",
        "\n",
        "Since strings are immutable, this is not possible. The only way is to create a <u>new</u> string, making use of slicing and concatenation operation (using `+`), then replacing the new created string in same place of the former one. For example:\n",
        "```python\n",
        ">>> a = 'Python'\n",
        ">>> a[0] = 'S'\n",
        "Traceback (most recent call last):\n",
        "  File \"<stdin>\", line 1, in <module>\n",
        "TypeError: 'str' object does not support item assignment\n",
        ">>> b = 'S' + a[1:]\n",
        ">>> b\n",
        "'Sython'\n",
        "```\n"
      ]
    },
    {
      "cell_type": "markdown",
      "metadata": {
        "id": "QoSzqjyLgZEy"
      },
      "source": [
        "### 4.2.4 List and tuple\n",
        "\n",
        "Both list and tuple data types have a very similar structure on the surface: They are sequential containers that can contain any other data type (including other tuples or lists) as elements. The only difference concerning the programmer is that tuples are immutable whereas lists are mutable. As previously said, being immutable means that, after being created, it is not possible to change, delete or insert any element in a tuple.\n",
        "\n",
        "Lists are created by enclosing elements into a pair of brackets and separating them with commas, e.g. `[\"this\", \"is\", \"a\", \"list\"]`. Tuples are created by enclosing elements into a pair of parentheses, e.g. `(\"this\", \"is\", \"a\", \"tuple\")`. There is no restriction on the elements: They can be any data (basic or container).  \n",
        "\n",
        "Let us look at some examples for lists:\n",
        "\n",
        "* `[9,3,1,-1,6]`\n",
        "* `[]`\n",
        "* `[2020]`\n",
        "* `[3.1415, 2.718281828]`\n",
        "* `[[\"pi,3.1415\"], [\"e\",2.718281828], 1.41421356]`\n",
        "* `['the' 'quick','brown','fox','jumped','over','the','lazy','dog']`\n",
        "* `[10, [5, [3, [[30, [[30, [], []]], []]], []], [8, [], []]], [30, [], []]]`\n",
        "* `[[1,-1,0],[2,-3.5,1.1]]`\n",
        "\n",
        "and some examples for tuples:\n",
        "\n",
        "* `('north','east','south','west')` \n",
        "* `()`\n",
        "* `('only',)`\n",
        "* `('A',65,\"1000001\",\"0x41\")`\n",
        "* `(\"abx\",[1.32,-5.12],-0.11)`\n",
        "\n",
        "Of course, tuples can become list members as well, or vice versa:\n",
        "\n",
        "* `[(\"ahmet\",\"akhunlar\",(\"deceased\", 1991)), (\"huri\",\"huriyegil\",\"not born\")]`\n",
        "* `([\"ahmet\",\"akhunlar\",(\"deceased\", 1991)], [\"huri\",\"huriyegil\",\"not born\"])`\n",
        "\n",
        "Programmers generally prefer using lists over tuples since they allow changing elements, which is often a useful facility in many problems.\n",
        "\n",
        "Lists (and tuples) are used whenever there is a need for an ordered set.\n",
        "Here are a few usecases for lists and tuples:\n",
        "\n",
        " * Vectors.\n",
        " * Matrices.\n",
        " * Graphs.\n",
        " * Board game states.\n",
        " * Student records, address book, any inventory."
      ]
    },
    {
      "cell_type": "markdown",
      "metadata": {
        "id": "eJQ8WLc06ue7"
      },
      "source": [
        "\n",
        "**Useful operations with lists and tuples**\n",
        "\n",
        "1- *Deletion from lists*\n",
        "\n",
        "As far as <u>deletion</u> is concerned, you can use two methods:\n",
        " * Assigning an empty list to the slice that is going to be removed:\n",
        " ```python\n",
        ">>> L = [111,222,333,444,555,666]\n",
        ">>> L[1:5] = []\n",
        ">>> print(L)\n",
        "[111, 666]\n",
        "``` \n",
        " * Using the `del` statement on the slice that is going to be removed:\n",
        " ```python\n",
        ">>> L = [111,222,333,444,555,666]\n",
        ">>> del L[1:5]\n",
        ">>> print(L)\n",
        "[111, 666]\n",
        " ```\n",
        "\n",
        "2- *Insertion into lists*\n",
        "\n",
        "For <u>insertion</u>, you can use three methods:\n",
        "* Using assignment with a degenerate use of slicing:\n",
        " ```python\n",
        ">>> L = [111,222,333,444,555,666]\n",
        ">>> L[2:2] = [888,999]\n",
        ">>> print(L)\n",
        "[111, 222, 888, 999, 333, 444, 555, 666]\n",
        "``` \n",
        "\n",
        "* The second method can insert only one element at a time, and requires object-oriented features, which will be covered in Chapter 7.\n",
        " ```python\n",
        ">>> L = [111,222,333,444,555,666]\n",
        ">>> L.insert(2, 999)\n",
        ">>> print(L)\n",
        "[111, 222, 999, 333, 444, 555, 666]\n",
        "```\n",
        "where the `insert` function takes two parameters: The first parameter is the index where the item will be inserted and the second parameter is the item to be inserted.\n",
        "\n",
        "* The third methods uses the `append()` method to insert an element only to the end or `extend()` to append more than one element to the end:\n",
        " ```python\n",
        ">>> L = [111,222,333,444,555]\n",
        ">>> L.append(666)\n",
        ">>> print(L)\n",
        "[111, 222, 333, 444, 555, 666]\n",
        ">>> L.extend([777, 888])\n",
        "[111, 222, 333, 444, 555, 666, 777, 888]\n",
        "```\n",
        "\n",
        "3- *Data creation with `tuple()` and `str()` functions*: Similar to other data types, tuple and list data types provide two functions for creating data from other data types.\n",
        "\n",
        "4- *Concatenation and repetition with lists and tuples*: Similar to strings, `+` and `*` can be used respectively to concatenate two tuples/lists and to repeat a tuple/list many times.\n",
        "\n",
        "5- *Membership*: Similar to strings, `in` and `not in` operations can be used to check whether a tuple/list contains an element.\n",
        "\n",
        "Here is an example that illustrates the last three items:\n",
        "```python\n",
        ">>> a = ([3] + [5])*4\n",
        ">>> a.append([3, 5])\n",
        ">>> print(a)\n",
        "[3, 5, 3, 5, 3, 5, 3, 5, [3, 5]]\n",
        ">>> a.extend([3, 5])\n",
        ">>> print(a)\n",
        "[3, 5, 3, 5, 3, 5, 3, 5, [3, 5], 3, 5]\n",
        ">>> b = tuple(a)\n",
        ">>> print(b)\n",
        "(3, 5, 3, 5, 3, 5, 3, 5, [3, 5], 3, 5)\n",
        ">>> [3, 5] not in b\n",
        "False\n",
        ">>> [5, 3] not in b\n",
        "True             #  test for single element, not subsequence\n",
        "```\n",
        "\n",
        "As you have recognized, the examples with some containers included two types of constructs which were not covered yet: One is the use of 'functions' on  containers, e.g. the use of `len()`. Due to your high school background, this is certainly easy to understand. The second construct is something new. It appears that we can use some functions suffixed by a dot to a container (e.g. the `append` and `insert` usages in the examples above). This construct is an internal function call of data structure called _object_. Containers are actually objects and in addition to their data containment property, they also have some defined action associations. These actions are named as _member functions_, and called (applied) on that object (in our case -the container-) by means of this dot notation:\n",
        "\n",
        "$$\n",
        "{\\Huge\\bullet}{\\large.}{\\Large f(\\Box)}\\quad\\mbox{has the conceptual meaning of}\\quad{\\Large f({\\Huge\\bullet},\\Box)}\n",
        "$$\n",
        "\n",
        "(Don't try this explicitly, it will not work. The equivalence is just 'conceptual': meaning the function receives  the object internally, as a 'hidden' argument). All these will be covered in details in Chapter 7. Till then, for sake of completeness, from time to time we will referring to this notation. Till then simply interpret it based on the equivalence depicted above. "
      ]
    },
    {
      "cell_type": "markdown",
      "metadata": {
        "id": "XwaBrHl5J50b"
      },
      "source": [
        "**Example: Matrices as Nested Lists**\n",
        "\n",
        "In many real-world problems, we often end up with a set of values that share certain semantics or functionality, and benefit from representing them in a regular grid structure that we call matrix:\n",
        "\n",
        "$$\n",
        "A = \\begin{pmatrix}\n",
        "a_{11} & a_{12} & ... & a_{1n} \\\\\n",
        "a_{21} & a_{22} & ... & a_{2n} \\\\\n",
        "\\vdots & \\ddots & & \\vdots & \\\\\n",
        "a_{m1} & a_{m2} & ... & a_{mn}\n",
        "\\end{pmatrix},\n",
        "$$\n",
        "which has $n$ columns and $m$ rows, and we generally shorten this as $m\\times n$ and say that matrix $A$ has size $m\\times n$. The following set of equations describe relations among a set of variables and called system of equations:\n",
        "$$\n",
        "\\begin{array}{ccc}\n",
        "3x + 4y + z & = & 4,\\\\\n",
        "-3x + 3y + 5 &  = & 3,\\\\\n",
        "x + y + z & = &  0,\\\\\n",
        "\\end{array}\n",
        "$$\n",
        "which can be represented with matrices as:\n",
        "$$\\begin{pmatrix}\n",
        "3 & 4 & 1 \\\\\n",
        "-3 & 3 & 5 \\\\\n",
        "1 & 1 & 1\n",
        "\\end{pmatrix} \n",
        "\\begin{pmatrix}\n",
        "x \\\\\n",
        "y \\\\\n",
        "z\n",
        "\\end{pmatrix} \n",
        "= \n",
        "\\begin{pmatrix}\n",
        "4 \\\\\n",
        "3 \\\\\n",
        "0\n",
        "\\end{pmatrix} ,\n",
        "$$\n",
        "which defines the same problems in terms of matrices and matrix multiplication. It is okay if you are not familiar with matrix multiplication -- we will briefly explain it and use it as an example in the next chapter. \n",
        "\n",
        "Writing a problem in a matrix form like we did above allows us to group the related aspects of the problem together and focus on these groups for solving a problem. In our example, we grouped coefficients in a matrix and this allows us to analyze and manipulate the coefficients matrix to check whether for this system of equations there is a solution, whether the solution is unique or what the solution is. All these are questions that are studied in Linear Algebra and beyond the scope of our book.\n",
        "\n",
        "Now let us see how we can represent matrices in Python. A very straightforward approach that would also allow changing elements of the matrix later on is to use lists in a nested form, as follows:\n",
        "```python\n",
        ">>> A = [[3, 4, 1], \n",
        "... [-3, 3, 5],\n",
        "... [1, 1, 1]]\n",
        ">>> A\n",
        "[[3, 4, 1], [-3, 3, 5], [1, 1, 1]]\n",
        "```\n",
        "where each row is represented as a list and a member of the outer list. This would allow us to access entries like this:\n",
        "```python\n",
        ">>> A[1]\n",
        "[-3, 3, 5]\n",
        ">>> A[1][0]\n",
        "-3\n",
        "```\n",
        "Although we can represent matrices like this, there are very advanced libraries that make representing and working with matrices more practical, as we will see in Chapter 10. For an extended coverage on matrices and matrix operations, we refer to [Matrix algebra for beginners](http://vcp.med.harvard.edu/papers/matrices-1.pdf) (by Jeremy Gunawardena) or [Chapter 2.2 of \"Mathematics for Machine Learning\"](https://mml-book.github.io/book/mml-book.pdf) (by Marc Peter Deisenroth, A. Aldo Faisal and Cheng Soon Ong).\n"
      ]
    },
    {
      "cell_type": "markdown",
      "metadata": {
        "id": "rNTKMiHTboVk"
      },
      "source": [
        "### 4.2.5 Dictionary\n",
        "\n",
        "Dictionary is a container data type where accessing items can be performed with indexes that are not numerical; in fact, in dictionaries, indexes are called keys. A list, tuple, or string data type stores a certain element at each numerical index (key). Similarly, a dictionary stores an element (value) for each key. In other words, a dictionary is just a mapping from keys to values (<font color=gray>Figure 4.2</font>). \n",
        "\n",
        "The keys can be only immutable data types, i.e., numbers, strings, or tuples (with only immutable elements) -- some other immutable types that we do not cover in the book are also possible. Since lists and dictionaries are mutable, they cannot be used for keys for indexing. As for values, there is no limitation on the data type.\n",
        "\n",
        "A dictionary is a discrete mapping from a set of Python elements to another set of Python elements. Itself, as well as its individual elements, are mutable (you can replace them). Moreover, it is possible to add and remove items from the mapping.\n",
        "\n",
        "<center>\n",
        "<img src=\"https://github.com/sinankalkan/CENG240/blob/master/figures/dictionarymapping.png?raw=true\" alt=\"Container indexing\" title=\"Dictionary is a Mapping\" width=600  align=center /> \n",
        "\n",
        "*Figure 4.2. A dictionary provides a mapping from keys to values.*\n",
        "</center>\n",
        "\n",
        "A dictionary is represented as key-value pairs, each separated by a column sign (`:`) and all enclosed in a pair of curly braces. The dictionary in <font color=gray>Figure 4.2</font> would be denoted as:   \n",
        "\n",
        "```python\n",
        "{34:\"istanbul\",\n",
        " 58:\"sivas\",\n",
        " \"istanbul\":[[7,\"tepeli\",\"sehir\"],(41.0383,28.9703),34,15.5e6],\n",
        " \"murtaza abi\":\"sivas\",\n",
        " (\"ahmet\",(8,14)):\"almanya\",\"james bond\":7, \n",
        " (\"ahmet\",(1,6)):[\"anne\",\"anneanne\"],\n",
        " (\"ahmet\",7):\"sivas\", \n",
        " \"karsiyaka\":35.5}\n",
        "```\n",
        "\n",
        "Similar to other containers, we usually store containers under a variable. Let us assume the dictionary above was assigned to a variable with the name `conno` and look at some examples:"
      ]
    },
    {
      "cell_type": "code",
      "metadata": {
        "id": "gtD4vSA762AE"
      },
      "source": [
        "conno = {34:\"istanbul\", 58:\"sivas\", \"istanbul\":[[7,\"tepeli\",\"sehir\"],(41.0383,28.9703),34,15.5e6], \"murtaza abi\":\"sivas\", (\"ahmet\",(8,14)):\"almanya\",\"james bond\":7,  (\"ahmet\",(1,6)):[\"anne\",\"anneanne\"], (\"ahmet\",7):\"sivas\",   \"karsiyaka\":35.5}\n",
        "print(conno[\"murtaza abi\"])\n",
        "print(conno[\"istanbul\"])"
      ],
      "execution_count": null,
      "outputs": []
    },
    {
      "cell_type": "markdown",
      "metadata": {
        "id": "jikdQ4Eu68GD"
      },
      "source": [
        "Let us ask for something that does not exist in the dictionary:"
      ]
    },
    {
      "cell_type": "code",
      "metadata": {
        "id": "dAfQ5TFX6890"
      },
      "source": [
        "print(conno[\"ankara\"])"
      ],
      "execution_count": null,
      "outputs": []
    },
    {
      "cell_type": "markdown",
      "metadata": {
        "id": "YZA1AHVS7GJ1"
      },
      "source": [
        "Ups, that was bad. Though we have a decent method to test for the existence of a key in a dictionary, namely the use of `in`:"
      ]
    },
    {
      "cell_type": "code",
      "metadata": {
        "id": "VUJafLBF7L2j"
      },
      "source": [
        "print(\"ankara\" in conno)"
      ],
      "execution_count": null,
      "outputs": []
    },
    {
      "cell_type": "markdown",
      "metadata": {
        "id": "VXI9Gmwn7SBZ"
      },
      "source": [
        "It is also possible to remove/insert mappings from/to a dictionary:"
      ]
    },
    {
      "cell_type": "code",
      "metadata": {
        "id": "u8iJ1mHf7WV5"
      },
      "source": [
        "print(\"conno has this many keys:\", len(conno))\n",
        "conno[\"ankara\"] = [\"baskent\", \"anitkabir\", 6]\n",
        "print(\"conno has this many keys now:\", len(conno))\n",
        "print(conno[\"ankara\"])\n",
        "print(conno[\"murtaza abi\"])\n",
        "del conno[\"murtaza abi\"]\n",
        "print(\"murtaza abi\" in conno)\n",
        "print(\"After murtaza abi is deleted we have this many keys:\", len(conno))"
      ],
      "execution_count": null,
      "outputs": []
    },
    {
      "cell_type": "markdown",
      "metadata": {
        "id": "88Hme2IQ7cFk"
      },
      "source": [
        "The benefit of using a dictionary is 'timewise'. The functionality of a dictionary could be attained by using (key, value) tuples inserted into a list. Then, when you need the value of a certain key, you can search one-by-one each (key, value)-tuple element of the list until you find your key in the first position of a tuple element. However, this will consume a time proportional to the length of the list (worst case). On the contrary, in a dictionary, this time is almost constant. \n",
        "\n",
        "Moreover, a dictionary is more practical to use since it already provides accessing elements in a key-based fashion.\n",
        "\n",
        "**Useful Operations with Dictionaries**\n",
        "\n",
        "Dictionaries support `len()` and membership (`in` and `not in`) operations that we have seen above. You can also use `<dictionary>.values()` and `<dictionary>.keys()` to obtain lists of values and keys respectively."
      ]
    },
    {
      "cell_type": "markdown",
      "metadata": {
        "id": "N9WcO5y7k1Gd"
      },
      "source": [
        "### 4.2.6 Set\n",
        "\n",
        "Sets are created by enclosing elements into a pair of curly-braces and separating them with commas. Any immutable data type, namely a number, a string or a tuple, can be an element of a set. Mutable data types (lists, dictionaries) cannot be elements of a set. Being mutable, sets **cannot** be elements of a sets.\n",
        "\n",
        "Here is a small example with sets:\n",
        "\n",
        "\n",
        "\n",
        "\n"
      ]
    },
    {
      "cell_type": "code",
      "metadata": {
        "id": "mhF78mYG7mKr"
      },
      "source": [
        "a = {1,2,3,4}\n",
        "b = {4,3,4,1,2,1,1,1}\n",
        "print (a == b)\n",
        "a.add(9)\n",
        "a.remove(1)\n",
        "print(a)"
      ],
      "execution_count": null,
      "outputs": []
    },
    {
      "cell_type": "markdown",
      "metadata": {
        "id": "vrUTqPll7quI"
      },
      "source": [
        "The most functionalities of sets can be undertaken by lists. Furthermore, lists do not possess the restrictions sets do. On the other hand, especially membership tests are much faster with sets, since member repetition is avoided.\n",
        "\n",
        "**Frozenset**\n",
        "\n",
        "Python provides an immutable version of the set type, called `frozenset`. A `frozenset` can be constructed using the `frozenset()` function as follows:\n",
        "```python\n",
        ">>> s = frozenset({1, 2, 3})\n",
        ">>> print(s)\n",
        "frozenset({1, 2, 3})\n",
        "```\n",
        "Being immutable, frozensets can be a member of a set or a frozenset.\n",
        "\n",
        "**Useful Operations with Sets** \n",
        "\n",
        "Apart from the common container operations (`len()`, `in` and `not in`), sets and frozensets support the following operators: \n",
        "\n",
        "- `S1 <= S2`: `True` if `S1` is a subset of `S2`.\n",
        "- `S1 >= S2`: `True` if `S1` is a superset of `S2`.\n",
        "- `S1 | S2`: Union of the sets (equivalent to `S1.union(S2)`).\n",
        "- `S1 & S2`: Intersection of the sets (equivalent to `S1.intersection(S2)`).\n",
        "- `S1 - S2`: Set difference (equivalent to `S1.difference(S2)`).\n",
        "\n",
        "The following are only applicable with sets (and not with forezensets) as they require a mutable container:\n",
        "\n",
        "- `S.add(element)`: Add a new element to the set.\n",
        "- `S.remove(element)`: Remove element from the set.\n",
        "- `S.pop()`: Remove an arbitrary element from the set."
      ]
    },
    {
      "cell_type": "markdown",
      "metadata": {
        "id": "FAyTRbqfm-N6"
      },
      "source": [
        "## 4.3 Expressions\n",
        "\n",
        "Expressions such as `3 + 4` describe calculation of an operation among data. When an expression is _evaluated_, the operations in the expression are applied on the data specified in the expression and a resulting value is provided. \n",
        "\n",
        "Operations can be graphically illustrated as follows:\n",
        "$$\n",
        "   \\Box_1 \\odot \\Box_2\n",
        "$$\n",
        "where $\\odot$ is called the operator, and $\\Box_1$ and $\\Box_2$ are called operands. This was a binary operator; i.e. it acted on two operands. \n",
        "\n",
        "We can also have unary operators:\n",
        "$$\n",
        "   \\odot \\Box\n",
        "$$\n",
        "or operators that have more than two operands (see chained comparison operators below).\n",
        "\n",
        "Before we can cover how such operations are evaluated, let us look at commonly used operations (operators) in Python."
      ]
    },
    {
      "cell_type": "markdown",
      "metadata": {
        "id": "DejvqmowILgP"
      },
      "source": [
        "### 4.3.1 Arithmetic, Logic, Container and Comparison Operations\n",
        "\n",
        "Python provides the operators in <font color=gray>Table 4.2</font> for arithmetic (addition, subtraction, multiplication, division, exponentiation), logic (and, or, not), container (indexing, membership) and comparison (less, less-than, equality, not-equality, greater, greater-than) operations. \n",
        "\n",
        "Note that operators such as `+` and `*` have different meanings on different data types. For numerical data, they mean addition and multiplication whereas for container data, they mean concatenation and repetition.\n",
        "\n",
        "<center>\n",
        "\n",
        "*Table 4.2. Arithmetic, Logic, Container and Comparison operators in Python.*\n",
        "</center>\n",
        "\n",
        "| Operator | Operation | Result Type |\n",
        "|:-:|:-:|:-:|\n",
        "| `[]` | Indexing | Any data type |\n",
        "| `**` | Exponentiation | Numeric |\n",
        "| `*` | Multiplication or Repetition | Numeric or container |\n",
        "| `/` | Division | Numeric (floating point)|\n",
        "| `//` | Integer Division | Numeric (integer) |\n",
        "| `+` | Addition or concatenation | Numeric or container |\n",
        "| `-` | Subtraction | Numeric |\n",
        "| `<` | Less than |  Boolean |\n",
        "| `<=` | Less than or equal to |  Boolean |\n",
        "| `>` | Greater than | Boolean |\n",
        "| `>=` | Greater than or equal to | Boolean |\n",
        "| `==` | is equal to |  Boolean |\n",
        "| `!=` | is not equal to |  Boolean |\n",
        "| `in` | is a member | Boolean |\n",
        "| `not in` | is not a member | Boolean |\n",
        "| `not` | logical negation |  Boolean |\n",
        "| `and` | logical and |  Boolean |\n",
        "| `or` | logical or | Boolean |\n",
        "\n",
        "Below are some illustrations:\n"
      ]
    },
    {
      "cell_type": "code",
      "metadata": {
        "id": "ThEGWdTOBtXK"
      },
      "source": [
        "S1 = \"Four\"\n",
        "S2 = \"Five\"\n",
        "B1 = len(S1) < len(S2)\n",
        "print(\"B1 is: \", B1)\n",
        "B2 = S1 != S2\n",
        "print(\"B2 is: \", B2)\n",
        "B3 = B1 or B2\n",
        "print(\"B3 is: \", B3)"
      ],
      "execution_count": null,
      "outputs": []
    },
    {
      "cell_type": "markdown",
      "metadata": {
        "id": "a508U6DSCls1"
      },
      "source": [
        "### Exercise\n",
        "\n",
        "In the cell below, give one example for each row in <font color=gray>Table 4.2</font>."
      ]
    },
    {
      "cell_type": "code",
      "metadata": {
        "id": "m86egdUkCwzq"
      },
      "source": [
        "# Type your answers here"
      ],
      "execution_count": null,
      "outputs": []
    },
    {
      "cell_type": "markdown",
      "metadata": {
        "id": "PhTI0oe-IjWJ"
      },
      "source": [
        "### 4.3.2 Evaluating Expressions\n",
        "\n",
        "In the previous section, we have seen simple use of operators in an expression. In many cases, we combine several operators for brevity and readability, e.g. `2.3 + 3.4 * 4.5`. This expression can be evaluated in two different ways:\n",
        "\n",
        "* `(2.3 + 3.4) * 4.5`, which would yield 25.65.\n",
        "* `2.3 + (3.4 * 4.5)`, which would yield 17.599999999999998 in Python.\n",
        "\n",
        "Since the results are very different, it is very important for a programmer to know in which order operators are evaluated when they are combined. There are two rules that govern this:\n",
        "\n",
        "1. Precedence: Each operator has an associated precedence (priority) based on which we can determine which operator is going to be evaluated first. E.g. multiplication has higher precedence than addition, and therefore, `2.3 + 3.4 * 4.5` would be evaluated as `2.3 + (3.4 * 4.5)` in Python.\n",
        "\n",
        "2. Associativity: If two operators have the same precedence, evaluation order is determined based on associativity. Associativity can be from left to right or from right to left.\n",
        "\n",
        "For the operators, the complete associativity and precedence information are listed in <font color=gray>Table 4.3</font>.\n",
        "\n",
        "<center>\n",
        "\n",
        "*Table 4.3. Precedence and associativity for the operators in <font color=gray>Table 4.2</font>.*\n",
        "</center>\n",
        "\n",
        "| Operator | Precedence | Associativity |\n",
        "| :---: | :---: | :---: |\n",
        "| `[]` |1. |  Left-to-right |\n",
        "| `**` | 2. | Right-to-left |\n",
        "|`*`, `/`, `//`, `%` |3.| Left-to-right |\n",
        "|`+`, `-`|4.|Left-to-right|\n",
        "|`<`, `<=`, `>`, `>=`, `==`, `!=`, `in`, `not in` | 5. |Special| \n",
        "|`not`| 6. |Unary| \n",
        "|`and`| 7. |Left-to-right (with short-cut)|\n",
        "|`or`| 8. |Left-to-right (with short-cut)| \n",
        "\n",
        "Therefore, according to <font color=gray>Table 4.3</font>, a sophisticated expression such as `2**3**4*5-2//2-1` is equivalent to `2**81*5-1-1` which is equivalent to `12089258196146291747061760-2` which is `12089258196146291747061758`.  \n",
        "\n",
        "Below are some notes and explanations regarding expression evaluation:\n",
        "\n",
        "* The 'Special' keyword in <font color=gray>Table 4.3</font> means some treatment which is common to mathematics but not programming. In that sense Python is unique among commonly used programming languages.  If $\\odot_i$ is any boolean comparison operator and $\\Box_j$ is any numerical expression, the sequence of  \n",
        "$$\n",
        "   \\Box_1 \\odot_{\\scriptsize\\mathsf 1} \\Box_2 \\odot_{\\scriptsize\\mathsf 2} \\Box_3 \\odot_{\\scriptsize\\mathsf 3} \\Box_4 \\cdots \\Box_{n-1} \\odot_{n-\\scriptsize\\mathsf 1} \\Box_n\n",
        "$$\n",
        "is interpreted as:  \n",
        "$$\n",
        "   \\Box_1 \\odot_{\\scriptsize\\mathsf 1} \\Box_2 \\;\\;\\mathtt{and}\\;\\;\\; \\Box_2 \\odot_{\\scriptsize\\mathsf 2} \\Box_3\\;\\;  \\mathtt{and} \\;\\;\\; \\Box_3 \\odot_{\\scriptsize\\mathsf 3} \\Box_4 \\;\\;\\;\\cdots \\;\\;\\; \\Box_{n-1} \n",
        "\\odot_{n-\\scriptsize\\mathsf 1} \\Box_n\n",
        "$$\n",
        "\n",
        "*  It is **always** possible to override the precedence by making use of parenthesis. We are familiar with this since our primary school days.\n",
        "\n",
        "* If two numeric operands are of the same type, then the result is of that type unless the operator is `/` (for which the result is always a floating point number). Also comparison operators return `bool` typed values.\n",
        "\n",
        "* If two numeric operands that enter an operation are of different types, then a computation occurs according to the following rules:\n",
        "   + **if one operand is integer and the other is floating point:** The integer is converted to floating point.\n",
        "   + **if one operand is complex:** The complex arithmetic is carried out according to the rules of mathematics among the real/imaginary part coefficients (which are either integers or floating points). Each of the two resulting coefficients are separately checked for having zero (.0) fractional part. If so, that one is converted to integer. \n",
        "\n",
        "* Except for the two logical operators `and` and `or`, all operators have an evaluation scheme which is coined as *eager evaluation*. Eager evaluation is the strategy where all operands are evaluated first and then the semantics of the operators kicks in, providing the result. Here is an example: Consider mathematical expression of: \n",
        "        `0*(2**150-3**95)` \n",
        "As a human being, our immediate reaction would be: Anything multiplied with `0` (zero) is `0`, therefore we do not have to compute the two huge exponentiations (the second operand). This is taking a *short-cut* in evaluation and is certainly **far from** eager evaluation. Eager evaluation would evaluate the internals of the parenthesis, obtain `-693647454339354238433323618063349607247325483` and then multiply this with `0` to obtain `0`. Yes, Python  would go this 'less intelligent' way and do eager evaluation.  \n",
        " The logical operators `and` and `or`, though, **do not** adopt eager evaluation. On the contrary, they use *short-cuts* (this is known as *based-on-need evaluation* in computer science).  \n",
        "In a conjunctive expression like:\n",
        "$$\n",
        "\\Box_1 \\;\\;\\mathtt{and}\\;\\;\\; \\Box_2  \\;\\;\\mathtt{and}\\;\\;\\; \\Box_3 \\;\\;\\mathtt{and}\\;\\;\\; \\cdots \\;\\;\\mathtt{and}\\;\\;\\; \\Box_n\n",
        "$$ \n",
        "The evaluation proceeds as follows:\n",
        "<center> \n",
        "<img src=\"https://github.com/sinankalkan/CENG240/blob/master/figures/andevaluation.png?raw=true\" alt=\"Logical AND evaluation scheme\" title=\"Logical AND evaluation scheme\" width=350 align=center/> \n",
        "</center>\n",
        "</br>  \n",
        "Similarly, a disjunctive expression:\n",
        "$$\n",
        "\\Box_1 \\;\\;\\mathtt{or}\\;\\;\\; \\Box_2  \\;\\;\\mathtt{or}\\;\\;\\; \\Box_3 \\;\\;\\mathtt{or}\\;\\;\\; \\cdots \\;\\;\\mathtt{or}\\;\\;\\; \\Box_n\n",
        "$$\n",
        "has the following evaluation scheme:\n",
        "<center> \n",
        "<img src=\"https://github.com/sinankalkan/CENG240/blob/master/figures/orevaluation.png?raw=true\" alt=\"Logical OR evaluation scheme\" title=\"Logical OR evaluation scheme\" width=350 align=center/> \n",
        "</center>\n",
        "\n",
        "Although high-level languages provide mechanisms for evaluating expressions involving multiple operators, it is not a good programming practice to leave multiple operators without parentheses. A programmer should do his/her best to write code that is readable and understandable by other programmers and that does not include any ambiguity whatsoever. This includes expressions.\n",
        "\n",
        "\n",
        "\n",
        "\n",
        "\n"
      ]
    },
    {
      "cell_type": "markdown",
      "metadata": {
        "id": "QlWv0zV0nvaL"
      },
      "source": [
        "### 4.3.3 Implicit and Explicit Type Conversion\n",
        "\n",
        "In Python, when you apply a binary operator on items of two different data types, it tries to convert one data to another one if possible. This is called _implicit type conversion_. For example,\n",
        "```python\n",
        ">>> 3+4.5\n",
        "7.5\n",
        ">>> 3 + True\n",
        "4\n",
        ">>> 3 + False\n",
        "3\n",
        "```\n",
        "which illustrates that an integer is converted to a float, `True` is converted to integer 1, and `False` is converted to integer zero.\n",
        "\n",
        "Although Python can do such conversions, it is a good programming practice to  make these conversions explicit and make the intention clear to the reader. Explicit type conversion, also called as _type casting_, can be performed using the keyword for the target type as a function. For example:  \n",
        "```\n",
        ">>>> 1.1*(7.1+int(2.5*5))\n",
        "21.01 \n",
        "```\n",
        "Not all conversions are possible, of course. Implicit conversions are allowed only for the basic data types as illustrated below: \n",
        "<center>\n",
        "<img src=\"https://github.com/sinankalkan/CENG240/blob/master/figures/typecasting.png?raw=true\" alt=\"Type casting among numeric and Boolean\" title=\"n\" width=170 align=center/> \n",
        "</center>\n",
        "Type casting can accommodate conversion between a wider spectrum of data types, including containers:\n",
        "\n",
        "```python\n",
        ">>> str(34)\n",
        "'34'\n",
        ">>> list('34')\n",
        "['3', '4']\n",
        "```\n"
      ]
    },
    {
      "cell_type": "markdown",
      "metadata": {
        "id": "U-uknADuBjkN"
      },
      "source": [
        "## 4.4 Basic Statements\n",
        "\n",
        "Now, let us continue with actions that do not provide (return) us data as a result."
      ]
    },
    {
      "cell_type": "markdown",
      "metadata": {
        "id": "NvLImu1fLjp0"
      },
      "source": [
        "### 4.4.1 Assignment Statement and Variables\n",
        "\n",
        "When we perform computation in Python, we either print the result and/or keep the result for further computations that we are going to perform. *Variables* help us here as named memory positions in which we can store data.  You can imagine them as pigeonholes that are able to hold a **single** data item. \n",
        "\n",
        "There are two methods to create and store some data into a variable. Here we will mention the overwhelmingly used one, the second is more implicit and will be introduced when we deal with functions. \n",
        "\n",
        "A variable receives data for storage by the use of the *assignment statement*. It has the following form:\n",
        "\n",
        "$\\boxed{\\color{red}{Variable}} = \\boxed{\\color{red}{Expression}}$\n",
        "\n",
        "Although the equal sign resembles an operator that is placed between two operands, it is not an operator: Operators return a value, and in Python, the assignment is not an operator and it does not return a value (this can be different in other programming languages).\n",
        "\n",
        "The action semantics of the assignment statement is simple:\n",
        "1. The $\\color{red}{Expression}$ is evaluated.\n",
        "2. If the $\\color{red}{Variable}$ does not exist, it is created.\n",
        "3. The evaluation result is stored into the $\\color{red}{Variable}$ (by doing so, any former value, if existing, is purged).\n",
        "\n",
        "After assignment, the value can be repetitively used. To use the value in a computation, we can use the name of the variable. Here is an example:\n",
        "```python\n",
        ">>> a = 3\n",
        ">>> b = a + 1\n",
        ">>> (a-b+b**2)/2\n",
        "7.5\n",
        "```\n",
        "It is quite common to use a variable on both sides of the assignment statement. For example:\n",
        "```python\n",
        ">>> a = 3\n",
        ">>> b = a + 1\n",
        ">>> a = a + 1\n",
        ">>> (a-b+b**2)/2\n",
        "8.0\n",
        "```\n",
        "The expression on the second line uses the `3` value for `a`. In the next line, namely the third line, again `3` is used for `a` in the expression (`a+1`). Then, the result of the evaluation `(3+1)` which is a `4` is stored in variable `a`. The variable `a` had a previous value of `3`; that value is purged and replaced by `4`. The former value is not kept anywhere and cannot be recovered.\n",
        "\n",
        "**Multiple assignments**\n",
        " \n",
        "It is possible to have multiple variables assigned to the same value, e.g.:\n",
        "```python\n",
        ">>> a = b = 4\n",
        "```\n",
        "assigns an integer value of `4` to both `a` and `b`. After the multi-assignment above, if you change `b` to some other value, the value of `a` will still remain to be `4`.\n",
        "\n",
        "**Multiple assignment with different values**\n",
        "Python provides a powerful mechanism for providing different values to different variables in assignment:\n",
        "```python\n",
        ">>> a, b = 3, 4\n",
        ">>> a\n",
        "3\n",
        ">>> b\n",
        "4\n",
        "```\n",
        "This is internally handled by Python with tuples and equivalent to:\n",
        "```python\n",
        ">>> (a,b) = (3, 4)\n",
        ">>> a\n",
        "3\n",
        ">>> b\n",
        "4\n",
        "```\n",
        "This is called _tuple matching_ and would also work with lists (i.e. `[a, b] = [3, 4]`). \n",
        "\n",
        "**Swapping values of variables**\n",
        "Tuple matching has a very practical benefit: Let us say you want to swap the values in variables. Normally, this requires the use of a temporary variable:\n",
        "```python\n",
        ">>> print(a,b)\n",
        "3 4\n",
        ">>> temp = a\n",
        ">>> a = b\n",
        ">>> b = temp\n",
        ">>> print(a,b)\n",
        "4 3\n",
        "```\n",
        "With tuple matching, we can do this in one line:\n",
        "```python\n",
        ">>> print(a,b)\n",
        "3 4\n",
        ">>> a,b = b,a\n",
        ">>> print(a,b)\n",
        "4 3\n",
        "```\n",
        "\n",
        "**Frequently-asked questions about assignments**\n",
        "\n",
        "* **QUESTION:** Considering the example below, one may have doubts about the value in `b`: Is it updated? On the fourth line, there is an expression using `b`: Which value is it refering to? `4` or `5`? When we use `b` in a following expression, will the 'definition' be retrived and recalculated?\n",
        "\n",
        "```python\n",
        ">>> a = 3\n",
        ">>> b = a + 1\n",
        ">>> a = a + 1\n",
        ">>> (a-b+b**2)/2\n",
        "8.0\n",
        "```\n",
        "\n",
        "* **ANSWER:** *No. Statements are executed  only once: the moment they are entered (it is possible to repetitively execution a statement but here it is not used). Each assignment in the example above is executed only once. No reevaluation is performed, the use of a variable in an expression, the `a` and those `b`'s, refer solely to the last calculated and stored values: In the evaluation of `(a-b+b**2)/2`,  `a` is 4 and `b` is 4.*\n",
        "\n",
        "* **QUESTION:** We had variables in math, especially in middle school and high school. So, this is very similar to that right? But I am confused having seen a line like `a = a + 1`. What's happening? The `a`s cancel out and we are left with `0 = 1`?\n",
        "\n",
        "* **ANSWER:** *The use of the equality sign (=) is confusing to some extent. It does not stand for a balance among the left-hand-side and the right-hand-side. Do not interpret it as an 'equality of mathematics'. It has a absolutely different semantics. As said, it only means:*  \n",
        "    1. ***First*** *calculate the right-hand side*,\n",
        "    2. ***then*** *store the result into an (electronic) pigeon hole which has the name label given to the left-hand-side of the equal sign.*  \n",
        "\n",
        "* **QUESTION:** I typed in the following lines:\n",
        "```python\n",
        ">>> x = 5\n",
        ">>> y = 3\n",
        ">>> x = y\n",
        ">>> y = x\n",
        ">>> print x,y\n",
        "3 3\n",
        "```\n",
        "However, it should have been `3 5`, right? Or am I doing something wrong?\n",
        "\n",
        "* **ANSWER:** *You are somehow missing the time flow. Statements are executed in order:*  \n",
        "    1. ***First:*** _`x` is set to 5._\n",
        "    2. ***Second:*** *`y` is set to 3.*\n",
        "    3. ***Third:*** *`x` is set to the value stored in `y` which is 3. `x` now holds 3.*\n",
        "    4. ***Fourth:*** *`y` is set to the value stored in `x` which is 3 (just look to the 3. item which right above this one). `y` now holds 3.*\n",
        "    5. ***Fifth:*** *print both the values `x` and `y`. Both are `3` and they got printed.*\n",
        "\n"
      ]
    },
    {
      "cell_type": "markdown",
      "metadata": {
        "id": "0QPyGblxSQWF"
      },
      "source": [
        "### 4.4.2 Variables & Aliasing\n",
        "\n",
        "There is something peculiar about lists that we need to be careful while assigning them to variables. First consider the following code:\n",
        "\n",
        "\n",
        "<font color=\"red\"> \"The first example\" </font>"
      ]
    },
    {
      "cell_type": "code",
      "metadata": {
        "id": "oZvo5ORkU11D"
      },
      "source": [
        "print(\"address of 5: \", id(5))\n",
        "a = 5\n",
        "print(\"address of a: \", id(a))\n",
        "b = a\n",
        "print(\"address of b: \", id(b))\n",
        "a = 3\n",
        "print(\"address of a: \", id(a))\n",
        "print(\"b is: \", b)"
      ],
      "execution_count": null,
      "outputs": []
    },
    {
      "cell_type": "markdown",
      "metadata": {
        "id": "A61SEvxwVKgq"
      },
      "source": [
        "Here, we used the `id()` function to display the address of variables in the memory to help us understand what happens in those assignments:\n",
        "* The second line creates `5` in memory and links that with `a`.\n",
        "* The fourth line links the content of `a` with variable `b`. So, they are two different names for the same content.\n",
        "* The sixth line creates a new content, `3`, and assigns it to `a`. Now, `a` points to a different memory location than `b`.\n",
        "* `b` still points to `5`, which is printed.\n",
        "\n",
        "Now keep the task the same but change the data from integer to a list:\n",
        "\n",
        "\n",
        "<font color=\"red\"> \"The second example\" </font>"
      ]
    },
    {
      "cell_type": "code",
      "metadata": {
        "id": "jkaHB1VlYR9p"
      },
      "source": [
        "a = [5,1,7]\n",
        "b = a\n",
        "print(\"addresses of a and b: \", id(a), id(b))\n",
        "print(\"b is: \", b)\n",
        "a = [3,-1]\n",
        "print(\"addresses of a and b: \", id(a), id(b))\n",
        "print(\"b is: \", b)"
      ],
      "execution_count": null,
      "outputs": []
    },
    {
      "cell_type": "markdown",
      "metadata": {
        "id": "ZAqVI48KY133"
      },
      "source": [
        "In other words, this works similar to the first example, as expected. But now, consider the following slightly different example:\n",
        "\n",
        "\n",
        "<font color=\"red\"> \"The third example\" </font>"
      ]
    },
    {
      "cell_type": "code",
      "metadata": {
        "id": "HZDd1-qzZEii"
      },
      "source": [
        "a = [5,1,7]\n",
        "b = a\n",
        "print(\"addresses of a and b: \", id(a), id(b))\n",
        "print(\"b is: \", b)\n",
        "a[0] = 3\n",
        "print(\"addresses of a and b: \", id(a), id(b))\n",
        "print(\"b is: \", b)"
      ],
      "execution_count": null,
      "outputs": []
    },
    {
      "cell_type": "markdown",
      "metadata": {
        "id": "tVI_yjOKZREU"
      },
      "source": [
        "To our surprise, the first element's replacement of `a` got also reflected in `b`. This should not be surprising since both `a` and `b` point to the same memory location and since a list is mutable, when we change an element in that memory location, it affects both `a` and `b` that are just names for that memory location.\n",
        "\n",
        "Although the examples above used lists for illustration purposes, aliasing pertains to all mutable data types. \n",
        "\n",
        "Aliasing is a powerful concept that can be hazardous and beneficial depending on the content:\n",
        "\n",
        "* If you carelessly assign mutable variable to another variable, changes on one variable is going to reflect the other one. If this was not intended and the location in the code where the aliasing was initiated could not be identified, you may lose hours or days trying to identify what the problem is with your code.\n",
        "* Aliasing can be beneficial especially when we want our changes on one variable to be reflected on another. This will be useful for passing data to functions and getting the results from functions.\n"
      ]
    },
    {
      "cell_type": "markdown",
      "metadata": {
        "id": "prUtvkGfMfTv"
      },
      "source": [
        "### 4.4.3 Naming variables\n",
        "\n",
        "Programmers usually select names for variables so that it indicates what the content will be. Variable names may be arbitrarily long. They may contain letters (from the English alphabet) as well as numbers and underscores, but they must start with a letter or an underscore. While using upper case letters is allowed, bear in mind that programmers reserve starting with an upper case to differentiate a property (scope) of the variable which you will learn later (when we introduce functions). \n",
        "\n",
        "Here are a few examples for variable names (all are different):\n",
        "\n",
        "| | | | | |\n",
        "|:-|:-|:-|:-|:-|\n",
        "|`y` |`y1` | `Y` | `Y_1`| `_1`|\n",
        "|`temperature`|`temperature_today`|`TemperatureToday`|`Cumulative`|`coordinate_x`|\n",
        "|`a1b145c`|`a1_b1_45_c`|`s_s_`|`_`|`___`|\n",
        "\n",
        "As you might have recognized, though they are perfectly valid, the five  examples in the last line do not make much sense. Here is a short list that you should prefer to follow in variable naming:\n",
        "\n",
        "* Name variables in the context of the value they are going to store. For example\n",
        "```python\n",
        ">>> a = b * c\n",
        "```\n",
        "is syntactically correct, but its purpose is not evident. Contrast this with:\n",
        "```python\n",
        ">>> salary = hours_worked * hourly_pay_rate\n",
        "```\n",
        "* Use different variables for different data, a.k.a. the 'Single Responsibility Principle'. For example, even if you could use the same variable in a statement for counting and in another statement, for holding the largest grade, this is not recommended: Do not economise with variables. Devise two different variables where each of which will reflect the semantics and the context, uniquely.\n",
        "* Variable names should be pronounceable, which makes them easier to remember.\n",
        "* Do not use variable names which could misguide you or whoever look into your code.\n",
        "* Use `i,j,k,m,n` for counting only: Programmers implicitly recognize them as integer holding (the historical reason for this dates to 60 years ago). \n",
        "* Use `x,y,z` for coordinate values or multi-variate function arguments.\n",
        "* Do not use single character variable `l` as it can be easily confused with `1` (one).\n",
        "* If you are going to use multiple words for a variable, choose one of these:\n",
        "   + Put all words into lowercase, affix them using `_` as separator (e.g. `highest_midterm_grade`, `shortest_path_distance_up_to_now`).\n",
        "   + Put all words but the first into first-capitalized-case, put the first one into lowercase, affix them without using any separator (e.g.`highestMidtermGrade`, `shortestPathDistanceUpToNow`).\n",
        "\n",
        "**Reserved names**\n",
        "\n",
        "The following keywords are being used by Python already and therefore, you cannot use them to name your variables.  \n",
        "\n",
        "|         |         |         |         |         |        |\n",
        "|:--------|:--------|:--------|:--------|:--------|:-------|\n",
        "|and      |def      |exec     |if       |not      |return  |\n",
        "|assert   |del      |finally  |import   |or       |try     |   \n",
        "|break    |elif     |for      |in       |pass     |while   |\n",
        "|class    |else     |from     |is       |print    |yield   |\n",
        "|continue |except   |global   |lambda   |raise    |        |"
      ]
    },
    {
      "cell_type": "markdown",
      "metadata": {
        "id": "KcCW9tnILrVy"
      },
      "source": [
        "### 4.4.4 Other Basic Statements\n",
        "\n",
        "Python has other basic statements listed below:\n",
        "\n",
        "`pass, del, return, yield, raise, break, continue, import, future, global, nonlocal`.\n",
        "\n",
        "Among these, we have seen `del` and we will see some others in the rest of the book. \n",
        "\n",
        "`print` used to be a statement in version 2, which however changed in version 3: `print` is a function in version 3 and therefore, it has a value (which we will see later).\n"
      ]
    },
    {
      "cell_type": "markdown",
      "metadata": {
        "id": "gpmkLPxyLR08"
      },
      "source": [
        "## 4.4 Compound Statements\n",
        "\n",
        "Like other high-level languages, Python provides statements combining many statements as their parts. Two examples are:\n",
        "\n",
        "* Conditional statements where different statements are executed based on the truth value of a condition, e.g.:\n",
        "```python\n",
        "if <boolean-expression>:\n",
        "    statement-true-1\n",
        "    statement-true-2\n",
        "    ...\n",
        "else:\n",
        "   statement-false-1\n",
        "   statement-false-2\n",
        "   ...\n",
        "```\n",
        "* Repetitive statements where some statements are executed more than once depending on a condition or for a fixed number of times, e.g.:\n",
        "```python\n",
        "while <boolean-condition>:\n",
        "    statement-true-1\n",
        "    statement-true-2\n",
        "    ...\n",
        "```\n",
        "which executes the statements while the condition is true.\n",
        "\n",
        "We will see these and other forms of compound statements in the rest of the book.\n"
      ]
    },
    {
      "cell_type": "markdown",
      "metadata": {
        "id": "uXUDdiuIrg47"
      },
      "source": [
        "##4.5 Basic actions for interacting with the environment\n",
        "\n",
        "In our programs, we frequently require obtaining some input from the user or displaying some data to the user. We can use the following for these purposes."
      ]
    },
    {
      "cell_type": "markdown",
      "metadata": {
        "id": "4h4vRtukrn2R"
      },
      "source": [
        "### 4.5.1 Actions for input\n",
        "\n",
        "In Python, you can use the `input()` function for obtaining input from the user, e.g.:\n",
        "```python\n",
        ">>> s = input(\"Now enter your text: \")\n",
        "Now enter your text: This is the text I entered\n",
        ">>> print(s)\n",
        "This is the text I entered\n",
        "```\n",
        "\n",
        "If you expect the user to enter an expression, you can evaluate it using the `eval()` function as we explained in Section 4.2.3.\n"
      ]
    },
    {
      "cell_type": "markdown",
      "metadata": {
        "id": "f0Vm9rQyBerF"
      },
      "source": [
        "### 4.5.2 Actions for output\n",
        "\n",
        "For displaying data to the screen, Python provides the `print()` function:\n",
        "```python\n",
        "print(item1, item2, ..., itemN)\n",
        "```\n",
        "For example:\n",
        "```python\n",
        ">>> print('Python', 'is', 'so', 'fun')\n",
        "Python is so fun\n",
        "```\n",
        "In many cases, we end up with strings that have placeholders for data items which we can fill in using a formatting function as follows:\n",
        "```python\n",
        ">>> print(\"I am {0} tall, {1} years old and have {2} eyes\".format(1.86, 20, \"brown\")) \n",
        "I am 1.86 tall, 20 years old and have brown eyes\n",
        "```\n",
        "Alternatively, instead of using integers for the placeholders, we can give names to the placeholders:\n",
        "```python\n",
        ">>> print(\"I am {height} tall, {age} years old and have {eyes} eyes. Did I tell you that I was {age}?\".format(age=20, eyes=\"brown\", height=1.86)) \n",
        "I am 1.86 tall, 20 years old and have brown eyes. Did I tell you that I was 20?\n",
        "```\n",
        "\n",
        "The `format()` function provides much more functionalities than the ones we have illustrated. However, this extent should be sufficient for general uses and this book. The reader interested in a complete coverage is referred to the [Python's documentation on string formatting](https://docs.python.org/3/library/string.html).\n",
        "\n",
        "We can also ask Python to directly take in the values of the variables for which we provide the names:\n",
        "\n",
        "```python\n",
        ">>> age = 20\n",
        ">>> height = 1.70\n",
        ">>> eye_color = \"brown\"\n",
        ">>> print(f\"I am {height} tall, {age} years old and have {eye_color} eyes\")\n",
        "I am 1.7 tall, 20 years old and have brown eyes\n",
        "```"
      ]
    },
    {
      "cell_type": "markdown",
      "metadata": {
        "id": "5Cak_hPrrtsb"
      },
      "source": [
        "## 4.6 Actions that are ignored\n",
        "\n",
        "In Python, we have two actions that are ignored by the interpreter:"
      ]
    },
    {
      "cell_type": "markdown",
      "metadata": {
        "id": "mwQFCV2yrwyZ"
      },
      "source": [
        "### 4.6.1 Comments \n",
        "\n",
        "Like other high-level languages, Python provides programmers mechanisms for writing comments on their programs: \n",
        "  + Comments with `#`: When Python encounters `#` in your code, it ignores the rest of the line, assumes the current line is finished, evaluates & runs the current line and continues interpretation with the next line. For example:\n",
        "```python\n",
        ">>> 3 + 4 # We are adding two numbers here\n",
        "7\n",
        "```\n",
        "  + Multi-line comments with triple-quotes: If you wish to provide comments longer than one line, you can use triple quotes:\n",
        "```python\n",
        "\"\"\"\n",
        "This is a multi-line comment. \n",
        "We are flexible with the number of lines & \n",
        "    characters, \n",
        "      spacing. Python\n",
        "        will ignore them.\n",
        "\"\"\"\n",
        "``` \n",
        "Triple-quote comments are generally used by programmers to write documentation-level explanations and descriptions for their codes. There are  document-generation tools that process triple-quotes for automatically generating documents for codes.\n",
        "\n",
        " As we have seen before, the triple-quote comments are actually strings in Python. Therefore, if you use triple-quotes for providing a comment, it should not overlap with an expression or statement line in your code."
      ]
    },
    {
      "cell_type": "markdown",
      "metadata": {
        "id": "KPClMxJWS4l7"
      },
      "source": [
        "### 4.6.2 Pass statements\n",
        "\n",
        "Python provides the `pass` statement that is ignored by the interpreter. The `pass` statement is generally used in incomplete function implementations or compound statements to place a dummy holder (some instruction) such that the interpreter does not complain about a statement being missing. For example:\n",
        "```python\n",
        "if <condition>:\n",
        "      pass # @TODO fill this part\n",
        "else:\n",
        "      statement-1\n",
        "      statement-2\n",
        "      ...\n",
        "```"
      ]
    },
    {
      "cell_type": "markdown",
      "metadata": {
        "id": "rG02a4t_k4cm"
      },
      "source": [
        "## 4.7 Actions and data packaged in libraries\n",
        "\n",
        "Many high-level programming languages like Python provide a wide spectrum of actions and data predefined and organized in 'packages' that we call libraries. For example, there is a library for mathematical functions and constant definitions which you can access using `from math import *` as follows:\n",
        "```python\n",
        ">>> pi\n",
        "Traceback (most recent call last):\n",
        "  File \"<stdin>\", line 1, in <module>\n",
        "NameError: name 'pi' is not defined\n",
        ">>> sin(pi)\n",
        "Traceback (most recent call last):\n",
        "  File \"<stdin>\", line 1, in <module>\n",
        "NameError: name 'sin' is not defined\n",
        ">>> from math import *\n",
        ">>> pi\n",
        "3.141592653589793\n",
        ">>> sin(pi)\n",
        "1.2246467991473532e-16\n",
        "```\n",
        "Below is a short list of libraries that might be useful:\n",
        "\n",
        "|Library | Description |\n",
        "|:--:|:--:|\n",
        "|math|Mathematical functions and definitions|\n",
        "|cmath|Mathematical functions and definitions for complex numbers|\n",
        "|fractions | Rational numbers and arithmetic |\n",
        "|random | Random number generation |\n",
        "|statistics | Statistical functions | \n",
        "|os| Operating system functionalities |\n",
        "|time| Time access and conversion functionalities |\n",
        "\n",
        "Of course, the list is too wide and it is not practical to list and explain all libraries here. The interested reader is direct to to check [the comprehensive list at Python docs](https://docs.python.org/3/library/).\n",
        "\n",
        "The `import` statement that we used above loads the library and makes its contents directly accessible to us by directly using their names (e.g. `sin(pi)`). Alternatively, we can do the following:\n",
        "```python\n",
        ">>> import math\n",
        ">>> math.sin(math.pi)\n",
        "1.2246467991473532e-16\n",
        "```\n",
        "which requires us to specify the name `math` everytime we need to access something from it. We could also change the name:\n",
        "```python\n",
        ">>> import math as m\n",
        ">>> m.sin(m.pi)\n",
        "1.2246467991473532e-16\n",
        "```\n",
        "However, we discourage this way of using libraries until Chapter 7 where we introduce the concept of objects and object-oriented programming.\n",
        "\n",
        "However, to be able to learn what is available in a library, you can use this form (with `dir()` function):\n",
        "```python\n",
        ">>> import math\n",
        ">>> dir(math)\n",
        "['__doc__', '__file__', '__loader__', '__name__', '__package__', '__spec__', 'acos', 'acosh', 'asin', 'asinh', 'atan', 'atan2', 'atanh', 'ceil', 'comb', 'copysign', 'cos', 'cosh', 'degrees', 'dist', 'e', 'erf', 'erfc', 'exp', 'expm1', 'fabs', 'factorial', 'floor', 'fmod', 'frexp', 'fsum', 'gamma', 'gcd', 'hypot', 'inf', 'isclose', 'isfinite', 'isinf', 'isnan', 'isqrt', 'ldexp', 'lgamma', 'log', 'log10', 'log1p', 'log2', 'modf', 'nan', 'perm', 'pi', 'pow', 'prod', 'radians', 'remainder', 'sin', 'sinh', 'sqrt', 'tan', 'tanh', 'tau', 'trunc']\n",
        "```\n"
      ]
    },
    {
      "cell_type": "markdown",
      "metadata": {
        "id": "kjhQqmsTb1c7"
      },
      "source": [
        "## 4.8 Providing your actions to the interpreter\n",
        "\n",
        "Python provides different mechanisms for you to provide your actions and get them executed."
      ]
    },
    {
      "cell_type": "markdown",
      "metadata": {
        "id": "3ue1EyTLqaGs"
      },
      "source": [
        "### 4.8.1 Directly interacting with the interpreter\n",
        "\n",
        "As we have seen up to now, we can interact with the interpreter directly by typing our actions to the interpreter. When you are done with the interpreter, you can quit using `quit()` or `exit()` functions or by pressing `CTRL-D`. E.g.:\n",
        "```python\n",
        "$ python3\n",
        "Python 3.8.5 (default, Jul 21 2020, 10:48:26) \n",
        "[Clang 11.0.3 (clang-1103.0.32.62)] on darwin\n",
        "Type \"help\", \"copyright\", \"credits\" or \"license\" for more information.\n",
        ">>> print(\"Python is fun\")\n",
        "Python is fun\n",
        ">>> print(\"Now I am done\")\n",
        "Now I am done\n",
        ">>> quit()\n",
        "$ \n",
        "```\n",
        "where we see that after quitting the interpreter, we are back at the terminal shell. \n",
        "\n",
        "Although this way of coding is simple and very interactive, when your code gets longer and more complicated, it becomes difficult to manage your code. Moreover, when you exit the interpreter, all your actions are lost and to be able to run them again, you need to type them again, from scratch. This can be tedious, redundant, impractical and inefficient."
      ]
    },
    {
      "cell_type": "markdown",
      "metadata": {
        "id": "clHjvT65qUtY"
      },
      "source": [
        "### 4.8.2 Writing actions in a file (script)\n",
        "\n",
        "Alternatively, we can place our actions in a file with an `.py` extension in the filename as follows:\n",
        "```python\n",
        "print(\"This is a Python program that reads two numbers from the user, adds the numbers and prints the result\\n\\n\")\n",
        "[a, b] = input(\"Enter two numbers: \")\n",
        "print(\"You have provided: \", a, b)\n",
        "result = a + b\n",
        "print(\"The sum is: \", result)\n",
        "```\n",
        "\n",
        "Assuming that you save these lines into a file named `test.py`, you can execute those statements from a terminal window as follows:\n",
        "```console\n",
        "$ cat test.py\n",
        "print(\"This is a Python program that reads two numbers from the user, adds the numbers and prints the result\\n\\n\")\n",
        "s = input(\"Enter a list of two numbers [a, b]: \")\n",
        "[a, b] = eval(s)\n",
        "print(\"You have provided: \", a, b)\n",
        "result = a + b\n",
        "print(\"The sum is: \", result)\n",
        "$ python3 test.py\n",
        "This is a Python program that reads two numbers from the user, adds the numbers and prints the result\n",
        "\n",
        "\n",
        "Enter a list of two numbers [a, b]: [3, 4]\n",
        "You have provided:  3 4\n",
        "The sum is:  7\n",
        "```\n",
        "\n",
        "It is possible to provide command-line arguments to your script and use the provided values in your script (named `test.py`):\n",
        "```python\n",
        "from sys import argv\n",
        "\n",
        "print(\"The arguments of this script are:\\n\", argv)\n",
        "\n",
        "exec(argv[1]) # Get a\n",
        "exec(argv[2]) # Get b\n",
        "\n",
        "print(\"The sum of a and b is: \", a+b)\n",
        "```\n",
        "which can be run as follows:\n",
        "```console\n",
        "$ python3 test.py a=10 b=20\n",
        "The arguments of this script are:\n",
        " ['test.py', 'a=10', 'b=20']\n",
        "The sum of a and b is:  30\n",
        "```\n",
        "\n",
        "Note that this example used the function `exec()`, which executes the statement provided to the function as a string argument. Compare this with the `eval()` function that we have introduced before: `eval()` takes an expression whereas `exec()` takes a statement."
      ]
    },
    {
      "cell_type": "markdown",
      "metadata": {
        "id": "gEgsTeV1qhkQ"
      },
      "source": [
        "### 4.8.3 Writing your actions as libraries (modules)\n",
        "\n",
        "Another mechanism for executing your actions is to place them into libraries (modules) and provide them to Python using `import` statement, as we have illustrated in Section 4.7. For example, if you have a `test.py` file with the following content:\n",
        "```python\n",
        "a = 10\n",
        "b = 8\n",
        "sum = a + b\n",
        "print(\"a + b with a =\", a, \" and b =\", b, \" is: \", sum) \n",
        "```\n",
        "In another Python script or in the interpreter, you can directly type:\n",
        "```python\n",
        ">>> from test import *\n",
        "a + b with a = 10  and b = 8  is:  18\n",
        ">>> a\n",
        "10\n",
        ">>> b\n",
        "8\n",
        "```\n",
        "In other words, what you have defined in `test.py` becomes accessible after being imported.\n"
      ]
    },
    {
      "cell_type": "markdown",
      "metadata": {
        "id": "iaOscgqpddE3"
      },
      "source": [
        "## Important Concepts\n",
        "\n",
        "We would like our readers to have grasped the following crucial concepts and keywords from this chapter (all related to Python):\n",
        "\n",
        "* Basic data types. \n",
        "* Basic operations and expression evaluation.\n",
        "* Precedence and associativity.\n",
        "* Variables and how to name them.\n",
        "* Aliasing problem.\n",
        "* Container types.\n",
        "* Accessing elements of a container type (indexing, negative indexing, slicing).\n",
        "* Basic I/O.\n",
        "* Commenting your codes.\n",
        "* Using libraries."
      ]
    },
    {
      "cell_type": "markdown",
      "metadata": {
        "id": "9re0RH1dqm4o"
      },
      "source": [
        "## Further Reading\n",
        "\n",
        "* A detailed history of Python and its versions: https://en.wikipedia.org/wiki/History_of_Python\n",
        "* The concept of aliasing: http://en.wikipedia.org/wiki/Aliasing_%28computing%29\n",
        "\n",
        "\n"
      ]
    },
    {
      "cell_type": "markdown",
      "metadata": {
        "id": "RTxRIDriqjs0"
      },
      "source": [
        "## Exercises\n",
        "\n",
        "* Without using Python, determine the results of the following expressions and validate your answers with Python:\n",
        " + `2 - 3 ** 4 / 8 + 2 * 4 ** 5 * 1 ** 8`\n",
        " + `4 + 2 - 10 / 2 * 4 ** 2`\n",
        " + `3 / 3 ** 3 * 3`\n",
        "* Assuming that `a` is `True`, `b` is `True` and `c` is `False`, what would be the values of the following expressions?\n",
        "(a) `not a == b + d < not a`\n",
        "(b) `a == b <= c == True`\n",
        "(c) `True <= False == b + c`\n",
        "(d) `c / a / b`\n",
        "* The Euclidean distance between two points $(a, b)$ and $(c, d)$ is defined as\n",
        "\u0002$\\sqrt{(a − c)^2 +(b − d)^2}$. Write a Python code that reads $a,b,c,d$ from the user, calculates the Euclidean distance and prints the result."
      ]
    }
  ]
}