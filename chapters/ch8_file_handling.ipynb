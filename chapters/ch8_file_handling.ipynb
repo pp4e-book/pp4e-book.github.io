{
  "nbformat": 4,
  "nbformat_minor": 0,
  "metadata": {
    "colab": {
      "name": "ch8_file_handling.ipynb",
      "provenance": [],
      "collapsed_sections": [],
      "toc_visible": true
    },
    "kernelspec": {
      "name": "python3",
      "display_name": "Python 3"
    }
  },
  "cells": [
    {
      "cell_type": "markdown",
      "metadata": {
        "id": "RhOD02SdqSIm"
      },
      "source": [
        "# Chapter 8 - File Handling\n",
        "\n",
        "*(C) Copyright Notice: This chapter is part of the book available at https://pp4e-book.github.io/ and copying, distributing, modifying it requires explicit permission from the authors. See the book page for details: https://pp4e-book.github.io/*"
      ]
    },
    {
      "cell_type": "markdown",
      "metadata": {
        "id": "3pvm1LVAS_R-"
      },
      "source": [
        "All variables used in a program are kept in the main memory and they are **volatile**, i.e., their values are lost when the program ends. Even if you write a program running forever, your data will be lost in case of a shutdown or a power failure.\n",
        "\n",
        "Another drawback of the main memory is the capacity limitation. In the extreme case, when you need more than a couple of gigabytes for your variables, it will be difficult to keep all of them in the main memory. Especially, infrequently required variables are better kept on an external storage device instead of the main memory.\n",
        "\n",
        "**Files** provide a mechanism for storing data **persistently** in hard drives which provide significantly larger storage than the main memory. These devices are also called _secondary storage_ devices. The data you put in a file will stay on the hard drive until someone overwrites or deletes the file (or when the hard drive fails, which is a sad but rare case).\n",
        "\n",
        "A **File** is a sequence of bytes stored on the secondary storage, typically hard drive (alternative secondary storage devices include CD, DVD, USB disk, tape drive). Data on a file has the following differences from data in memory (variables):\n",
        "\n",
        "1. A file is just a sequence of bytes. Therefore, data in a file is unorganized, there is no data type, no variable boundaries. \n",
        "\n",
        "1. Data needs to be be accessed indirectly, using I/O functions. E.g. updating a value in a file requires reading it in memory, updating in memory, then writing it into the file back.\n",
        "\n",
        "1. Accessing and updating data is significantly slower since it is on an external device.\n",
        "\n",
        "Keeping data on a file instead of the main memory has the following use cases:\n",
        "\n",
        "1. Data needs to be persistent. Data will be in the file when you restart your program, reboot your machine or when you find your ancient laptop in the basement 30 years later (Probably it will not be there when a 3000BC archeologist finds your laptop on an excavation site. Hard disks are not that durable. So, persistency is bounded).\n",
        "\n",
        "2. You need to exchange data with another program. Examples: \n",
        "   * You download data from web and your program gets it as input. \n",
        "   * You like to generate data in your program and put it on a spreadsheet for further processing.\n",
        "\n",
        "3. You have large amount of data which does not fit in the main memory. In this case, you will probably use a library or software like a database management system to access data in a faster and organized way. Files are the most primitive, basic way of achieving it.\n",
        "\n",
        "In this chapter, we will talk about simple file access so that you will learn about simple file operations like open, close, read, write. The examples of the chapter will create and modify files when run -- we strongly encourage you to check the contents of the created files using the file access mechanism at the left-hand side."
      ]
    },
    {
      "cell_type": "markdown",
      "metadata": {
        "id": "WmIkC4X-PmsJ"
      },
      "source": [
        "## 8.1 First Example\n",
        "\n",
        "Let us quickly look at a simple example to get a feeling for the different steps involved in working with files."
      ]
    },
    {
      "cell_type": "code",
      "metadata": {
        "id": "QeKDVsC6v_XT"
      },
      "source": [
        "fpointer = open('firstexample.txt',\"w\")\n",
        "fpointer.write(\"hello\\n\")\n",
        "fpointer.write(\"how are\\n\")\n",
        "fpointer.write(\"you?\\n\")\n",
        "fpointer.close()\n"
      ],
      "execution_count": null,
      "outputs": []
    },
    {
      "cell_type": "markdown",
      "metadata": {
        "id": "kW9nQd00vU9i"
      },
      "source": [
        "The program above will create a file in the current directory with filename `firstexample.txt`. You can open it with your favorite text editor (there are plenty of text editors for operating systems: notepad, wordpad, textedit, nano, vim) to see and edit it. The content will look like this:\n",
        "\n",
        "```\n",
        "hello\n",
        "how are\n",
        "you?\n",
        "```\n",
        "\n",
        "First line of the program is `fpointer = open('firstexample.txt',\"w\")`. This line opens the file named `firstexample.txt` for writing to it. If the file exists, its content will be erased (it will be an empty file afterwards). The result of `open()` is a file object that we will use in the following lines. This object is assigned to variable `fpointer`.\n",
        "\n",
        "In the following lines, all functions we call with this file object `fpointer` will work on this file (i.e. `firstexample.txt`). This special *dot* notation helps us with calling functions in scope of the file. `fpointer.`*functionname*`()` will call the *functionname* function for this file. `write(string)` function will write the `string` content to the file. Each call to `write(string)` will append the `string` to the file and the file will grow. At the end, when we are done, we call `close()` to finish accessing the file so that your operating system will know and do necessary actions about it. All open files will be closed when your program terminates. However, calling `close()` after finishing writing is a good programming practice.\n",
        "\n",
        "Now, let us read this file:"
      ]
    },
    {
      "cell_type": "code",
      "metadata": {
        "id": "yB7s-e4I0XsO",
        "colab": {
          "base_uri": "https://localhost:8080/",
          "height": 85
        },
        "outputId": "0df54c85-4a4e-452a-d4e1-0e0fc22228be"
      },
      "source": [
        "fp = open(\"firstexample.txt\",\"r\")\n",
        "content = fp.read()\n",
        "fp.close()\n",
        "print(content)"
      ],
      "execution_count": null,
      "outputs": [
        {
          "output_type": "stream",
          "text": [
            "hello\n",
            "how are\n",
            "you?\n",
            "\n"
          ],
          "name": "stdout"
        }
      ]
    },
    {
      "cell_type": "markdown",
      "metadata": {
        "id": "JV8OHxDP0nFY"
      },
      "source": [
        "In this case, we called `open()` with argument `\"r\"` which tells that we are going to read the file (or use it as an input source). If you skip the second argument in `open()`, it is assumed to be `\"r\"`, so `open(\"firstexample.txt\")` will be equivalent. The `read()` call gets an optional argument, which is the number of bytes to read. If you skip it, it will read the whole file content and return it as a string. Therefore, after the call, the `content` variable will be a string with the file content. "
      ]
    },
    {
      "cell_type": "markdown",
      "metadata": {
        "id": "zwWO-8aczRau"
      },
      "source": [
        "## 8.2 Files and Sequential Access\n",
        "\n",
        "A file consists of bytes and `read/write` operations access those bytes **sequentially**. In sequential access, the current I/O operation updates the file state so that next I/O operation will resume from the end of the current I/O operation.\n",
        "\n",
        "Assume you have an old MP3 player that supports only *play me next 10 seconds* operation on a button. Pressing it will play the next 10 seconds of the song.  When you press again, it will resume from where it is left and play another 10 seconds. This follows until the song is over. The sequential access is like this. A *file pointer* keeps the current offset of the file and each I/O operation advances it so that next call will read or write from this new offset -- see the following Figure.\n",
        "\n"
      ]
    },
    {
      "cell_type": "code",
      "metadata": {
        "id": "hR9gp4NWup8s",
        "colab": {
          "base_uri": "https://localhost:8080/",
          "height": 213
        },
        "cellView": "form",
        "outputId": "b963d639-6b9d-4d52-e247-6eb3520db154"
      },
      "source": [
        "#@title Sequential Read of a File\n",
        "%%SVG\n",
        "<?xml version=\"1.0\" encoding=\"UTF-8\" standalone=\"no\"?>\n",
        "<!-- Created with Inkscape (http://www.inkscape.org/) -->\n",
        "\n",
        "<svg\n",
        "   xmlns:dc=\"http://purl.org/dc/elements/1.1/\"\n",
        "   xmlns:cc=\"http://creativecommons.org/ns#\"\n",
        "   xmlns:rdf=\"http://www.w3.org/1999/02/22-rdf-syntax-ns#\"\n",
        "   xmlns:svg=\"http://www.w3.org/2000/svg\"\n",
        "   xmlns=\"http://www.w3.org/2000/svg\"\n",
        "   xmlns:xlink=\"http://www.w3.org/1999/xlink\"\n",
        "   xmlns:sodipodi=\"http://sodipodi.sourceforge.net/DTD/sodipodi-0.dtd\"\n",
        "   xmlns:inkscape=\"http://www.inkscape.org/namespaces/inkscape\"\n",
        "   width=\"168.06572mm\"\n",
        "   height=\"50.76865mm\"\n",
        "   viewBox=\"0 0 168.06572 50.76865\"\n",
        "   version=\"1.1\"\n",
        "   id=\"svg8\"\n",
        "   inkscape:version=\"0.92.4 (5da689c313, 2019-01-14)\"\n",
        "   sodipodi:docname=\"file-sequential-read.svg\">\n",
        "  <defs\n",
        "     id=\"defs2\">\n",
        "    <marker\n",
        "       inkscape:stockid=\"Arrow2Lend\"\n",
        "       orient=\"auto\"\n",
        "       refY=\"0\"\n",
        "       refX=\"0\"\n",
        "       id=\"Arrow2Lend\"\n",
        "       style=\"overflow:visible\"\n",
        "       inkscape:isstock=\"true\">\n",
        "      <path\n",
        "         id=\"path4712\"\n",
        "         style=\"fill:#ad0000;fill-opacity:1;fill-rule:evenodd;stroke:#ad0000;stroke-width:0.625;stroke-linejoin:round;stroke-opacity:1\"\n",
        "         d=\"M 8.7185878,4.0337352 -2.2072895,0.01601326 8.7185884,-4.0017078 c -1.7454984,2.3720609 -1.7354408,5.6174519 -6e-7,8.035443 z\"\n",
        "         transform=\"matrix(-1.1,0,0,-1.1,-1.1,0)\"\n",
        "         inkscape:connector-curvature=\"0\" />\n",
        "    </marker>\n",
        "    <marker\n",
        "       inkscape:stockid=\"Arrow2Lend\"\n",
        "       orient=\"auto\"\n",
        "       refY=\"0\"\n",
        "       refX=\"0\"\n",
        "       id=\"Arrow2Lend-3\"\n",
        "       style=\"overflow:visible\"\n",
        "       inkscape:isstock=\"true\">\n",
        "      <path\n",
        "         inkscape:connector-curvature=\"0\"\n",
        "         id=\"path4712-0\"\n",
        "         style=\"fill:#ad0000;fill-opacity:1;fill-rule:evenodd;stroke:#ad0000;stroke-width:0.625;stroke-linejoin:round;stroke-opacity:1\"\n",
        "         d=\"M 8.7185878,4.0337352 -2.2072895,0.01601326 8.7185884,-4.0017078 c -1.7454984,2.3720609 -1.7354408,5.6174519 -6e-7,8.035443 z\"\n",
        "         transform=\"matrix(-1.1,0,0,-1.1,-1.1,0)\" />\n",
        "    </marker>\n",
        "    <marker\n",
        "       inkscape:stockid=\"Arrow2Lend\"\n",
        "       orient=\"auto\"\n",
        "       refY=\"0\"\n",
        "       refX=\"0\"\n",
        "       id=\"Arrow2Lend-2\"\n",
        "       style=\"overflow:visible\"\n",
        "       inkscape:isstock=\"true\">\n",
        "      <path\n",
        "         inkscape:connector-curvature=\"0\"\n",
        "         id=\"path4712-5\"\n",
        "         style=\"fill:#ad0000;fill-opacity:1;fill-rule:evenodd;stroke:#ad0000;stroke-width:0.625;stroke-linejoin:round;stroke-opacity:1\"\n",
        "         d=\"M 8.7185878,4.0337352 -2.2072895,0.01601326 8.7185884,-4.0017078 c -1.7454984,2.3720609 -1.7354408,5.6174519 -6e-7,8.035443 z\"\n",
        "         transform=\"matrix(-1.1,0,0,-1.1,-1.1,0)\" />\n",
        "    </marker>\n",
        "  </defs>\n",
        "  <sodipodi:namedview\n",
        "     id=\"base\"\n",
        "     pagecolor=\"#ffffff\"\n",
        "     bordercolor=\"#666666\"\n",
        "     borderopacity=\"1.0\"\n",
        "     inkscape:pageopacity=\"0.0\"\n",
        "     inkscape:pageshadow=\"2\"\n",
        "     inkscape:zoom=\"0.98994949\"\n",
        "     inkscape:cx=\"512.28741\"\n",
        "     inkscape:cy=\"113.11901\"\n",
        "     inkscape:document-units=\"mm\"\n",
        "     inkscape:current-layer=\"layer1\"\n",
        "     showgrid=\"false\"\n",
        "     inkscape:window-width=\"1920\"\n",
        "     inkscape:window-height=\"1010\"\n",
        "     inkscape:window-x=\"0\"\n",
        "     inkscape:window-y=\"33\"\n",
        "     inkscape:window-maximized=\"1\"\n",
        "     fit-margin-top=\"0\"\n",
        "     fit-margin-left=\"0\"\n",
        "     fit-margin-right=\"0\"\n",
        "     fit-margin-bottom=\"0\" />\n",
        "  <metadata\n",
        "     id=\"metadata5\">\n",
        "    <rdf:RDF>\n",
        "      <cc:Work\n",
        "         rdf:about=\"\">\n",
        "        <dc:format>image/svg+xml</dc:format>\n",
        "        <dc:type\n",
        "           rdf:resource=\"http://purl.org/dc/dcmitype/StillImage\" />\n",
        "        <dc:title></dc:title>\n",
        "      </cc:Work>\n",
        "    </rdf:RDF>\n",
        "  </metadata>\n",
        "  <g\n",
        "     inkscape:label=\"Layer 1\"\n",
        "     inkscape:groupmode=\"layer\"\n",
        "     id=\"layer1\"\n",
        "     transform=\"translate(-10.528046,-14.976439)\">\n",
        "    <rect\n",
        "       id=\"rect3713\"\n",
        "       width=\"12.095239\"\n",
        "       height=\"12.095239\"\n",
        "       x=\"22.678572\"\n",
        "       y=\"28.636904\"\n",
        "       style=\"fill:#cccccc;stroke:#000000;stroke-width:0.26458332\"\n",
        "       inkscape:tile-cx=\"28.72619\"\n",
        "       inkscape:tile-cy=\"34.684522\"\n",
        "       inkscape:tile-w=\"12.359822\"\n",
        "       inkscape:tile-h=\"12.359822\"\n",
        "       inkscape:tile-x0=\"22.54628\"\n",
        "       inkscape:tile-y0=\"28.504611\" />\n",
        "    <use\n",
        "       x=\"0\"\n",
        "       y=\"0\"\n",
        "       inkscape:tiled-clone-of=\"#rect3713\"\n",
        "       xlink:href=\"#rect3713\"\n",
        "       id=\"use3735\"\n",
        "       width=\"100%\"\n",
        "       height=\"100%\" />\n",
        "    <use\n",
        "       x=\"0\"\n",
        "       y=\"0\"\n",
        "       inkscape:tiled-clone-of=\"#rect3713\"\n",
        "       xlink:href=\"#rect3713\"\n",
        "       transform=\"translate(12.359822)\"\n",
        "       id=\"use3737\"\n",
        "       width=\"100%\"\n",
        "       height=\"100%\" />\n",
        "    <use\n",
        "       x=\"0\"\n",
        "       y=\"0\"\n",
        "       inkscape:tiled-clone-of=\"#rect3713\"\n",
        "       xlink:href=\"#rect3713\"\n",
        "       transform=\"translate(24.719643)\"\n",
        "       id=\"use3739\"\n",
        "       width=\"100%\"\n",
        "       height=\"100%\" />\n",
        "    <use\n",
        "       x=\"0\"\n",
        "       y=\"0\"\n",
        "       inkscape:tiled-clone-of=\"#rect3713\"\n",
        "       xlink:href=\"#rect3713\"\n",
        "       transform=\"translate(37.079465)\"\n",
        "       id=\"use3741\"\n",
        "       width=\"100%\"\n",
        "       height=\"100%\" />\n",
        "    <use\n",
        "       x=\"0\"\n",
        "       y=\"0\"\n",
        "       inkscape:tiled-clone-of=\"#rect3713\"\n",
        "       xlink:href=\"#rect3713\"\n",
        "       transform=\"translate(49.439287)\"\n",
        "       id=\"use3743\"\n",
        "       width=\"100%\"\n",
        "       height=\"100%\" />\n",
        "    <use\n",
        "       x=\"0\"\n",
        "       y=\"0\"\n",
        "       inkscape:tiled-clone-of=\"#rect3713\"\n",
        "       xlink:href=\"#rect3713\"\n",
        "       transform=\"translate(61.799109)\"\n",
        "       id=\"use3745\"\n",
        "       width=\"100%\"\n",
        "       height=\"100%\" />\n",
        "    <use\n",
        "       x=\"0\"\n",
        "       y=\"0\"\n",
        "       inkscape:tiled-clone-of=\"#rect3713\"\n",
        "       xlink:href=\"#rect3713\"\n",
        "       transform=\"translate(74.15893)\"\n",
        "       id=\"use3747\"\n",
        "       width=\"100%\"\n",
        "       height=\"100%\" />\n",
        "    <use\n",
        "       x=\"0\"\n",
        "       y=\"0\"\n",
        "       inkscape:tiled-clone-of=\"#rect3713\"\n",
        "       xlink:href=\"#rect3713\"\n",
        "       transform=\"translate(86.518752)\"\n",
        "       id=\"use3749\"\n",
        "       width=\"100%\"\n",
        "       height=\"100%\" />\n",
        "    <use\n",
        "       x=\"0\"\n",
        "       y=\"0\"\n",
        "       inkscape:tiled-clone-of=\"#rect3713\"\n",
        "       xlink:href=\"#rect3713\"\n",
        "       transform=\"translate(98.878574)\"\n",
        "       id=\"use3751\"\n",
        "       width=\"100%\"\n",
        "       height=\"100%\" />\n",
        "    <use\n",
        "       x=\"0\"\n",
        "       y=\"0\"\n",
        "       inkscape:tiled-clone-of=\"#rect3713\"\n",
        "       xlink:href=\"#rect3713\"\n",
        "       transform=\"translate(111.2384)\"\n",
        "       id=\"use3753\"\n",
        "       width=\"100%\"\n",
        "       height=\"100%\" />\n",
        "    <use\n",
        "       x=\"0\"\n",
        "       y=\"0\"\n",
        "       inkscape:tiled-clone-of=\"#rect3713\"\n",
        "       xlink:href=\"#rect3713\"\n",
        "       transform=\"translate(123.59822)\"\n",
        "       id=\"use3755\"\n",
        "       width=\"100%\"\n",
        "       height=\"100%\" />\n",
        "    <use\n",
        "       x=\"0\"\n",
        "       y=\"0\"\n",
        "       inkscape:tiled-clone-of=\"#rect3713\"\n",
        "       xlink:href=\"#rect3713\"\n",
        "       transform=\"translate(135.95804)\"\n",
        "       id=\"use3757\"\n",
        "       width=\"100%\"\n",
        "       height=\"100%\" />\n",
        "    <text\n",
        "       xml:space=\"preserve\"\n",
        "       style=\"font-style:normal;font-weight:normal;font-size:10.58333302px;line-height:1.25;font-family:sans-serif;letter-spacing:0px;word-spacing:0px;fill:#000000;fill-opacity:1;stroke:none;stroke-width:0.26458332\"\n",
        "       x=\"23.8125\"\n",
        "       y=\"38.792431\"\n",
        "       id=\"text3761\"><tspan\n",
        "         sodipodi:role=\"line\"\n",
        "         id=\"tspan3759\"\n",
        "         x=\"23.8125\"\n",
        "         y=\"38.792431\"\n",
        "         style=\"stroke-width:0.26458332\">h</tspan></text>\n",
        "    <text\n",
        "       xml:space=\"preserve\"\n",
        "       style=\"font-style:normal;font-weight:normal;font-size:10.58333302px;line-height:1.25;font-family:sans-serif;letter-spacing:0px;word-spacing:0px;fill:#000000;fill-opacity:1;stroke:none;stroke-width:0.26458332\"\n",
        "       x=\"36.647583\"\n",
        "       y=\"38.64257\"\n",
        "       id=\"text3765\"><tspan\n",
        "         sodipodi:role=\"line\"\n",
        "         id=\"tspan3763\"\n",
        "         x=\"36.647583\"\n",
        "         y=\"38.64257\"\n",
        "         style=\"stroke-width:0.26458332\">e</tspan></text>\n",
        "    <text\n",
        "       xml:space=\"preserve\"\n",
        "       style=\"font-style:normal;font-weight:normal;font-size:10.58333302px;line-height:1.25;font-family:sans-serif;letter-spacing:0px;word-spacing:0px;fill:#000000;fill-opacity:1;stroke:none;stroke-width:0.26458332\"\n",
        "       x=\"51.156982\"\n",
        "       y=\"38.792431\"\n",
        "       id=\"text3769\"><tspan\n",
        "         sodipodi:role=\"line\"\n",
        "         id=\"tspan3767\"\n",
        "         x=\"51.156982\"\n",
        "         y=\"38.792431\"\n",
        "         style=\"stroke-width:0.26458332\">l</tspan></text>\n",
        "    <text\n",
        "       xml:space=\"preserve\"\n",
        "       style=\"font-style:normal;font-weight:normal;font-size:10.58333302px;line-height:1.25;font-family:sans-serif;letter-spacing:0px;word-spacing:0px;fill:#000000;fill-opacity:1;stroke:none;stroke-width:0.26458332\"\n",
        "       x=\"63.873211\"\n",
        "       y=\"38.792431\"\n",
        "       id=\"text3773\"><tspan\n",
        "         sodipodi:role=\"line\"\n",
        "         id=\"tspan3771\"\n",
        "         x=\"63.873211\"\n",
        "         y=\"38.792431\"\n",
        "         style=\"stroke-width:0.26458332\">l</tspan></text>\n",
        "    <text\n",
        "       xml:space=\"preserve\"\n",
        "       style=\"font-style:normal;font-weight:normal;font-size:10.58333302px;line-height:1.25;font-family:sans-serif;letter-spacing:0px;word-spacing:0px;fill:#000000;fill-opacity:1;stroke:none;stroke-width:0.26458332\"\n",
        "       x=\"74.822105\"\n",
        "       y=\"38.64257\"\n",
        "       id=\"text3777\"><tspan\n",
        "         sodipodi:role=\"line\"\n",
        "         id=\"tspan3775\"\n",
        "         x=\"74.822105\"\n",
        "         y=\"38.64257\"\n",
        "         style=\"stroke-width:0.26458332\">o</tspan></text>\n",
        "    <text\n",
        "       xml:space=\"preserve\"\n",
        "       style=\"font-style:normal;font-weight:normal;font-size:10.58333302px;line-height:1.25;font-family:sans-serif;letter-spacing:0px;word-spacing:0px;fill:#f9f9f9;fill-opacity:1;stroke:none;stroke-width:0.26458332\"\n",
        "       x=\"86.086227\"\n",
        "       y=\"38.64257\"\n",
        "       id=\"text3781\"><tspan\n",
        "         sodipodi:role=\"line\"\n",
        "         id=\"tspan3779\"\n",
        "         x=\"86.086227\"\n",
        "         y=\"38.64257\"\n",
        "         style=\"fill:#f9f9f9;stroke-width:0.26458332\">↲</tspan></text>\n",
        "    <text\n",
        "       xml:space=\"preserve\"\n",
        "       style=\"font-style:normal;font-weight:normal;font-size:10.58333302px;line-height:1.25;font-family:sans-serif;letter-spacing:0px;word-spacing:0px;fill:#000000;fill-opacity:1;stroke:none;stroke-width:0.26458332\"\n",
        "       x=\"100.10987\"\n",
        "       y=\"38.792431\"\n",
        "       id=\"text3785\"><tspan\n",
        "         sodipodi:role=\"line\"\n",
        "         id=\"tspan3783\"\n",
        "         x=\"100.10987\"\n",
        "         y=\"38.792431\"\n",
        "         style=\"stroke-width:0.26458332\">h</tspan></text>\n",
        "    <text\n",
        "       xml:space=\"preserve\"\n",
        "       style=\"font-style:normal;font-weight:normal;font-size:10.58333302px;line-height:1.25;font-family:sans-serif;letter-spacing:0px;word-spacing:0px;fill:#000000;fill-opacity:1;stroke:none;stroke-width:0.26458332\"\n",
        "       x=\"112.97078\"\n",
        "       y=\"38.64257\"\n",
        "       id=\"text3789\"><tspan\n",
        "         sodipodi:role=\"line\"\n",
        "         id=\"tspan3787\"\n",
        "         x=\"112.97078\"\n",
        "         y=\"38.64257\"\n",
        "         style=\"stroke-width:0.26458332\">o</tspan></text>\n",
        "    <text\n",
        "       xml:space=\"preserve\"\n",
        "       style=\"font-style:normal;font-weight:normal;font-size:10.58333302px;line-height:1.25;font-family:sans-serif;letter-spacing:0px;word-spacing:0px;fill:#000000;fill-opacity:1;stroke:none;stroke-width:0.26458332\"\n",
        "       x=\"124.59922\"\n",
        "       y=\"38.792431\"\n",
        "       id=\"text3793\"><tspan\n",
        "         sodipodi:role=\"line\"\n",
        "         id=\"tspan3791\"\n",
        "         x=\"124.59922\"\n",
        "         y=\"38.792431\"\n",
        "         style=\"stroke-width:0.26458332\">w</tspan></text>\n",
        "    <text\n",
        "       xml:space=\"preserve\"\n",
        "       style=\"font-style:normal;font-weight:normal;font-size:10.58333302px;line-height:1.25;font-family:sans-serif;letter-spacing:0px;word-spacing:0px;fill:#ffffff;fill-opacity:1;stroke:none;stroke-width:0.26458332\"\n",
        "       x=\"136.96857\"\n",
        "       y=\"37.658501\"\n",
        "       id=\"text3797\"><tspan\n",
        "         sodipodi:role=\"line\"\n",
        "         id=\"tspan3795\"\n",
        "         x=\"136.96857\"\n",
        "         y=\"37.658501\"\n",
        "         style=\"fill:#ffffff;stroke-width:0.26458332\">▯</tspan></text>\n",
        "    <text\n",
        "       xml:space=\"preserve\"\n",
        "       style=\"font-style:normal;font-weight:normal;font-size:10.58333302px;line-height:1.25;font-family:sans-serif;letter-spacing:0px;word-spacing:0px;fill:#000000;fill-opacity:1;stroke:none;stroke-width:0.26458332\"\n",
        "       x=\"149.69218\"\n",
        "       y=\"38.64257\"\n",
        "       id=\"text3801\"><tspan\n",
        "         sodipodi:role=\"line\"\n",
        "         id=\"tspan3799\"\n",
        "         x=\"149.69218\"\n",
        "         y=\"38.64257\"\n",
        "         style=\"stroke-width:0.26458332\">a</tspan></text>\n",
        "    <text\n",
        "       xml:space=\"preserve\"\n",
        "       style=\"font-style:normal;font-weight:normal;font-size:10.58333302px;line-height:1.25;font-family:sans-serif;letter-spacing:0px;word-spacing:0px;fill:#000000;fill-opacity:1;stroke:none;stroke-width:0.26458332\"\n",
        "       x=\"162.30299\"\n",
        "       y=\"38.792431\"\n",
        "       id=\"text3805\"><tspan\n",
        "         sodipodi:role=\"line\"\n",
        "         id=\"tspan3803\"\n",
        "         x=\"162.30299\"\n",
        "         y=\"38.792431\"\n",
        "         style=\"stroke-width:0.26458332\">r</tspan></text>\n",
        "    <path\n",
        "       style=\"fill:none;fill-opacity:1;stroke:#000000;stroke-width:0.40000001;stroke-miterlimit:4;stroke-dasharray:0.4, 0.4;stroke-dashoffset:0;stroke-opacity:1\"\n",
        "       d=\"m 170.73186,28.636904 h 7.8619 m 0,11.906251 h -7.8619\"\n",
        "       id=\"rect4642\"\n",
        "       inkscape:connector-curvature=\"0\"\n",
        "       sodipodi:nodetypes=\"cccc\" />\n",
        "    <text\n",
        "       xml:space=\"preserve\"\n",
        "       style=\"font-style:normal;font-weight:normal;font-size:10.58333302px;line-height:1.25;font-family:sans-serif;letter-spacing:0px;word-spacing:0px;fill:#000000;fill-opacity:1;stroke:none;stroke-width:0.26458332\"\n",
        "       x=\"9.997468\"\n",
        "       y=\"19.153328\"\n",
        "       id=\"text4647\"><tspan\n",
        "         sodipodi:role=\"line\"\n",
        "         id=\"tspan4645\"\n",
        "         x=\"9.997468\"\n",
        "         y=\"19.153328\"\n",
        "         style=\"font-style:normal;font-variant:normal;font-weight:normal;font-stretch:normal;font-size:5.64444447px;font-family:Quicksand;-inkscape-font-specification:Quicksand;stroke-width:0.26458332\">Initial offset</tspan></text>\n",
        "    <text\n",
        "       xml:space=\"preserve\"\n",
        "       style=\"font-style:normal;font-weight:normal;font-size:10.58333302px;line-height:1.25;font-family:sans-serif;letter-spacing:0px;word-spacing:0px;fill:#000000;fill-opacity:1;stroke:none;stroke-width:0.26458332\"\n",
        "       x=\"61.592651\"\n",
        "       y=\"19.637945\"\n",
        "       id=\"text4647-6\"><tspan\n",
        "         sodipodi:role=\"line\"\n",
        "         x=\"61.592651\"\n",
        "         y=\"19.637945\"\n",
        "         style=\"font-style:normal;font-variant:normal;font-weight:normal;font-stretch:normal;font-size:5.64444447px;font-family:Quicksand;-inkscape-font-specification:Quicksand;stroke-width:0.26458332\"\n",
        "         id=\"tspan4667\">after read(4)</tspan></text>\n",
        "    <text\n",
        "       xml:space=\"preserve\"\n",
        "       style=\"font-style:normal;font-weight:normal;font-size:10.58333302px;line-height:1.25;font-family:sans-serif;letter-spacing:0px;word-spacing:0px;fill:#000000;fill-opacity:1;stroke:none;stroke-width:0.26458332\"\n",
        "       x=\"106.19969\"\n",
        "       y=\"19.165474\"\n",
        "       id=\"text4647-6-3\"><tspan\n",
        "         sodipodi:role=\"line\"\n",
        "         x=\"106.19969\"\n",
        "         y=\"19.165474\"\n",
        "         style=\"font-style:normal;font-variant:normal;font-weight:normal;font-stretch:normal;font-size:5.64444447px;font-family:Quicksand;-inkscape-font-specification:Quicksand;stroke-width:0.26458332\"\n",
        "         id=\"tspan4667-0\">after second read(4)</tspan></text>\n",
        "    <path\n",
        "       style=\"fill:none;stroke:#ad0000;stroke-width:0.26458332px;stroke-linecap:butt;stroke-linejoin:miter;stroke-opacity:1;marker-end:url(#Arrow2Lend)\"\n",
        "       d=\"m 22.867559,20.699405 v 7.1343\"\n",
        "       id=\"path4689\"\n",
        "       inkscape:connector-curvature=\"0\"\n",
        "       sodipodi:nodetypes=\"cc\" />\n",
        "    <path\n",
        "       style=\"fill:none;stroke:#ad0000;stroke-width:0.26458332px;stroke-linecap:butt;stroke-linejoin:miter;stroke-opacity:1;marker-end:url(#Arrow2Lend-3)\"\n",
        "       d=\"m 72.117859,20.973437 v 7.1343\"\n",
        "       id=\"path4689-9\"\n",
        "       inkscape:connector-curvature=\"0\"\n",
        "       sodipodi:nodetypes=\"cc\" />\n",
        "    <path\n",
        "       style=\"fill:none;stroke:#ad0000;stroke-width:0.26458332px;stroke-linecap:butt;stroke-linejoin:miter;stroke-opacity:1;marker-end:url(#Arrow2Lend-2)\"\n",
        "       d=\"m 121.55715,20.973437 v 7.1343\"\n",
        "       id=\"path4689-4\"\n",
        "       inkscape:connector-curvature=\"0\"\n",
        "       sodipodi:nodetypes=\"cc\" />\n",
        "    <g\n",
        "       aria-label=\"{\"\n",
        "       style=\"font-style:normal;font-weight:normal;font-size:10.58333302px;line-height:1.25;font-family:sans-serif;letter-spacing:0px;word-spacing:0px;fill:#000000;fill-opacity:1;stroke:none;stroke-width:0.26458332\"\n",
        "       id=\"text6528\"\n",
        "       transform=\"rotate(-90,37.350857,51.948216)\">\n",
        "      <path\n",
        "         d=\"m 46.438154,85.370374 c 0.05645,0.01411 0.09878,0.04234 0.127,0.08467 0.02822,0.04939 0.0388,0.102303 0.03175,0.15875 -0.02822,0.07761 -0.08467,0.116417 -0.169334,0.116417 l -0.07408,-0.01058 c -0.550333,-0.119944 -0.973667,-0.275166 -1.27,-0.465666 -0.289278,-0.1905 -0.486834,-0.416278 -0.592667,-0.677334 -0.105833,-0.261056 -0.15875,-0.582083 -0.15875,-0.963083 V 63.727465 c 0,-0.479778 -0.09878,-0.87489 -0.296333,-1.185334 -0.1905,-0.3175 -0.515056,-0.47625 -0.973667,-0.47625 h -0.0635 c -0.05645,0 -0.105835,-0.02117 -0.148166,-0.0635 -0.04233,-0.04233 -0.0635,-0.09172 -0.0635,-0.148166 0,-0.04939 0.02117,-0.09172 0.0635,-0.127 0.04233,-0.04233 0.09172,-0.0635 0.148166,-0.0635 h 0.0635 c 0.846667,0 1.27,-0.553861 1.27,-1.661583 V 39.586881 c 0,-0.458611 0.08467,-0.821972 0.254,-1.090083 0.169333,-0.268111 0.388056,-0.469195 0.656167,-0.60325 0.275167,-0.134055 0.638528,-0.268111 1.090083,-0.402167 0.05645,-0.01411 0.09172,-0.02117 0.105834,-0.02117 0.0635,0 0.105833,0.01764 0.127,0.05292 0.02822,0.03528 0.04233,0.07409 0.04233,0.116417 0,0.09172 -0.05644,0.155222 -0.169333,0.1905 -0.479778,0.141111 -0.839611,0.28575 -1.0795,0.433917 -0.232833,0.148167 -0.391583,0.328083 -0.47625,0.53975 -0.08467,0.204611 -0.127,0.486833 -0.127,0.846666 v 20.372917 c 0,0.465666 -0.08467,0.871361 -0.254,1.217083 -0.162278,0.338666 -0.391584,0.546805 -0.687917,0.624417 0.303389,0.08467 0.536222,0.296333 0.6985,0.635 0.162278,0.331611 0.243417,0.733778 0.243417,1.2065 v 19.84375 c 0,0.359833 0.04233,0.645583 0.127,0.85725 0.08467,0.211666 0.243417,0.391583 0.47625,0.53975 0.239889,0.148166 0.599722,0.289277 1.0795,0.423333 z\"\n",
        "         style=\"font-style:normal;font-variant:normal;font-weight:normal;font-stretch:normal;font-family:'Quicksand Light';-inkscape-font-specification:'Quicksand Light, ';stroke-width:0.26458332\"\n",
        "         id=\"path6530\"\n",
        "         inkscape:connector-curvature=\"0\"\n",
        "         sodipodi:nodetypes=\"ccccccssscsscscsssssccscscccsscccsssccc\" />\n",
        "    </g>\n",
        "    <g\n",
        "       aria-label=\"{\"\n",
        "       style=\"font-style:normal;font-weight:normal;font-size:10.58333302px;line-height:1.25;font-family:sans-serif;letter-spacing:0px;word-spacing:0px;fill:#000000;fill-opacity:1;stroke:none;stroke-width:0.26458332\"\n",
        "       id=\"text6528-2\"\n",
        "       transform=\"rotate(-90,62.115854,27.183219)\">\n",
        "      <path\n",
        "         d=\"m 46.438154,85.370374 c 0.05645,0.01411 0.09878,0.04234 0.127,0.08467 0.02822,0.04939 0.0388,0.102303 0.03175,0.15875 -0.02822,0.07761 -0.08467,0.116417 -0.169334,0.116417 l -0.07408,-0.01058 c -0.550333,-0.119944 -0.973667,-0.275166 -1.27,-0.465666 -0.289278,-0.1905 -0.486834,-0.416278 -0.592667,-0.677334 -0.105833,-0.261056 -0.15875,-0.582083 -0.15875,-0.963083 V 63.727465 c 0,-0.479778 -0.09878,-0.87489 -0.296333,-1.185334 -0.1905,-0.3175 -0.515056,-0.47625 -0.973667,-0.47625 h -0.0635 c -0.05645,0 -0.105835,-0.02117 -0.148166,-0.0635 -0.04233,-0.04233 -0.0635,-0.09172 -0.0635,-0.148166 0,-0.04939 0.02117,-0.09172 0.0635,-0.127 0.04233,-0.04233 0.09172,-0.0635 0.148166,-0.0635 h 0.0635 c 0.846667,0 1.27,-0.553861 1.27,-1.661583 V 39.586881 c 0,-0.458611 0.08467,-0.821972 0.254,-1.090083 0.169333,-0.268111 0.388056,-0.469195 0.656167,-0.60325 0.275167,-0.134055 0.638528,-0.268111 1.090083,-0.402167 0.05645,-0.01411 0.09172,-0.02117 0.105834,-0.02117 0.0635,0 0.105833,0.01764 0.127,0.05292 0.02822,0.03528 0.04233,0.07409 0.04233,0.116417 0,0.09172 -0.05644,0.155222 -0.169333,0.1905 -0.479778,0.141111 -0.839611,0.28575 -1.0795,0.433917 -0.232833,0.148167 -0.391583,0.328083 -0.47625,0.53975 -0.08467,0.204611 -0.127,0.486833 -0.127,0.846666 v 20.372917 c 0,0.465666 -0.08467,0.871361 -0.254,1.217083 -0.162278,0.338666 -0.391584,0.546805 -0.687917,0.624417 0.303389,0.08467 0.536222,0.296333 0.6985,0.635 0.162278,0.331611 0.243417,0.733778 0.243417,1.2065 v 19.84375 c 0,0.359833 0.04233,0.645583 0.127,0.85725 0.08467,0.211666 0.243417,0.391583 0.47625,0.53975 0.239889,0.148166 0.599722,0.289277 1.0795,0.423333 z\"\n",
        "         style=\"font-style:normal;font-variant:normal;font-weight:normal;font-stretch:normal;font-family:'Quicksand Light';-inkscape-font-specification:'Quicksand Light, ';stroke-width:0.26458332\"\n",
        "         id=\"path6530-2\"\n",
        "         inkscape:connector-curvature=\"0\"\n",
        "         sodipodi:nodetypes=\"ccccccssscsscscsssssccscscccsscccsssccc\" />\n",
        "    </g>\n",
        "    <g\n",
        "       aria-label=\"{\"\n",
        "       style=\"font-style:normal;font-weight:normal;font-size:10.58333302px;line-height:1.25;font-family:sans-serif;letter-spacing:0px;word-spacing:0px;fill:#000000;fill-opacity:1;stroke:none;stroke-width:0.26458332\"\n",
        "       id=\"text6528-0\"\n",
        "       transform=\"rotate(-90,86.880853,2.4182197)\">\n",
        "      <path\n",
        "         d=\"m 46.438154,85.370374 c 0.05645,0.01411 0.09878,0.04234 0.127,0.08467 0.02822,0.04939 0.0388,0.102303 0.03175,0.15875 -0.02822,0.07761 -0.08467,0.116417 -0.169334,0.116417 l -0.07408,-0.01058 c -0.550333,-0.119944 -0.973667,-0.275166 -1.27,-0.465666 -0.289278,-0.1905 -0.486834,-0.416278 -0.592667,-0.677334 -0.105833,-0.261056 -0.15875,-0.582083 -0.15875,-0.963083 V 63.727465 c 0,-0.479778 -0.09878,-0.87489 -0.296333,-1.185334 -0.1905,-0.3175 -0.515056,-0.47625 -0.973667,-0.47625 h -0.0635 c -0.05645,0 -0.105835,-0.02117 -0.148166,-0.0635 -0.04233,-0.04233 -0.0635,-0.09172 -0.0635,-0.148166 0,-0.04939 0.02117,-0.09172 0.0635,-0.127 0.04233,-0.04233 0.09172,-0.0635 0.148166,-0.0635 h 0.0635 c 0.846667,0 1.27,-0.553861 1.27,-1.661583 V 39.586881 c 0,-0.458611 0.08467,-0.821972 0.254,-1.090083 0.169333,-0.268111 0.388056,-0.469195 0.656167,-0.60325 0.275167,-0.134055 0.638528,-0.268111 1.090083,-0.402167 0.05645,-0.01411 0.09172,-0.02117 0.105834,-0.02117 0.0635,0 0.105833,0.01764 0.127,0.05292 0.02822,0.03528 0.04233,0.07409 0.04233,0.116417 0,0.09172 -0.05644,0.155222 -0.169333,0.1905 -0.479778,0.141111 -0.839611,0.28575 -1.0795,0.433917 -0.232833,0.148167 -0.391583,0.328083 -0.47625,0.53975 -0.08467,0.204611 -0.127,0.486833 -0.127,0.846666 v 20.372917 c 0,0.465666 -0.08467,0.871361 -0.254,1.217083 -0.162278,0.338666 -0.391584,0.546805 -0.687917,0.624417 0.303389,0.08467 0.536222,0.296333 0.6985,0.635 0.162278,0.331611 0.243417,0.733778 0.243417,1.2065 v 19.84375 c 0,0.359833 0.04233,0.645583 0.127,0.85725 0.08467,0.211666 0.243417,0.391583 0.47625,0.53975 0.239889,0.148166 0.599722,0.289277 1.0795,0.423333 z\"\n",
        "         style=\"font-style:normal;font-variant:normal;font-weight:normal;font-stretch:normal;font-family:'Quicksand Light';-inkscape-font-specification:'Quicksand Light, ';stroke-width:0.26458332\"\n",
        "         id=\"path6530-5\"\n",
        "         inkscape:connector-curvature=\"0\"\n",
        "         sodipodi:nodetypes=\"ccccccssscsscscsssssccscscccsscccsssccc\" />\n",
        "    </g>\n",
        "    <text\n",
        "       xml:space=\"preserve\"\n",
        "       style=\"font-style:normal;font-weight:normal;font-size:10.58333302px;line-height:1.25;font-family:sans-serif;letter-spacing:0px;word-spacing:0px;fill:#000000;fill-opacity:1;stroke:none;stroke-width:0.26458332\"\n",
        "       x=\"24.840324\"\n",
        "       y=\"52.392956\"\n",
        "       id=\"text4647-6-5\"><tspan\n",
        "         sodipodi:role=\"line\"\n",
        "         x=\"24.840324\"\n",
        "         y=\"52.392956\"\n",
        "         style=\"font-style:normal;font-variant:normal;font-weight:normal;font-stretch:normal;font-size:4.58611107px;font-family:Quicksand;-inkscape-font-specification:Quicksand;stroke-width:0.26458332\"\n",
        "         id=\"tspan4667-2\">first read(4) returns</tspan><tspan\n",
        "         sodipodi:role=\"line\"\n",
        "         x=\"24.840324\"\n",
        "         y=\"65.622124\"\n",
        "         style=\"font-style:normal;font-variant:normal;font-weight:normal;font-stretch:normal;font-size:4.93888903px;font-family:Quicksand;-inkscape-font-specification:Quicksand;stroke-width:0.26458332\"\n",
        "         id=\"tspan6577\" /></text>\n",
        "    <text\n",
        "       xml:space=\"preserve\"\n",
        "       style=\"font-style:normal;font-weight:normal;font-size:10.58333302px;line-height:1.25;font-family:sans-serif;letter-spacing:0px;word-spacing:0px;fill:#000000;fill-opacity:1;stroke:none;stroke-width:0.26458332\"\n",
        "       x=\"72.596519\"\n",
        "       y=\"52.392956\"\n",
        "       id=\"text4647-6-5-9\"><tspan\n",
        "         sodipodi:role=\"line\"\n",
        "         x=\"72.596519\"\n",
        "         y=\"52.392956\"\n",
        "         style=\"font-style:normal;font-variant:normal;font-weight:normal;font-stretch:normal;font-size:4.58611107px;font-family:Quicksand;-inkscape-font-specification:Quicksand;stroke-width:0.26458332\"\n",
        "         id=\"tspan4667-2-0\">second read(4) returns</tspan><tspan\n",
        "         sodipodi:role=\"line\"\n",
        "         x=\"72.596519\"\n",
        "         y=\"65.622124\"\n",
        "         style=\"font-style:normal;font-variant:normal;font-weight:normal;font-stretch:normal;font-size:5.64444447px;font-family:Quicksand;-inkscape-font-specification:Quicksand;stroke-width:0.26458332\"\n",
        "         id=\"tspan6577-2\" /></text>\n",
        "    <text\n",
        "       xml:space=\"preserve\"\n",
        "       style=\"font-style:normal;font-weight:normal;font-size:10.58333302px;line-height:1.25;font-family:sans-serif;letter-spacing:0px;word-spacing:0px;fill:#0e0de5;fill-opacity:1;stroke:#0e0de5;stroke-width:0.26458332;stroke-opacity:1\"\n",
        "       x=\"25.702381\"\n",
        "       y=\"65.506966\"\n",
        "       id=\"text6602\"><tspan\n",
        "         sodipodi:role=\"line\"\n",
        "         id=\"tspan6600\"\n",
        "         x=\"25.702381\"\n",
        "         y=\"65.506966\"\n",
        "         style=\"font-style:normal;font-variant:normal;font-weight:normal;font-stretch:normal;font-family:Cantarell;-inkscape-font-specification:Cantarell;fill:#0e0de5;fill-opacity:1;stroke:#0e0de5;stroke-width:0.26458332;stroke-opacity:1\">'hell'</tspan></text>\n",
        "    <text\n",
        "       xml:space=\"preserve\"\n",
        "       style=\"font-style:normal;font-weight:normal;font-size:10.58333302px;line-height:1.25;font-family:sans-serif;letter-spacing:0px;word-spacing:0px;fill:#0e0de5;fill-opacity:1;stroke:#0e0de5;stroke-width:0.26458332;stroke-opacity:1\"\n",
        "       x=\"78.606369\"\n",
        "       y=\"64.395714\"\n",
        "       id=\"text6602-2\"\n",
        "       inkscape:transform-center-x=\"-1.889881\"\n",
        "       inkscape:transform-center-y=\"20.78869\"><tspan\n",
        "         sodipodi:role=\"line\"\n",
        "         id=\"tspan6600-4\"\n",
        "         x=\"78.606369\"\n",
        "         y=\"64.395714\"\n",
        "         style=\"font-style:normal;font-variant:normal;font-weight:normal;font-stretch:normal;font-family:Cantarell;-inkscape-font-specification:Cantarell;fill:#0e0de5;fill-opacity:1;stroke:#0e0de5;stroke-width:0.26458332;stroke-opacity:1\">'o\\nho'</tspan></text>\n",
        "  </g>\n",
        "</svg>\n"
      ],
      "execution_count": null,
      "outputs": [
        {
          "output_type": "display_data",
          "data": {
            "text/plain": [
              "<IPython.core.display.SVG object>"
            ],
            "image/svg+xml": "<svg height=\"50.76865mm\" id=\"svg8\" inkscape:version=\"0.92.4 (5da689c313, 2019-01-14)\" sodipodi:docname=\"file-sequential-read.svg\" version=\"1.1\" viewBox=\"0 0 168.06572 50.76865\" width=\"168.06572mm\" xmlns=\"http://www.w3.org/2000/svg\" xmlns:cc=\"http://creativecommons.org/ns#\" xmlns:dc=\"http://purl.org/dc/elements/1.1/\" xmlns:inkscape=\"http://www.inkscape.org/namespaces/inkscape\" xmlns:rdf=\"http://www.w3.org/1999/02/22-rdf-syntax-ns#\" xmlns:sodipodi=\"http://sodipodi.sourceforge.net/DTD/sodipodi-0.dtd\" xmlns:svg=\"http://www.w3.org/2000/svg\" xmlns:xlink=\"http://www.w3.org/1999/xlink\">\n  <defs id=\"defs2\">\n    <marker id=\"Arrow2Lend\" inkscape:isstock=\"true\" inkscape:stockid=\"Arrow2Lend\" orient=\"auto\" refX=\"0\" refY=\"0\" style=\"overflow:visible\">\n      <path d=\"M 8.7185878,4.0337352 -2.2072895,0.01601326 8.7185884,-4.0017078 c -1.7454984,2.3720609 -1.7354408,5.6174519 -6e-7,8.035443 z\" id=\"path4712\" inkscape:connector-curvature=\"0\" style=\"fill:#ad0000;fill-opacity:1;fill-rule:evenodd;stroke:#ad0000;stroke-width:0.625;stroke-linejoin:round;stroke-opacity:1\" transform=\"matrix(-1.1,0,0,-1.1,-1.1,0)\"/>\n    </marker>\n    <marker id=\"Arrow2Lend-3\" inkscape:isstock=\"true\" inkscape:stockid=\"Arrow2Lend\" orient=\"auto\" refX=\"0\" refY=\"0\" style=\"overflow:visible\">\n      <path d=\"M 8.7185878,4.0337352 -2.2072895,0.01601326 8.7185884,-4.0017078 c -1.7454984,2.3720609 -1.7354408,5.6174519 -6e-7,8.035443 z\" id=\"path4712-0\" inkscape:connector-curvature=\"0\" style=\"fill:#ad0000;fill-opacity:1;fill-rule:evenodd;stroke:#ad0000;stroke-width:0.625;stroke-linejoin:round;stroke-opacity:1\" transform=\"matrix(-1.1,0,0,-1.1,-1.1,0)\"/>\n    </marker>\n    <marker id=\"Arrow2Lend-2\" inkscape:isstock=\"true\" inkscape:stockid=\"Arrow2Lend\" orient=\"auto\" refX=\"0\" refY=\"0\" style=\"overflow:visible\">\n      <path d=\"M 8.7185878,4.0337352 -2.2072895,0.01601326 8.7185884,-4.0017078 c -1.7454984,2.3720609 -1.7354408,5.6174519 -6e-7,8.035443 z\" id=\"path4712-5\" inkscape:connector-curvature=\"0\" style=\"fill:#ad0000;fill-opacity:1;fill-rule:evenodd;stroke:#ad0000;stroke-width:0.625;stroke-linejoin:round;stroke-opacity:1\" transform=\"matrix(-1.1,0,0,-1.1,-1.1,0)\"/>\n    </marker>\n  </defs>\n  <sodipodi:namedview bordercolor=\"#666666\" borderopacity=\"1.0\" fit-margin-bottom=\"0\" fit-margin-left=\"0\" fit-margin-right=\"0\" fit-margin-top=\"0\" id=\"base\" inkscape:current-layer=\"layer1\" inkscape:cx=\"512.28741\" inkscape:cy=\"113.11901\" inkscape:document-units=\"mm\" inkscape:pageopacity=\"0.0\" inkscape:pageshadow=\"2\" inkscape:window-height=\"1010\" inkscape:window-maximized=\"1\" inkscape:window-width=\"1920\" inkscape:window-x=\"0\" inkscape:window-y=\"33\" inkscape:zoom=\"0.98994949\" pagecolor=\"#ffffff\" showgrid=\"false\"/>\n  <metadata id=\"metadata5\">\n    <rdf:RDF>\n      <cc:Work rdf:about=\"\">\n        <dc:format>image/svg+xml</dc:format>\n        <dc:type rdf:resource=\"http://purl.org/dc/dcmitype/StillImage\"/>\n        <dc:title/>\n      </cc:Work>\n    </rdf:RDF>\n  </metadata>\n  <g id=\"layer1\" inkscape:groupmode=\"layer\" inkscape:label=\"Layer 1\" transform=\"translate(-10.528046,-14.976439)\">\n    <rect height=\"12.095239\" id=\"rect3713\" inkscape:tile-cx=\"28.72619\" inkscape:tile-cy=\"34.684522\" inkscape:tile-h=\"12.359822\" inkscape:tile-w=\"12.359822\" inkscape:tile-x0=\"22.54628\" inkscape:tile-y0=\"28.504611\" style=\"fill:#cccccc;stroke:#000000;stroke-width:0.26458332\" width=\"12.095239\" x=\"22.678572\" y=\"28.636904\"/>\n    <use height=\"100%\" id=\"use3735\" inkscape:tiled-clone-of=\"#rect3713\" width=\"100%\" x=\"0\" xlink:href=\"#rect3713\" y=\"0\"/>\n    <use height=\"100%\" id=\"use3737\" inkscape:tiled-clone-of=\"#rect3713\" transform=\"translate(12.359822)\" width=\"100%\" x=\"0\" xlink:href=\"#rect3713\" y=\"0\"/>\n    <use height=\"100%\" id=\"use3739\" inkscape:tiled-clone-of=\"#rect3713\" transform=\"translate(24.719643)\" width=\"100%\" x=\"0\" xlink:href=\"#rect3713\" y=\"0\"/>\n    <use height=\"100%\" id=\"use3741\" inkscape:tiled-clone-of=\"#rect3713\" transform=\"translate(37.079465)\" width=\"100%\" x=\"0\" xlink:href=\"#rect3713\" y=\"0\"/>\n    <use height=\"100%\" id=\"use3743\" inkscape:tiled-clone-of=\"#rect3713\" transform=\"translate(49.439287)\" width=\"100%\" x=\"0\" xlink:href=\"#rect3713\" y=\"0\"/>\n    <use height=\"100%\" id=\"use3745\" inkscape:tiled-clone-of=\"#rect3713\" transform=\"translate(61.799109)\" width=\"100%\" x=\"0\" xlink:href=\"#rect3713\" y=\"0\"/>\n    <use height=\"100%\" id=\"use3747\" inkscape:tiled-clone-of=\"#rect3713\" transform=\"translate(74.15893)\" width=\"100%\" x=\"0\" xlink:href=\"#rect3713\" y=\"0\"/>\n    <use height=\"100%\" id=\"use3749\" inkscape:tiled-clone-of=\"#rect3713\" transform=\"translate(86.518752)\" width=\"100%\" x=\"0\" xlink:href=\"#rect3713\" y=\"0\"/>\n    <use height=\"100%\" id=\"use3751\" inkscape:tiled-clone-of=\"#rect3713\" transform=\"translate(98.878574)\" width=\"100%\" x=\"0\" xlink:href=\"#rect3713\" y=\"0\"/>\n    <use height=\"100%\" id=\"use3753\" inkscape:tiled-clone-of=\"#rect3713\" transform=\"translate(111.2384)\" width=\"100%\" x=\"0\" xlink:href=\"#rect3713\" y=\"0\"/>\n    <use height=\"100%\" id=\"use3755\" inkscape:tiled-clone-of=\"#rect3713\" transform=\"translate(123.59822)\" width=\"100%\" x=\"0\" xlink:href=\"#rect3713\" y=\"0\"/>\n    <use height=\"100%\" id=\"use3757\" inkscape:tiled-clone-of=\"#rect3713\" transform=\"translate(135.95804)\" width=\"100%\" x=\"0\" xlink:href=\"#rect3713\" y=\"0\"/>\n    <text id=\"text3761\" style=\"font-style:normal;font-weight:normal;font-size:10.58333302px;line-height:1.25;font-family:sans-serif;letter-spacing:0px;word-spacing:0px;fill:#000000;fill-opacity:1;stroke:none;stroke-width:0.26458332\" x=\"23.8125\" xml:space=\"preserve\" y=\"38.792431\"><tspan id=\"tspan3759\" sodipodi:role=\"line\" style=\"stroke-width:0.26458332\" x=\"23.8125\" y=\"38.792431\">h</tspan></text>\n    <text id=\"text3765\" style=\"font-style:normal;font-weight:normal;font-size:10.58333302px;line-height:1.25;font-family:sans-serif;letter-spacing:0px;word-spacing:0px;fill:#000000;fill-opacity:1;stroke:none;stroke-width:0.26458332\" x=\"36.647583\" xml:space=\"preserve\" y=\"38.64257\"><tspan id=\"tspan3763\" sodipodi:role=\"line\" style=\"stroke-width:0.26458332\" x=\"36.647583\" y=\"38.64257\">e</tspan></text>\n    <text id=\"text3769\" style=\"font-style:normal;font-weight:normal;font-size:10.58333302px;line-height:1.25;font-family:sans-serif;letter-spacing:0px;word-spacing:0px;fill:#000000;fill-opacity:1;stroke:none;stroke-width:0.26458332\" x=\"51.156982\" xml:space=\"preserve\" y=\"38.792431\"><tspan id=\"tspan3767\" sodipodi:role=\"line\" style=\"stroke-width:0.26458332\" x=\"51.156982\" y=\"38.792431\">l</tspan></text>\n    <text id=\"text3773\" style=\"font-style:normal;font-weight:normal;font-size:10.58333302px;line-height:1.25;font-family:sans-serif;letter-spacing:0px;word-spacing:0px;fill:#000000;fill-opacity:1;stroke:none;stroke-width:0.26458332\" x=\"63.873211\" xml:space=\"preserve\" y=\"38.792431\"><tspan id=\"tspan3771\" sodipodi:role=\"line\" style=\"stroke-width:0.26458332\" x=\"63.873211\" y=\"38.792431\">l</tspan></text>\n    <text id=\"text3777\" style=\"font-style:normal;font-weight:normal;font-size:10.58333302px;line-height:1.25;font-family:sans-serif;letter-spacing:0px;word-spacing:0px;fill:#000000;fill-opacity:1;stroke:none;stroke-width:0.26458332\" x=\"74.822105\" xml:space=\"preserve\" y=\"38.64257\"><tspan id=\"tspan3775\" sodipodi:role=\"line\" style=\"stroke-width:0.26458332\" x=\"74.822105\" y=\"38.64257\">o</tspan></text>\n    <text id=\"text3781\" style=\"font-style:normal;font-weight:normal;font-size:10.58333302px;line-height:1.25;font-family:sans-serif;letter-spacing:0px;word-spacing:0px;fill:#f9f9f9;fill-opacity:1;stroke:none;stroke-width:0.26458332\" x=\"86.086227\" xml:space=\"preserve\" y=\"38.64257\"><tspan id=\"tspan3779\" sodipodi:role=\"line\" style=\"fill:#f9f9f9;stroke-width:0.26458332\" x=\"86.086227\" y=\"38.64257\">↲</tspan></text>\n    <text id=\"text3785\" style=\"font-style:normal;font-weight:normal;font-size:10.58333302px;line-height:1.25;font-family:sans-serif;letter-spacing:0px;word-spacing:0px;fill:#000000;fill-opacity:1;stroke:none;stroke-width:0.26458332\" x=\"100.10987\" xml:space=\"preserve\" y=\"38.792431\"><tspan id=\"tspan3783\" sodipodi:role=\"line\" style=\"stroke-width:0.26458332\" x=\"100.10987\" y=\"38.792431\">h</tspan></text>\n    <text id=\"text3789\" style=\"font-style:normal;font-weight:normal;font-size:10.58333302px;line-height:1.25;font-family:sans-serif;letter-spacing:0px;word-spacing:0px;fill:#000000;fill-opacity:1;stroke:none;stroke-width:0.26458332\" x=\"112.97078\" xml:space=\"preserve\" y=\"38.64257\"><tspan id=\"tspan3787\" sodipodi:role=\"line\" style=\"stroke-width:0.26458332\" x=\"112.97078\" y=\"38.64257\">o</tspan></text>\n    <text id=\"text3793\" style=\"font-style:normal;font-weight:normal;font-size:10.58333302px;line-height:1.25;font-family:sans-serif;letter-spacing:0px;word-spacing:0px;fill:#000000;fill-opacity:1;stroke:none;stroke-width:0.26458332\" x=\"124.59922\" xml:space=\"preserve\" y=\"38.792431\"><tspan id=\"tspan3791\" sodipodi:role=\"line\" style=\"stroke-width:0.26458332\" x=\"124.59922\" y=\"38.792431\">w</tspan></text>\n    <text id=\"text3797\" style=\"font-style:normal;font-weight:normal;font-size:10.58333302px;line-height:1.25;font-family:sans-serif;letter-spacing:0px;word-spacing:0px;fill:#ffffff;fill-opacity:1;stroke:none;stroke-width:0.26458332\" x=\"136.96857\" xml:space=\"preserve\" y=\"37.658501\"><tspan id=\"tspan3795\" sodipodi:role=\"line\" style=\"fill:#ffffff;stroke-width:0.26458332\" x=\"136.96857\" y=\"37.658501\">▯</tspan></text>\n    <text id=\"text3801\" style=\"font-style:normal;font-weight:normal;font-size:10.58333302px;line-height:1.25;font-family:sans-serif;letter-spacing:0px;word-spacing:0px;fill:#000000;fill-opacity:1;stroke:none;stroke-width:0.26458332\" x=\"149.69218\" xml:space=\"preserve\" y=\"38.64257\"><tspan id=\"tspan3799\" sodipodi:role=\"line\" style=\"stroke-width:0.26458332\" x=\"149.69218\" y=\"38.64257\">a</tspan></text>\n    <text id=\"text3805\" style=\"font-style:normal;font-weight:normal;font-size:10.58333302px;line-height:1.25;font-family:sans-serif;letter-spacing:0px;word-spacing:0px;fill:#000000;fill-opacity:1;stroke:none;stroke-width:0.26458332\" x=\"162.30299\" xml:space=\"preserve\" y=\"38.792431\"><tspan id=\"tspan3803\" sodipodi:role=\"line\" style=\"stroke-width:0.26458332\" x=\"162.30299\" y=\"38.792431\">r</tspan></text>\n    <path d=\"m 170.73186,28.636904 h 7.8619 m 0,11.906251 h -7.8619\" id=\"rect4642\" inkscape:connector-curvature=\"0\" sodipodi:nodetypes=\"cccc\" style=\"fill:none;fill-opacity:1;stroke:#000000;stroke-width:0.40000001;stroke-miterlimit:4;stroke-dasharray:0.4, 0.4;stroke-dashoffset:0;stroke-opacity:1\"/>\n    <text id=\"text4647\" style=\"font-style:normal;font-weight:normal;font-size:10.58333302px;line-height:1.25;font-family:sans-serif;letter-spacing:0px;word-spacing:0px;fill:#000000;fill-opacity:1;stroke:none;stroke-width:0.26458332\" x=\"9.997468\" xml:space=\"preserve\" y=\"19.153328\"><tspan id=\"tspan4645\" sodipodi:role=\"line\" style=\"font-style:normal;font-variant:normal;font-weight:normal;font-stretch:normal;font-size:5.64444447px;font-family:Quicksand;-inkscape-font-specification:Quicksand;stroke-width:0.26458332\" x=\"9.997468\" y=\"19.153328\">Initial offset</tspan></text>\n    <text id=\"text4647-6\" style=\"font-style:normal;font-weight:normal;font-size:10.58333302px;line-height:1.25;font-family:sans-serif;letter-spacing:0px;word-spacing:0px;fill:#000000;fill-opacity:1;stroke:none;stroke-width:0.26458332\" x=\"61.592651\" xml:space=\"preserve\" y=\"19.637945\"><tspan id=\"tspan4667\" sodipodi:role=\"line\" style=\"font-style:normal;font-variant:normal;font-weight:normal;font-stretch:normal;font-size:5.64444447px;font-family:Quicksand;-inkscape-font-specification:Quicksand;stroke-width:0.26458332\" x=\"61.592651\" y=\"19.637945\">after read(4)</tspan></text>\n    <text id=\"text4647-6-3\" style=\"font-style:normal;font-weight:normal;font-size:10.58333302px;line-height:1.25;font-family:sans-serif;letter-spacing:0px;word-spacing:0px;fill:#000000;fill-opacity:1;stroke:none;stroke-width:0.26458332\" x=\"106.19969\" xml:space=\"preserve\" y=\"19.165474\"><tspan id=\"tspan4667-0\" sodipodi:role=\"line\" style=\"font-style:normal;font-variant:normal;font-weight:normal;font-stretch:normal;font-size:5.64444447px;font-family:Quicksand;-inkscape-font-specification:Quicksand;stroke-width:0.26458332\" x=\"106.19969\" y=\"19.165474\">after second read(4)</tspan></text>\n    <path d=\"m 22.867559,20.699405 v 7.1343\" id=\"path4689\" inkscape:connector-curvature=\"0\" sodipodi:nodetypes=\"cc\" style=\"fill:none;stroke:#ad0000;stroke-width:0.26458332px;stroke-linecap:butt;stroke-linejoin:miter;stroke-opacity:1;marker-end:url(#Arrow2Lend)\"/>\n    <path d=\"m 72.117859,20.973437 v 7.1343\" id=\"path4689-9\" inkscape:connector-curvature=\"0\" sodipodi:nodetypes=\"cc\" style=\"fill:none;stroke:#ad0000;stroke-width:0.26458332px;stroke-linecap:butt;stroke-linejoin:miter;stroke-opacity:1;marker-end:url(#Arrow2Lend-3)\"/>\n    <path d=\"m 121.55715,20.973437 v 7.1343\" id=\"path4689-4\" inkscape:connector-curvature=\"0\" sodipodi:nodetypes=\"cc\" style=\"fill:none;stroke:#ad0000;stroke-width:0.26458332px;stroke-linecap:butt;stroke-linejoin:miter;stroke-opacity:1;marker-end:url(#Arrow2Lend-2)\"/>\n    <g aria-label=\"{\" id=\"text6528\" style=\"font-style:normal;font-weight:normal;font-size:10.58333302px;line-height:1.25;font-family:sans-serif;letter-spacing:0px;word-spacing:0px;fill:#000000;fill-opacity:1;stroke:none;stroke-width:0.26458332\" transform=\"rotate(-90,37.350857,51.948216)\">\n      <path d=\"m 46.438154,85.370374 c 0.05645,0.01411 0.09878,0.04234 0.127,0.08467 0.02822,0.04939 0.0388,0.102303 0.03175,0.15875 -0.02822,0.07761 -0.08467,0.116417 -0.169334,0.116417 l -0.07408,-0.01058 c -0.550333,-0.119944 -0.973667,-0.275166 -1.27,-0.465666 -0.289278,-0.1905 -0.486834,-0.416278 -0.592667,-0.677334 -0.105833,-0.261056 -0.15875,-0.582083 -0.15875,-0.963083 V 63.727465 c 0,-0.479778 -0.09878,-0.87489 -0.296333,-1.185334 -0.1905,-0.3175 -0.515056,-0.47625 -0.973667,-0.47625 h -0.0635 c -0.05645,0 -0.105835,-0.02117 -0.148166,-0.0635 -0.04233,-0.04233 -0.0635,-0.09172 -0.0635,-0.148166 0,-0.04939 0.02117,-0.09172 0.0635,-0.127 0.04233,-0.04233 0.09172,-0.0635 0.148166,-0.0635 h 0.0635 c 0.846667,0 1.27,-0.553861 1.27,-1.661583 V 39.586881 c 0,-0.458611 0.08467,-0.821972 0.254,-1.090083 0.169333,-0.268111 0.388056,-0.469195 0.656167,-0.60325 0.275167,-0.134055 0.638528,-0.268111 1.090083,-0.402167 0.05645,-0.01411 0.09172,-0.02117 0.105834,-0.02117 0.0635,0 0.105833,0.01764 0.127,0.05292 0.02822,0.03528 0.04233,0.07409 0.04233,0.116417 0,0.09172 -0.05644,0.155222 -0.169333,0.1905 -0.479778,0.141111 -0.839611,0.28575 -1.0795,0.433917 -0.232833,0.148167 -0.391583,0.328083 -0.47625,0.53975 -0.08467,0.204611 -0.127,0.486833 -0.127,0.846666 v 20.372917 c 0,0.465666 -0.08467,0.871361 -0.254,1.217083 -0.162278,0.338666 -0.391584,0.546805 -0.687917,0.624417 0.303389,0.08467 0.536222,0.296333 0.6985,0.635 0.162278,0.331611 0.243417,0.733778 0.243417,1.2065 v 19.84375 c 0,0.359833 0.04233,0.645583 0.127,0.85725 0.08467,0.211666 0.243417,0.391583 0.47625,0.53975 0.239889,0.148166 0.599722,0.289277 1.0795,0.423333 z\" id=\"path6530\" inkscape:connector-curvature=\"0\" sodipodi:nodetypes=\"ccccccssscsscscsssssccscscccsscccsssccc\" style=\"font-style:normal;font-variant:normal;font-weight:normal;font-stretch:normal;font-family:'Quicksand Light';-inkscape-font-specification:'Quicksand Light, ';stroke-width:0.26458332\"/>\n    </g>\n    <g aria-label=\"{\" id=\"text6528-2\" style=\"font-style:normal;font-weight:normal;font-size:10.58333302px;line-height:1.25;font-family:sans-serif;letter-spacing:0px;word-spacing:0px;fill:#000000;fill-opacity:1;stroke:none;stroke-width:0.26458332\" transform=\"rotate(-90,62.115854,27.183219)\">\n      <path d=\"m 46.438154,85.370374 c 0.05645,0.01411 0.09878,0.04234 0.127,0.08467 0.02822,0.04939 0.0388,0.102303 0.03175,0.15875 -0.02822,0.07761 -0.08467,0.116417 -0.169334,0.116417 l -0.07408,-0.01058 c -0.550333,-0.119944 -0.973667,-0.275166 -1.27,-0.465666 -0.289278,-0.1905 -0.486834,-0.416278 -0.592667,-0.677334 -0.105833,-0.261056 -0.15875,-0.582083 -0.15875,-0.963083 V 63.727465 c 0,-0.479778 -0.09878,-0.87489 -0.296333,-1.185334 -0.1905,-0.3175 -0.515056,-0.47625 -0.973667,-0.47625 h -0.0635 c -0.05645,0 -0.105835,-0.02117 -0.148166,-0.0635 -0.04233,-0.04233 -0.0635,-0.09172 -0.0635,-0.148166 0,-0.04939 0.02117,-0.09172 0.0635,-0.127 0.04233,-0.04233 0.09172,-0.0635 0.148166,-0.0635 h 0.0635 c 0.846667,0 1.27,-0.553861 1.27,-1.661583 V 39.586881 c 0,-0.458611 0.08467,-0.821972 0.254,-1.090083 0.169333,-0.268111 0.388056,-0.469195 0.656167,-0.60325 0.275167,-0.134055 0.638528,-0.268111 1.090083,-0.402167 0.05645,-0.01411 0.09172,-0.02117 0.105834,-0.02117 0.0635,0 0.105833,0.01764 0.127,0.05292 0.02822,0.03528 0.04233,0.07409 0.04233,0.116417 0,0.09172 -0.05644,0.155222 -0.169333,0.1905 -0.479778,0.141111 -0.839611,0.28575 -1.0795,0.433917 -0.232833,0.148167 -0.391583,0.328083 -0.47625,0.53975 -0.08467,0.204611 -0.127,0.486833 -0.127,0.846666 v 20.372917 c 0,0.465666 -0.08467,0.871361 -0.254,1.217083 -0.162278,0.338666 -0.391584,0.546805 -0.687917,0.624417 0.303389,0.08467 0.536222,0.296333 0.6985,0.635 0.162278,0.331611 0.243417,0.733778 0.243417,1.2065 v 19.84375 c 0,0.359833 0.04233,0.645583 0.127,0.85725 0.08467,0.211666 0.243417,0.391583 0.47625,0.53975 0.239889,0.148166 0.599722,0.289277 1.0795,0.423333 z\" id=\"path6530-2\" inkscape:connector-curvature=\"0\" sodipodi:nodetypes=\"ccccccssscsscscsssssccscscccsscccsssccc\" style=\"font-style:normal;font-variant:normal;font-weight:normal;font-stretch:normal;font-family:'Quicksand Light';-inkscape-font-specification:'Quicksand Light, ';stroke-width:0.26458332\"/>\n    </g>\n    <g aria-label=\"{\" id=\"text6528-0\" style=\"font-style:normal;font-weight:normal;font-size:10.58333302px;line-height:1.25;font-family:sans-serif;letter-spacing:0px;word-spacing:0px;fill:#000000;fill-opacity:1;stroke:none;stroke-width:0.26458332\" transform=\"rotate(-90,86.880853,2.4182197)\">\n      <path d=\"m 46.438154,85.370374 c 0.05645,0.01411 0.09878,0.04234 0.127,0.08467 0.02822,0.04939 0.0388,0.102303 0.03175,0.15875 -0.02822,0.07761 -0.08467,0.116417 -0.169334,0.116417 l -0.07408,-0.01058 c -0.550333,-0.119944 -0.973667,-0.275166 -1.27,-0.465666 -0.289278,-0.1905 -0.486834,-0.416278 -0.592667,-0.677334 -0.105833,-0.261056 -0.15875,-0.582083 -0.15875,-0.963083 V 63.727465 c 0,-0.479778 -0.09878,-0.87489 -0.296333,-1.185334 -0.1905,-0.3175 -0.515056,-0.47625 -0.973667,-0.47625 h -0.0635 c -0.05645,0 -0.105835,-0.02117 -0.148166,-0.0635 -0.04233,-0.04233 -0.0635,-0.09172 -0.0635,-0.148166 0,-0.04939 0.02117,-0.09172 0.0635,-0.127 0.04233,-0.04233 0.09172,-0.0635 0.148166,-0.0635 h 0.0635 c 0.846667,0 1.27,-0.553861 1.27,-1.661583 V 39.586881 c 0,-0.458611 0.08467,-0.821972 0.254,-1.090083 0.169333,-0.268111 0.388056,-0.469195 0.656167,-0.60325 0.275167,-0.134055 0.638528,-0.268111 1.090083,-0.402167 0.05645,-0.01411 0.09172,-0.02117 0.105834,-0.02117 0.0635,0 0.105833,0.01764 0.127,0.05292 0.02822,0.03528 0.04233,0.07409 0.04233,0.116417 0,0.09172 -0.05644,0.155222 -0.169333,0.1905 -0.479778,0.141111 -0.839611,0.28575 -1.0795,0.433917 -0.232833,0.148167 -0.391583,0.328083 -0.47625,0.53975 -0.08467,0.204611 -0.127,0.486833 -0.127,0.846666 v 20.372917 c 0,0.465666 -0.08467,0.871361 -0.254,1.217083 -0.162278,0.338666 -0.391584,0.546805 -0.687917,0.624417 0.303389,0.08467 0.536222,0.296333 0.6985,0.635 0.162278,0.331611 0.243417,0.733778 0.243417,1.2065 v 19.84375 c 0,0.359833 0.04233,0.645583 0.127,0.85725 0.08467,0.211666 0.243417,0.391583 0.47625,0.53975 0.239889,0.148166 0.599722,0.289277 1.0795,0.423333 z\" id=\"path6530-5\" inkscape:connector-curvature=\"0\" sodipodi:nodetypes=\"ccccccssscsscscsssssccscscccsscccsssccc\" style=\"font-style:normal;font-variant:normal;font-weight:normal;font-stretch:normal;font-family:'Quicksand Light';-inkscape-font-specification:'Quicksand Light, ';stroke-width:0.26458332\"/>\n    </g>\n    <text id=\"text4647-6-5\" style=\"font-style:normal;font-weight:normal;font-size:10.58333302px;line-height:1.25;font-family:sans-serif;letter-spacing:0px;word-spacing:0px;fill:#000000;fill-opacity:1;stroke:none;stroke-width:0.26458332\" x=\"24.840324\" xml:space=\"preserve\" y=\"52.392956\"><tspan id=\"tspan4667-2\" sodipodi:role=\"line\" style=\"font-style:normal;font-variant:normal;font-weight:normal;font-stretch:normal;font-size:4.58611107px;font-family:Quicksand;-inkscape-font-specification:Quicksand;stroke-width:0.26458332\" x=\"24.840324\" y=\"52.392956\">first read(4) returns</tspan><tspan id=\"tspan6577\" sodipodi:role=\"line\" style=\"font-style:normal;font-variant:normal;font-weight:normal;font-stretch:normal;font-size:4.93888903px;font-family:Quicksand;-inkscape-font-specification:Quicksand;stroke-width:0.26458332\" x=\"24.840324\" y=\"65.622124\"/></text>\n    <text id=\"text4647-6-5-9\" style=\"font-style:normal;font-weight:normal;font-size:10.58333302px;line-height:1.25;font-family:sans-serif;letter-spacing:0px;word-spacing:0px;fill:#000000;fill-opacity:1;stroke:none;stroke-width:0.26458332\" x=\"72.596519\" xml:space=\"preserve\" y=\"52.392956\"><tspan id=\"tspan4667-2-0\" sodipodi:role=\"line\" style=\"font-style:normal;font-variant:normal;font-weight:normal;font-stretch:normal;font-size:4.58611107px;font-family:Quicksand;-inkscape-font-specification:Quicksand;stroke-width:0.26458332\" x=\"72.596519\" y=\"52.392956\">second read(4) returns</tspan><tspan id=\"tspan6577-2\" sodipodi:role=\"line\" style=\"font-style:normal;font-variant:normal;font-weight:normal;font-stretch:normal;font-size:5.64444447px;font-family:Quicksand;-inkscape-font-specification:Quicksand;stroke-width:0.26458332\" x=\"72.596519\" y=\"65.622124\"/></text>\n    <text id=\"text6602\" style=\"font-style:normal;font-weight:normal;font-size:10.58333302px;line-height:1.25;font-family:sans-serif;letter-spacing:0px;word-spacing:0px;fill:#0e0de5;fill-opacity:1;stroke:#0e0de5;stroke-width:0.26458332;stroke-opacity:1\" x=\"25.702381\" xml:space=\"preserve\" y=\"65.506966\"><tspan id=\"tspan6600\" sodipodi:role=\"line\" style=\"font-style:normal;font-variant:normal;font-weight:normal;font-stretch:normal;font-family:Cantarell;-inkscape-font-specification:Cantarell;fill:#0e0de5;fill-opacity:1;stroke:#0e0de5;stroke-width:0.26458332;stroke-opacity:1\" x=\"25.702381\" y=\"65.506966\">'hell'</tspan></text>\n    <text id=\"text6602-2\" inkscape:transform-center-x=\"-1.889881\" inkscape:transform-center-y=\"20.78869\" style=\"font-style:normal;font-weight:normal;font-size:10.58333302px;line-height:1.25;font-family:sans-serif;letter-spacing:0px;word-spacing:0px;fill:#0e0de5;fill-opacity:1;stroke:#0e0de5;stroke-width:0.26458332;stroke-opacity:1\" x=\"78.606369\" xml:space=\"preserve\" y=\"64.395714\"><tspan id=\"tspan6600-4\" sodipodi:role=\"line\" style=\"font-style:normal;font-variant:normal;font-weight:normal;font-stretch:normal;font-family:Cantarell;-inkscape-font-specification:Cantarell;fill:#0e0de5;fill-opacity:1;stroke:#0e0de5;stroke-width:0.26458332;stroke-opacity:1\" x=\"78.606369\" y=\"64.395714\">'o\\nho'</tspan></text>\n  </g>\n</svg>"
          },
          "metadata": {
            "tags": []
          }
        }
      ]
    },
    {
      "cell_type": "markdown",
      "metadata": {
        "id": "b7C5a38x9Aw6"
      },
      "source": [
        "The following is a sample program illustrating sequential access:"
      ]
    },
    {
      "cell_type": "code",
      "metadata": {
        "id": "iBmP9c0N9Et1",
        "colab": {
          "base_uri": "https://localhost:8080/",
          "height": 85
        },
        "outputId": "b991a3e5-d5cf-4b4d-8ae1-e83ef907e7a2"
      },
      "source": [
        "fp = open(\"firstexample.txt\",\"r\") # the example file we created above\n",
        "\n",
        "for i in range(3):          # repeat 3 times\n",
        "   content = fp.read(4)     # read 4 bytes in each step\n",
        "   print(\"> \", content)     # output 4 bytes preceded by >\n",
        "\n",
        "fp.close()"
      ],
      "execution_count": null,
      "outputs": [
        {
          "output_type": "stream",
          "text": [
            ">  hell\n",
            ">  o\n",
            "ho\n",
            ">  w ar\n"
          ],
          "name": "stdout"
        }
      ]
    },
    {
      "cell_type": "markdown",
      "metadata": {
        "id": "2ls29-Ow9vPS"
      },
      "source": [
        "The text in the file was:\n",
        "\n",
        "```\n",
        "hello\n",
        "how are\n",
        "you?\n",
        "```\n",
        "\n",
        "The first `read()` reads `'hell'`, the second reads `'o\\nho'` (note that `\\n` stands for a new line so that `ho` is printed on a new line), and the third reads `'w ar'`. After these operations, the file offset is left at a position so that the following reads will resume from content `'e\\nyou\\n'`.\n",
        "\n",
        "We provided the example with 4-byte read operations. However, for text files, the typical scenario is reading characters line by line instead of fixed size strings."
      ]
    },
    {
      "cell_type": "markdown",
      "metadata": {
        "id": "hE-OGnxA6nQ3"
      },
      "source": [
        "## 8.3 Data Conversion and Parsing\n",
        "\n",
        "A file, specifically a text file, consists of strings. However, especially in engineering and science, we work with numbers. A number is represented in a text file as a sequence of characters including digits, a sign prefix (`'-'` and `'+'`) and at most one occurrence of a dot (`'.'`). That means in your Python program, you may use $\\pi$ as `3.1416` however, in the text file, you store `'3.1416'`, which is a string consisting of chars `'3','.','1','4','1','6'`."
      ]
    },
    {
      "cell_type": "code",
      "metadata": {
        "id": "6un5ioOnCxt1",
        "colab": {
          "base_uri": "https://localhost:8080/",
          "height": 52
        },
        "outputId": "e36b65a3-7794-4b1f-f89e-f5bcd9003a82"
      },
      "source": [
        "pi = 3.1416\n",
        "pistr = '3.1416'\n",
        "print(pi+pi,':', pi * 3)\n",
        "print(pistr+pistr,':', pistr *3)"
      ],
      "execution_count": null,
      "outputs": [
        {
          "output_type": "stream",
          "text": [
            "6.2832 : 9.4248\n",
            "3.14163.1416 : 3.14163.14163.1416\n"
          ],
          "name": "stdout"
        }
      ]
    },
    {
      "cell_type": "markdown",
      "metadata": {
        "id": "IOqfZ7bcDKqe"
      },
      "source": [
        "Funny, the second line of output above is a result of Python interpreting `+` operator as string concatenation, and `*` as adjoining multiple copies of a string. If we need to treat numbers as numbers, we need to convert them from string. There are two handy functions for this: `int()` and `float()`  convert a string into an integer and a floating point value, respectively. Here is an illustration:"
      ]
    },
    {
      "cell_type": "code",
      "metadata": {
        "id": "2PmcTaGED5xp",
        "colab": {
          "base_uri": "https://localhost:8080/",
          "height": 34
        },
        "outputId": "a2b1e922-8392-4bb1-ebc2-98e61002e2d7"
      },
      "source": [
        "pistr = '  0.31416E01  '\n",
        "nstr = ' 47 '\n",
        "\n",
        "# Convert numbers in the strings into numerical data types:\n",
        "piflt = float(pistr)\n",
        "nint = int(nstr)\n",
        "\n",
        "print(piflt*2, nint*2)"
      ],
      "execution_count": null,
      "outputs": [
        {
          "output_type": "stream",
          "text": [
            "6.2832 94\n"
          ],
          "name": "stdout"
        }
      ]
    },
    {
      "cell_type": "markdown",
      "metadata": {
        "id": "XxnANcKoDvP4"
      },
      "source": [
        "Note that we cannot call `int('3.1416')` since the string is not a valid integer. That brings us another challenge of making sure that strings we need to convert are actually numbers. Obviously `int('hello')` and `float('one point five')` will not work. The ways of dealing with such errors are left for the next chapter. In this chapter, we assume that we have our data carefully created and all conversions work without any error.\n",
        "\n",
        "Our next challenge is having multiple numbers on a string separated by special characters or simply spaces as `'10.0 5.0 5.0'`. In this case, we need to decompose a string into string pieces representing numbers, so that we will have `'10.0','5.0','5.0'` for the above string. The next step will be converting them into numbers:\n",
        "\n",
        "`'10.0 5.0 5.0'` $\\overset{Step\\ 1}{\\longrightarrow}$ `['10.0','5.0','5.0']` $\\overset{Step\\ 2}{\\longrightarrow}$ `[10.0, 5.0, 5.0]`\n",
        "\n",
        "For the first step, we will use the `split()` method of a string. String, or the variable containing the string, is followed by `.split(delimiter)`, which returns a list of strings separated by the given delimiters. The delimiters are removed and all values in between are put in the list -- for example:"
      ]
    },
    {
      "cell_type": "code",
      "metadata": {
        "id": "KOX_WoTPeu8p",
        "colab": {
          "base_uri": "https://localhost:8080/"
        },
        "outputId": "4900eb31-37b3-443c-bf8c-62888a33c27f"
      },
      "source": [
        "print('a:b:c'.split(':'))\n",
        "print('hello darkness, my old friend'.split(' '))\n",
        "print('a <=> b <=> c'.split(' <=> '))\n",
        "print('multiple       spaces          are         tricky'.split(' '))\n",
        "a = '10.0 5.0 5.0'\n",
        "print(a.split(' '))"
      ],
      "execution_count": null,
      "outputs": [
        {
          "output_type": "stream",
          "text": [
            "['a', 'b', 'c']\n",
            "['hello', 'darkness,', 'my', 'old', 'friend']\n",
            "['a', 'b', 'c']\n",
            "['multiple', '', '', '', '', '', '', 'spaces', '', '', '', '', '', '', '', '', '', 'are', '', '', '', '', '', '', '', '', 'tricky']\n",
            "['10.0', '5.0', '5.0']\n"
          ],
          "name": "stdout"
        }
      ]
    },
    {
      "cell_type": "markdown",
      "metadata": {
        "id": "Hfqw9skJfNug"
      },
      "source": [
        "For the second step, we will use the `float()` function on a list (or the `int()` function if you have a list of integers). We have couple of options for this. One is to start from an empty list and append the converted value at each step:"
      ]
    },
    {
      "cell_type": "code",
      "metadata": {
        "id": "EGnv4QM-f92A",
        "colab": {
          "base_uri": "https://localhost:8080/",
          "height": 34
        },
        "outputId": "57684ed4-d54c-4830-d70e-1ef821d6b104"
      },
      "source": [
        "instr = '10.0 5.0 5.0'\n",
        "outlst = []\n",
        "\n",
        "# Go over each substring\n",
        "for substr in instr.split(' '):\n",
        "  outlst += [float(substr)]    # Convert each element to float and append it to the list\n",
        "\n",
        "print(outlst)"
      ],
      "execution_count": null,
      "outputs": [
        {
          "output_type": "stream",
          "text": [
            "[10.0, 5.0, 5.0]\n"
          ],
          "name": "stdout"
        }
      ]
    },
    {
      "cell_type": "markdown",
      "metadata": {
        "id": "6k0KfeqTgOaN"
      },
      "source": [
        "A more practical and faster version will be list comprehension, which is the compact version of mapping a value into another as:"
      ]
    },
    {
      "cell_type": "code",
      "metadata": {
        "id": "o8Fcl5bogVGE",
        "colab": {
          "base_uri": "https://localhost:8080/",
          "height": 34
        },
        "outputId": "40f32bbb-9594-463d-9ecb-257c3315f130"
      },
      "source": [
        "instr = '10.0 5.0 5.0'\n",
        "\n",
        "outlst = [ float(substr) for substr in instr.split(' ')]\n",
        "\n",
        "print(outlst)"
      ],
      "execution_count": null,
      "outputs": [
        {
          "output_type": "stream",
          "text": [
            "[10.0, 5.0, 5.0]\n"
          ],
          "name": "stdout"
        }
      ]
    },
    {
      "cell_type": "markdown",
      "metadata": {
        "id": "nbv5epZzgmGN"
      },
      "source": [
        "As we have explained in Chapter 3, the syntax is similar to set/list notation in Math:\n",
        "\n",
        "$\\left\\{ float(s)\\ \\vert\\ s \\in S\\right\\}$ vs. `[float(s) for s in S]`\n",
        "\n",
        "\n",
        "If you need to have multiple spaces within the values, you can use `import re` and call `re.split(' +', inputstr)` instead of `inputstr.split(' ')`. This will split the `'multiple        spaces   are    tricky'` example above into 4 words without spaces. How it works is beyond the scope of the book. Curious readers can refer to `re` and `parse` modules for more advanced forms of input parsing. These are not trivial modules for beginners.\n",
        "\n",
        "Now, let us consider the reverse of the operation: Assume we have a list of integers and we like to convert that into string that can be written in a file:\n",
        "\n",
        "`[10.0, 5.0, 5.0]` $\\overset{Step\\ 1}{\\longrightarrow}$ `['10.0','5.0','5.0']` $\\overset{Step\\ 2}{\\longrightarrow}$ `'10.0 5.0 5.0'`\n",
        "\n",
        "The first step will be handled with the `str()` function which converts any Python value into a human readable string:\n"
      ]
    },
    {
      "cell_type": "code",
      "metadata": {
        "id": "SmP3z6Fth9DL",
        "colab": {
          "base_uri": "https://localhost:8080/",
          "height": 34
        },
        "outputId": "d8ecc3a3-f489-4c70-e39a-2dcc75096ebf"
      },
      "source": [
        "inlst = [10.0, 5.0, 5.0]\n",
        "\n",
        "outlst = [str(num) for num in inlst]\n",
        "\n",
        "print(outlst)"
      ],
      "execution_count": null,
      "outputs": [
        {
          "output_type": "stream",
          "text": [
            "['10.0', '5.0', '5.0']\n"
          ],
          "name": "stdout"
        }
      ]
    },
    {
      "cell_type": "markdown",
      "metadata": {
        "id": "9tv_LgNJ2KGf"
      },
      "source": [
        "The next step is to join those elements with a delimiter, which is reverse of the `split()` operation. Not by accident, name of this operation is `join()`. `join()` is a method of the delimiter string and list is the argument of it. `':'.join(['hello','how','are','you?'])` returns `'hello:how:are:you?'`."
      ]
    },
    {
      "cell_type": "code",
      "metadata": {
        "id": "yitLkoU623TZ",
        "colab": {
          "base_uri": "https://localhost:8080/"
        },
        "outputId": "2f03f724-d8ce-42f4-c9ac-0030aad340e7"
      },
      "source": [
        "inlst = [10.0, 5.0, 5.0]\n",
        "\n",
        "outlst = [str(num) for num in inlst]\n",
        "\n",
        "print(' '.join(outlst))"
      ],
      "execution_count": null,
      "outputs": [
        {
          "output_type": "stream",
          "text": [
            "10.0 5.0 5.0\n"
          ],
          "name": "stdout"
        }
      ]
    },
    {
      "cell_type": "markdown",
      "metadata": {
        "id": "Dghzcbbk28wy"
      },
      "source": [
        "A more advanced way of converting values into strings is called *formatted output* and briefly introduced in a section below."
      ]
    },
    {
      "cell_type": "markdown",
      "metadata": {
        "id": "qGvDmtHiDZsQ"
      },
      "source": [
        "## 8.4 Accessing Text Files Line by Line\n",
        "\n",
        "Files consisting of human readable strings are called **text files**. Text files consist of strings separated by the *end of line* character `'\\n'`, also known as *new line*. The sequence of characters in a file contains the end-of-line characters so that a text editor will end the current line and show following characters on a new line. We use end-of-line characters so that logically relevant data is on the same line. For example:\n",
        "\n",
        "```\n",
        "4\n",
        "10.0 20.0\n",
        "15.5 22.2\n",
        "3 44\n",
        "10 10.5\n",
        "```\n",
        "\n",
        "Let us assume the integer value `4` on the first line denotes how many lines will follow. Assume also that each of the following 4 lines have two real values denoting $x$ and $y$ values of a point. In this way, we can represent our input separated by end-of-line characters for each point and by space character for each value in a line.\n",
        "\n",
        "Let us create such a text file from a Python list. Please note that the file `read` function returns a string, the `write` function expects a string argument. I.e., calling `write(3.14)` will fail. In order to make the conversion, we use the `str()` function for numeric values and call `write(str(3.14))` instead. Another tricky point is that `write()` does not put end of line character automatically. You need to put it in the output string or call an extra `write(\"\\n\")`.\n",
        "\n",
        "\n",
        "\n"
      ]
    },
    {
      "cell_type": "code",
      "metadata": {
        "id": "mXFw_GDrPuqB",
        "colab": {
          "base_uri": "https://localhost:8080/",
          "height": 121
        },
        "outputId": "61726e81-50bc-4f93-b3e7-b776ad96604a"
      },
      "source": [
        "pointlist = [(0,0), (10,0), (10,10), (0,10)]\n",
        "\n",
        "fp = open(\"pointlist.txt\", \"w\")       # open file for writing\n",
        "fp.write(str(len(pointlist)))         # write list length\n",
        "fp.write('\\n')\n",
        "\n",
        "# Go over each point in the list\n",
        "for (x,y) in pointlist:              # for each x,y value in the list\n",
        "  fp.write(str(x))                   # write x\n",
        "  fp.write(' ')                      # space as number separator\n",
        "  fp.write(str(y))                   # write y\n",
        "  fp.write('\\n')                     # \\n as line separator\n",
        "\n",
        "fp.close()\n",
        "\n",
        "# let us read the content to verify what we wrote\n",
        "fp = open(\"pointlist.txt\")           # open for reading\n",
        "content = fp.read()\n",
        "print(content)\n",
        "fp.close()"
      ],
      "execution_count": null,
      "outputs": [
        {
          "output_type": "stream",
          "text": [
            "4\n",
            "0 0\n",
            "10 0\n",
            "10 10\n",
            "0 10\n",
            "\n"
          ],
          "name": "stdout"
        }
      ]
    },
    {
      "cell_type": "markdown",
      "metadata": {
        "id": "tGq3-uxtRzV3"
      },
      "source": [
        "Using `read()` will get the whole content of the file; if the file is large, your program would use too much memory and processing the data will be difficult. Instead of that, we can access a text file line by line using the `readline()` function. \n",
        "\n",
        "Let us write a program to read and output the content of a text file. We need a loop to read the file line by line and output. But, when we are going to stop is another problem. Python's `read()` and `readline()` functions return an empty string `''` when there is nothing left to read. We can use this to stop reading:"
      ]
    },
    {
      "cell_type": "code",
      "metadata": {
        "id": "fq3vX3knT7c_",
        "colab": {
          "base_uri": "https://localhost:8080/",
          "height": 191
        },
        "outputId": "dc845d15-63e5-4ef1-8dac-5cf2cb3ce510"
      },
      "source": [
        "fp = open(\"pointlist.txt\")              # open file for reading\n",
        "\n",
        "nextline = fp.readline()                # read the first line\n",
        "while nextline != '':                   # while read is successful\n",
        "  print(nextline)                       # output the line\n",
        "  nextline = fp.readline()              # read the nextline\n",
        "  \n",
        "fp.close()                              # when nextline == '' loop terminates"
      ],
      "execution_count": null,
      "outputs": [
        {
          "output_type": "stream",
          "text": [
            "4\n",
            "\n",
            "0 0\n",
            "\n",
            "10 0\n",
            "\n",
            "10 10\n",
            "\n",
            "0 10\n",
            "\n"
          ],
          "name": "stdout"
        }
      ]
    },
    {
      "cell_type": "markdown",
      "metadata": {
        "id": "rFMgN5U3Uapj"
      },
      "source": [
        "Please note the empty lines between the each output line. This is due to `'\\n'` character at the end of the string that `readline()` returns. In other words, `readline()` keeps the new line character it reads. `print()` puts an end of line after the output (this can bu suppressed by adding an `end=''` argument). As a result, we have extra end-of-line at the end of each line. In order to avoid it, you can call `rstrip('\\n')` on the returned string to remove end of line. The new code will be:"
      ]
    },
    {
      "cell_type": "code",
      "metadata": {
        "id": "GM2rc3ARV5f9",
        "colab": {
          "base_uri": "https://localhost:8080/",
          "height": 104
        },
        "outputId": "25aea167-8a20-47eb-f3f1-b6528ebf1ca7"
      },
      "source": [
        "fp = open(\"pointlist.txt\")              # open file for reading\n",
        "\n",
        "nextline = fp.readline()                # read the first line\n",
        "while nextline != '':                   # while read is successful\n",
        "  nextline = nextline.rstrip('\\n')      # remove occurrences of '\\n' at the end\n",
        "  print(nextline)                       # output the line\n",
        "  nextline = fp.readline()              # read the nextline\n",
        "\n",
        "fp.close()"
      ],
      "execution_count": null,
      "outputs": [
        {
          "output_type": "stream",
          "text": [
            "4\n",
            "0 0\n",
            "10 0\n",
            "10 10\n",
            "0 10\n"
          ],
          "name": "stdout"
        }
      ]
    },
    {
      "cell_type": "markdown",
      "metadata": {
        "id": "mNaAundFWOoD"
      },
      "source": [
        "Converting this file into the initial Python list `[(0,0), (10,0), (10,10), (0,10)]` is our next challenge. This requires conversion of a string as `\"0 0\\n\"` into `(0,0)`. The first one is of type `str` whereas the second is a tuple of numeric values. We can use `int()` or `float()` functions to convert strings into numbers. Note that the string should contain a valid representation of a Python numeric value: `int(\"hello\")` will raise an error. \n",
        "\n",
        "The second issue is separating two numbers in the same string. We can use `split()` function followed by the separator string as in `nextline.split(' ')`. This call will return a sequence of strings from a string. If the separator does not occur in the string, it will return a list with one element, if there is one separator, it will return two elements. For $n$ occurrences of the separator, it will return a list with $n-1$ elements.\n",
        "\n",
        "Here is the solution in Python:"
      ]
    },
    {
      "cell_type": "code",
      "metadata": {
        "id": "QwWIfEpAWNeM",
        "colab": {
          "base_uri": "https://localhost:8080/",
          "height": 34
        },
        "outputId": "81bd0300-d12d-40f1-bfc2-951a56992fa9"
      },
      "source": [
        "fp = open(\"pointlist.txt\")              # open file for reading\n",
        "\n",
        "pointlist = []                          # start with empty list\n",
        "\n",
        "nextline = fp.readline()                # read the first line\n",
        "n = int(nextline)                       # find number of lines to read\n",
        "\n",
        "for i in range(n):                      # repeat n times\n",
        "  nextline = fp.readline()              # read the nextline\n",
        "  nextline = nextline.rstrip('\\n')      # remove occurrences of '\\n' at the end\n",
        "  (x, y) = nextline.split(' ')          # get x and y (note that they are still strings)\n",
        "  x = float(x)                          # convert them into real values\n",
        "  y = float(y)\n",
        "  pointlist.append( (x,y) )             # add tuple at the end\n",
        "\n",
        "fp.close()\n",
        "print(pointlist)                        # output the resulting list\n"
      ],
      "execution_count": null,
      "outputs": [
        {
          "output_type": "stream",
          "text": [
            "[(0.0, 0.0), (10.0, 0.0), (10.0, 10.0), (0.0, 10.0)]\n"
          ],
          "name": "stdout"
        }
      ]
    },
    {
      "cell_type": "markdown",
      "metadata": {
        "id": "jfLRu1v2Kp_M"
      },
      "source": [
        "## 8.5 Termination of Input\n",
        "\n",
        "There are two ways to stop reading input:\n",
        "\n",
        "1. By reading a definite number of items.\n",
        "1. By the end of the file.\n",
        "\n",
        "In our previous examples, we read an integer that told us how many lines followed in the file. Then, we called `readline()` in a `for` loop with the given number of lines. This is an example of the first case which provides a definite number of items.\n",
        "\n",
        "The alternative is to read lines in a `while` loop until a termination condition arises. The termination condition is usually the **end of file**, the case where functions like `read()` and `readline()` return an empty string `''`. "
      ]
    },
    {
      "cell_type": "code",
      "metadata": {
        "id": "and1BosVMoXI",
        "colab": {
          "base_uri": "https://localhost:8080/",
          "height": 34
        },
        "outputId": "d381250d-239f-4093-ecde-9201e8a03cb4"
      },
      "source": [
        "fp = open(\"pointlist.txt\")              # open file for reading\n",
        "\n",
        "pointlist = []                          # start with empty list\n",
        "nextline = fp.readline()                # skip the first line (4) since we don't need it\n",
        "\n",
        "nextline = fp.readline()                # read the first line\n",
        "while nextline != '':                   # until end of file\n",
        "  nextline = nextline.rstrip('\\n')      # remove occurrences of '\\n' at the end\n",
        "  (x, y) = nextline.split(' ')          # get x and y (note that they are still strings)\n",
        "  x = float(x)                          # convert them into real values\n",
        "  y = float(y)\n",
        "  pointlist.append( (x,y) )             # add tuple at the end\n",
        "  nextline = fp.readline()              # read the nextline\n",
        "\n",
        "fp.close()\n",
        "print(pointlist)"
      ],
      "execution_count": null,
      "outputs": [
        {
          "output_type": "stream",
          "text": [
            "[(0.0, 0.0), (10.0, 0.0), (10.0, 10.0), (0.0, 10.0)]\n"
          ],
          "name": "stdout"
        }
      ]
    },
    {
      "cell_type": "markdown",
      "metadata": {
        "id": "StKurwcDMnLP"
      },
      "source": [
        "Note that the example above skips (reads and throws away) the first line so that the integer on the first line is ignored. When your input does not contain such an unnecessary value, you can delete this line.\n",
        "\n",
        "Sometimes termination can be marked explicitly by a *sentinel value* which is a value marking the end of values.  This is especially useful when you have multiple objects to read:"
      ]
    },
    {
      "cell_type": "code",
      "metadata": {
        "id": "0XdUu1Gko5n-"
      },
      "source": [
        "# First, create a file named `twopointlists.txt`\n",
        "fp = open(\"twopointlists.txt\", \"w\")\n",
        "fp.write(\"\"\"3 0\n",
        "3.4 2.1\n",
        "5.1 3.2\n",
        "EOLIST\n",
        "1 1.5\n",
        "2.0 2.5\"\"\")\n",
        "fp.close()"
      ],
      "execution_count": null,
      "outputs": []
    },
    {
      "cell_type": "markdown",
      "metadata": {
        "id": "3ChR5V0jqWFb"
      },
      "source": [
        "This will create a sample file content as:\n",
        "```\n",
        "3 0\n",
        "3.4 2.1\n",
        "5.1 3.2\n",
        "EOLIST\n",
        "1 1.5\n",
        "2.0 2.5\n",
        "```"
      ]
    },
    {
      "cell_type": "code",
      "metadata": {
        "id": "9jR2xBKQSbwq",
        "colab": {
          "base_uri": "https://localhost:8080/"
        },
        "outputId": "561c2ea7-5d3c-4080-c4fb-0e51a2524d4e"
      },
      "source": [
        "fp = open(\"twopointlists.txt\")\n",
        "pntlst1 = []                            # start with empty list\n",
        "pntlst2 = []                            # start with empty list\n",
        "\n",
        "nextline = fp.readline()                # read the first line\n",
        "while nextline != 'EOLIST\\n':             # sentinel value\n",
        "  nextline = nextline.rstrip('\\n')      # remove occurrences of '\\n' at the end\n",
        "  (x, y) = nextline.split(' ')          # get x and y (note that they are still strings)\n",
        "  x = float(x)                          # convert them into real values\n",
        "  y = float(y)\n",
        "  pntlst1.append( (x,y) )               # add tuple at the end\n",
        "  nextline = fp.readline()              # read the nextline\n",
        "\n",
        "# first list has been read, now continue with the second list from the same file\n",
        "nextline = fp.readline() \n",
        "while nextline != '':                   # until end of file\n",
        "  nextline = nextline.rstrip('\\n')      # remove occurrences of '\\n' at the end\n",
        "  (x, y) = nextline.split(' ')          # get x and y (note that they are still strings)\n",
        "  x = float(x)                          # convert them into real values\n",
        "  y = float(y)\n",
        "  pntlst2.append( (x,y) )             # add tuple at the end\n",
        "  nextline = fp.readline()              # read the nextline\n",
        "\n",
        "fp.close()\n",
        "print('List 1:', pntlst1)\n",
        "print('List 2:', pntlst2)"
      ],
      "execution_count": null,
      "outputs": [
        {
          "output_type": "stream",
          "text": [
            "List 1: [(3.0, 0.0), (3.4, 2.1), (5.1, 3.2)]\n",
            "List 2: [(1.0, 1.5), (2.0, 2.5)]\n"
          ],
          "name": "stdout"
        }
      ]
    },
    {
      "cell_type": "markdown",
      "metadata": {
        "id": "7Klo7iOMTBqE"
      },
      "source": [
        "\n",
        "The output will be:\n",
        "\n",
        "```\n",
        "List 1: [(3.0, 0.0), (3.4, 2.1), (5.1, 3.2)]\n",
        "List 2: [(1.0, 1.5), (2.0, 2.5)]\n",
        "```\n",
        "\n",
        "\n"
      ]
    },
    {
      "cell_type": "markdown",
      "metadata": {
        "id": "qJJNWDv8UWl7"
      },
      "source": [
        "## 8.6 Example: Processing CSV Files\n",
        "\n",
        "**CSV** stands for *Comma Separated Value*; it is a text-based format for exporting/importing spreadsheet (i.e. Excel) data. Each row in a CSV file is separated by newlines and each column is separated by a comma `,`. Actually, the format is more complex but for the time being, let us ignore comma that might be appearing in strings and focus on a simple form as follows:\n",
        "\n",
        "```\n",
        "Name,Surname,Grade\n",
        "Han,Solo,80\n",
        "Luke,Skywalker,90\n",
        "Obi,Van Kenobi,88\n",
        "Leya,Skywalker,91\n",
        "Anakin,Skywalker,55\n",
        "```\n",
        "\n",
        "Usually first line is the names of the columns in a spreadsheet. Now, let us create this file:"
      ]
    },
    {
      "cell_type": "code",
      "metadata": {
        "id": "wRnQWuNkAaDg"
      },
      "source": [
        "content = '''Name,Surname,Grade\n",
        "Han,Solo,80\n",
        "Luke,Skywalker,90\n",
        "Obi,Van Kenobi,88\n",
        "Leya,Skywalker,91\n",
        "Anakin,Skywalker,55\n",
        "'''\n",
        "fp = open(\"first.csv\", \"w\")    # open for writing\n",
        "fp.write(content)              # write in a single operation, practical for small files\n",
        "fp.close()"
      ],
      "execution_count": null,
      "outputs": []
    },
    {
      "cell_type": "markdown",
      "metadata": {
        "id": "JV0fiaujArqy"
      },
      "source": [
        "Our next task is to read this file in memory as a list of dictionary form, as:\n",
        "`[{\"Name\":\"Han\", \"Surname\":\"Solo\",\"Grade\":\"80\"},...]`\n",
        "\n",
        "We need to read the file line by line, extract the components using the `split()` function, then create the dictionary. Then, we can append it to resulting list. For example:"
      ]
    },
    {
      "cell_type": "code",
      "metadata": {
        "id": "rOqD5Ft1BCSt",
        "colab": {
          "base_uri": "https://localhost:8080/"
        },
        "outputId": "17840826-440d-4373-a6ea-2586f39b1a3e"
      },
      "source": [
        "fp = open(\"first.csv\",\"r\")              # open for reading\n",
        "\n",
        "line =  fp.readline()                   # read column names\n",
        "line = line.rstrip('\\n')                # get rid of new line\n",
        "colnames = line.split(',')              # list of column names\n",
        "\n",
        "result = []                             # resulting list of dictionaries\n",
        "line = fp.readline()     \n",
        "while line != '':                       # end-of-file check\n",
        "    line = line.rstrip('\\n')\n",
        "    entry = {}                          # start with empty dictionary\n",
        "    c = 0                               # a counter to address column number\n",
        "    for v in line.split(','):           # in a loop process each column of the row\n",
        "        entry[colnames[c]] = v          # column name is index, value is from current row\n",
        "        c += 1\n",
        "    result.append(entry)                # add dictionary to result\n",
        "    line = fp.readline()                # read next line\n",
        "\n",
        "fp.close()\n",
        "print(type(result))\n",
        "print(result)"
      ],
      "execution_count": null,
      "outputs": [
        {
          "output_type": "stream",
          "text": [
            "<class 'list'>\n",
            "[{'Name': 'Han', 'Surname': 'Solo', 'Grade': '80'}, {'Name': 'Luke', 'Surname': 'Skywalker', 'Grade': '90'}, {'Name': 'Obi', 'Surname': 'Van Kenobi', 'Grade': '88'}, {'Name': 'Leya', 'Surname': 'Skywalker', 'Grade': '91'}, {'Name': 'Anakin', 'Surname': 'Skywalker', 'Grade': '55'}]\n"
          ],
          "name": "stdout"
        }
      ]
    },
    {
      "cell_type": "markdown",
      "metadata": {
        "id": "6CQ8umw-DVhq"
      },
      "source": [
        "Let us improve this example by adding a column as a result of a computation. Let us calculate the grade average and show the difference from the average as a new column. We need to go over all grade values in the list, convert to them real values (so that we can do arithmetic on them), calculate the average, then go over all rows to add a new column. Then, go over the list again to export/write it into a new CSV file.\n"
      ]
    },
    {
      "cell_type": "code",
      "metadata": {
        "id": "F8MGqX7pDUwB"
      },
      "source": [
        "n = 0\n",
        "\n",
        "# Calculate the average\n",
        "sum = 0\n",
        "for entry in result:\n",
        "  sum += float(entry['Grade'])\n",
        "  n += 1\n",
        "average = sum / n\n",
        "\n",
        "# Calculate the difference of each grade from the average\n",
        "for entry in result:\n",
        "  entry['Avgdiff'] = str(float(entry['Grade']) - average)\n",
        "\n",
        "# Write the updated content into another CSV file\n",
        "fp = open('second.csv', 'w')\n",
        "colnames = entry.keys()                # this returns the keys (column names) of the CSV file\n",
        "fp.write(','.join(colnames) + '\\n')    # write this as the first line with comma separated values\n",
        "for entry in result: # Go over each row\n",
        "  vals = []\n",
        "  for key in colnames: # Write each column on this row\n",
        "    vals.append(entry[key])            # extract values of entry, entry.values() is a short version of this\n",
        "  fp.write(','.join(vals) + '\\n')\n",
        "\n",
        "# Finished, close the file\n",
        "fp.close() "
      ],
      "execution_count": null,
      "outputs": []
    },
    {
      "cell_type": "code",
      "metadata": {
        "id": "4P_rrO-2FYQB",
        "colab": {
          "base_uri": "https://localhost:8080/",
          "height": 121
        },
        "outputId": "7df60e31-1e89-45ca-8980-3d803862c3c2"
      },
      "source": [
        "%cat second.csv"
      ],
      "execution_count": null,
      "outputs": [
        {
          "output_type": "stream",
          "text": [
            "Name,Surname,Grade,Avgdiff\n",
            "Han,Solo,80,-0.7999999999999972\n",
            "Luke,Skywalker,90,9.200000000000003\n",
            "Obi,Van Kenobi,88,7.200000000000003\n",
            "Leya,Skywalker,91,10.200000000000003\n",
            "Anakin,Skywalker,55,-25.799999999999997\n"
          ],
          "name": "stdout"
        }
      ]
    },
    {
      "cell_type": "markdown",
      "metadata": {
        "id": "w9jaQnULpxPI"
      },
      "source": [
        "## 8.7 Formatting Files\n",
        "\n",
        "Sometimes readability is important for text files, especially if data is in a tabular form. For example, seeing all related data in a column start at the same position can improve readability significantly. The following shows the unformatted and formatted versions of the same data side by side:\n",
        "\n",
        "```\n",
        "Name,Surname,Grade,Avgdiff                   Name    , Surname       , Grade, Avgdiff\n",
        "Han,Solo,80,-0.7999999999999972              Han     , Solo          , 80, -0.800\n",
        "Luke,Skywalker,90,9.200000000000003          Luke    , Skywalker,    , 90,  9.200\n",
        "Obi,Van Kenobi,88,7.200000000000003          Obi     , Van Kenobi    , 88,  7.200\n",
        "Leya,Skywalker,91,10.200000000000003         Leya    , Skywalker     , 91, 10.200\n",
        "Anakin,Skywalker,55,-25.799999999999997      Anakin  , Skywalker     , 55,-25.800\n",
        "```\n",
        "\n",
        "In order to achieve this, you can use the `format()` method of a template string as in\n",
        "\n",
        " `'{:10}, {:20}, {:3d}, {:7.3f}'.format('Han', 'Solo', 80, -0.2)'`.\n",
        "\n",
        "Each `{}` in the template matches a data value in the arguments. The value after `:` denotes the (minimum) width of the data. If data fits in a smaller number of characters, spaces are inserted on the right to make it have exactly given size (left-aligned). For integers, the number is followed by a `d` to format it as a decimal value spaced padded on the left (right aligned). For floating point values, this value can be followed by a '.' and another number and an `f`. The second number denotes the size of the fraction, `f` marks this value as a float, and the fraction part is rounded to given number of digits.\n",
        "\n",
        "The detailed description of `format()` is out of the scope of this course and the document. For detailed description, please refer to Python reference manuals.\n",
        "\n",
        "Let us rewrite the output part of the code using formatted output:"
      ]
    },
    {
      "cell_type": "code",
      "metadata": {
        "id": "HzsN3aDdsySZ"
      },
      "source": [
        "template = '{:10}, {:20}, {:5d}, {:7.3f}\\n'\n",
        "fp = open('third.csv', 'w')\n",
        "colnames = entry.keys()                                                  # this returns the keys of the CSV file\n",
        "fp.write('{:10}, {:20}, {:5}, {:7}\\n'.format(*colnames) )                     # write this as the first line with comma separated values\n",
        "for entry in result:\n",
        "  fp.write(template.format(entry['Name'],entry['Surname'],                 # convert strings to numbers to respect number formatting\n",
        "                        int(entry['Grade']), float(entry['Avgdiff'])))\n",
        "fp.close()  "
      ],
      "execution_count": null,
      "outputs": []
    },
    {
      "cell_type": "code",
      "metadata": {
        "id": "24gpwPtLvQVk",
        "colab": {
          "base_uri": "https://localhost:8080/",
          "height": 121
        },
        "outputId": "843a9a5f-5c27-40bd-fbed-7c012f6c95f9"
      },
      "source": [
        "# Let us display the content of the file after formatting:\n",
        "%cat third.csv"
      ],
      "execution_count": null,
      "outputs": [
        {
          "output_type": "stream",
          "text": [
            "Name      , Surname             , Grade, Avgdiff\n",
            "Han       , Solo                ,    80,  -0.800\n",
            "Luke      , Skywalker           ,    90,   9.200\n",
            "Obi       , Van Kenobi          ,    88,   7.200\n",
            "Leya      , Skywalker           ,    91,  10.200\n",
            "Anakin    , Skywalker           ,    55, -25.800\n"
          ],
          "name": "stdout"
        }
      ]
    },
    {
      "cell_type": "markdown",
      "metadata": {
        "id": "8JrjZelKq6FW"
      },
      "source": [
        "## 8.8 Binary Files\n",
        "\n",
        "So far, we have only looked at text files where all values are represented as human readable text where all numerical values are represented as decimal strings. However, if you remember our early chapters, computers do not store and process numbers as decimal digit sequences. They store variables in binary format like Two's Complement and the IEEE754 floating point standard. In order to process, read and write decimal data in text, programming language and libraries convert data. Even though you won't notice the time spent in conversion, if you read 10 millions of numbers, you start spending significant amount of CPU time for converting data.\n",
        "\n",
        "Binary files, on the other hand, store numbers as they are stored in computer's memory. They are still sequences of bytes, but in a more structured way. For example, a 4-byte integer is kept as a sequence of 4 bytes, each byte is a part of the number in Two's Complement form. Reading a binary file is simply copying data to memory, either no conversion is performed or only the order of bytes is changed.\n",
        "\n",
        "A floating point number `0` takes 1 byte in a text file, but the number `3.1415926535897932384626433832795028` takes 34 bytes. In a binary file, the total size of a number is fixed as the size of IEEE 754 format, i.e. 4 bytes on a 32-bit computer. Both `0` and the $\\pi$ are stored in 4 bytes for single precision, 8 bytes for double precision, in a binary file.\n",
        "\n",
        "Keeping values in binary files has the following advantages:\n",
        "\n",
        "1. It is more compact: Data occupies less space in the file.\n",
        "\n",
        "1. No decimal to binary conversion is required. More efficient in terms of CPU usage.\n",
        "\n",
        "1. Since sizes are fixed, randomly jumping to a location and reading relevant data is possible. In a text file, you have to start from the beginning and read all lines up to the relevant data. This kind of usage is a more advanced case and harder to understand for beginners.\n",
        "\n",
        "On the other hand, using text files has the following advantages:\n",
        "\n",
        "1. Files are human readable and editable. User can change data using a standard editor. In binary files, special software should be used.\n",
        "\n",
        "1. File format is more flexible, using `variablename: value` patterns in the file, data can be stored in any order in a flexible way. This is why text files are often used as configuration files.\n",
        "\n",
        "Most of the special formats with `.exe`, `.xls`, `.zip`, `.pdf` extensions are binary file formats.\n",
        "\n",
        "**Note:** Binary files are kept out of scope of this book. The following paragraphs give couple of pointers for curious readers.\n",
        "\n",
        "In order to use binary files:\n",
        "\n",
        "1. You need to add `'b'` character in the second argument of `open()` method as: `open('test.bin','rb')` or `open('test.bin','wb')`.\n",
        "\n",
        "1. Binary I/O requires `bytes` typed values instead of `str` typed values. `bytes` is a sequence of bytes. Elements of a byte sequence are not printable in contrast to `str`.\n",
        "\n",
        "1. Python has `struct` module for converting any value into `bytes` value. `struct.pack(format, values)` converts values into `bytes`. However, this conversion is much more cheaper computationally than decimal to binary conversion.\n",
        "\n",
        "1. `struct.unpack(format, bytesval)` can be used to convert `bytes` value into Python values. It is much cheaper than binary to decimal conversion.\n",
        "\n",
        "1. `read()`, `write()` can be used as usual. In `read(nbytes)`, data size should be given. `struct.calcsize(format)` can be used to calculate data size from format.\n",
        "\n",
        "The following is an example of binary I/O. Assume the binary file contains an integer $N$, for the number of points, and followed by $2 \\times N$ floating point values. Let us write and then read this data:"
      ]
    },
    {
      "cell_type": "code",
      "metadata": {
        "id": "TeAqOQ6WGpvr",
        "colab": {
          "base_uri": "https://localhost:8080/"
        },
        "outputId": "93cb4e14-1504-4ca3-a00d-d0872b595a2b"
      },
      "source": [
        "import struct\n",
        "\n",
        "points = [(1,1), (2.5, 3.4), (5.4,3.3), (2.2, 1.121)]\n",
        "\n",
        "# 1- Open and write the binary file\n",
        "fp = open(\"points.bin\", \"wb\")\n",
        "fp.write(struct.pack('i', len(points)))   # 'i' denotes a single integer value is converted into bytes\n",
        "\n",
        "for (x,y) in points:\n",
        "  fp.write(struct.pack('dd', x, y))       # 'dd' denotes two double precision floating point values are converted into bytes\n",
        "\n",
        "fp.close()\n",
        "\n",
        "# 2- Open and read the binary file\n",
        "fp = open(\"points.bin\", \"rb\")             # open same file for reading\n",
        "content = fp.read(struct.calcsize('i'))   # read binary data with length sizeof integer bytes\n",
        "(n,) = struct.unpack('i', content)        # unpack returns a tuple, 1tuple in this case\n",
        "\n",
        "newpoints = []\n",
        "for i in range(n):                        # n times\n",
        "  content = fp.read(struct.calcsize('dd')) \n",
        "  (x,y) = struct.unpack('dd', content)    # read two double precision floats\n",
        "  newpoints += [(x,y)]                    # append value at the end\n",
        "\n",
        "fp.close()\n",
        "\n",
        "# 3- Print the read and converted values\n",
        "print(\"The read & converted points are:\", newpoints)\n",
        "\n",
        "print(\"This is what binary data looks like:\")\n",
        "fp = open(\"points.bin\", \"rb\")\n",
        "print(fp.read())\n",
        "fp.close()"
      ],
      "execution_count": null,
      "outputs": [
        {
          "output_type": "stream",
          "text": [
            "The read & converted points are: [(1.0, 1.0), (2.5, 3.4), (5.4, 3.3), (2.2, 1.121)]\n",
            "This is what binary data looks like:\n",
            "b'\\x04\\x00\\x00\\x00\\x00\\x00\\x00\\x00\\x00\\x00\\xf0?\\x00\\x00\\x00\\x00\\x00\\x00\\xf0?\\x00\\x00\\x00\\x00\\x00\\x00\\x04@333333\\x0b@\\x9a\\x99\\x99\\x99\\x99\\x99\\x15@ffffff\\n@\\x9a\\x99\\x99\\x99\\x99\\x99\\x01@V\\x0e-\\xb2\\x9d\\xef\\xf1?'\n"
          ],
          "name": "stdout"
        }
      ]
    },
    {
      "cell_type": "markdown",
      "metadata": {
        "id": "HPiVLnTuyXKn"
      },
      "source": [
        "## 8.9 Note on Files, Directory Organization and Paths\n",
        "\n",
        "Files are organized under directories so that you can put relevant files under same category together. Operating systems provide a **filesystem hierarchy** consisting of directories (some prefer word **folder** instead) and regular files. \n",
        "\n",
        "Directories can be arbitrarily nested. You may need to traverse *N* levels of directories to find your file. For example, your program can be in the `Homeworks` directory under the `Desktop` directory under the `user` directory under the `Desktop Users` directory under the root directory (`/`), which is the topmost level on your filesystem. The top-level directory and the seperator is backslash,`\\` in MS Windows operating systems. However, '/' works in Python for Windows too.\n",
        "\n",
        "In order to address a file, we use a **path** which is a sequence of directory names separated by `/`, ended by the name of the file. For example, `\"/Desktop Users/user/Desktop/Homeworks/homework1.py\"` is a path for the file named `\"homework1.py\"`.\n",
        "\n",
        "A path can be either **full** (absolute) or **relative**. In the former case, it starts with a slash (`/`). In the relative case, it is considered relative to the current working directory, i.e. the directory where you started your program. Full paths ignore your current directory whereas relative paths depend on it. For example, if you are currently in the `Desktop` directory, the path `\"Homeworks/homework1.py\"` will address the same full path above.\n",
        "\n"
      ]
    },
    {
      "cell_type": "markdown",
      "metadata": {
        "id": "DwlDT_KZoULx"
      },
      "source": [
        "## 8.10 List of File Class Member Functions\n",
        "\n",
        "For completeness, below you can find commonly used member functions of the `file` class.\n",
        "\n",
        "Assume **_F_** is a file. In the table below you will find some of the very frequently used member functions of files (in the **Operation** column anything in square brackets denotes that the content is <u>optional</u> -- if you enter the optional content, do no type in the square brackets):\n",
        "\n",
        "\n",
        "| Operation                              | Result                                                       |\n",
        "| -------------------------------------- | ------------------------------------------------------------ |\n",
        "| **_F_**`.seek(`*offset[, whence=0*]`)` | Set file **_F_**'s position, like stdio's `fseek()`. <br/> _whence ≟_ `0` then use absolute indexing (using _offset_). <br/> _whence ≟_ `1` then _offset_ relative to current pos. <br/> _whence ≟_ `2` then _offset_ relative to file end. |\n",
        "| **_F_**`.tell()`                       | Return file **_F_**'s current position (byte offset).        |\n",
        "| **_F_**`.truncate(`[*size*]`)`         | Truncate **_F_**'s size. If _size_ is present,  **_F_** is truncated to (at most) that size, <br/>otherwise  **_F_**  is truncated at current position (which remains unchanged). |\n",
        "| **_F_**`.write(`*str*`)`               | Write string _str_ to file **_F_**.                          |\n",
        "| **_F_**`.writelines(`*list*`)`         | Write _list_ of strings to file **_F_**. No `EOL` are added. |\n",
        "| **_F_**`.close()`                      | Close file **_F_**.                                          |\n",
        "| **_F_**`.fileno()`                     | Get fileno (fd) for file **_F_**.                            |\n",
        "| **_F_**`.flush()`                      | Flush file **_F_**'s internal buffer.                        |\n",
        "| **_F_**`.isatty()`                     | 1 if file  **_F_** is connected to a tty-like dev, else 0.   |\n",
        "| **_F_**`.next()`                       | Returns the next input line of file  **_F_**, or raises `StopIteration` when `EOF` is hit. |\n",
        "| **_F_**`.read(`[*size*]`)`             | Read at most _size_ bytes from file  **_F_** and return as a string object. If _size_ omitted, read to `EOF`. |\n",
        "| **_F_**`.readline()`                   | Read one entire line from file **_F_**. The returned line has a trailing `\\n`, <br/>except possibly at `EOF`. Return  `\"\"`  on `EOF`. |\n",
        "| **_F_**`.readlines()`                  | Read until `EOF` with `readline()` and return a list of lines read. |"
      ]
    },
    {
      "cell_type": "markdown",
      "metadata": {
        "id": "v3wq2xHT9_PG"
      },
      "source": [
        "## Important Concepts\n",
        "\n",
        "We would like our readers to have grasped the following crucial concepts and keywords from this chapter:\n",
        "\n",
        "* Sequential access. File access. \n",
        "* Text files. Reading and writing text files. Parsing a text file.\n",
        "* End of file, new line.\n",
        "* Formatting files.\n",
        "* Binary files and binary file access."
      ]
    },
    {
      "cell_type": "markdown",
      "metadata": {
        "id": "3T5q8GHi-Ebe"
      },
      "source": [
        "## Further Reading\n",
        "\n",
        "* String formatting in Python: https://docs.python.org/3.4/library/string.html#formatspec\n",
        "\n",
        "* Working with binary data and files in Python: https://docs.python.org/3/library/binary.html\n",
        "\n",
        "* Comma-Separated Values (CSV) file format: https://en.wikipedia.org/wiki/Comma-separated_values"
      ]
    },
    {
      "cell_type": "markdown",
      "metadata": {
        "id": "9TgDxkUb-GwE"
      },
      "source": [
        "## Exercises\n",
        "\n",
        "* Write a function that reads a text file with the following format (ignore characters following `#`):\n",
        "\n",
        "```\n",
        "N                    # Number of students\n",
        "                     # Empty line\n",
        "Name Surname         # Fist student\n",
        "M                    # Number of courses that the student has taken\n",
        "Coursename1: Grade   # Grade is a real number\n",
        "Coursename2: Grade\n",
        "Coursename3: Grade\n",
        "...\n",
        "CoursenameM: Grade\n",
        "\n",
        "                     # Empty line\n",
        "Name Surname         # Second student\n",
        "P                    # Number of courses that the student has taken\n",
        "Coursename1: Grade   # Grade is a real number\n",
        "Coursename2: Grade\n",
        "Coursename3: Grade\n",
        "...\n",
        "CoursenameP: Grade\n",
        "...\n",
        "...\n",
        "...\n",
        "                     # Empty line\n",
        "Name Surname         # Last student\n",
        "Z                    # Number of courses that the student has taken\n",
        "Coursename1: Grade   # Grade is a real number\n",
        "Coursename2: Grade\n",
        "Coursename3: Grade\n",
        "...\n",
        "CoursenameZ: Grade\n",
        "```\n",
        "\n",
        "* Write a function that writes a list of dictionaries that have the following format into a text file. You may choose to write the number of elements at the top of the file. \n",
        "\n",
        "```python\n",
        "{ \"city\": \"Ankara\", \n",
        "  \"plate code\": \"06\",\n",
        "  \"max temperature (C)\": 40,\n",
        "  \"min temperature (C)\": -20,\n",
        "  \"population\": 5700000\n",
        "}\n",
        "```\n",
        "\n",
        "* Write a function that reads a list of dictionaries from a file that you have written in the previous question.\n",
        "\n",
        "* Write a function that read the text file given below, represent the same content in binary, save it in a binary file and read it back.\n",
        "\n",
        "```3 0\n",
        "3.4 2.1\n",
        "5.1 3.2\n",
        "EOLIST\n",
        "1 1.5\n",
        "2.0 2.5\n",
        "```"
      ]
    }
  ]
}